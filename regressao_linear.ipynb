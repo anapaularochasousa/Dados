{
  "nbformat": 4,
  "nbformat_minor": 0,
  "metadata": {
    "colab": {
      "provenance": []
    },
    "kernelspec": {
      "name": "python3",
      "display_name": "Python 3"
    },
    "language_info": {
      "name": "python"
    }
  },
  "cells": [
    {
      "cell_type": "code",
      "source": [
        "from google.colab import drive\n",
        "drive.mount('/content/drive')"
      ],
      "metadata": {
        "id": "N-4oCQqjwD6y",
        "colab": {
          "base_uri": "https://localhost:8080/"
        },
        "outputId": "fe0390e1-4482-4fbd-a4e5-6325389583fb"
      },
      "execution_count": null,
      "outputs": [
        {
          "output_type": "stream",
          "name": "stdout",
          "text": [
            "Mounted at /content/drive\n"
          ]
        }
      ]
    },
    {
      "cell_type": "code",
      "source": [
        "import pandas as pd"
      ],
      "metadata": {
        "id": "hfvx3RriwzVO"
      },
      "execution_count": null,
      "outputs": []
    },
    {
      "cell_type": "code",
      "source": [
        "dados = pd.read_excel('/content/analise_dados_mod7_(1).xlsx')"
      ],
      "metadata": {
        "id": "PXMMpyvew5do"
      },
      "execution_count": null,
      "outputs": []
    },
    {
      "cell_type": "code",
      "source": [
        "dados.head()"
      ],
      "metadata": {
        "colab": {
          "base_uri": "https://localhost:8080/",
          "height": 776
        },
        "id": "HPETS7rrxAJn",
        "outputId": "f95ea4b9-18f9-4f09-f744-511a65e7373e"
      },
      "execution_count": null,
      "outputs": [
        {
          "output_type": "execute_result",
          "data": {
            "text/plain": [
              "                                 ID  IDADE FAIXA IDADE     GENERO  \\\n",
              "0  zzqzz3l9ily8nuo2m7wyzzqzz3w48o96   39.0       35-39  Masculino   \n",
              "1  zzls2oftfn9law393oezzls2ofhvfpzd   32.0       30-34  Masculino   \n",
              "2  zzdwqzfqqp1ypc7ps6m0hzzdwqz292yi   53.0       50-54  Masculino   \n",
              "3  zzbqh3uy7yk7k9qmkzzbqtb4s9faqspl   27.0       25-29  Masculino   \n",
              "4  zzaf1m95yan929rb94wzzaf1mekhvhpg   46.0       45-49   Feminino   \n",
              "\n",
              "  COR/RACA/ETNIA  PCD               EXPERIENCIA_PROFISSIONAL_PREJUDICADA  \\\n",
              "0          Parda  Não  Não acredito que minha experiência profissiona...   \n",
              "1          Parda  Não  Sim, acredito que a minha a experiência profis...   \n",
              "2         Branca  Não                                                NaN   \n",
              "3         Branca  Não                                                NaN   \n",
              "4         Branca  Não  Não acredito que minha experiência profissiona...   \n",
              "\n",
              "                          ASPECTOS_PREJUDICADOS  VIVE_NO_BRASIL  \\\n",
              "0                                           NaN            True   \n",
              "1  Aprovação em processos seletivos/entrevistas            True   \n",
              "2                                           NaN            True   \n",
              "3                                           NaN            True   \n",
              "4                                           NaN            True   \n",
              "\n",
              "        ESTADO ONDE MORA  ...  \\\n",
              "0  Distrito Federal (DF)  ...   \n",
              "1              Pará (PA)  ...   \n",
              "2  Distrito Federal (DF)  ...   \n",
              "3      Minas Gerais (MG)  ...   \n",
              "4              Pará (PA)  ...   \n",
              "\n",
              "  Você pretende mudar de emprego nos próximos 6 meses?  \\\n",
              "0  Não estou buscando e não pretendo mudar de emp...     \n",
              "1  Estou em busca de oportunidades dentro ou fora...     \n",
              "2  Não estou buscando, mas me considero aberto a ...     \n",
              "3  Não estou buscando, mas me considero aberto a ...     \n",
              "4  Não estou buscando, mas me considero aberto a ...     \n",
              "\n",
              "  Quais os principais critérios que você leva em consideração no momento de decidir onde trabalhar?  \\\n",
              "0                                         Benefícios                                                  \n",
              "1  Remuneração/Salário, Plano de carreira e oport...                                                  \n",
              "2  Remuneração/Salário, Flexibilidade de trabalho...                                                  \n",
              "3  Remuneração/Salário, Flexibilidade de trabalho...                                                  \n",
              "4  Remuneração/Salário, Oportunidade de aprendiza...                                                  \n",
              "\n",
              "            Atualmente qual a sua forma de trabalho?  \\\n",
              "0                             Modelo 100% presencial   \n",
              "1                             Modelo 100% presencial   \n",
              "2  Modelo híbrido com dias fixos de trabalho pres...   \n",
              "3  Modelo híbrido flexível (o funcionário tem lib...   \n",
              "4                             Modelo 100% presencial   \n",
              "\n",
              "           Qual a forma de trabalho ideal para você?  \\\n",
              "0  Modelo híbrido com dias fixos de trabalho pres...   \n",
              "1  Modelo híbrido flexível (o funcionário tem lib...   \n",
              "2  Modelo híbrido flexível (o funcionário tem lib...   \n",
              "3  Modelo híbrido flexível (o funcionário tem lib...   \n",
              "4                             Modelo 100% presencial   \n",
              "\n",
              "  Caso sua empresa decida pelo modelo 100% presencial qual será sua atitude?  \\\n",
              "0   Vou aceitar e retornar ao modelo 100% presencial                           \n",
              "1   Vou aceitar e retornar ao modelo 100% presencial                           \n",
              "2  Vou procurar outra oportunidade no modelo híbr...                           \n",
              "3  Vou procurar outra oportunidade no modelo híbr...                           \n",
              "4   Vou aceitar e retornar ao modelo 100% presencial                           \n",
              "\n",
              "               Sua empresa passu por Layoff em 2022?  \\\n",
              "0  Não ocorreram layoffs/demissões em massa na em...   \n",
              "1  Não ocorreram layoffs/demissões em massa na em...   \n",
              "2  Não ocorreram layoffs/demissões em massa na em...   \n",
              "3  Não ocorreram layoffs/demissões em massa na em...   \n",
              "4  Não ocorreram layoffs/demissões em massa na em...   \n",
              "\n",
              "                                             Atuacao  \\\n",
              "0                                Engenharia de Dados   \n",
              "1                                             Gestor   \n",
              "2  desenvolve modelos preditivos e algoritmos de ...   \n",
              "3  desenvolve modelos preditivos e algoritmos de ...   \n",
              "4                                      Outra atuação   \n",
              "\n",
              "  Quais das linguagens listadas abaixo você utiliza no trabalho? EM_BUSCA  \\\n",
              "0                                                SQL                  0.0   \n",
              "1                                                NaN                  1.0   \n",
              "2                                                  1                  0.0   \n",
              "3                                                  0                  0.0   \n",
              "4                                                SQL                  0.0   \n",
              "\n",
              "   ABERTO_OPORTUNIDADES  \n",
              "0                   0.0  \n",
              "1                   0.0  \n",
              "2                   1.0  \n",
              "3                   1.0  \n",
              "4                   1.0  \n",
              "\n",
              "[5 rows x 46 columns]"
            ],
            "text/html": [
              "\n",
              "  <div id=\"df-47e2ef40-c207-4d7f-83e4-af8d955b3213\" class=\"colab-df-container\">\n",
              "    <div>\n",
              "<style scoped>\n",
              "    .dataframe tbody tr th:only-of-type {\n",
              "        vertical-align: middle;\n",
              "    }\n",
              "\n",
              "    .dataframe tbody tr th {\n",
              "        vertical-align: top;\n",
              "    }\n",
              "\n",
              "    .dataframe thead th {\n",
              "        text-align: right;\n",
              "    }\n",
              "</style>\n",
              "<table border=\"1\" class=\"dataframe\">\n",
              "  <thead>\n",
              "    <tr style=\"text-align: right;\">\n",
              "      <th></th>\n",
              "      <th>ID</th>\n",
              "      <th>IDADE</th>\n",
              "      <th>FAIXA IDADE</th>\n",
              "      <th>GENERO</th>\n",
              "      <th>COR/RACA/ETNIA</th>\n",
              "      <th>PCD</th>\n",
              "      <th>EXPERIENCIA_PROFISSIONAL_PREJUDICADA</th>\n",
              "      <th>ASPECTOS_PREJUDICADOS</th>\n",
              "      <th>VIVE_NO_BRASIL</th>\n",
              "      <th>ESTADO ONDE MORA</th>\n",
              "      <th>...</th>\n",
              "      <th>Você pretende mudar de emprego nos próximos 6 meses?</th>\n",
              "      <th>Quais os principais critérios que você leva em consideração no momento de decidir onde trabalhar?</th>\n",
              "      <th>Atualmente qual a sua forma de trabalho?</th>\n",
              "      <th>Qual a forma de trabalho ideal para você?</th>\n",
              "      <th>Caso sua empresa decida pelo modelo 100% presencial qual será sua atitude?</th>\n",
              "      <th>Sua empresa passu por Layoff em 2022?</th>\n",
              "      <th>Atuacao</th>\n",
              "      <th>Quais das linguagens listadas abaixo você utiliza no trabalho?</th>\n",
              "      <th>EM_BUSCA</th>\n",
              "      <th>ABERTO_OPORTUNIDADES</th>\n",
              "    </tr>\n",
              "  </thead>\n",
              "  <tbody>\n",
              "    <tr>\n",
              "      <th>0</th>\n",
              "      <td>zzqzz3l9ily8nuo2m7wyzzqzz3w48o96</td>\n",
              "      <td>39.0</td>\n",
              "      <td>35-39</td>\n",
              "      <td>Masculino</td>\n",
              "      <td>Parda</td>\n",
              "      <td>Não</td>\n",
              "      <td>Não acredito que minha experiência profissiona...</td>\n",
              "      <td>NaN</td>\n",
              "      <td>True</td>\n",
              "      <td>Distrito Federal (DF)</td>\n",
              "      <td>...</td>\n",
              "      <td>Não estou buscando e não pretendo mudar de emp...</td>\n",
              "      <td>Benefícios</td>\n",
              "      <td>Modelo 100% presencial</td>\n",
              "      <td>Modelo híbrido com dias fixos de trabalho pres...</td>\n",
              "      <td>Vou aceitar e retornar ao modelo 100% presencial</td>\n",
              "      <td>Não ocorreram layoffs/demissões em massa na em...</td>\n",
              "      <td>Engenharia de Dados</td>\n",
              "      <td>SQL</td>\n",
              "      <td>0.0</td>\n",
              "      <td>0.0</td>\n",
              "    </tr>\n",
              "    <tr>\n",
              "      <th>1</th>\n",
              "      <td>zzls2oftfn9law393oezzls2ofhvfpzd</td>\n",
              "      <td>32.0</td>\n",
              "      <td>30-34</td>\n",
              "      <td>Masculino</td>\n",
              "      <td>Parda</td>\n",
              "      <td>Não</td>\n",
              "      <td>Sim, acredito que a minha a experiência profis...</td>\n",
              "      <td>Aprovação em processos seletivos/entrevistas</td>\n",
              "      <td>True</td>\n",
              "      <td>Pará (PA)</td>\n",
              "      <td>...</td>\n",
              "      <td>Estou em busca de oportunidades dentro ou fora...</td>\n",
              "      <td>Remuneração/Salário, Plano de carreira e oport...</td>\n",
              "      <td>Modelo 100% presencial</td>\n",
              "      <td>Modelo híbrido flexível (o funcionário tem lib...</td>\n",
              "      <td>Vou aceitar e retornar ao modelo 100% presencial</td>\n",
              "      <td>Não ocorreram layoffs/demissões em massa na em...</td>\n",
              "      <td>Gestor</td>\n",
              "      <td>NaN</td>\n",
              "      <td>1.0</td>\n",
              "      <td>0.0</td>\n",
              "    </tr>\n",
              "    <tr>\n",
              "      <th>2</th>\n",
              "      <td>zzdwqzfqqp1ypc7ps6m0hzzdwqz292yi</td>\n",
              "      <td>53.0</td>\n",
              "      <td>50-54</td>\n",
              "      <td>Masculino</td>\n",
              "      <td>Branca</td>\n",
              "      <td>Não</td>\n",
              "      <td>NaN</td>\n",
              "      <td>NaN</td>\n",
              "      <td>True</td>\n",
              "      <td>Distrito Federal (DF)</td>\n",
              "      <td>...</td>\n",
              "      <td>Não estou buscando, mas me considero aberto a ...</td>\n",
              "      <td>Remuneração/Salário, Flexibilidade de trabalho...</td>\n",
              "      <td>Modelo híbrido com dias fixos de trabalho pres...</td>\n",
              "      <td>Modelo híbrido flexível (o funcionário tem lib...</td>\n",
              "      <td>Vou procurar outra oportunidade no modelo híbr...</td>\n",
              "      <td>Não ocorreram layoffs/demissões em massa na em...</td>\n",
              "      <td>desenvolve modelos preditivos e algoritmos de ...</td>\n",
              "      <td>1</td>\n",
              "      <td>0.0</td>\n",
              "      <td>1.0</td>\n",
              "    </tr>\n",
              "    <tr>\n",
              "      <th>3</th>\n",
              "      <td>zzbqh3uy7yk7k9qmkzzbqtb4s9faqspl</td>\n",
              "      <td>27.0</td>\n",
              "      <td>25-29</td>\n",
              "      <td>Masculino</td>\n",
              "      <td>Branca</td>\n",
              "      <td>Não</td>\n",
              "      <td>NaN</td>\n",
              "      <td>NaN</td>\n",
              "      <td>True</td>\n",
              "      <td>Minas Gerais (MG)</td>\n",
              "      <td>...</td>\n",
              "      <td>Não estou buscando, mas me considero aberto a ...</td>\n",
              "      <td>Remuneração/Salário, Flexibilidade de trabalho...</td>\n",
              "      <td>Modelo híbrido flexível (o funcionário tem lib...</td>\n",
              "      <td>Modelo híbrido flexível (o funcionário tem lib...</td>\n",
              "      <td>Vou procurar outra oportunidade no modelo híbr...</td>\n",
              "      <td>Não ocorreram layoffs/demissões em massa na em...</td>\n",
              "      <td>desenvolve modelos preditivos e algoritmos de ...</td>\n",
              "      <td>0</td>\n",
              "      <td>0.0</td>\n",
              "      <td>1.0</td>\n",
              "    </tr>\n",
              "    <tr>\n",
              "      <th>4</th>\n",
              "      <td>zzaf1m95yan929rb94wzzaf1mekhvhpg</td>\n",
              "      <td>46.0</td>\n",
              "      <td>45-49</td>\n",
              "      <td>Feminino</td>\n",
              "      <td>Branca</td>\n",
              "      <td>Não</td>\n",
              "      <td>Não acredito que minha experiência profissiona...</td>\n",
              "      <td>NaN</td>\n",
              "      <td>True</td>\n",
              "      <td>Pará (PA)</td>\n",
              "      <td>...</td>\n",
              "      <td>Não estou buscando, mas me considero aberto a ...</td>\n",
              "      <td>Remuneração/Salário, Oportunidade de aprendiza...</td>\n",
              "      <td>Modelo 100% presencial</td>\n",
              "      <td>Modelo 100% presencial</td>\n",
              "      <td>Vou aceitar e retornar ao modelo 100% presencial</td>\n",
              "      <td>Não ocorreram layoffs/demissões em massa na em...</td>\n",
              "      <td>Outra atuação</td>\n",
              "      <td>SQL</td>\n",
              "      <td>0.0</td>\n",
              "      <td>1.0</td>\n",
              "    </tr>\n",
              "  </tbody>\n",
              "</table>\n",
              "<p>5 rows × 46 columns</p>\n",
              "</div>\n",
              "    <div class=\"colab-df-buttons\">\n",
              "\n",
              "  <div class=\"colab-df-container\">\n",
              "    <button class=\"colab-df-convert\" onclick=\"convertToInteractive('df-47e2ef40-c207-4d7f-83e4-af8d955b3213')\"\n",
              "            title=\"Convert this dataframe to an interactive table.\"\n",
              "            style=\"display:none;\">\n",
              "\n",
              "  <svg xmlns=\"http://www.w3.org/2000/svg\" height=\"24px\" viewBox=\"0 -960 960 960\">\n",
              "    <path d=\"M120-120v-720h720v720H120Zm60-500h600v-160H180v160Zm220 220h160v-160H400v160Zm0 220h160v-160H400v160ZM180-400h160v-160H180v160Zm440 0h160v-160H620v160ZM180-180h160v-160H180v160Zm440 0h160v-160H620v160Z\"/>\n",
              "  </svg>\n",
              "    </button>\n",
              "\n",
              "  <style>\n",
              "    .colab-df-container {\n",
              "      display:flex;\n",
              "      gap: 12px;\n",
              "    }\n",
              "\n",
              "    .colab-df-convert {\n",
              "      background-color: #E8F0FE;\n",
              "      border: none;\n",
              "      border-radius: 50%;\n",
              "      cursor: pointer;\n",
              "      display: none;\n",
              "      fill: #1967D2;\n",
              "      height: 32px;\n",
              "      padding: 0 0 0 0;\n",
              "      width: 32px;\n",
              "    }\n",
              "\n",
              "    .colab-df-convert:hover {\n",
              "      background-color: #E2EBFA;\n",
              "      box-shadow: 0px 1px 2px rgba(60, 64, 67, 0.3), 0px 1px 3px 1px rgba(60, 64, 67, 0.15);\n",
              "      fill: #174EA6;\n",
              "    }\n",
              "\n",
              "    .colab-df-buttons div {\n",
              "      margin-bottom: 4px;\n",
              "    }\n",
              "\n",
              "    [theme=dark] .colab-df-convert {\n",
              "      background-color: #3B4455;\n",
              "      fill: #D2E3FC;\n",
              "    }\n",
              "\n",
              "    [theme=dark] .colab-df-convert:hover {\n",
              "      background-color: #434B5C;\n",
              "      box-shadow: 0px 1px 3px 1px rgba(0, 0, 0, 0.15);\n",
              "      filter: drop-shadow(0px 1px 2px rgba(0, 0, 0, 0.3));\n",
              "      fill: #FFFFFF;\n",
              "    }\n",
              "  </style>\n",
              "\n",
              "    <script>\n",
              "      const buttonEl =\n",
              "        document.querySelector('#df-47e2ef40-c207-4d7f-83e4-af8d955b3213 button.colab-df-convert');\n",
              "      buttonEl.style.display =\n",
              "        google.colab.kernel.accessAllowed ? 'block' : 'none';\n",
              "\n",
              "      async function convertToInteractive(key) {\n",
              "        const element = document.querySelector('#df-47e2ef40-c207-4d7f-83e4-af8d955b3213');\n",
              "        const dataTable =\n",
              "          await google.colab.kernel.invokeFunction('convertToInteractive',\n",
              "                                                    [key], {});\n",
              "        if (!dataTable) return;\n",
              "\n",
              "        const docLinkHtml = 'Like what you see? Visit the ' +\n",
              "          '<a target=\"_blank\" href=https://colab.research.google.com/notebooks/data_table.ipynb>data table notebook</a>'\n",
              "          + ' to learn more about interactive tables.';\n",
              "        element.innerHTML = '';\n",
              "        dataTable['output_type'] = 'display_data';\n",
              "        await google.colab.output.renderOutput(dataTable, element);\n",
              "        const docLink = document.createElement('div');\n",
              "        docLink.innerHTML = docLinkHtml;\n",
              "        element.appendChild(docLink);\n",
              "      }\n",
              "    </script>\n",
              "  </div>\n",
              "\n",
              "\n",
              "<div id=\"df-d40e480b-af7c-4968-87d7-4c049558ff6f\">\n",
              "  <button class=\"colab-df-quickchart\" onclick=\"quickchart('df-d40e480b-af7c-4968-87d7-4c049558ff6f')\"\n",
              "            title=\"Suggest charts\"\n",
              "            style=\"display:none;\">\n",
              "\n",
              "<svg xmlns=\"http://www.w3.org/2000/svg\" height=\"24px\"viewBox=\"0 0 24 24\"\n",
              "     width=\"24px\">\n",
              "    <g>\n",
              "        <path d=\"M19 3H5c-1.1 0-2 .9-2 2v14c0 1.1.9 2 2 2h14c1.1 0 2-.9 2-2V5c0-1.1-.9-2-2-2zM9 17H7v-7h2v7zm4 0h-2V7h2v10zm4 0h-2v-4h2v4z\"/>\n",
              "    </g>\n",
              "</svg>\n",
              "  </button>\n",
              "\n",
              "<style>\n",
              "  .colab-df-quickchart {\n",
              "      --bg-color: #E8F0FE;\n",
              "      --fill-color: #1967D2;\n",
              "      --hover-bg-color: #E2EBFA;\n",
              "      --hover-fill-color: #174EA6;\n",
              "      --disabled-fill-color: #AAA;\n",
              "      --disabled-bg-color: #DDD;\n",
              "  }\n",
              "\n",
              "  [theme=dark] .colab-df-quickchart {\n",
              "      --bg-color: #3B4455;\n",
              "      --fill-color: #D2E3FC;\n",
              "      --hover-bg-color: #434B5C;\n",
              "      --hover-fill-color: #FFFFFF;\n",
              "      --disabled-bg-color: #3B4455;\n",
              "      --disabled-fill-color: #666;\n",
              "  }\n",
              "\n",
              "  .colab-df-quickchart {\n",
              "    background-color: var(--bg-color);\n",
              "    border: none;\n",
              "    border-radius: 50%;\n",
              "    cursor: pointer;\n",
              "    display: none;\n",
              "    fill: var(--fill-color);\n",
              "    height: 32px;\n",
              "    padding: 0;\n",
              "    width: 32px;\n",
              "  }\n",
              "\n",
              "  .colab-df-quickchart:hover {\n",
              "    background-color: var(--hover-bg-color);\n",
              "    box-shadow: 0 1px 2px rgba(60, 64, 67, 0.3), 0 1px 3px 1px rgba(60, 64, 67, 0.15);\n",
              "    fill: var(--button-hover-fill-color);\n",
              "  }\n",
              "\n",
              "  .colab-df-quickchart-complete:disabled,\n",
              "  .colab-df-quickchart-complete:disabled:hover {\n",
              "    background-color: var(--disabled-bg-color);\n",
              "    fill: var(--disabled-fill-color);\n",
              "    box-shadow: none;\n",
              "  }\n",
              "\n",
              "  .colab-df-spinner {\n",
              "    border: 2px solid var(--fill-color);\n",
              "    border-color: transparent;\n",
              "    border-bottom-color: var(--fill-color);\n",
              "    animation:\n",
              "      spin 1s steps(1) infinite;\n",
              "  }\n",
              "\n",
              "  @keyframes spin {\n",
              "    0% {\n",
              "      border-color: transparent;\n",
              "      border-bottom-color: var(--fill-color);\n",
              "      border-left-color: var(--fill-color);\n",
              "    }\n",
              "    20% {\n",
              "      border-color: transparent;\n",
              "      border-left-color: var(--fill-color);\n",
              "      border-top-color: var(--fill-color);\n",
              "    }\n",
              "    30% {\n",
              "      border-color: transparent;\n",
              "      border-left-color: var(--fill-color);\n",
              "      border-top-color: var(--fill-color);\n",
              "      border-right-color: var(--fill-color);\n",
              "    }\n",
              "    40% {\n",
              "      border-color: transparent;\n",
              "      border-right-color: var(--fill-color);\n",
              "      border-top-color: var(--fill-color);\n",
              "    }\n",
              "    60% {\n",
              "      border-color: transparent;\n",
              "      border-right-color: var(--fill-color);\n",
              "    }\n",
              "    80% {\n",
              "      border-color: transparent;\n",
              "      border-right-color: var(--fill-color);\n",
              "      border-bottom-color: var(--fill-color);\n",
              "    }\n",
              "    90% {\n",
              "      border-color: transparent;\n",
              "      border-bottom-color: var(--fill-color);\n",
              "    }\n",
              "  }\n",
              "</style>\n",
              "\n",
              "  <script>\n",
              "    async function quickchart(key) {\n",
              "      const quickchartButtonEl =\n",
              "        document.querySelector('#' + key + ' button');\n",
              "      quickchartButtonEl.disabled = true;  // To prevent multiple clicks.\n",
              "      quickchartButtonEl.classList.add('colab-df-spinner');\n",
              "      try {\n",
              "        const charts = await google.colab.kernel.invokeFunction(\n",
              "            'suggestCharts', [key], {});\n",
              "      } catch (error) {\n",
              "        console.error('Error during call to suggestCharts:', error);\n",
              "      }\n",
              "      quickchartButtonEl.classList.remove('colab-df-spinner');\n",
              "      quickchartButtonEl.classList.add('colab-df-quickchart-complete');\n",
              "    }\n",
              "    (() => {\n",
              "      let quickchartButtonEl =\n",
              "        document.querySelector('#df-d40e480b-af7c-4968-87d7-4c049558ff6f button');\n",
              "      quickchartButtonEl.style.display =\n",
              "        google.colab.kernel.accessAllowed ? 'block' : 'none';\n",
              "    })();\n",
              "  </script>\n",
              "</div>\n",
              "\n",
              "    </div>\n",
              "  </div>\n"
            ],
            "application/vnd.google.colaboratory.intrinsic+json": {
              "type": "dataframe",
              "variable_name": "dados"
            }
          },
          "metadata": {},
          "execution_count": 5
        }
      ]
    },
    {
      "cell_type": "code",
      "source": [
        "dados.columns"
      ],
      "metadata": {
        "colab": {
          "base_uri": "https://localhost:8080/"
        },
        "id": "fUeFBIujxE3T",
        "outputId": "0fefc28d-c319-4812-c3df-d5ea6fe65604"
      },
      "execution_count": null,
      "outputs": [
        {
          "output_type": "execute_result",
          "data": {
            "text/plain": [
              "Index(['ID', 'IDADE', 'FAIXA IDADE', 'GENERO', 'COR/RACA/ETNIA', 'PCD',\n",
              "       'EXPERIENCIA_PROFISSIONAL_PREJUDICADA', 'ASPECTOS_PREJUDICADOS',\n",
              "       'VIVE_NO_BRASIL', 'ESTADO ONDE MORA', 'UF ONDE MORA',\n",
              "       'REGIAO ONDE MORA', 'MUDOU DE ESTADO?', 'REGIAO DE ORIGEM',\n",
              "       'NIVEL DE ENSINO', 'ÁREA DE FORMAÇÃO',\n",
              "       'QUAL SUA SITUAÇÃO ATUAL DE TRABALHO?', 'SETOR',\n",
              "       'NUMERO DE FUNCIONARIOS', 'GESTOR?', 'CARGO COMO GESTOR', 'CARGO ATUAL',\n",
              "       'FAIXA SALARIAL',\n",
              "       'QUANTO TEMPO DE EXPERIÊNCIA NA ÁREA DE DADOS VOCÊ TEM?',\n",
              "       'QUANTO TEMPO DE EXPERIÊNCIA NA ÁREA DE TI/ENGENHARIA DE SOFTWARE VOCÊ TEVE ANTES DE COMEÇAR A TRABALHAR NA ÁREA DE DADOS?',\n",
              "       'SALARIO', 'NOVO_NIVEL', 'NIVEL_Júnior', 'NIVEL_Pleno', 'NIVEL_Sênior',\n",
              "       'GEARACAO', 'Quanto tempo de experiência na área de dados você tem?',\n",
              "       'Quanto tempo de experiência na área de TI/Engenharia de Software você teve antes de começar a trabalhar na área de dados?',\n",
              "       'Você está satisfeito na sua empresa atual?',\n",
              "       'Qual o principal motivo da sua insatisfação com a empresa atual?',\n",
              "       'Você participou de entrevistas de emprego nos últimos 6 meses?',\n",
              "       'Você pretende mudar de emprego nos próximos 6 meses?',\n",
              "       'Quais os principais critérios que você leva em consideração no momento de decidir onde trabalhar?',\n",
              "       'Atualmente qual a sua forma de trabalho?',\n",
              "       'Qual a forma de trabalho ideal para você?',\n",
              "       'Caso sua empresa decida pelo modelo 100% presencial qual será sua atitude?',\n",
              "       'Sua empresa passu por Layoff em 2022?', 'Atuacao',\n",
              "       'Quais das linguagens listadas abaixo você utiliza no trabalho?',\n",
              "       'EM_BUSCA', 'ABERTO_OPORTUNIDADES'],\n",
              "      dtype='object')"
            ]
          },
          "metadata": {},
          "execution_count": 6
        }
      ]
    },
    {
      "cell_type": "code",
      "source": [
        "dados['QUAL SUA SITUAÇÃO ATUAL DE TRABALHO?'].value_counts()"
      ],
      "metadata": {
        "colab": {
          "base_uri": "https://localhost:8080/",
          "height": 523
        },
        "id": "ICciUiJZxQCu",
        "outputId": "39a4ad7b-065d-406b-f573-fbfdf8e1f976"
      },
      "execution_count": null,
      "outputs": [
        {
          "output_type": "execute_result",
          "data": {
            "text/plain": [
              "QUAL SUA SITUAÇÃO ATUAL DE TRABALHO?\n",
              "Empregado (CLT)                                                    2762\n",
              "Empreendedor ou Empregado (CNPJ)                                    410\n",
              "Desempregado, buscando recolocação                                  350\n",
              "Estagiário                                                          188\n",
              "Servidor Público                                                    156\n",
              "Trabalho na área Acadêmica/Pesquisador                               86\n",
              "Somente Estudante (graduação)                                        82\n",
              "Vivo no Brasil e trabalho remoto para empresa de fora do Brasil      69\n",
              "Vivo fora do Brasil e trabalho para empresa de fora do Brasil        46\n",
              "Somente Estudante (pós-graduação)                                    44\n",
              "Freelancer                                                           39\n",
              "Prefiro não informar                                                 24\n",
              "Desempregado e não estou buscando recolocação                        15\n",
              "Name: count, dtype: int64"
            ],
            "text/html": [
              "<div>\n",
              "<style scoped>\n",
              "    .dataframe tbody tr th:only-of-type {\n",
              "        vertical-align: middle;\n",
              "    }\n",
              "\n",
              "    .dataframe tbody tr th {\n",
              "        vertical-align: top;\n",
              "    }\n",
              "\n",
              "    .dataframe thead th {\n",
              "        text-align: right;\n",
              "    }\n",
              "</style>\n",
              "<table border=\"1\" class=\"dataframe\">\n",
              "  <thead>\n",
              "    <tr style=\"text-align: right;\">\n",
              "      <th></th>\n",
              "      <th>count</th>\n",
              "    </tr>\n",
              "    <tr>\n",
              "      <th>QUAL SUA SITUAÇÃO ATUAL DE TRABALHO?</th>\n",
              "      <th></th>\n",
              "    </tr>\n",
              "  </thead>\n",
              "  <tbody>\n",
              "    <tr>\n",
              "      <th>Empregado (CLT)</th>\n",
              "      <td>2762</td>\n",
              "    </tr>\n",
              "    <tr>\n",
              "      <th>Empreendedor ou Empregado (CNPJ)</th>\n",
              "      <td>410</td>\n",
              "    </tr>\n",
              "    <tr>\n",
              "      <th>Desempregado, buscando recolocação</th>\n",
              "      <td>350</td>\n",
              "    </tr>\n",
              "    <tr>\n",
              "      <th>Estagiário</th>\n",
              "      <td>188</td>\n",
              "    </tr>\n",
              "    <tr>\n",
              "      <th>Servidor Público</th>\n",
              "      <td>156</td>\n",
              "    </tr>\n",
              "    <tr>\n",
              "      <th>Trabalho na área Acadêmica/Pesquisador</th>\n",
              "      <td>86</td>\n",
              "    </tr>\n",
              "    <tr>\n",
              "      <th>Somente Estudante (graduação)</th>\n",
              "      <td>82</td>\n",
              "    </tr>\n",
              "    <tr>\n",
              "      <th>Vivo no Brasil e trabalho remoto para empresa de fora do Brasil</th>\n",
              "      <td>69</td>\n",
              "    </tr>\n",
              "    <tr>\n",
              "      <th>Vivo fora do Brasil e trabalho para empresa de fora do Brasil</th>\n",
              "      <td>46</td>\n",
              "    </tr>\n",
              "    <tr>\n",
              "      <th>Somente Estudante (pós-graduação)</th>\n",
              "      <td>44</td>\n",
              "    </tr>\n",
              "    <tr>\n",
              "      <th>Freelancer</th>\n",
              "      <td>39</td>\n",
              "    </tr>\n",
              "    <tr>\n",
              "      <th>Prefiro não informar</th>\n",
              "      <td>24</td>\n",
              "    </tr>\n",
              "    <tr>\n",
              "      <th>Desempregado e não estou buscando recolocação</th>\n",
              "      <td>15</td>\n",
              "    </tr>\n",
              "  </tbody>\n",
              "</table>\n",
              "</div><br><label><b>dtype:</b> int64</label>"
            ]
          },
          "metadata": {},
          "execution_count": 7
        }
      ]
    },
    {
      "cell_type": "code",
      "source": [
        "dados = dados[dados['QUAL SUA SITUAÇÃO ATUAL DE TRABALHO?'] == 'Empregado (CLT)']"
      ],
      "metadata": {
        "id": "NZS3ZXf3xWEz"
      },
      "execution_count": null,
      "outputs": []
    },
    {
      "cell_type": "code",
      "source": [
        "dados['QUAL SUA SITUAÇÃO ATUAL DE TRABALHO?'].value_counts()"
      ],
      "metadata": {
        "colab": {
          "base_uri": "https://localhost:8080/",
          "height": 147
        },
        "id": "BB9lEuB9xltT",
        "outputId": "90be9311-f153-46e0-b947-93579da9223d"
      },
      "execution_count": null,
      "outputs": [
        {
          "output_type": "execute_result",
          "data": {
            "text/plain": [
              "QUAL SUA SITUAÇÃO ATUAL DE TRABALHO?\n",
              "Empregado (CLT)    2762\n",
              "Name: count, dtype: int64"
            ],
            "text/html": [
              "<div>\n",
              "<style scoped>\n",
              "    .dataframe tbody tr th:only-of-type {\n",
              "        vertical-align: middle;\n",
              "    }\n",
              "\n",
              "    .dataframe tbody tr th {\n",
              "        vertical-align: top;\n",
              "    }\n",
              "\n",
              "    .dataframe thead th {\n",
              "        text-align: right;\n",
              "    }\n",
              "</style>\n",
              "<table border=\"1\" class=\"dataframe\">\n",
              "  <thead>\n",
              "    <tr style=\"text-align: right;\">\n",
              "      <th></th>\n",
              "      <th>count</th>\n",
              "    </tr>\n",
              "    <tr>\n",
              "      <th>QUAL SUA SITUAÇÃO ATUAL DE TRABALHO?</th>\n",
              "      <th></th>\n",
              "    </tr>\n",
              "  </thead>\n",
              "  <tbody>\n",
              "    <tr>\n",
              "      <th>Empregado (CLT)</th>\n",
              "      <td>2762</td>\n",
              "    </tr>\n",
              "  </tbody>\n",
              "</table>\n",
              "</div><br><label><b>dtype:</b> int64</label>"
            ]
          },
          "metadata": {},
          "execution_count": 9
        }
      ]
    },
    {
      "cell_type": "code",
      "source": [
        "dados['COR/RACA/ETNIA'].value_counts()"
      ],
      "metadata": {
        "colab": {
          "base_uri": "https://localhost:8080/",
          "height": 335
        },
        "id": "zHJ4MUOixx-g",
        "outputId": "f2467b30-224b-4bd5-906a-cf67d3272114"
      },
      "execution_count": null,
      "outputs": [
        {
          "output_type": "execute_result",
          "data": {
            "text/plain": [
              "COR/RACA/ETNIA\n",
              "Branca                  1805\n",
              "Parda                    661\n",
              "Preta                    181\n",
              "Amarela                   85\n",
              "Prefiro não informar      16\n",
              "Outra                     10\n",
              "Indígena                   4\n",
              "Name: count, dtype: int64"
            ],
            "text/html": [
              "<div>\n",
              "<style scoped>\n",
              "    .dataframe tbody tr th:only-of-type {\n",
              "        vertical-align: middle;\n",
              "    }\n",
              "\n",
              "    .dataframe tbody tr th {\n",
              "        vertical-align: top;\n",
              "    }\n",
              "\n",
              "    .dataframe thead th {\n",
              "        text-align: right;\n",
              "    }\n",
              "</style>\n",
              "<table border=\"1\" class=\"dataframe\">\n",
              "  <thead>\n",
              "    <tr style=\"text-align: right;\">\n",
              "      <th></th>\n",
              "      <th>count</th>\n",
              "    </tr>\n",
              "    <tr>\n",
              "      <th>COR/RACA/ETNIA</th>\n",
              "      <th></th>\n",
              "    </tr>\n",
              "  </thead>\n",
              "  <tbody>\n",
              "    <tr>\n",
              "      <th>Branca</th>\n",
              "      <td>1805</td>\n",
              "    </tr>\n",
              "    <tr>\n",
              "      <th>Parda</th>\n",
              "      <td>661</td>\n",
              "    </tr>\n",
              "    <tr>\n",
              "      <th>Preta</th>\n",
              "      <td>181</td>\n",
              "    </tr>\n",
              "    <tr>\n",
              "      <th>Amarela</th>\n",
              "      <td>85</td>\n",
              "    </tr>\n",
              "    <tr>\n",
              "      <th>Prefiro não informar</th>\n",
              "      <td>16</td>\n",
              "    </tr>\n",
              "    <tr>\n",
              "      <th>Outra</th>\n",
              "      <td>10</td>\n",
              "    </tr>\n",
              "    <tr>\n",
              "      <th>Indígena</th>\n",
              "      <td>4</td>\n",
              "    </tr>\n",
              "  </tbody>\n",
              "</table>\n",
              "</div><br><label><b>dtype:</b> int64</label>"
            ]
          },
          "metadata": {},
          "execution_count": 10
        }
      ]
    },
    {
      "cell_type": "code",
      "source": [
        "lista_retirar = ['Prefiro não informar','Outra','Indígena']"
      ],
      "metadata": {
        "id": "CHQIlUfryDn0"
      },
      "execution_count": null,
      "outputs": []
    },
    {
      "cell_type": "code",
      "source": [
        "dados = dados[~dados['COR/RACA/ETNIA'].isin(lista_retirar)]"
      ],
      "metadata": {
        "id": "teunDkUQyXhZ"
      },
      "execution_count": null,
      "outputs": []
    },
    {
      "cell_type": "code",
      "source": [
        "dados['NAO_BRANCA'] = dados['COR/RACA/ETNIA'].apply(lambda x: 1 if x != 'Branca' else 0)"
      ],
      "metadata": {
        "id": "Z9WwGwNYy9NS"
      },
      "execution_count": null,
      "outputs": []
    },
    {
      "cell_type": "code",
      "source": [
        "dados['QUANTO TEMPO DE EXPERIÊNCIA NA ÁREA DE DADOS VOCÊ TEM?'].value_counts()"
      ],
      "metadata": {
        "colab": {
          "base_uri": "https://localhost:8080/",
          "height": 335
        },
        "id": "zSJJn5ULzaO4",
        "outputId": "dea4bde5-e810-4276-cb28-4a0ce9df5320"
      },
      "execution_count": null,
      "outputs": [
        {
          "output_type": "execute_result",
          "data": {
            "text/plain": [
              "QUANTO TEMPO DE EXPERIÊNCIA NA ÁREA DE DADOS VOCÊ TEM?\n",
              "de 1 a 2 anos                             743\n",
              "de 3 a 4 anos                             584\n",
              "de 4 a 6 anos                             416\n",
              "Menos de 1 ano                            353\n",
              "Mais de 10 anos                           277\n",
              "de 7 a 10 anos                            232\n",
              "Não tenho experiência na área de dados    127\n",
              "Name: count, dtype: int64"
            ],
            "text/html": [
              "<div>\n",
              "<style scoped>\n",
              "    .dataframe tbody tr th:only-of-type {\n",
              "        vertical-align: middle;\n",
              "    }\n",
              "\n",
              "    .dataframe tbody tr th {\n",
              "        vertical-align: top;\n",
              "    }\n",
              "\n",
              "    .dataframe thead th {\n",
              "        text-align: right;\n",
              "    }\n",
              "</style>\n",
              "<table border=\"1\" class=\"dataframe\">\n",
              "  <thead>\n",
              "    <tr style=\"text-align: right;\">\n",
              "      <th></th>\n",
              "      <th>count</th>\n",
              "    </tr>\n",
              "    <tr>\n",
              "      <th>QUANTO TEMPO DE EXPERIÊNCIA NA ÁREA DE DADOS VOCÊ TEM?</th>\n",
              "      <th></th>\n",
              "    </tr>\n",
              "  </thead>\n",
              "  <tbody>\n",
              "    <tr>\n",
              "      <th>de 1 a 2 anos</th>\n",
              "      <td>743</td>\n",
              "    </tr>\n",
              "    <tr>\n",
              "      <th>de 3 a 4 anos</th>\n",
              "      <td>584</td>\n",
              "    </tr>\n",
              "    <tr>\n",
              "      <th>de 4 a 6 anos</th>\n",
              "      <td>416</td>\n",
              "    </tr>\n",
              "    <tr>\n",
              "      <th>Menos de 1 ano</th>\n",
              "      <td>353</td>\n",
              "    </tr>\n",
              "    <tr>\n",
              "      <th>Mais de 10 anos</th>\n",
              "      <td>277</td>\n",
              "    </tr>\n",
              "    <tr>\n",
              "      <th>de 7 a 10 anos</th>\n",
              "      <td>232</td>\n",
              "    </tr>\n",
              "    <tr>\n",
              "      <th>Não tenho experiência na área de dados</th>\n",
              "      <td>127</td>\n",
              "    </tr>\n",
              "  </tbody>\n",
              "</table>\n",
              "</div><br><label><b>dtype:</b> int64</label>"
            ]
          },
          "metadata": {},
          "execution_count": 14
        }
      ]
    },
    {
      "cell_type": "code",
      "source": [
        "dados ['TEMPO_EXPERIENCIA'] = dados['QUANTO TEMPO DE EXPERIÊNCIA NA ÁREA DE DADOS VOCÊ TEM?'].str.extract(r'(\\d+)')"
      ],
      "metadata": {
        "id": "ekgnxjrlztKH"
      },
      "execution_count": null,
      "outputs": []
    },
    {
      "cell_type": "code",
      "source": [
        "dados ['TEMPO_EXPERIENCIA'].value_counts()"
      ],
      "metadata": {
        "colab": {
          "base_uri": "https://localhost:8080/",
          "height": 272
        },
        "id": "D14gyEVYAwSY",
        "outputId": "f6ccd582-d0fd-4d63-ea9c-7c98d7858c9a"
      },
      "execution_count": null,
      "outputs": [
        {
          "output_type": "execute_result",
          "data": {
            "text/plain": [
              "TEMPO_EXPERIENCIA\n",
              "1     1096\n",
              "3      584\n",
              "4      416\n",
              "10     277\n",
              "7      232\n",
              "Name: count, dtype: int64"
            ],
            "text/html": [
              "<div>\n",
              "<style scoped>\n",
              "    .dataframe tbody tr th:only-of-type {\n",
              "        vertical-align: middle;\n",
              "    }\n",
              "\n",
              "    .dataframe tbody tr th {\n",
              "        vertical-align: top;\n",
              "    }\n",
              "\n",
              "    .dataframe thead th {\n",
              "        text-align: right;\n",
              "    }\n",
              "</style>\n",
              "<table border=\"1\" class=\"dataframe\">\n",
              "  <thead>\n",
              "    <tr style=\"text-align: right;\">\n",
              "      <th></th>\n",
              "      <th>count</th>\n",
              "    </tr>\n",
              "    <tr>\n",
              "      <th>TEMPO_EXPERIENCIA</th>\n",
              "      <th></th>\n",
              "    </tr>\n",
              "  </thead>\n",
              "  <tbody>\n",
              "    <tr>\n",
              "      <th>1</th>\n",
              "      <td>1096</td>\n",
              "    </tr>\n",
              "    <tr>\n",
              "      <th>3</th>\n",
              "      <td>584</td>\n",
              "    </tr>\n",
              "    <tr>\n",
              "      <th>4</th>\n",
              "      <td>416</td>\n",
              "    </tr>\n",
              "    <tr>\n",
              "      <th>10</th>\n",
              "      <td>277</td>\n",
              "    </tr>\n",
              "    <tr>\n",
              "      <th>7</th>\n",
              "      <td>232</td>\n",
              "    </tr>\n",
              "  </tbody>\n",
              "</table>\n",
              "</div><br><label><b>dtype:</b> int64</label>"
            ]
          },
          "metadata": {},
          "execution_count": 16
        }
      ]
    },
    {
      "cell_type": "code",
      "source": [
        "dados['NUMERO DE FUNCIONARIOS'].value_counts()"
      ],
      "metadata": {
        "colab": {
          "base_uri": "https://localhost:8080/",
          "height": 366
        },
        "id": "nWE-ZOhyBAk1",
        "outputId": "ed43dfa6-7b67-49cf-96c2-b39d3ddf1cca"
      },
      "execution_count": null,
      "outputs": [
        {
          "output_type": "execute_result",
          "data": {
            "text/plain": [
              "NUMERO DE FUNCIONARIOS\n",
              "Acima de 3.000      1313\n",
              "de 101 a 500         503\n",
              "de 1.001 a 3.000     368\n",
              "de 501 a 1.000       248\n",
              "de 51 a 100          146\n",
              "de 11 a 50           112\n",
              "de 6 a 10             24\n",
              "de 1 a 5              18\n",
              "Name: count, dtype: int64"
            ],
            "text/html": [
              "<div>\n",
              "<style scoped>\n",
              "    .dataframe tbody tr th:only-of-type {\n",
              "        vertical-align: middle;\n",
              "    }\n",
              "\n",
              "    .dataframe tbody tr th {\n",
              "        vertical-align: top;\n",
              "    }\n",
              "\n",
              "    .dataframe thead th {\n",
              "        text-align: right;\n",
              "    }\n",
              "</style>\n",
              "<table border=\"1\" class=\"dataframe\">\n",
              "  <thead>\n",
              "    <tr style=\"text-align: right;\">\n",
              "      <th></th>\n",
              "      <th>count</th>\n",
              "    </tr>\n",
              "    <tr>\n",
              "      <th>NUMERO DE FUNCIONARIOS</th>\n",
              "      <th></th>\n",
              "    </tr>\n",
              "  </thead>\n",
              "  <tbody>\n",
              "    <tr>\n",
              "      <th>Acima de 3.000</th>\n",
              "      <td>1313</td>\n",
              "    </tr>\n",
              "    <tr>\n",
              "      <th>de 101 a 500</th>\n",
              "      <td>503</td>\n",
              "    </tr>\n",
              "    <tr>\n",
              "      <th>de 1.001 a 3.000</th>\n",
              "      <td>368</td>\n",
              "    </tr>\n",
              "    <tr>\n",
              "      <th>de 501 a 1.000</th>\n",
              "      <td>248</td>\n",
              "    </tr>\n",
              "    <tr>\n",
              "      <th>de 51 a 100</th>\n",
              "      <td>146</td>\n",
              "    </tr>\n",
              "    <tr>\n",
              "      <th>de 11 a 50</th>\n",
              "      <td>112</td>\n",
              "    </tr>\n",
              "    <tr>\n",
              "      <th>de 6 a 10</th>\n",
              "      <td>24</td>\n",
              "    </tr>\n",
              "    <tr>\n",
              "      <th>de 1 a 5</th>\n",
              "      <td>18</td>\n",
              "    </tr>\n",
              "  </tbody>\n",
              "</table>\n",
              "</div><br><label><b>dtype:</b> int64</label>"
            ]
          },
          "metadata": {},
          "execution_count": 17
        }
      ]
    },
    {
      "cell_type": "code",
      "source": [
        "dados['NUMERO DE FUNCIONARIOS'] = dados['NUMERO DE FUNCIONARIOS'].str.replace('.', '')"
      ],
      "metadata": {
        "id": "JaxCY7KNBSkb"
      },
      "execution_count": null,
      "outputs": []
    },
    {
      "cell_type": "code",
      "source": [
        "dados ['NUMERO DE FUNCIONARIOS'] = dados['NUMERO DE FUNCIONARIOS'].str.extract(r'(\\d+)')"
      ],
      "metadata": {
        "id": "W-EUtU5cB53P"
      },
      "execution_count": null,
      "outputs": []
    },
    {
      "cell_type": "code",
      "source": [
        "dados ['NUMERO DE FUNCIONARIOS'].value_counts(dropna=False)"
      ],
      "metadata": {
        "colab": {
          "base_uri": "https://localhost:8080/",
          "height": 366
        },
        "id": "9HPv90DECQvz",
        "outputId": "7263c87d-0e9d-49c2-cc75-0522697869db"
      },
      "execution_count": null,
      "outputs": [
        {
          "output_type": "execute_result",
          "data": {
            "text/plain": [
              "NUMERO DE FUNCIONARIOS\n",
              "Acima de 3000     1313\n",
              "de 101 a 500       503\n",
              "de 1001 a 3000     368\n",
              "de 501 a 1000      248\n",
              "de 51 a 100        146\n",
              "de 11 a 50         112\n",
              "de 6 a 10           24\n",
              "de 1 a 5            18\n",
              "Name: count, dtype: int64"
            ],
            "text/html": [
              "<div>\n",
              "<style scoped>\n",
              "    .dataframe tbody tr th:only-of-type {\n",
              "        vertical-align: middle;\n",
              "    }\n",
              "\n",
              "    .dataframe tbody tr th {\n",
              "        vertical-align: top;\n",
              "    }\n",
              "\n",
              "    .dataframe thead th {\n",
              "        text-align: right;\n",
              "    }\n",
              "</style>\n",
              "<table border=\"1\" class=\"dataframe\">\n",
              "  <thead>\n",
              "    <tr style=\"text-align: right;\">\n",
              "      <th></th>\n",
              "      <th>count</th>\n",
              "    </tr>\n",
              "    <tr>\n",
              "      <th>NUMERO DE FUNCIONARIOS</th>\n",
              "      <th></th>\n",
              "    </tr>\n",
              "  </thead>\n",
              "  <tbody>\n",
              "    <tr>\n",
              "      <th>Acima de 3000</th>\n",
              "      <td>1313</td>\n",
              "    </tr>\n",
              "    <tr>\n",
              "      <th>de 101 a 500</th>\n",
              "      <td>503</td>\n",
              "    </tr>\n",
              "    <tr>\n",
              "      <th>de 1001 a 3000</th>\n",
              "      <td>368</td>\n",
              "    </tr>\n",
              "    <tr>\n",
              "      <th>de 501 a 1000</th>\n",
              "      <td>248</td>\n",
              "    </tr>\n",
              "    <tr>\n",
              "      <th>de 51 a 100</th>\n",
              "      <td>146</td>\n",
              "    </tr>\n",
              "    <tr>\n",
              "      <th>de 11 a 50</th>\n",
              "      <td>112</td>\n",
              "    </tr>\n",
              "    <tr>\n",
              "      <th>de 6 a 10</th>\n",
              "      <td>24</td>\n",
              "    </tr>\n",
              "    <tr>\n",
              "      <th>de 1 a 5</th>\n",
              "      <td>18</td>\n",
              "    </tr>\n",
              "  </tbody>\n",
              "</table>\n",
              "</div><br><label><b>dtype:</b> int64</label>"
            ]
          },
          "metadata": {},
          "execution_count": 19
        }
      ]
    },
    {
      "cell_type": "code",
      "source": [
        "dados ['TEMPO_EXPERIENCIA'].value_counts(dropna=False)"
      ],
      "metadata": {
        "colab": {
          "base_uri": "https://localhost:8080/",
          "height": 304
        },
        "id": "5sTuEGL_CZP6",
        "outputId": "332a6cbc-f5d1-4987-c325-f12ad14636e2"
      },
      "execution_count": null,
      "outputs": [
        {
          "output_type": "execute_result",
          "data": {
            "text/plain": [
              "TEMPO_EXPERIENCIA\n",
              "1      1096\n",
              "3       584\n",
              "4       416\n",
              "10      277\n",
              "7       232\n",
              "NaN     127\n",
              "Name: count, dtype: int64"
            ],
            "text/html": [
              "<div>\n",
              "<style scoped>\n",
              "    .dataframe tbody tr th:only-of-type {\n",
              "        vertical-align: middle;\n",
              "    }\n",
              "\n",
              "    .dataframe tbody tr th {\n",
              "        vertical-align: top;\n",
              "    }\n",
              "\n",
              "    .dataframe thead th {\n",
              "        text-align: right;\n",
              "    }\n",
              "</style>\n",
              "<table border=\"1\" class=\"dataframe\">\n",
              "  <thead>\n",
              "    <tr style=\"text-align: right;\">\n",
              "      <th></th>\n",
              "      <th>count</th>\n",
              "    </tr>\n",
              "    <tr>\n",
              "      <th>TEMPO_EXPERIENCIA</th>\n",
              "      <th></th>\n",
              "    </tr>\n",
              "  </thead>\n",
              "  <tbody>\n",
              "    <tr>\n",
              "      <th>1</th>\n",
              "      <td>1096</td>\n",
              "    </tr>\n",
              "    <tr>\n",
              "      <th>3</th>\n",
              "      <td>584</td>\n",
              "    </tr>\n",
              "    <tr>\n",
              "      <th>4</th>\n",
              "      <td>416</td>\n",
              "    </tr>\n",
              "    <tr>\n",
              "      <th>10</th>\n",
              "      <td>277</td>\n",
              "    </tr>\n",
              "    <tr>\n",
              "      <th>7</th>\n",
              "      <td>232</td>\n",
              "    </tr>\n",
              "    <tr>\n",
              "      <th>NaN</th>\n",
              "      <td>127</td>\n",
              "    </tr>\n",
              "  </tbody>\n",
              "</table>\n",
              "</div><br><label><b>dtype:</b> int64</label>"
            ]
          },
          "metadata": {},
          "execution_count": 20
        }
      ]
    },
    {
      "cell_type": "code",
      "source": [
        "dados ['TEMPO_EXPERIENCIA'] = dados ['TEMPO_EXPERIENCIA'].fillna(0)"
      ],
      "metadata": {
        "id": "bTAbZTSzCwXW"
      },
      "execution_count": null,
      "outputs": []
    },
    {
      "cell_type": "code",
      "source": [
        "dados.columns"
      ],
      "metadata": {
        "colab": {
          "base_uri": "https://localhost:8080/"
        },
        "id": "_fX31gbdDIUH",
        "outputId": "f9ff9470-7ee6-483d-af0d-861affb4e0d8"
      },
      "execution_count": null,
      "outputs": [
        {
          "output_type": "execute_result",
          "data": {
            "text/plain": [
              "Index(['ID', 'IDADE', 'FAIXA IDADE', 'GENERO', 'COR/RACA/ETNIA', 'PCD',\n",
              "       'EXPERIENCIA_PROFISSIONAL_PREJUDICADA', 'ASPECTOS_PREJUDICADOS',\n",
              "       'VIVE_NO_BRASIL', 'ESTADO ONDE MORA', 'UF ONDE MORA',\n",
              "       'REGIAO ONDE MORA', 'MUDOU DE ESTADO?', 'REGIAO DE ORIGEM',\n",
              "       'NIVEL DE ENSINO', 'ÁREA DE FORMAÇÃO',\n",
              "       'QUAL SUA SITUAÇÃO ATUAL DE TRABALHO?', 'SETOR',\n",
              "       'NUMERO DE FUNCIONARIOS', 'GESTOR?', 'CARGO COMO GESTOR', 'CARGO ATUAL',\n",
              "       'FAIXA SALARIAL',\n",
              "       'QUANTO TEMPO DE EXPERIÊNCIA NA ÁREA DE DADOS VOCÊ TEM?',\n",
              "       'QUANTO TEMPO DE EXPERIÊNCIA NA ÁREA DE TI/ENGENHARIA DE SOFTWARE VOCÊ TEVE ANTES DE COMEÇAR A TRABALHAR NA ÁREA DE DADOS?',\n",
              "       'SALARIO', 'NOVO_NIVEL', 'NIVEL_Júnior', 'NIVEL_Pleno', 'NIVEL_Sênior',\n",
              "       'GEARACAO', 'Quanto tempo de experiência na área de dados você tem?',\n",
              "       'Quanto tempo de experiência na área de TI/Engenharia de Software você teve antes de começar a trabalhar na área de dados?',\n",
              "       'Você está satisfeito na sua empresa atual?',\n",
              "       'Qual o principal motivo da sua insatisfação com a empresa atual?',\n",
              "       'Você participou de entrevistas de emprego nos últimos 6 meses?',\n",
              "       'Você pretende mudar de emprego nos próximos 6 meses?',\n",
              "       'Quais os principais critérios que você leva em consideração no momento de decidir onde trabalhar?',\n",
              "       'Atualmente qual a sua forma de trabalho?',\n",
              "       'Qual a forma de trabalho ideal para você?',\n",
              "       'Caso sua empresa decida pelo modelo 100% presencial qual será sua atitude?',\n",
              "       'Sua empresa passu por Layoff em 2022?', 'Atuacao',\n",
              "       'Quais das linguagens listadas abaixo você utiliza no trabalho?',\n",
              "       'EM_BUSCA', 'ABERTO_OPORTUNIDADES', 'NAO_BRANCA', 'TEMPO_EXPERIENCIA'],\n",
              "      dtype='object')"
            ]
          },
          "metadata": {},
          "execution_count": 22
        }
      ]
    },
    {
      "cell_type": "code",
      "source": [
        "dados ['Qual o principal motivo da sua insatisfação com a empresa atual?'].value_counts()"
      ],
      "metadata": {
        "colab": {
          "base_uri": "https://localhost:8080/",
          "height": 524
        },
        "id": "M6A8rMbeDWb9",
        "outputId": "3737a21b-17ef-41d2-ac40-cf0879493973"
      },
      "execution_count": null,
      "outputs": [
        {
          "output_type": "execute_result",
          "data": {
            "text/plain": [
              "Qual o principal motivo da sua insatisfação com a empresa atual?\n",
              "Gostaria de trabalhar em em outra área de atuação                                                                                                           69\n",
              "Salário atual não corresponde ao mercado                                                                                                                    53\n",
              "Falta de oportunidade de crescimento no emprego atual                                                                                                       46\n",
              "Falta de maturidade analítica na empresa                                                                                                                    45\n",
              "Falta de oportunidade de crescimento no emprego atual, Salário atual não corresponde ao mercado, Falta de maturidade analítica na empresa                   26\n",
              "                                                                                                                                                            ..\n",
              "Trabalho explora pouco minhas habilidades e me dá poucas oportunidades de atuação distintas                                                                  1\n",
              "Quero trabalhar de casa                                                                                                                                      1\n",
              "Não tenho uma boa relação com meu líder/gestor, Gostaria de trabalhar em em outra área de atuação                                                            1\n",
              "Salário atual não corresponde ao mercado, Gostaria de trabalhar em em outra área de atuação, Carga horária de trabalho                                       1\n",
              "Não tenho uma boa relação com meu líder/gestor, Falta de oportunidade de crescimento no emprego atual, Gostaria de trabalhar em em outra área de atuação     1\n",
              "Name: count, Length: 174, dtype: int64"
            ],
            "text/html": [
              "<div>\n",
              "<style scoped>\n",
              "    .dataframe tbody tr th:only-of-type {\n",
              "        vertical-align: middle;\n",
              "    }\n",
              "\n",
              "    .dataframe tbody tr th {\n",
              "        vertical-align: top;\n",
              "    }\n",
              "\n",
              "    .dataframe thead th {\n",
              "        text-align: right;\n",
              "    }\n",
              "</style>\n",
              "<table border=\"1\" class=\"dataframe\">\n",
              "  <thead>\n",
              "    <tr style=\"text-align: right;\">\n",
              "      <th></th>\n",
              "      <th>count</th>\n",
              "    </tr>\n",
              "    <tr>\n",
              "      <th>Qual o principal motivo da sua insatisfação com a empresa atual?</th>\n",
              "      <th></th>\n",
              "    </tr>\n",
              "  </thead>\n",
              "  <tbody>\n",
              "    <tr>\n",
              "      <th>Gostaria de trabalhar em em outra área de atuação</th>\n",
              "      <td>69</td>\n",
              "    </tr>\n",
              "    <tr>\n",
              "      <th>Salário atual não corresponde ao mercado</th>\n",
              "      <td>53</td>\n",
              "    </tr>\n",
              "    <tr>\n",
              "      <th>Falta de oportunidade de crescimento no emprego atual</th>\n",
              "      <td>46</td>\n",
              "    </tr>\n",
              "    <tr>\n",
              "      <th>Falta de maturidade analítica na empresa</th>\n",
              "      <td>45</td>\n",
              "    </tr>\n",
              "    <tr>\n",
              "      <th>Falta de oportunidade de crescimento no emprego atual, Salário atual não corresponde ao mercado, Falta de maturidade analítica na empresa</th>\n",
              "      <td>26</td>\n",
              "    </tr>\n",
              "    <tr>\n",
              "      <th>...</th>\n",
              "      <td>...</td>\n",
              "    </tr>\n",
              "    <tr>\n",
              "      <th>Trabalho explora pouco minhas habilidades e me dá poucas oportunidades de atuação distintas</th>\n",
              "      <td>1</td>\n",
              "    </tr>\n",
              "    <tr>\n",
              "      <th>Quero trabalhar de casa</th>\n",
              "      <td>1</td>\n",
              "    </tr>\n",
              "    <tr>\n",
              "      <th>Não tenho uma boa relação com meu líder/gestor, Gostaria de trabalhar em em outra área de atuação</th>\n",
              "      <td>1</td>\n",
              "    </tr>\n",
              "    <tr>\n",
              "      <th>Salário atual não corresponde ao mercado, Gostaria de trabalhar em em outra área de atuação, Carga horária de trabalho</th>\n",
              "      <td>1</td>\n",
              "    </tr>\n",
              "    <tr>\n",
              "      <th>Não tenho uma boa relação com meu líder/gestor, Falta de oportunidade de crescimento no emprego atual, Gostaria de trabalhar em em outra área de atuação</th>\n",
              "      <td>1</td>\n",
              "    </tr>\n",
              "  </tbody>\n",
              "</table>\n",
              "<p>174 rows × 1 columns</p>\n",
              "</div><br><label><b>dtype:</b> int64</label>"
            ]
          },
          "metadata": {},
          "execution_count": 23
        }
      ]
    },
    {
      "cell_type": "code",
      "source": [
        "dados['INSATISFACAO'] = 0"
      ],
      "metadata": {
        "id": "W18N7-THDnDP"
      },
      "execution_count": null,
      "outputs": []
    },
    {
      "cell_type": "code",
      "source": [
        "dados.loc[dados['Qual o principal motivo da sua insatisfação com a empresa atual?'].notnull(),'Qual o principal motivo da sua insatisfação com a empresa atual?'].apply(lambda x: 1 if 'Salário'in x else 0)"
      ],
      "metadata": {
        "colab": {
          "base_uri": "https://localhost:8080/",
          "height": 458
        },
        "id": "i-id_XCLDz1y",
        "outputId": "af68488c-a7a6-49a5-d462-8399df33fb4f"
      },
      "execution_count": null,
      "outputs": [
        {
          "output_type": "execute_result",
          "data": {
            "text/plain": [
              "1       0\n",
              "2       0\n",
              "7       1\n",
              "10      0\n",
              "26      1\n",
              "       ..\n",
              "4227    0\n",
              "4234    1\n",
              "4238    0\n",
              "4240    1\n",
              "4270    1\n",
              "Name: Qual o principal motivo da sua insatisfação com a empresa atual?, Length: 661, dtype: int64"
            ],
            "text/html": [
              "<div>\n",
              "<style scoped>\n",
              "    .dataframe tbody tr th:only-of-type {\n",
              "        vertical-align: middle;\n",
              "    }\n",
              "\n",
              "    .dataframe tbody tr th {\n",
              "        vertical-align: top;\n",
              "    }\n",
              "\n",
              "    .dataframe thead th {\n",
              "        text-align: right;\n",
              "    }\n",
              "</style>\n",
              "<table border=\"1\" class=\"dataframe\">\n",
              "  <thead>\n",
              "    <tr style=\"text-align: right;\">\n",
              "      <th></th>\n",
              "      <th>Qual o principal motivo da sua insatisfação com a empresa atual?</th>\n",
              "    </tr>\n",
              "  </thead>\n",
              "  <tbody>\n",
              "    <tr>\n",
              "      <th>1</th>\n",
              "      <td>0</td>\n",
              "    </tr>\n",
              "    <tr>\n",
              "      <th>2</th>\n",
              "      <td>0</td>\n",
              "    </tr>\n",
              "    <tr>\n",
              "      <th>7</th>\n",
              "      <td>1</td>\n",
              "    </tr>\n",
              "    <tr>\n",
              "      <th>10</th>\n",
              "      <td>0</td>\n",
              "    </tr>\n",
              "    <tr>\n",
              "      <th>26</th>\n",
              "      <td>1</td>\n",
              "    </tr>\n",
              "    <tr>\n",
              "      <th>...</th>\n",
              "      <td>...</td>\n",
              "    </tr>\n",
              "    <tr>\n",
              "      <th>4227</th>\n",
              "      <td>0</td>\n",
              "    </tr>\n",
              "    <tr>\n",
              "      <th>4234</th>\n",
              "      <td>1</td>\n",
              "    </tr>\n",
              "    <tr>\n",
              "      <th>4238</th>\n",
              "      <td>0</td>\n",
              "    </tr>\n",
              "    <tr>\n",
              "      <th>4240</th>\n",
              "      <td>1</td>\n",
              "    </tr>\n",
              "    <tr>\n",
              "      <th>4270</th>\n",
              "      <td>1</td>\n",
              "    </tr>\n",
              "  </tbody>\n",
              "</table>\n",
              "<p>661 rows × 1 columns</p>\n",
              "</div><br><label><b>dtype:</b> int64</label>"
            ]
          },
          "metadata": {},
          "execution_count": 25
        }
      ]
    },
    {
      "cell_type": "code",
      "source": [
        "dados.loc[dados['Qual o principal motivo da sua insatisfação com a empresa atual?'].notnull(),'INSATISFACAO'] = dados.loc[dados['Qual o principal motivo da sua insatisfação com a empresa atual?'].notnull(),'Qual o principal motivo da sua insatisfação com a empresa atual?'].apply(lambda x: 1 if 'Salário'in x else 0)"
      ],
      "metadata": {
        "id": "4UvpJ0WdGvIt"
      },
      "execution_count": null,
      "outputs": []
    },
    {
      "cell_type": "code",
      "source": [
        "dados['INSATISFACAO'].value_counts()"
      ],
      "metadata": {
        "colab": {
          "base_uri": "https://localhost:8080/",
          "height": 178
        },
        "id": "aLlP4sRyHgmV",
        "outputId": "02ba3252-9e6c-4dc5-b08c-f142989b75e5"
      },
      "execution_count": null,
      "outputs": [
        {
          "output_type": "execute_result",
          "data": {
            "text/plain": [
              "INSATISFACAO\n",
              "0    2453\n",
              "1     279\n",
              "Name: count, dtype: int64"
            ],
            "text/html": [
              "<div>\n",
              "<style scoped>\n",
              "    .dataframe tbody tr th:only-of-type {\n",
              "        vertical-align: middle;\n",
              "    }\n",
              "\n",
              "    .dataframe tbody tr th {\n",
              "        vertical-align: top;\n",
              "    }\n",
              "\n",
              "    .dataframe thead th {\n",
              "        text-align: right;\n",
              "    }\n",
              "</style>\n",
              "<table border=\"1\" class=\"dataframe\">\n",
              "  <thead>\n",
              "    <tr style=\"text-align: right;\">\n",
              "      <th></th>\n",
              "      <th>count</th>\n",
              "    </tr>\n",
              "    <tr>\n",
              "      <th>INSATISFACAO</th>\n",
              "      <th></th>\n",
              "    </tr>\n",
              "  </thead>\n",
              "  <tbody>\n",
              "    <tr>\n",
              "      <th>0</th>\n",
              "      <td>2453</td>\n",
              "    </tr>\n",
              "    <tr>\n",
              "      <th>1</th>\n",
              "      <td>279</td>\n",
              "    </tr>\n",
              "  </tbody>\n",
              "</table>\n",
              "</div><br><label><b>dtype:</b> int64</label>"
            ]
          },
          "metadata": {},
          "execution_count": 27
        }
      ]
    },
    {
      "cell_type": "code",
      "source": [
        "dados['NIVEL DE ENSINO'].value_counts()"
      ],
      "metadata": {
        "colab": {
          "base_uri": "https://localhost:8080/",
          "height": 335
        },
        "id": "U7wm69FaHpyz",
        "outputId": "0efd9091-55de-4b14-abc0-a3a3f90ce03e"
      },
      "execution_count": null,
      "outputs": [
        {
          "output_type": "execute_result",
          "data": {
            "text/plain": [
              "NIVEL DE ENSINO\n",
              "Graduação/Bacharelado         1024\n",
              "Pós-graduação                  975\n",
              "Mestrado                       306\n",
              "Estudante de Graduação         271\n",
              "Doutorado ou Phd               100\n",
              "Não tenho graduação formal      52\n",
              "Prefiro não informar             4\n",
              "Name: count, dtype: int64"
            ],
            "text/html": [
              "<div>\n",
              "<style scoped>\n",
              "    .dataframe tbody tr th:only-of-type {\n",
              "        vertical-align: middle;\n",
              "    }\n",
              "\n",
              "    .dataframe tbody tr th {\n",
              "        vertical-align: top;\n",
              "    }\n",
              "\n",
              "    .dataframe thead th {\n",
              "        text-align: right;\n",
              "    }\n",
              "</style>\n",
              "<table border=\"1\" class=\"dataframe\">\n",
              "  <thead>\n",
              "    <tr style=\"text-align: right;\">\n",
              "      <th></th>\n",
              "      <th>count</th>\n",
              "    </tr>\n",
              "    <tr>\n",
              "      <th>NIVEL DE ENSINO</th>\n",
              "      <th></th>\n",
              "    </tr>\n",
              "  </thead>\n",
              "  <tbody>\n",
              "    <tr>\n",
              "      <th>Graduação/Bacharelado</th>\n",
              "      <td>1024</td>\n",
              "    </tr>\n",
              "    <tr>\n",
              "      <th>Pós-graduação</th>\n",
              "      <td>975</td>\n",
              "    </tr>\n",
              "    <tr>\n",
              "      <th>Mestrado</th>\n",
              "      <td>306</td>\n",
              "    </tr>\n",
              "    <tr>\n",
              "      <th>Estudante de Graduação</th>\n",
              "      <td>271</td>\n",
              "    </tr>\n",
              "    <tr>\n",
              "      <th>Doutorado ou Phd</th>\n",
              "      <td>100</td>\n",
              "    </tr>\n",
              "    <tr>\n",
              "      <th>Não tenho graduação formal</th>\n",
              "      <td>52</td>\n",
              "    </tr>\n",
              "    <tr>\n",
              "      <th>Prefiro não informar</th>\n",
              "      <td>4</td>\n",
              "    </tr>\n",
              "  </tbody>\n",
              "</table>\n",
              "</div><br><label><b>dtype:</b> int64</label>"
            ]
          },
          "metadata": {},
          "execution_count": 28
        }
      ]
    },
    {
      "cell_type": "code",
      "source": [
        "dados['NIVEL DE ENSINO'] = dados['NIVEL DE ENSINO'].apply(lambda x: 0 if x== 'Não tenho graduação formal' else\n",
        "                               1 if x=='Estudante de Graduação' else\n",
        "                               2 if x=='Graduação/Bacharelado'else\n",
        "                               3 if x=='Pós-graduação' else\n",
        "                               4 if x=='Mestrado' else\n",
        "                               5 if x=='Doutorado ou Phd' else -1)"
      ],
      "metadata": {
        "id": "HCLdnH10H1mg"
      },
      "execution_count": null,
      "outputs": []
    },
    {
      "cell_type": "code",
      "source": [
        "dados = dados[['IDADE', 'GENERO', 'NAO_BRANCA', 'TEMPO_EXPERIENCIA', 'INSATISFACAO', 'SETOR', 'REGIAO ONDE MORA',\n",
        "'NIVEL DE ENSINO', 'NUMERO DE FUNCIONARIOS', 'SALARIO', 'NOVO_NIVEL']]"
      ],
      "metadata": {
        "id": "2V9CJjVlbgFw"
      },
      "execution_count": null,
      "outputs": []
    },
    {
      "cell_type": "code",
      "source": [
        "dados.columns"
      ],
      "metadata": {
        "colab": {
          "base_uri": "https://localhost:8080/"
        },
        "id": "t0e18CPDcC0x",
        "outputId": "76416235-3130-4da7-cea8-e5cae96d2d21"
      },
      "execution_count": null,
      "outputs": [
        {
          "output_type": "execute_result",
          "data": {
            "text/plain": [
              "Index(['IDADE', 'NAO_BRANCA', 'TEMPO_EXPERIENCIA', 'INSATISFACAO',\n",
              "       'NIVEL DE ENSINO', 'NUMERO DE FUNCIONARIOS', 'SALARIO',\n",
              "       'GENERO_Masculino', 'GENERO_Prefiro não informar', 'SETOR_Educação',\n",
              "       'SETOR_Entretenimento ou Esportes', 'SETOR_Filantropia/ONG's',\n",
              "       'SETOR_Finanças ou Bancos', 'SETOR_Indústria',\n",
              "       'SETOR_Internet/Ecommerce', 'SETOR_Marketing', 'SETOR_Outra Opção',\n",
              "       'SETOR_Seguros ou Previdência', 'SETOR_Setor Alimentício',\n",
              "       'SETOR_Setor Automotivo', 'SETOR_Setor Farmaceutico',\n",
              "       'SETOR_Setor Imobiliário/ Construção Civil', 'SETOR_Setor Público',\n",
              "       'SETOR_Setor de Energia', 'SETOR_Tecnologia/Fábrica de Software',\n",
              "       'SETOR_Telecomunicação', 'SETOR_Varejo', 'SETOR_Área da Saúde',\n",
              "       'SETOR_Área de Consultoria', 'NOVO_NIVEL_Pessoa Gestora',\n",
              "       'NOVO_NIVEL_Pleno', 'NOVO_NIVEL_Sênior', 'REGIAO ONDE MORA_Nordeste',\n",
              "       'REGIAO ONDE MORA_Norte', 'REGIAO ONDE MORA_Sudeste',\n",
              "       'REGIAO ONDE MORA_Sul'],\n",
              "      dtype='object')"
            ]
          },
          "metadata": {},
          "execution_count": 42
        }
      ]
    },
    {
      "cell_type": "code",
      "source": [
        "dados = pd.get_dummies(dados, columns=['GENERO', 'SETOR', 'NOVO_NIVEL', 'REGIAO ONDE MORA'],drop_first=True)"
      ],
      "metadata": {
        "id": "k4By578XfOTs"
      },
      "execution_count": null,
      "outputs": []
    },
    {
      "cell_type": "code",
      "source": [
        "X = dados.drop('SALARIO', axis=1)\n",
        "y = dados['SALARIO']"
      ],
      "metadata": {
        "id": "yLGw12uWiHJO"
      },
      "execution_count": null,
      "outputs": []
    },
    {
      "cell_type": "code",
      "source": [
        "from sklearn.model_selection import train_test_split"
      ],
      "metadata": {
        "id": "bacSLzXMibXf"
      },
      "execution_count": null,
      "outputs": []
    },
    {
      "cell_type": "code",
      "source": [
        "X_train, X_test, y_train, y_test = train_test_split(X, y, test_size=0.2, random_state=42)"
      ],
      "metadata": {
        "id": "-02a7sq4ii5V"
      },
      "execution_count": null,
      "outputs": []
    },
    {
      "cell_type": "code",
      "source": [
        "from sklearn.preprocessing import StandardScaler"
      ],
      "metadata": {
        "id": "AD-BZCkWnOYW"
      },
      "execution_count": null,
      "outputs": []
    },
    {
      "cell_type": "code",
      "source": [
        "scaler = StandardScaler()\n",
        "\n",
        "X_train_scaled =scaler.fit_transform(X_train)\n",
        "X_test_scaled = scaler.fit_transform(X_test)"
      ],
      "metadata": {
        "id": "mMLMiEEJnfgT"
      },
      "execution_count": null,
      "outputs": []
    },
    {
      "cell_type": "markdown",
      "source": [],
      "metadata": {
        "id": "OqxKXyab5RBW"
      }
    },
    {
      "cell_type": "code",
      "source": [
        "label_encoder = LabelEncoder()"
      ],
      "metadata": {
        "id": "fMI3fRfE2z5Z"
      },
      "execution_count": null,
      "outputs": []
    },
    {
      "cell_type": "code",
      "source": [
        "from sklearn.preprocessing import LabelEncoder\n"
      ],
      "metadata": {
        "id": "HXTVvDGe2SQ1"
      },
      "execution_count": null,
      "outputs": []
    },
    {
      "cell_type": "code",
      "source": [
        "label_encoder = LabelEncoder()\n",
        "X_train['NUMERO DE FUNCIONARIOS'] = label_encoder.fit_transform(X_train['NUMERO DE FUNCIONARIOS'])\n",
        "X_test['NUMERO DE FUNCIONARIOS'] = label_encoder.transform(X_test['NUMERO DE FUNCIONARIOS'])\n"
      ],
      "metadata": {
        "id": "NAQj0RHQ2ZVJ"
      },
      "execution_count": null,
      "outputs": []
    },
    {
      "cell_type": "code",
      "source": [
        "from sklearn.linear_model import LinearRegression"
      ],
      "metadata": {
        "id": "fL1lN07L23-A"
      },
      "execution_count": null,
      "outputs": []
    },
    {
      "cell_type": "code",
      "source": [
        "model = LinearRegression()"
      ],
      "metadata": {
        "id": "_pGvJ7Mm3PeO"
      },
      "execution_count": null,
      "outputs": []
    },
    {
      "cell_type": "code",
      "source": [
        "model.fit(X_train_scaled, y_train)"
      ],
      "metadata": {
        "id": "0sptva5x3Uk4",
        "colab": {
          "base_uri": "https://localhost:8080/",
          "height": 75
        },
        "outputId": "7f4b467e-c480-49c2-dc5b-8a980c27f26d"
      },
      "execution_count": null,
      "outputs": [
        {
          "output_type": "execute_result",
          "data": {
            "text/plain": [
              "LinearRegression()"
            ],
            "text/html": [
              "<style>#sk-container-id-3 {color: black;}#sk-container-id-3 pre{padding: 0;}#sk-container-id-3 div.sk-toggleable {background-color: white;}#sk-container-id-3 label.sk-toggleable__label {cursor: pointer;display: block;width: 100%;margin-bottom: 0;padding: 0.3em;box-sizing: border-box;text-align: center;}#sk-container-id-3 label.sk-toggleable__label-arrow:before {content: \"▸\";float: left;margin-right: 0.25em;color: #696969;}#sk-container-id-3 label.sk-toggleable__label-arrow:hover:before {color: black;}#sk-container-id-3 div.sk-estimator:hover label.sk-toggleable__label-arrow:before {color: black;}#sk-container-id-3 div.sk-toggleable__content {max-height: 0;max-width: 0;overflow: hidden;text-align: left;background-color: #f0f8ff;}#sk-container-id-3 div.sk-toggleable__content pre {margin: 0.2em;color: black;border-radius: 0.25em;background-color: #f0f8ff;}#sk-container-id-3 input.sk-toggleable__control:checked~div.sk-toggleable__content {max-height: 200px;max-width: 100%;overflow: auto;}#sk-container-id-3 input.sk-toggleable__control:checked~label.sk-toggleable__label-arrow:before {content: \"▾\";}#sk-container-id-3 div.sk-estimator input.sk-toggleable__control:checked~label.sk-toggleable__label {background-color: #d4ebff;}#sk-container-id-3 div.sk-label input.sk-toggleable__control:checked~label.sk-toggleable__label {background-color: #d4ebff;}#sk-container-id-3 input.sk-hidden--visually {border: 0;clip: rect(1px 1px 1px 1px);clip: rect(1px, 1px, 1px, 1px);height: 1px;margin: -1px;overflow: hidden;padding: 0;position: absolute;width: 1px;}#sk-container-id-3 div.sk-estimator {font-family: monospace;background-color: #f0f8ff;border: 1px dotted black;border-radius: 0.25em;box-sizing: border-box;margin-bottom: 0.5em;}#sk-container-id-3 div.sk-estimator:hover {background-color: #d4ebff;}#sk-container-id-3 div.sk-parallel-item::after {content: \"\";width: 100%;border-bottom: 1px solid gray;flex-grow: 1;}#sk-container-id-3 div.sk-label:hover label.sk-toggleable__label {background-color: #d4ebff;}#sk-container-id-3 div.sk-serial::before {content: \"\";position: absolute;border-left: 1px solid gray;box-sizing: border-box;top: 0;bottom: 0;left: 50%;z-index: 0;}#sk-container-id-3 div.sk-serial {display: flex;flex-direction: column;align-items: center;background-color: white;padding-right: 0.2em;padding-left: 0.2em;position: relative;}#sk-container-id-3 div.sk-item {position: relative;z-index: 1;}#sk-container-id-3 div.sk-parallel {display: flex;align-items: stretch;justify-content: center;background-color: white;position: relative;}#sk-container-id-3 div.sk-item::before, #sk-container-id-3 div.sk-parallel-item::before {content: \"\";position: absolute;border-left: 1px solid gray;box-sizing: border-box;top: 0;bottom: 0;left: 50%;z-index: -1;}#sk-container-id-3 div.sk-parallel-item {display: flex;flex-direction: column;z-index: 1;position: relative;background-color: white;}#sk-container-id-3 div.sk-parallel-item:first-child::after {align-self: flex-end;width: 50%;}#sk-container-id-3 div.sk-parallel-item:last-child::after {align-self: flex-start;width: 50%;}#sk-container-id-3 div.sk-parallel-item:only-child::after {width: 0;}#sk-container-id-3 div.sk-dashed-wrapped {border: 1px dashed gray;margin: 0 0.4em 0.5em 0.4em;box-sizing: border-box;padding-bottom: 0.4em;background-color: white;}#sk-container-id-3 div.sk-label label {font-family: monospace;font-weight: bold;display: inline-block;line-height: 1.2em;}#sk-container-id-3 div.sk-label-container {text-align: center;}#sk-container-id-3 div.sk-container {/* jupyter's `normalize.less` sets `[hidden] { display: none; }` but bootstrap.min.css set `[hidden] { display: none !important; }` so we also need the `!important` here to be able to override the default hidden behavior on the sphinx rendered scikit-learn.org. See: https://github.com/scikit-learn/scikit-learn/issues/21755 */display: inline-block !important;position: relative;}#sk-container-id-3 div.sk-text-repr-fallback {display: none;}</style><div id=\"sk-container-id-3\" class=\"sk-top-container\"><div class=\"sk-text-repr-fallback\"><pre>LinearRegression()</pre><b>In a Jupyter environment, please rerun this cell to show the HTML representation or trust the notebook. <br />On GitHub, the HTML representation is unable to render, please try loading this page with nbviewer.org.</b></div><div class=\"sk-container\" hidden><div class=\"sk-item\"><div class=\"sk-estimator sk-toggleable\"><input class=\"sk-toggleable__control sk-hidden--visually\" id=\"sk-estimator-id-3\" type=\"checkbox\" checked><label for=\"sk-estimator-id-3\" class=\"sk-toggleable__label sk-toggleable__label-arrow\">LinearRegression</label><div class=\"sk-toggleable__content\"><pre>LinearRegression()</pre></div></div></div></div></div>"
            ]
          },
          "metadata": {},
          "execution_count": 60
        }
      ]
    },
    {
      "cell_type": "code",
      "source": [
        "y_pred = model.predict(X_test_scaled)"
      ],
      "metadata": {
        "id": "lHECaAeC6TBx"
      },
      "execution_count": null,
      "outputs": []
    },
    {
      "cell_type": "code",
      "source": [
        "from sklearn.metrics import mean_squared_error, r2_score,mean_absolute_error"
      ],
      "metadata": {
        "id": "18DRLBnJ6m71"
      },
      "execution_count": null,
      "outputs": []
    },
    {
      "cell_type": "code",
      "source": [
        "mse = mean_squared_error(y_test, y_pred)\n"
      ],
      "metadata": {
        "id": "QLwKshIc66L0"
      },
      "execution_count": null,
      "outputs": []
    },
    {
      "cell_type": "code",
      "source": [
        "mse"
      ],
      "metadata": {
        "colab": {
          "base_uri": "https://localhost:8080/"
        },
        "id": "rn10fuMO7DWl",
        "outputId": "7baafa03-e1e4-4690-e506-c9f1601e9e44"
      },
      "execution_count": null,
      "outputs": [
        {
          "output_type": "execute_result",
          "data": {
            "text/plain": [
              "22965208.299086493"
            ]
          },
          "metadata": {},
          "execution_count": 66
        }
      ]
    },
    {
      "cell_type": "code",
      "source": [
        "mae = mean_absolute_error(y_test, y_pred)"
      ],
      "metadata": {
        "id": "QuzDDqf_7NA-"
      },
      "execution_count": null,
      "outputs": []
    },
    {
      "cell_type": "code",
      "source": [
        "mae"
      ],
      "metadata": {
        "colab": {
          "base_uri": "https://localhost:8080/"
        },
        "id": "-c2yNVYJ7ftK",
        "outputId": "ec53fa1d-0557-4460-c059-e12ddf6c9bcd"
      },
      "execution_count": null,
      "outputs": [
        {
          "output_type": "execute_result",
          "data": {
            "text/plain": [
              "3284.0972671311247"
            ]
          },
          "metadata": {},
          "execution_count": 69
        }
      ]
    },
    {
      "cell_type": "code",
      "source": [
        "r2 = r2_score(y_test, y_pred)"
      ],
      "metadata": {
        "id": "mN47klSM7iOr"
      },
      "execution_count": null,
      "outputs": []
    },
    {
      "cell_type": "code",
      "source": [
        "r2"
      ],
      "metadata": {
        "colab": {
          "base_uri": "https://localhost:8080/"
        },
        "id": "tApkIJEg7ml7",
        "outputId": "3a286fe3-7aa3-4524-f61e-5b510952b086"
      },
      "execution_count": null,
      "outputs": [
        {
          "output_type": "execute_result",
          "data": {
            "text/plain": [
              "0.5314389686873168"
            ]
          },
          "metadata": {},
          "execution_count": 71
        }
      ]
    },
    {
      "cell_type": "code",
      "source": [
        "import matplotlib.pyplot as plt"
      ],
      "metadata": {
        "id": "PAphULG07w4m"
      },
      "execution_count": null,
      "outputs": []
    },
    {
      "cell_type": "code",
      "source": [
        "plt.figure(figsize=(10, 6))\n",
        "plt.scatter(y_test, y_pred,alpha=0.5)\n",
        "plt.xlabel('Valor real')\n",
        "plt.ylabel('Valor predito')\n",
        "plt.title('Dispersão dos dados')\n",
        "plt.plot([min(y_test),max(y_test)], [min(y_test),max(y_test)], color='red', linewidth=2)\n",
        "plt.show"
      ],
      "metadata": {
        "colab": {
          "base_uri": "https://localhost:8080/",
          "height": 734
        },
        "id": "zwEMl890_7cX",
        "outputId": "3e096f96-231e-4069-864f-93ec65374931"
      },
      "execution_count": null,
      "outputs": [
        {
          "output_type": "execute_result",
          "data": {
            "text/plain": [
              "<function matplotlib.pyplot.show(close=None, block=None)>"
            ],
            "text/html": [
              "<div style=\"max-width:800px; border: 1px solid var(--colab-border-color);\"><style>\n",
              "      pre.function-repr-contents {\n",
              "        overflow-x: auto;\n",
              "        padding: 8px 12px;\n",
              "        max-height: 500px;\n",
              "      }\n",
              "\n",
              "      pre.function-repr-contents.function-repr-contents-collapsed {\n",
              "        cursor: pointer;\n",
              "        max-height: 100px;\n",
              "      }\n",
              "    </style>\n",
              "    <pre style=\"white-space: initial; background:\n",
              "         var(--colab-secondary-surface-color); padding: 8px 12px;\n",
              "         border-bottom: 1px solid var(--colab-border-color);\"><b>matplotlib.pyplot.show</b><br/>def show(*args, **kwargs)</pre><pre class=\"function-repr-contents function-repr-contents-collapsed\" style=\"\"><a class=\"filepath\" style=\"display:none\" href=\"#\">/usr/local/lib/python3.10/dist-packages/matplotlib/pyplot.py</a>Display all open figures.\n",
              "\n",
              "Parameters\n",
              "----------\n",
              "block : bool, optional\n",
              "    Whether to wait for all figures to be closed before returning.\n",
              "\n",
              "    If `True` block and run the GUI main loop until all figure windows\n",
              "    are closed.\n",
              "\n",
              "    If `False` ensure that all figure windows are displayed and return\n",
              "    immediately.  In this case, you are responsible for ensuring\n",
              "    that the event loop is running to have responsive figures.\n",
              "\n",
              "    Defaults to True in non-interactive mode and to False in interactive\n",
              "    mode (see `.pyplot.isinteractive`).\n",
              "\n",
              "See Also\n",
              "--------\n",
              "ion : Enable interactive mode, which shows / updates the figure after\n",
              "      every plotting command, so that calling ``show()`` is not necessary.\n",
              "ioff : Disable interactive mode.\n",
              "savefig : Save the figure to an image file instead of showing it on screen.\n",
              "\n",
              "Notes\n",
              "-----\n",
              "**Saving figures to file and showing a window at the same time**\n",
              "\n",
              "If you want an image file as well as a user interface window, use\n",
              "`.pyplot.savefig` before `.pyplot.show`. At the end of (a blocking)\n",
              "``show()`` the figure is closed and thus unregistered from pyplot. Calling\n",
              "`.pyplot.savefig` afterwards would save a new and thus empty figure. This\n",
              "limitation of command order does not apply if the show is non-blocking or\n",
              "if you keep a reference to the figure and use `.Figure.savefig`.\n",
              "\n",
              "**Auto-show in jupyter notebooks**\n",
              "\n",
              "The jupyter backends (activated via ``%matplotlib inline``,\n",
              "``%matplotlib notebook``, or ``%matplotlib widget``), call ``show()`` at\n",
              "the end of every cell by default. Thus, you usually don&#x27;t have to call it\n",
              "explicitly there.</pre>\n",
              "      <script>\n",
              "      if (google.colab.kernel.accessAllowed && google.colab.files && google.colab.files.view) {\n",
              "        for (const element of document.querySelectorAll('.filepath')) {\n",
              "          element.style.display = 'block'\n",
              "          element.onclick = (event) => {\n",
              "            event.preventDefault();\n",
              "            event.stopPropagation();\n",
              "            google.colab.files.view(element.textContent, 401);\n",
              "          };\n",
              "        }\n",
              "      }\n",
              "      for (const element of document.querySelectorAll('.function-repr-contents')) {\n",
              "        element.onclick = (event) => {\n",
              "          event.preventDefault();\n",
              "          event.stopPropagation();\n",
              "          element.classList.toggle('function-repr-contents-collapsed');\n",
              "        };\n",
              "      }\n",
              "      </script>\n",
              "      </div>"
            ]
          },
          "metadata": {},
          "execution_count": 74
        },
        {
          "output_type": "display_data",
          "data": {
            "text/plain": [
              "<Figure size 1000x600 with 1 Axes>"
            ],
            "image/png": "[encoded data removed]"
          },
          "metadata": {}
        }
      ]
    },
    {
      "cell_type": "code",
      "source": [
        "nomes_atributos = X_train.columns"
      ],
      "metadata": {
        "id": "jU8YZAIoCQEJ"
      },
      "execution_count": null,
      "outputs": []
    },
    {
      "cell_type": "code",
      "source": [
        "nomes_atributos"
      ],
      "metadata": {
        "colab": {
          "base_uri": "https://localhost:8080/"
        },
        "id": "fAYgmGWTCf2d",
        "outputId": "37a39fcd-9b62-49d4-8890-ac19bbbbf5ea"
      },
      "execution_count": null,
      "outputs": [
        {
          "output_type": "execute_result",
          "data": {
            "text/plain": [
              "Index(['IDADE', 'NAO_BRANCA', 'TEMPO_EXPERIENCIA', 'INSATISFACAO',\n",
              "       'NIVEL DE ENSINO', 'NUMERO DE FUNCIONARIOS', 'GENERO_Masculino',\n",
              "       'GENERO_Prefiro não informar', 'SETOR_Educação',\n",
              "       'SETOR_Entretenimento ou Esportes', 'SETOR_Filantropia/ONG's',\n",
              "       'SETOR_Finanças ou Bancos', 'SETOR_Indústria',\n",
              "       'SETOR_Internet/Ecommerce', 'SETOR_Marketing', 'SETOR_Outra Opção',\n",
              "       'SETOR_Seguros ou Previdência', 'SETOR_Setor Alimentício',\n",
              "       'SETOR_Setor Automotivo', 'SETOR_Setor Farmaceutico',\n",
              "       'SETOR_Setor Imobiliário/ Construção Civil', 'SETOR_Setor Público',\n",
              "       'SETOR_Setor de Energia', 'SETOR_Tecnologia/Fábrica de Software',\n",
              "       'SETOR_Telecomunicação', 'SETOR_Varejo', 'SETOR_Área da Saúde',\n",
              "       'SETOR_Área de Consultoria', 'NOVO_NIVEL_Pessoa Gestora',\n",
              "       'NOVO_NIVEL_Pleno', 'NOVO_NIVEL_Sênior', 'REGIAO ONDE MORA_Nordeste',\n",
              "       'REGIAO ONDE MORA_Norte', 'REGIAO ONDE MORA_Sudeste',\n",
              "       'REGIAO ONDE MORA_Sul'],\n",
              "      dtype='object')"
            ]
          },
          "metadata": {},
          "execution_count": 76
        }
      ]
    },
    {
      "cell_type": "code",
      "source": [
        "coefs = pd.DataFrame(model.coef_, columns=['Coeficientes'], index=nomes_atributos)"
      ],
      "metadata": {
        "id": "4k3dOFhjCiy_"
      },
      "execution_count": null,
      "outputs": []
    },
    {
      "cell_type": "code",
      "source": [
        "coefs.sort_values(by='Coeficientes', ascending=False)"
      ],
      "metadata": {
        "colab": {
          "base_uri": "https://localhost:8080/",
          "height": 1000
        },
        "id": "1EtBPesPC1zH",
        "outputId": "8838c1b7-9c8e-4377-d2b7-f7a581f35d41"
      },
      "execution_count": null,
      "outputs": [
        {
          "output_type": "execute_result",
          "data": {
            "text/plain": [
              "                                           Coeficientes\n",
              "NOVO_NIVEL_Pessoa Gestora                   3949.941251\n",
              "NOVO_NIVEL_Sênior                           2020.505453\n",
              "TEMPO_EXPERIENCIA                           2004.706098\n",
              "NOVO_NIVEL_Pleno                             901.226556\n",
              "NIVEL DE ENSINO                              844.684333\n",
              "SETOR_Finanças ou Bancos                     699.545761\n",
              "SETOR_Internet/Ecommerce                     668.681442\n",
              "SETOR_Tecnologia/Fábrica de Software         591.180085\n",
              "GENERO_Masculino                             559.582224\n",
              "SETOR_Área de Consultoria                    352.482835\n",
              "SETOR_Setor Imobiliário/ Construção Civil    305.065381\n",
              "SETOR_Entretenimento ou Esportes             212.064769\n",
              "SETOR_Seguros ou Previdência                 110.046846\n",
              "SETOR_Varejo                                 104.769536\n",
              "SETOR_Setor de Energia                        91.203737\n",
              "GENERO_Prefiro não informar                   83.731576\n",
              "SETOR_Setor Alimentício                       36.267717\n",
              "SETOR_Outra Opção                             35.692357\n",
              "SETOR_Marketing                               22.279302\n",
              "SETOR_Área da Saúde                           19.256558\n",
              "SETOR_Setor Farmaceutico                     -32.484125\n",
              "SETOR_Setor Público                         -100.844945\n",
              "IDADE                                       -123.173312\n",
              "SETOR_Telecomunicação                       -138.470490\n",
              "SETOR_Indústria                             -151.991242\n",
              "SETOR_Filantropia/ONG's                     -160.908704\n",
              "SETOR_Educação                              -177.611788\n",
              "REGIAO ONDE MORA_Sudeste                    -242.975676\n",
              "SETOR_Setor Automotivo                      -258.788622\n",
              "REGIAO ONDE MORA_Norte                      -262.216459\n",
              "NAO_BRANCA                                  -437.854555\n",
              "REGIAO ONDE MORA_Nordeste                   -467.706417\n",
              "INSATISFACAO                                -537.093216\n",
              "REGIAO ONDE MORA_Sul                        -617.184405\n",
              "NUMERO DE FUNCIONARIOS                      -729.680031"
            ],
            "text/html": [
              "\n",
              "  <div id=\"df-0fd987c1-bae2-45e3-bc4c-1eab489cc5ec\" class=\"colab-df-container\">\n",
              "    <div>\n",
              "<style scoped>\n",
              "    .dataframe tbody tr th:only-of-type {\n",
              "        vertical-align: middle;\n",
              "    }\n",
              "\n",
              "    .dataframe tbody tr th {\n",
              "        vertical-align: top;\n",
              "    }\n",
              "\n",
              "    .dataframe thead th {\n",
              "        text-align: right;\n",
              "    }\n",
              "</style>\n",
              "<table border=\"1\" class=\"dataframe\">\n",
              "  <thead>\n",
              "    <tr style=\"text-align: right;\">\n",
              "      <th></th>\n",
              "      <th>Coeficientes</th>\n",
              "    </tr>\n",
              "  </thead>\n",
              "  <tbody>\n",
              "    <tr>\n",
              "      <th>NOVO_NIVEL_Pessoa Gestora</th>\n",
              "      <td>3949.941251</td>\n",
              "    </tr>\n",
              "    <tr>\n",
              "      <th>NOVO_NIVEL_Sênior</th>\n",
              "      <td>2020.505453</td>\n",
              "    </tr>\n",
              "    <tr>\n",
              "      <th>TEMPO_EXPERIENCIA</th>\n",
              "      <td>2004.706098</td>\n",
              "    </tr>\n",
              "    <tr>\n",
              "      <th>NOVO_NIVEL_Pleno</th>\n",
              "      <td>901.226556</td>\n",
              "    </tr>\n",
              "    <tr>\n",
              "      <th>NIVEL DE ENSINO</th>\n",
              "      <td>844.684333</td>\n",
              "    </tr>\n",
              "    <tr>\n",
              "      <th>SETOR_Finanças ou Bancos</th>\n",
              "      <td>699.545761</td>\n",
              "    </tr>\n",
              "    <tr>\n",
              "      <th>SETOR_Internet/Ecommerce</th>\n",
              "      <td>668.681442</td>\n",
              "    </tr>\n",
              "    <tr>\n",
              "      <th>SETOR_Tecnologia/Fábrica de Software</th>\n",
              "      <td>591.180085</td>\n",
              "    </tr>\n",
              "    <tr>\n",
              "      <th>GENERO_Masculino</th>\n",
              "      <td>559.582224</td>\n",
              "    </tr>\n",
              "    <tr>\n",
              "      <th>SETOR_Área de Consultoria</th>\n",
              "      <td>352.482835</td>\n",
              "    </tr>\n",
              "    <tr>\n",
              "      <th>SETOR_Setor Imobiliário/ Construção Civil</th>\n",
              "      <td>305.065381</td>\n",
              "    </tr>\n",
              "    <tr>\n",
              "      <th>SETOR_Entretenimento ou Esportes</th>\n",
              "      <td>212.064769</td>\n",
              "    </tr>\n",
              "    <tr>\n",
              "      <th>SETOR_Seguros ou Previdência</th>\n",
              "      <td>110.046846</td>\n",
              "    </tr>\n",
              "    <tr>\n",
              "      <th>SETOR_Varejo</th>\n",
              "      <td>104.769536</td>\n",
              "    </tr>\n",
              "    <tr>\n",
              "      <th>SETOR_Setor de Energia</th>\n",
              "      <td>91.203737</td>\n",
              "    </tr>\n",
              "    <tr>\n",
              "      <th>GENERO_Prefiro não informar</th>\n",
              "      <td>83.731576</td>\n",
              "    </tr>\n",
              "    <tr>\n",
              "      <th>SETOR_Setor Alimentício</th>\n",
              "      <td>36.267717</td>\n",
              "    </tr>\n",
              "    <tr>\n",
              "      <th>SETOR_Outra Opção</th>\n",
              "      <td>35.692357</td>\n",
              "    </tr>\n",
              "    <tr>\n",
              "      <th>SETOR_Marketing</th>\n",
              "      <td>22.279302</td>\n",
              "    </tr>\n",
              "    <tr>\n",
              "      <th>SETOR_Área da Saúde</th>\n",
              "      <td>19.256558</td>\n",
              "    </tr>\n",
              "    <tr>\n",
              "      <th>SETOR_Setor Farmaceutico</th>\n",
              "      <td>-32.484125</td>\n",
              "    </tr>\n",
              "    <tr>\n",
              "      <th>SETOR_Setor Público</th>\n",
              "      <td>-100.844945</td>\n",
              "    </tr>\n",
              "    <tr>\n",
              "      <th>IDADE</th>\n",
              "      <td>-123.173312</td>\n",
              "    </tr>\n",
              "    <tr>\n",
              "      <th>SETOR_Telecomunicação</th>\n",
              "      <td>-138.470490</td>\n",
              "    </tr>\n",
              "    <tr>\n",
              "      <th>SETOR_Indústria</th>\n",
              "      <td>-151.991242</td>\n",
              "    </tr>\n",
              "    <tr>\n",
              "      <th>SETOR_Filantropia/ONG's</th>\n",
              "      <td>-160.908704</td>\n",
              "    </tr>\n",
              "    <tr>\n",
              "      <th>SETOR_Educação</th>\n",
              "      <td>-177.611788</td>\n",
              "    </tr>\n",
              "    <tr>\n",
              "      <th>REGIAO ONDE MORA_Sudeste</th>\n",
              "      <td>-242.975676</td>\n",
              "    </tr>\n",
              "    <tr>\n",
              "      <th>SETOR_Setor Automotivo</th>\n",
              "      <td>-258.788622</td>\n",
              "    </tr>\n",
              "    <tr>\n",
              "      <th>REGIAO ONDE MORA_Norte</th>\n",
              "      <td>-262.216459</td>\n",
              "    </tr>\n",
              "    <tr>\n",
              "      <th>NAO_BRANCA</th>\n",
              "      <td>-437.854555</td>\n",
              "    </tr>\n",
              "    <tr>\n",
              "      <th>REGIAO ONDE MORA_Nordeste</th>\n",
              "      <td>-467.706417</td>\n",
              "    </tr>\n",
              "    <tr>\n",
              "      <th>INSATISFACAO</th>\n",
              "      <td>-537.093216</td>\n",
              "    </tr>\n",
              "    <tr>\n",
              "      <th>REGIAO ONDE MORA_Sul</th>\n",
              "      <td>-617.184405</td>\n",
              "    </tr>\n",
              "    <tr>\n",
              "      <th>NUMERO DE FUNCIONARIOS</th>\n",
              "      <td>-729.680031</td>\n",
              "    </tr>\n",
              "  </tbody>\n",
              "</table>\n",
              "</div>\n",
              "    <div class=\"colab-df-buttons\">\n",
              "\n",
              "  <div class=\"colab-df-container\">\n",
              "    <button class=\"colab-df-convert\" onclick=\"convertToInteractive('df-0fd987c1-bae2-45e3-bc4c-1eab489cc5ec')\"\n",
              "            title=\"Convert this dataframe to an interactive table.\"\n",
              "            style=\"display:none;\">\n",
              "\n",
              "  <svg xmlns=\"http://www.w3.org/2000/svg\" height=\"24px\" viewBox=\"0 -960 960 960\">\n",
              "    <path d=\"M120-120v-720h720v720H120Zm60-500h600v-160H180v160Zm220 220h160v-160H400v160Zm0 220h160v-160H400v160ZM180-400h160v-160H180v160Zm440 0h160v-160H620v160ZM180-180h160v-160H180v160Zm440 0h160v-160H620v160Z\"/>\n",
              "  </svg>\n",
              "    </button>\n",
              "\n",
              "  <style>\n",
              "    .colab-df-container {\n",
              "      display:flex;\n",
              "      gap: 12px;\n",
              "    }\n",
              "\n",
              "    .colab-df-convert {\n",
              "      background-color: #E8F0FE;\n",
              "      border: none;\n",
              "      border-radius: 50%;\n",
              "      cursor: pointer;\n",
              "      display: none;\n",
              "      fill: #1967D2;\n",
              "      height: 32px;\n",
              "      padding: 0 0 0 0;\n",
              "      width: 32px;\n",
              "    }\n",
              "\n",
              "    .colab-df-convert:hover {\n",
              "      background-color: #E2EBFA;\n",
              "      box-shadow: 0px 1px 2px rgba(60, 64, 67, 0.3), 0px 1px 3px 1px rgba(60, 64, 67, 0.15);\n",
              "      fill: #174EA6;\n",
              "    }\n",
              "\n",
              "    .colab-df-buttons div {\n",
              "      margin-bottom: 4px;\n",
              "    }\n",
              "\n",
              "    [theme=dark] .colab-df-convert {\n",
              "      background-color: #3B4455;\n",
              "      fill: #D2E3FC;\n",
              "    }\n",
              "\n",
              "    [theme=dark] .colab-df-convert:hover {\n",
              "      background-color: #434B5C;\n",
              "      box-shadow: 0px 1px 3px 1px rgba(0, 0, 0, 0.15);\n",
              "      filter: drop-shadow(0px 1px 2px rgba(0, 0, 0, 0.3));\n",
              "      fill: #FFFFFF;\n",
              "    }\n",
              "  </style>\n",
              "\n",
              "    <script>\n",
              "      const buttonEl =\n",
              "        document.querySelector('#df-0fd987c1-bae2-45e3-bc4c-1eab489cc5ec button.colab-df-convert');\n",
              "      buttonEl.style.display =\n",
              "        google.colab.kernel.accessAllowed ? 'block' : 'none';\n",
              "\n",
              "      async function convertToInteractive(key) {\n",
              "        const element = document.querySelector('#df-0fd987c1-bae2-45e3-bc4c-1eab489cc5ec');\n",
              "        const dataTable =\n",
              "          await google.colab.kernel.invokeFunction('convertToInteractive',\n",
              "                                                    [key], {});\n",
              "        if (!dataTable) return;\n",
              "\n",
              "        const docLinkHtml = 'Like what you see? Visit the ' +\n",
              "          '<a target=\"_blank\" href=https://colab.research.google.com/notebooks/data_table.ipynb>data table notebook</a>'\n",
              "          + ' to learn more about interactive tables.';\n",
              "        element.innerHTML = '';\n",
              "        dataTable['output_type'] = 'display_data';\n",
              "        await google.colab.output.renderOutput(dataTable, element);\n",
              "        const docLink = document.createElement('div');\n",
              "        docLink.innerHTML = docLinkHtml;\n",
              "        element.appendChild(docLink);\n",
              "      }\n",
              "    </script>\n",
              "  </div>\n",
              "\n",
              "\n",
              "<div id=\"df-0b35950f-4fe0-45c9-8352-a3ce8c5579f4\">\n",
              "  <button class=\"colab-df-quickchart\" onclick=\"quickchart('df-0b35950f-4fe0-45c9-8352-a3ce8c5579f4')\"\n",
              "            title=\"Suggest charts\"\n",
              "            style=\"display:none;\">\n",
              "\n",
              "<svg xmlns=\"http://www.w3.org/2000/svg\" height=\"24px\"viewBox=\"0 0 24 24\"\n",
              "     width=\"24px\">\n",
              "    <g>\n",
              "        <path d=\"M19 3H5c-1.1 0-2 .9-2 2v14c0 1.1.9 2 2 2h14c1.1 0 2-.9 2-2V5c0-1.1-.9-2-2-2zM9 17H7v-7h2v7zm4 0h-2V7h2v10zm4 0h-2v-4h2v4z\"/>\n",
              "    </g>\n",
              "</svg>\n",
              "  </button>\n",
              "\n",
              "<style>\n",
              "  .colab-df-quickchart {\n",
              "      --bg-color: #E8F0FE;\n",
              "      --fill-color: #1967D2;\n",
              "      --hover-bg-color: #E2EBFA;\n",
              "      --hover-fill-color: #174EA6;\n",
              "      --disabled-fill-color: #AAA;\n",
              "      --disabled-bg-color: #DDD;\n",
              "  }\n",
              "\n",
              "  [theme=dark] .colab-df-quickchart {\n",
              "      --bg-color: #3B4455;\n",
              "      --fill-color: #D2E3FC;\n",
              "      --hover-bg-color: #434B5C;\n",
              "      --hover-fill-color: #FFFFFF;\n",
              "      --disabled-bg-color: #3B4455;\n",
              "      --disabled-fill-color: #666;\n",
              "  }\n",
              "\n",
              "  .colab-df-quickchart {\n",
              "    background-color: var(--bg-color);\n",
              "    border: none;\n",
              "    border-radius: 50%;\n",
              "    cursor: pointer;\n",
              "    display: none;\n",
              "    fill: var(--fill-color);\n",
              "    height: 32px;\n",
              "    padding: 0;\n",
              "    width: 32px;\n",
              "  }\n",
              "\n",
              "  .colab-df-quickchart:hover {\n",
              "    background-color: var(--hover-bg-color);\n",
              "    box-shadow: 0 1px 2px rgba(60, 64, 67, 0.3), 0 1px 3px 1px rgba(60, 64, 67, 0.15);\n",
              "    fill: var(--button-hover-fill-color);\n",
              "  }\n",
              "\n",
              "  .colab-df-quickchart-complete:disabled,\n",
              "  .colab-df-quickchart-complete:disabled:hover {\n",
              "    background-color: var(--disabled-bg-color);\n",
              "    fill: var(--disabled-fill-color);\n",
              "    box-shadow: none;\n",
              "  }\n",
              "\n",
              "  .colab-df-spinner {\n",
              "    border: 2px solid var(--fill-color);\n",
              "    border-color: transparent;\n",
              "    border-bottom-color: var(--fill-color);\n",
              "    animation:\n",
              "      spin 1s steps(1) infinite;\n",
              "  }\n",
              "\n",
              "  @keyframes spin {\n",
              "    0% {\n",
              "      border-color: transparent;\n",
              "      border-bottom-color: var(--fill-color);\n",
              "      border-left-color: var(--fill-color);\n",
              "    }\n",
              "    20% {\n",
              "      border-color: transparent;\n",
              "      border-left-color: var(--fill-color);\n",
              "      border-top-color: var(--fill-color);\n",
              "    }\n",
              "    30% {\n",
              "      border-color: transparent;\n",
              "      border-left-color: var(--fill-color);\n",
              "      border-top-color: var(--fill-color);\n",
              "      border-right-color: var(--fill-color);\n",
              "    }\n",
              "    40% {\n",
              "      border-color: transparent;\n",
              "      border-right-color: var(--fill-color);\n",
              "      border-top-color: var(--fill-color);\n",
              "    }\n",
              "    60% {\n",
              "      border-color: transparent;\n",
              "      border-right-color: var(--fill-color);\n",
              "    }\n",
              "    80% {\n",
              "      border-color: transparent;\n",
              "      border-right-color: var(--fill-color);\n",
              "      border-bottom-color: var(--fill-color);\n",
              "    }\n",
              "    90% {\n",
              "      border-color: transparent;\n",
              "      border-bottom-color: var(--fill-color);\n",
              "    }\n",
              "  }\n",
              "</style>\n",
              "\n",
              "  <script>\n",
              "    async function quickchart(key) {\n",
              "      const quickchartButtonEl =\n",
              "        document.querySelector('#' + key + ' button');\n",
              "      quickchartButtonEl.disabled = true;  // To prevent multiple clicks.\n",
              "      quickchartButtonEl.classList.add('colab-df-spinner');\n",
              "      try {\n",
              "        const charts = await google.colab.kernel.invokeFunction(\n",
              "            'suggestCharts', [key], {});\n",
              "      } catch (error) {\n",
              "        console.error('Error during call to suggestCharts:', error);\n",
              "      }\n",
              "      quickchartButtonEl.classList.remove('colab-df-spinner');\n",
              "      quickchartButtonEl.classList.add('colab-df-quickchart-complete');\n",
              "    }\n",
              "    (() => {\n",
              "      let quickchartButtonEl =\n",
              "        document.querySelector('#df-0b35950f-4fe0-45c9-8352-a3ce8c5579f4 button');\n",
              "      quickchartButtonEl.style.display =\n",
              "        google.colab.kernel.accessAllowed ? 'block' : 'none';\n",
              "    })();\n",
              "  </script>\n",
              "</div>\n",
              "\n",
              "    </div>\n",
              "  </div>\n"
            ],
            "application/vnd.google.colaboratory.intrinsic+json": {
              "type": "dataframe",
              "summary": "{\n  \"name\": \"coefs\",\n  \"rows\": 35,\n  \"fields\": [\n    {\n      \"column\": \"Coeficientes\",\n      \"properties\": {\n        \"dtype\": \"number\",\n        \"std\": 885.518535813829,\n        \"min\": -729.6800313394183,\n        \"max\": 3949.941250995353,\n        \"num_unique_values\": 35,\n        \"samples\": [\n          -177.6117880046509,\n          104.7695356849085,\n          -151.99124191785614\n        ],\n        \"semantic_type\": \"\",\n        \"description\": \"\"\n      }\n    }\n  ]\n}"
            }
          },
          "metadata": {},
          "execution_count": 79
        }
      ]
    },
    {
      "cell_type": "code",
      "source": [
        "coefs.plot.barh(figsize=(8,6))\n",
        "plt.axvline(x=0, color='red')\n"
      ],
      "metadata": {
        "colab": {
          "base_uri": "https://localhost:8080/",
          "height": 539
        },
        "id": "Ow_u4j3pDEjI",
        "outputId": "1083da88-3f72-40ff-86dd-906f5c0b3cfc"
      },
      "execution_count": null,
      "outputs": [
        {
          "output_type": "execute_result",
          "data": {
            "text/plain": [
              "<matplotlib.lines.Line2D at 0x7fdd0c282e90>"
            ]
          },
          "metadata": {},
          "execution_count": 81
        },
        {
          "output_type": "display_data",
          "data": {
            "text/plain": [
              "<Figure size 800x600 with 1 Axes>"
            ],
            "image/png": "[encoded data removed]"
          },
          "metadata": {}
        }
      ]
    }
  ]
}