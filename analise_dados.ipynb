{
  "nbformat": 4,
  "nbformat_minor": 0,
  "metadata": {
    "colab": {
      "provenance": []
    },
    "kernelspec": {
      "name": "python3",
      "display_name": "Python 3"
    },
    "language_info": {
      "name": "python"
    }
  },
  "cells": [
    {
      "cell_type": "markdown",
      "source": [
        "#Introdução"
      ],
      "metadata": {
        "id": "vna8dJv05-EV"
      }
    },
    {
      "cell_type": "markdown",
      "source": [
        "Esse documento explora dados da pesquisa anual datahackers de 2022. Essa pesquisa tem informações importantes sobre o mercado de trabalho na area de TI no Brasil.\n",
        "Temos dois objetivos com a analise dessa planilha, o primeiro é praticar e aprender tecnicas de análise de dados utilizando python e bibliotecas como panda, matplotib e seaborn. O segundo objetivo é questionar e anlisar os dados correlacionando com nosso dia a dia e sociedade, identificando padrões, tendências e correlações nos dados coletados"
      ],
      "metadata": {
        "id": "1-YcBU09HCB4"
      }
    },
    {
      "cell_type": "markdown",
      "source": [
        "#Importações"
      ],
      "metadata": {
        "id": "gM8QYyeYJl0v"
      }
    },
    {
      "cell_type": "code",
      "source": [
        "#Importações:\n",
        "from google.colab import drive\n",
        "import pandas as pd\n",
        "import matplotlib.pyplot as plt\n",
        "import seaborn as sns\n",
        "from scipy import stats\n",
        "from os import nice"
      ],
      "metadata": {
        "id": "seqlWNuVJtUE"
      },
      "execution_count": null,
      "outputs": []
    },
    {
      "cell_type": "markdown",
      "source": [
        "# Uso da biblioteca Pandas\n"
      ],
      "metadata": {
        "id": "AmebHhlhU_4q"
      }
    },
    {
      "cell_type": "code",
      "source": [
        "#Montando drive\n",
        "drive.mount('/content/drive/')"
      ],
      "metadata": {
        "colab": {
          "base_uri": "https://localhost:8080/"
        },
        "id": "n3fkIoKsVPMB",
        "outputId": "60194767-abf0-412a-db46-c7acf59ac1d3"
      },
      "execution_count": null,
      "outputs": [
        {
          "output_type": "stream",
          "name": "stdout",
          "text": [
            "Drive already mounted at /content/drive/; to attempt to forcibly remount, call drive.mount(\"/content/drive/\", force_remount=True).\n"
          ]
        }
      ]
    },
    {
      "cell_type": "code",
      "source": [
        "#Lendo os dados\n",
        "dados = pd.read_excel('/content/drive/MyDrive/Programaria/planilha_modulo3.xlsx')"
      ],
      "metadata": {
        "id": "mAstenoXZFdG"
      },
      "execution_count": null,
      "outputs": []
    },
    {
      "cell_type": "code",
      "source": [
        "dados.std(lista_idades)"
      ],
      "metadata": {
        "id": "3q0_GTxPZO59"
      },
      "execution_count": null,
      "outputs": []
    },
    {
      "cell_type": "code",
      "source": [
        "dados.head(10)"
      ],
      "metadata": {
        "colab": {
          "base_uri": "https://localhost:8080/",
          "height": 1000
        },
        "id": "Tu8RKAaEZyFz",
        "outputId": "2f0d0e4f-ab93-4bbf-a983-affc65034e48"
      },
      "execution_count": null,
      "outputs": [
        {
          "output_type": "execute_result",
          "data": {
            "text/plain": [
              "   Unnamed: 0                                ID  IDADE FAIXA IDADE     GENERO  \\\n",
              "0           0  zzqzz3l9ily8nuo2m7wyzzqzz3w48o96   39.0       35-39  Masculino   \n",
              "1           1  zzls2oftfn9law393oezzls2ofhvfpzd   32.0       30-34  Masculino   \n",
              "2           2  zzdwqzfqqp1ypc7ps6m0hzzdwqz292yi   53.0       50-54  Masculino   \n",
              "3           3  zzbqh3uy7yk7k9qmkzzbqtb4s9faqspl   27.0       25-29  Masculino   \n",
              "4           4  zzaf1m95yan929rb94wzzaf1mekhvhpg   46.0       45-49   Feminino   \n",
              "5           5  zz0nlhbd8oxyiyxzz0nlh7g4xkiaza5v   32.0       30-34   Feminino   \n",
              "6           6  zytlxsdgalh22cgrijvzytlxa49i8yzx   21.0       17-21  Masculino   \n",
              "7           7  zyc0twzno2sm5or5ovoxzyc0twz0300d   31.0       30-34   Feminino   \n",
              "8           8  zy4o5dk6iuxpdwgzy4o58xvd6ykwohrj   33.0       30-34  Masculino   \n",
              "9           9  zxc3d314cn1c2ovmzxc34ha7nkw1na3j    NaN         55+   Feminino   \n",
              "\n",
              "  COR/RACA/ETNIA  PCD               EXPERIENCIA_PROFISSIONAL_PREJUDICADA  \\\n",
              "0          Parda  Não  Não acredito que minha experiência profissiona...   \n",
              "1          Parda  Não  Sim, acredito que a minha a experiência profis...   \n",
              "2         Branca  Não                                                NaN   \n",
              "3         Branca  Não                                                NaN   \n",
              "4         Branca  Não  Não acredito que minha experiência profissiona...   \n",
              "5          Parda  Não  Não acredito que minha experiência profissiona...   \n",
              "6          Parda  Não  Não acredito que minha experiência profissiona...   \n",
              "7         Branca  Não  Não acredito que minha experiência profissiona...   \n",
              "8         Branca  Não                                                NaN   \n",
              "9          Parda  Não  Não acredito que minha experiência profissiona...   \n",
              "\n",
              "                          ASPECTOS_PREJUDICADOS  VIVE_NO_BRASIL  ...  \\\n",
              "0                                           NaN            True  ...   \n",
              "1  Aprovação em processos seletivos/entrevistas            True  ...   \n",
              "2                                           NaN            True  ...   \n",
              "3                                           NaN            True  ...   \n",
              "4                                           NaN            True  ...   \n",
              "5                                           NaN            True  ...   \n",
              "6                                           NaN            True  ...   \n",
              "7                                           NaN            True  ...   \n",
              "8                                           NaN            True  ...   \n",
              "9                                           NaN            True  ...   \n",
              "\n",
              "                            SETOR NUMERO DE FUNCIONARIOS GESTOR?  \\\n",
              "0                   Setor Público         Acima de 3.000     0.0   \n",
              "1                     Outra Opção         Acima de 3.000     1.0   \n",
              "2              Finanças ou Bancos         Acima de 3.000     0.0   \n",
              "3                Setor Automotivo         Acima de 3.000     0.0   \n",
              "4                   Setor Público           de 101 a 500     0.0   \n",
              "5                        Educação         Acima de 3.000     0.0   \n",
              "6              Finanças ou Bancos         Acima de 3.000     0.0   \n",
              "7  Tecnologia/Fábrica de Software              de 6 a 10     0.0   \n",
              "8  Tecnologia/Fábrica de Software         Acima de 3.000     0.0   \n",
              "9                        Educação         Acima de 3.000     0.0   \n",
              "\n",
              "        CARGO COMO GESTOR                                        CARGO ATUAL  \\\n",
              "0                     NaN                DBA/Administrador de Banco de Dados   \n",
              "1  Supervisor/Coordenador                                                NaN   \n",
              "2                     NaN  Desenvolvedor/ Engenheiro de Software/ Analist...   \n",
              "3                     NaN                  Cientista de Dados/Data Scientist   \n",
              "4                     NaN  Desenvolvedor/ Engenheiro de Software/ Analist...   \n",
              "5                     NaN                                          Professor   \n",
              "6                     NaN                          Analista de BI/BI Analyst   \n",
              "7                     NaN  Desenvolvedor/ Engenheiro de Software/ Analist...   \n",
              "8                     NaN                          Analista de BI/BI Analyst   \n",
              "9                     NaN                                          Professor   \n",
              "\n",
              "    NIVEL                    FAIXA SALARIAL  \\\n",
              "0  Júnior   de R$ 8.001/mês a R$ 12.000/mês   \n",
              "1     NaN    de R$ 4.001/mês a R$ 6.000/mês   \n",
              "2   Pleno  de R$ 12.001/mês a R$ 16.000/mês   \n",
              "3  Sênior  de R$ 12.001/mês a R$ 16.000/mês   \n",
              "4   Pleno    de R$ 6.001/mês a R$ 8.000/mês   \n",
              "5   Pleno    de R$ 2.001/mês a R$ 3.000/mês   \n",
              "6  Júnior    de R$ 4.001/mês a R$ 6.000/mês   \n",
              "7  Júnior    de R$ 2.001/mês a R$ 3.000/mês   \n",
              "8  Sênior    de R$ 6.001/mês a R$ 8.000/mês   \n",
              "9   Pleno   de R$ 8.001/mês a R$ 12.000/mês   \n",
              "\n",
              "  QUANTO TEMPO DE EXPERIÊNCIA NA ÁREA DE DADOS VOCÊ TEM?  \\\n",
              "0                                      de 1 a 2 anos       \n",
              "1                                      de 3 a 4 anos       \n",
              "2                                      de 3 a 4 anos       \n",
              "3                                      de 4 a 6 anos       \n",
              "4             Não tenho experiência na área de dados       \n",
              "5             Não tenho experiência na área de dados       \n",
              "6                                      de 1 a 2 anos       \n",
              "7                                     Menos de 1 ano       \n",
              "8                                     Menos de 1 ano       \n",
              "9                                    Mais de 10 anos       \n",
              "\n",
              "  QUANTO TEMPO DE EXPERIÊNCIA NA ÁREA DE TI/ENGENHARIA DE SOFTWARE VOCÊ TEVE ANTES DE COMEÇAR A TRABALHAR NA ÁREA DE DADOS?  \\\n",
              "0                                     de 7 a 10 anos                                                                          \n",
              "1                                     Menos de 1 ano                                                                          \n",
              "2                                    Mais de 10 anos                                                                          \n",
              "3  Não tive experiência na área de TI/Engenharia ...                                                                          \n",
              "4                                    Mais de 10 anos                                                                          \n",
              "5  Não tive experiência na área de TI/Engenharia ...                                                                          \n",
              "6                                     Menos de 1 ano                                                                          \n",
              "7                                     Menos de 1 ano                                                                          \n",
              "8  Não tive experiência na área de TI/Engenharia ...                                                                          \n",
              "9  Não tive experiência na área de TI/Engenharia ...                                                                          \n",
              "\n",
              "   SALARIO  \n",
              "0  11194.0  \n",
              "1   4695.0  \n",
              "2  14202.0  \n",
              "3  15463.0  \n",
              "4   7733.0  \n",
              "5   2336.0  \n",
              "6   4491.0  \n",
              "7   2704.0  \n",
              "8   7112.0  \n",
              "9  10822.0  \n",
              "\n",
              "[10 rows x 28 columns]"
            ],
            "text/html": [
              "\n",
              "  <div id=\"df-951314e3-7e99-4d63-94a7-e304196324f7\" class=\"colab-df-container\">\n",
              "    <div>\n",
              "<style scoped>\n",
              "    .dataframe tbody tr th:only-of-type {\n",
              "        vertical-align: middle;\n",
              "    }\n",
              "\n",
              "    .dataframe tbody tr th {\n",
              "        vertical-align: top;\n",
              "    }\n",
              "\n",
              "    .dataframe thead th {\n",
              "        text-align: right;\n",
              "    }\n",
              "</style>\n",
              "<table border=\"1\" class=\"dataframe\">\n",
              "  <thead>\n",
              "    <tr style=\"text-align: right;\">\n",
              "      <th></th>\n",
              "      <th>Unnamed: 0</th>\n",
              "      <th>ID</th>\n",
              "      <th>IDADE</th>\n",
              "      <th>FAIXA IDADE</th>\n",
              "      <th>GENERO</th>\n",
              "      <th>COR/RACA/ETNIA</th>\n",
              "      <th>PCD</th>\n",
              "      <th>EXPERIENCIA_PROFISSIONAL_PREJUDICADA</th>\n",
              "      <th>ASPECTOS_PREJUDICADOS</th>\n",
              "      <th>VIVE_NO_BRASIL</th>\n",
              "      <th>...</th>\n",
              "      <th>SETOR</th>\n",
              "      <th>NUMERO DE FUNCIONARIOS</th>\n",
              "      <th>GESTOR?</th>\n",
              "      <th>CARGO COMO GESTOR</th>\n",
              "      <th>CARGO ATUAL</th>\n",
              "      <th>NIVEL</th>\n",
              "      <th>FAIXA SALARIAL</th>\n",
              "      <th>QUANTO TEMPO DE EXPERIÊNCIA NA ÁREA DE DADOS VOCÊ TEM?</th>\n",
              "      <th>QUANTO TEMPO DE EXPERIÊNCIA NA ÁREA DE TI/ENGENHARIA DE SOFTWARE VOCÊ TEVE ANTES DE COMEÇAR A TRABALHAR NA ÁREA DE DADOS?</th>\n",
              "      <th>SALARIO</th>\n",
              "    </tr>\n",
              "  </thead>\n",
              "  <tbody>\n",
              "    <tr>\n",
              "      <th>0</th>\n",
              "      <td>0</td>\n",
              "      <td>zzqzz3l9ily8nuo2m7wyzzqzz3w48o96</td>\n",
              "      <td>39.0</td>\n",
              "      <td>35-39</td>\n",
              "      <td>Masculino</td>\n",
              "      <td>Parda</td>\n",
              "      <td>Não</td>\n",
              "      <td>Não acredito que minha experiência profissiona...</td>\n",
              "      <td>NaN</td>\n",
              "      <td>True</td>\n",
              "      <td>...</td>\n",
              "      <td>Setor Público</td>\n",
              "      <td>Acima de 3.000</td>\n",
              "      <td>0.0</td>\n",
              "      <td>NaN</td>\n",
              "      <td>DBA/Administrador de Banco de Dados</td>\n",
              "      <td>Júnior</td>\n",
              "      <td>de R$ 8.001/mês a R$ 12.000/mês</td>\n",
              "      <td>de 1 a 2 anos</td>\n",
              "      <td>de 7 a 10 anos</td>\n",
              "      <td>11194.0</td>\n",
              "    </tr>\n",
              "    <tr>\n",
              "      <th>1</th>\n",
              "      <td>1</td>\n",
              "      <td>zzls2oftfn9law393oezzls2ofhvfpzd</td>\n",
              "      <td>32.0</td>\n",
              "      <td>30-34</td>\n",
              "      <td>Masculino</td>\n",
              "      <td>Parda</td>\n",
              "      <td>Não</td>\n",
              "      <td>Sim, acredito que a minha a experiência profis...</td>\n",
              "      <td>Aprovação em processos seletivos/entrevistas</td>\n",
              "      <td>True</td>\n",
              "      <td>...</td>\n",
              "      <td>Outra Opção</td>\n",
              "      <td>Acima de 3.000</td>\n",
              "      <td>1.0</td>\n",
              "      <td>Supervisor/Coordenador</td>\n",
              "      <td>NaN</td>\n",
              "      <td>NaN</td>\n",
              "      <td>de R$ 4.001/mês a R$ 6.000/mês</td>\n",
              "      <td>de 3 a 4 anos</td>\n",
              "      <td>Menos de 1 ano</td>\n",
              "      <td>4695.0</td>\n",
              "    </tr>\n",
              "    <tr>\n",
              "      <th>2</th>\n",
              "      <td>2</td>\n",
              "      <td>zzdwqzfqqp1ypc7ps6m0hzzdwqz292yi</td>\n",
              "      <td>53.0</td>\n",
              "      <td>50-54</td>\n",
              "      <td>Masculino</td>\n",
              "      <td>Branca</td>\n",
              "      <td>Não</td>\n",
              "      <td>NaN</td>\n",
              "      <td>NaN</td>\n",
              "      <td>True</td>\n",
              "      <td>...</td>\n",
              "      <td>Finanças ou Bancos</td>\n",
              "      <td>Acima de 3.000</td>\n",
              "      <td>0.0</td>\n",
              "      <td>NaN</td>\n",
              "      <td>Desenvolvedor/ Engenheiro de Software/ Analist...</td>\n",
              "      <td>Pleno</td>\n",
              "      <td>de R$ 12.001/mês a R$ 16.000/mês</td>\n",
              "      <td>de 3 a 4 anos</td>\n",
              "      <td>Mais de 10 anos</td>\n",
              "      <td>14202.0</td>\n",
              "    </tr>\n",
              "    <tr>\n",
              "      <th>3</th>\n",
              "      <td>3</td>\n",
              "      <td>zzbqh3uy7yk7k9qmkzzbqtb4s9faqspl</td>\n",
              "      <td>27.0</td>\n",
              "      <td>25-29</td>\n",
              "      <td>Masculino</td>\n",
              "      <td>Branca</td>\n",
              "      <td>Não</td>\n",
              "      <td>NaN</td>\n",
              "      <td>NaN</td>\n",
              "      <td>True</td>\n",
              "      <td>...</td>\n",
              "      <td>Setor Automotivo</td>\n",
              "      <td>Acima de 3.000</td>\n",
              "      <td>0.0</td>\n",
              "      <td>NaN</td>\n",
              "      <td>Cientista de Dados/Data Scientist</td>\n",
              "      <td>Sênior</td>\n",
              "      <td>de R$ 12.001/mês a R$ 16.000/mês</td>\n",
              "      <td>de 4 a 6 anos</td>\n",
              "      <td>Não tive experiência na área de TI/Engenharia ...</td>\n",
              "      <td>15463.0</td>\n",
              "    </tr>\n",
              "    <tr>\n",
              "      <th>4</th>\n",
              "      <td>4</td>\n",
              "      <td>zzaf1m95yan929rb94wzzaf1mekhvhpg</td>\n",
              "      <td>46.0</td>\n",
              "      <td>45-49</td>\n",
              "      <td>Feminino</td>\n",
              "      <td>Branca</td>\n",
              "      <td>Não</td>\n",
              "      <td>Não acredito que minha experiência profissiona...</td>\n",
              "      <td>NaN</td>\n",
              "      <td>True</td>\n",
              "      <td>...</td>\n",
              "      <td>Setor Público</td>\n",
              "      <td>de 101 a 500</td>\n",
              "      <td>0.0</td>\n",
              "      <td>NaN</td>\n",
              "      <td>Desenvolvedor/ Engenheiro de Software/ Analist...</td>\n",
              "      <td>Pleno</td>\n",
              "      <td>de R$ 6.001/mês a R$ 8.000/mês</td>\n",
              "      <td>Não tenho experiência na área de dados</td>\n",
              "      <td>Mais de 10 anos</td>\n",
              "      <td>7733.0</td>\n",
              "    </tr>\n",
              "    <tr>\n",
              "      <th>5</th>\n",
              "      <td>5</td>\n",
              "      <td>zz0nlhbd8oxyiyxzz0nlh7g4xkiaza5v</td>\n",
              "      <td>32.0</td>\n",
              "      <td>30-34</td>\n",
              "      <td>Feminino</td>\n",
              "      <td>Parda</td>\n",
              "      <td>Não</td>\n",
              "      <td>Não acredito que minha experiência profissiona...</td>\n",
              "      <td>NaN</td>\n",
              "      <td>True</td>\n",
              "      <td>...</td>\n",
              "      <td>Educação</td>\n",
              "      <td>Acima de 3.000</td>\n",
              "      <td>0.0</td>\n",
              "      <td>NaN</td>\n",
              "      <td>Professor</td>\n",
              "      <td>Pleno</td>\n",
              "      <td>de R$ 2.001/mês a R$ 3.000/mês</td>\n",
              "      <td>Não tenho experiência na área de dados</td>\n",
              "      <td>Não tive experiência na área de TI/Engenharia ...</td>\n",
              "      <td>2336.0</td>\n",
              "    </tr>\n",
              "    <tr>\n",
              "      <th>6</th>\n",
              "      <td>6</td>\n",
              "      <td>zytlxsdgalh22cgrijvzytlxa49i8yzx</td>\n",
              "      <td>21.0</td>\n",
              "      <td>17-21</td>\n",
              "      <td>Masculino</td>\n",
              "      <td>Parda</td>\n",
              "      <td>Não</td>\n",
              "      <td>Não acredito que minha experiência profissiona...</td>\n",
              "      <td>NaN</td>\n",
              "      <td>True</td>\n",
              "      <td>...</td>\n",
              "      <td>Finanças ou Bancos</td>\n",
              "      <td>Acima de 3.000</td>\n",
              "      <td>0.0</td>\n",
              "      <td>NaN</td>\n",
              "      <td>Analista de BI/BI Analyst</td>\n",
              "      <td>Júnior</td>\n",
              "      <td>de R$ 4.001/mês a R$ 6.000/mês</td>\n",
              "      <td>de 1 a 2 anos</td>\n",
              "      <td>Menos de 1 ano</td>\n",
              "      <td>4491.0</td>\n",
              "    </tr>\n",
              "    <tr>\n",
              "      <th>7</th>\n",
              "      <td>7</td>\n",
              "      <td>zyc0twzno2sm5or5ovoxzyc0twz0300d</td>\n",
              "      <td>31.0</td>\n",
              "      <td>30-34</td>\n",
              "      <td>Feminino</td>\n",
              "      <td>Branca</td>\n",
              "      <td>Não</td>\n",
              "      <td>Não acredito que minha experiência profissiona...</td>\n",
              "      <td>NaN</td>\n",
              "      <td>True</td>\n",
              "      <td>...</td>\n",
              "      <td>Tecnologia/Fábrica de Software</td>\n",
              "      <td>de 6 a 10</td>\n",
              "      <td>0.0</td>\n",
              "      <td>NaN</td>\n",
              "      <td>Desenvolvedor/ Engenheiro de Software/ Analist...</td>\n",
              "      <td>Júnior</td>\n",
              "      <td>de R$ 2.001/mês a R$ 3.000/mês</td>\n",
              "      <td>Menos de 1 ano</td>\n",
              "      <td>Menos de 1 ano</td>\n",
              "      <td>2704.0</td>\n",
              "    </tr>\n",
              "    <tr>\n",
              "      <th>8</th>\n",
              "      <td>8</td>\n",
              "      <td>zy4o5dk6iuxpdwgzy4o58xvd6ykwohrj</td>\n",
              "      <td>33.0</td>\n",
              "      <td>30-34</td>\n",
              "      <td>Masculino</td>\n",
              "      <td>Branca</td>\n",
              "      <td>Não</td>\n",
              "      <td>NaN</td>\n",
              "      <td>NaN</td>\n",
              "      <td>True</td>\n",
              "      <td>...</td>\n",
              "      <td>Tecnologia/Fábrica de Software</td>\n",
              "      <td>Acima de 3.000</td>\n",
              "      <td>0.0</td>\n",
              "      <td>NaN</td>\n",
              "      <td>Analista de BI/BI Analyst</td>\n",
              "      <td>Sênior</td>\n",
              "      <td>de R$ 6.001/mês a R$ 8.000/mês</td>\n",
              "      <td>Menos de 1 ano</td>\n",
              "      <td>Não tive experiência na área de TI/Engenharia ...</td>\n",
              "      <td>7112.0</td>\n",
              "    </tr>\n",
              "    <tr>\n",
              "      <th>9</th>\n",
              "      <td>9</td>\n",
              "      <td>zxc3d314cn1c2ovmzxc34ha7nkw1na3j</td>\n",
              "      <td>NaN</td>\n",
              "      <td>55+</td>\n",
              "      <td>Feminino</td>\n",
              "      <td>Parda</td>\n",
              "      <td>Não</td>\n",
              "      <td>Não acredito que minha experiência profissiona...</td>\n",
              "      <td>NaN</td>\n",
              "      <td>True</td>\n",
              "      <td>...</td>\n",
              "      <td>Educação</td>\n",
              "      <td>Acima de 3.000</td>\n",
              "      <td>0.0</td>\n",
              "      <td>NaN</td>\n",
              "      <td>Professor</td>\n",
              "      <td>Pleno</td>\n",
              "      <td>de R$ 8.001/mês a R$ 12.000/mês</td>\n",
              "      <td>Mais de 10 anos</td>\n",
              "      <td>Não tive experiência na área de TI/Engenharia ...</td>\n",
              "      <td>10822.0</td>\n",
              "    </tr>\n",
              "  </tbody>\n",
              "</table>\n",
              "<p>10 rows × 28 columns</p>\n",
              "</div>\n",
              "    <div class=\"colab-df-buttons\">\n",
              "\n",
              "  <div class=\"colab-df-container\">\n",
              "    <button class=\"colab-df-convert\" onclick=\"convertToInteractive('df-951314e3-7e99-4d63-94a7-e304196324f7')\"\n",
              "            title=\"Convert this dataframe to an interactive table.\"\n",
              "            style=\"display:none;\">\n",
              "\n",
              "  <svg xmlns=\"http://www.w3.org/2000/svg\" height=\"24px\" viewBox=\"0 -960 960 960\">\n",
              "    <path d=\"M120-120v-720h720v720H120Zm60-500h600v-160H180v160Zm220 220h160v-160H400v160Zm0 220h160v-160H400v160ZM180-400h160v-160H180v160Zm440 0h160v-160H620v160ZM180-180h160v-160H180v160Zm440 0h160v-160H620v160Z\"/>\n",
              "  </svg>\n",
              "    </button>\n",
              "\n",
              "  <style>\n",
              "    .colab-df-container {\n",
              "      display:flex;\n",
              "      gap: 12px;\n",
              "    }\n",
              "\n",
              "    .colab-df-convert {\n",
              "      background-color: #E8F0FE;\n",
              "      border: none;\n",
              "      border-radius: 50%;\n",
              "      cursor: pointer;\n",
              "      display: none;\n",
              "      fill: #1967D2;\n",
              "      height: 32px;\n",
              "      padding: 0 0 0 0;\n",
              "      width: 32px;\n",
              "    }\n",
              "\n",
              "    .colab-df-convert:hover {\n",
              "      background-color: #E2EBFA;\n",
              "      box-shadow: 0px 1px 2px rgba(60, 64, 67, 0.3), 0px 1px 3px 1px rgba(60, 64, 67, 0.15);\n",
              "      fill: #174EA6;\n",
              "    }\n",
              "\n",
              "    .colab-df-buttons div {\n",
              "      margin-bottom: 4px;\n",
              "    }\n",
              "\n",
              "    [theme=dark] .colab-df-convert {\n",
              "      background-color: #3B4455;\n",
              "      fill: #D2E3FC;\n",
              "    }\n",
              "\n",
              "    [theme=dark] .colab-df-convert:hover {\n",
              "      background-color: #434B5C;\n",
              "      box-shadow: 0px 1px 3px 1px rgba(0, 0, 0, 0.15);\n",
              "      filter: drop-shadow(0px 1px 2px rgba(0, 0, 0, 0.3));\n",
              "      fill: #FFFFFF;\n",
              "    }\n",
              "  </style>\n",
              "\n",
              "    <script>\n",
              "      const buttonEl =\n",
              "        document.querySelector('#df-951314e3-7e99-4d63-94a7-e304196324f7 button.colab-df-convert');\n",
              "      buttonEl.style.display =\n",
              "        google.colab.kernel.accessAllowed ? 'block' : 'none';\n",
              "\n",
              "      async function convertToInteractive(key) {\n",
              "        const element = document.querySelector('#df-951314e3-7e99-4d63-94a7-e304196324f7');\n",
              "        const dataTable =\n",
              "          await google.colab.kernel.invokeFunction('convertToInteractive',\n",
              "                                                    [key], {});\n",
              "        if (!dataTable) return;\n",
              "\n",
              "        const docLinkHtml = 'Like what you see? Visit the ' +\n",
              "          '<a target=\"_blank\" href=https://colab.research.google.com/notebooks/data_table.ipynb>data table notebook</a>'\n",
              "          + ' to learn more about interactive tables.';\n",
              "        element.innerHTML = '';\n",
              "        dataTable['output_type'] = 'display_data';\n",
              "        await google.colab.output.renderOutput(dataTable, element);\n",
              "        const docLink = document.createElement('div');\n",
              "        docLink.innerHTML = docLinkHtml;\n",
              "        element.appendChild(docLink);\n",
              "      }\n",
              "    </script>\n",
              "  </div>\n",
              "\n",
              "\n",
              "<div id=\"df-bf45af9e-4e6c-402b-ae1a-d19092c01a92\">\n",
              "  <button class=\"colab-df-quickchart\" onclick=\"quickchart('df-bf45af9e-4e6c-402b-ae1a-d19092c01a92')\"\n",
              "            title=\"Suggest charts\"\n",
              "            style=\"display:none;\">\n",
              "\n",
              "<svg xmlns=\"http://www.w3.org/2000/svg\" height=\"24px\"viewBox=\"0 0 24 24\"\n",
              "     width=\"24px\">\n",
              "    <g>\n",
              "        <path d=\"M19 3H5c-1.1 0-2 .9-2 2v14c0 1.1.9 2 2 2h14c1.1 0 2-.9 2-2V5c0-1.1-.9-2-2-2zM9 17H7v-7h2v7zm4 0h-2V7h2v10zm4 0h-2v-4h2v4z\"/>\n",
              "    </g>\n",
              "</svg>\n",
              "  </button>\n",
              "\n",
              "<style>\n",
              "  .colab-df-quickchart {\n",
              "      --bg-color: #E8F0FE;\n",
              "      --fill-color: #1967D2;\n",
              "      --hover-bg-color: #E2EBFA;\n",
              "      --hover-fill-color: #174EA6;\n",
              "      --disabled-fill-color: #AAA;\n",
              "      --disabled-bg-color: #DDD;\n",
              "  }\n",
              "\n",
              "  [theme=dark] .colab-df-quickchart {\n",
              "      --bg-color: #3B4455;\n",
              "      --fill-color: #D2E3FC;\n",
              "      --hover-bg-color: #434B5C;\n",
              "      --hover-fill-color: #FFFFFF;\n",
              "      --disabled-bg-color: #3B4455;\n",
              "      --disabled-fill-color: #666;\n",
              "  }\n",
              "\n",
              "  .colab-df-quickchart {\n",
              "    background-color: var(--bg-color);\n",
              "    border: none;\n",
              "    border-radius: 50%;\n",
              "    cursor: pointer;\n",
              "    display: none;\n",
              "    fill: var(--fill-color);\n",
              "    height: 32px;\n",
              "    padding: 0;\n",
              "    width: 32px;\n",
              "  }\n",
              "\n",
              "  .colab-df-quickchart:hover {\n",
              "    background-color: var(--hover-bg-color);\n",
              "    box-shadow: 0 1px 2px rgba(60, 64, 67, 0.3), 0 1px 3px 1px rgba(60, 64, 67, 0.15);\n",
              "    fill: var(--button-hover-fill-color);\n",
              "  }\n",
              "\n",
              "  .colab-df-quickchart-complete:disabled,\n",
              "  .colab-df-quickchart-complete:disabled:hover {\n",
              "    background-color: var(--disabled-bg-color);\n",
              "    fill: var(--disabled-fill-color);\n",
              "    box-shadow: none;\n",
              "  }\n",
              "\n",
              "  .colab-df-spinner {\n",
              "    border: 2px solid var(--fill-color);\n",
              "    border-color: transparent;\n",
              "    border-bottom-color: var(--fill-color);\n",
              "    animation:\n",
              "      spin 1s steps(1) infinite;\n",
              "  }\n",
              "\n",
              "  @keyframes spin {\n",
              "    0% {\n",
              "      border-color: transparent;\n",
              "      border-bottom-color: var(--fill-color);\n",
              "      border-left-color: var(--fill-color);\n",
              "    }\n",
              "    20% {\n",
              "      border-color: transparent;\n",
              "      border-left-color: var(--fill-color);\n",
              "      border-top-color: var(--fill-color);\n",
              "    }\n",
              "    30% {\n",
              "      border-color: transparent;\n",
              "      border-left-color: var(--fill-color);\n",
              "      border-top-color: var(--fill-color);\n",
              "      border-right-color: var(--fill-color);\n",
              "    }\n",
              "    40% {\n",
              "      border-color: transparent;\n",
              "      border-right-color: var(--fill-color);\n",
              "      border-top-color: var(--fill-color);\n",
              "    }\n",
              "    60% {\n",
              "      border-color: transparent;\n",
              "      border-right-color: var(--fill-color);\n",
              "    }\n",
              "    80% {\n",
              "      border-color: transparent;\n",
              "      border-right-color: var(--fill-color);\n",
              "      border-bottom-color: var(--fill-color);\n",
              "    }\n",
              "    90% {\n",
              "      border-color: transparent;\n",
              "      border-bottom-color: var(--fill-color);\n",
              "    }\n",
              "  }\n",
              "</style>\n",
              "\n",
              "  <script>\n",
              "    async function quickchart(key) {\n",
              "      const quickchartButtonEl =\n",
              "        document.querySelector('#' + key + ' button');\n",
              "      quickchartButtonEl.disabled = true;  // To prevent multiple clicks.\n",
              "      quickchartButtonEl.classList.add('colab-df-spinner');\n",
              "      try {\n",
              "        const charts = await google.colab.kernel.invokeFunction(\n",
              "            'suggestCharts', [key], {});\n",
              "      } catch (error) {\n",
              "        console.error('Error during call to suggestCharts:', error);\n",
              "      }\n",
              "      quickchartButtonEl.classList.remove('colab-df-spinner');\n",
              "      quickchartButtonEl.classList.add('colab-df-quickchart-complete');\n",
              "    }\n",
              "    (() => {\n",
              "      let quickchartButtonEl =\n",
              "        document.querySelector('#df-bf45af9e-4e6c-402b-ae1a-d19092c01a92 button');\n",
              "      quickchartButtonEl.style.display =\n",
              "        google.colab.kernel.accessAllowed ? 'block' : 'none';\n",
              "    })();\n",
              "  </script>\n",
              "</div>\n",
              "\n",
              "    </div>\n",
              "  </div>\n"
            ],
            "application/vnd.google.colaboratory.intrinsic+json": {
              "type": "dataframe",
              "variable_name": "dados"
            }
          },
          "metadata": {},
          "execution_count": 9
        }
      ]
    },
    {
      "cell_type": "code",
      "source": [
        "dados.tail()"
      ],
      "metadata": {
        "colab": {
          "base_uri": "https://localhost:8080/",
          "height": 776
        },
        "id": "tT7zZKioaB-K",
        "outputId": "02a08b26-3614-4e9f-b7a6-0df1cfb03058"
      },
      "execution_count": null,
      "outputs": [
        {
          "output_type": "execute_result",
          "data": {
            "text/plain": [
              "      Unnamed: 0                                ID  IDADE FAIXA IDADE  \\\n",
              "4266        4266  01jnrn9f6va0menfhk2ztm01jnrn96bp   26.0       25-29   \n",
              "4267        4267  01dyfxam4u4bi29fem01dyfxaq9akvqp   30.0       30-34   \n",
              "4268        4268  00zw9ks9d40z4u00zz3d20iix65qpli3   29.0       25-29   \n",
              "4269        4269  00xu7yujd7s57emj00xu7y0c3njix3de    NaN       17-21   \n",
              "4270        4270  00lb35llmdsidpa00lb35qcdysnzvhv7   24.0       22-24   \n",
              "\n",
              "         GENERO COR/RACA/ETNIA  PCD  \\\n",
              "4266  Masculino         Branca  Não   \n",
              "4267   Feminino         Branca  Não   \n",
              "4268  Masculino         Branca  Não   \n",
              "4269  Masculino         Branca  Não   \n",
              "4270  Masculino         Branca  Não   \n",
              "\n",
              "                   EXPERIENCIA_PROFISSIONAL_PREJUDICADA ASPECTOS_PREJUDICADOS  \\\n",
              "4266                                                NaN                   NaN   \n",
              "4267  Não acredito que minha experiência profissiona...                   NaN   \n",
              "4268                                                NaN                   NaN   \n",
              "4269                                                NaN                   NaN   \n",
              "4270                                                NaN                   NaN   \n",
              "\n",
              "      VIVE_NO_BRASIL  ...                                SETOR  \\\n",
              "4266            True  ...       Tecnologia/Fábrica de Software   \n",
              "4267            True  ...                  Área de Consultoria   \n",
              "4268            True  ...  Setor Imobiliário/ Construção Civil   \n",
              "4269            True  ...                            Indústria   \n",
              "4270            True  ...                         Agronegócios   \n",
              "\n",
              "     NUMERO DE FUNCIONARIOS GESTOR?  CARGO COMO GESTOR  \\\n",
              "4266         Acima de 3.000     0.0                NaN   \n",
              "4267            de 51 a 100     0.0                NaN   \n",
              "4268           de 101 a 500     1.0       Gerente/Head   \n",
              "4269       de 1.001 a 3.000     0.0                NaN   \n",
              "4270         de 501 a 1.000     0.0                NaN   \n",
              "\n",
              "                                            CARGO ATUAL   NIVEL  \\\n",
              "4266                     Analista de Dados/Data Analyst   Pleno   \n",
              "4267  Engenheiro de Dados/Arquiteto de Dados/Data En...   Pleno   \n",
              "4268                                                NaN     NaN   \n",
              "4269                                        Outra Opção  Júnior   \n",
              "4270                     Analista de Dados/Data Analyst  Júnior   \n",
              "\n",
              "                        FAIXA SALARIAL  \\\n",
              "4266    de R$ 4.001/mês a R$ 6.000/mês   \n",
              "4267    de R$ 3.001/mês a R$ 4.000/mês   \n",
              "4268  de R$ 16.001/mês a R$ 20.000/mês   \n",
              "4269             Menos de R$ 1.000/mês   \n",
              "4270    de R$ 3.001/mês a R$ 4.000/mês   \n",
              "\n",
              "     QUANTO TEMPO DE EXPERIÊNCIA NA ÁREA DE DADOS VOCÊ TEM?  \\\n",
              "4266                                      de 3 a 4 anos       \n",
              "4267                                      de 1 a 2 anos       \n",
              "4268                                      de 4 a 6 anos       \n",
              "4269                                     Menos de 1 ano       \n",
              "4270                                      de 1 a 2 anos       \n",
              "\n",
              "     QUANTO TEMPO DE EXPERIÊNCIA NA ÁREA DE TI/ENGENHARIA DE SOFTWARE VOCÊ TEVE ANTES DE COMEÇAR A TRABALHAR NA ÁREA DE DADOS?  \\\n",
              "4266                                     de 7 a 10 anos                                                                          \n",
              "4267  Não tive experiência na área de TI/Engenharia ...                                                                          \n",
              "4268  Não tive experiência na área de TI/Engenharia ...                                                                          \n",
              "4269  Não tive experiência na área de TI/Engenharia ...                                                                          \n",
              "4270  Não tive experiência na área de TI/Engenharia ...                                                                          \n",
              "\n",
              "      SALARIO  \n",
              "4266   4329.0  \n",
              "4267   3758.0  \n",
              "4268  19607.0  \n",
              "4269    989.0  \n",
              "4270   3079.0  \n",
              "\n",
              "[5 rows x 28 columns]"
            ],
            "text/html": [
              "\n",
              "  <div id=\"df-2b4acf74-3b9c-41e0-a475-059b586f68f4\" class=\"colab-df-container\">\n",
              "    <div>\n",
              "<style scoped>\n",
              "    .dataframe tbody tr th:only-of-type {\n",
              "        vertical-align: middle;\n",
              "    }\n",
              "\n",
              "    .dataframe tbody tr th {\n",
              "        vertical-align: top;\n",
              "    }\n",
              "\n",
              "    .dataframe thead th {\n",
              "        text-align: right;\n",
              "    }\n",
              "</style>\n",
              "<table border=\"1\" class=\"dataframe\">\n",
              "  <thead>\n",
              "    <tr style=\"text-align: right;\">\n",
              "      <th></th>\n",
              "      <th>Unnamed: 0</th>\n",
              "      <th>ID</th>\n",
              "      <th>IDADE</th>\n",
              "      <th>FAIXA IDADE</th>\n",
              "      <th>GENERO</th>\n",
              "      <th>COR/RACA/ETNIA</th>\n",
              "      <th>PCD</th>\n",
              "      <th>EXPERIENCIA_PROFISSIONAL_PREJUDICADA</th>\n",
              "      <th>ASPECTOS_PREJUDICADOS</th>\n",
              "      <th>VIVE_NO_BRASIL</th>\n",
              "      <th>...</th>\n",
              "      <th>SETOR</th>\n",
              "      <th>NUMERO DE FUNCIONARIOS</th>\n",
              "      <th>GESTOR?</th>\n",
              "      <th>CARGO COMO GESTOR</th>\n",
              "      <th>CARGO ATUAL</th>\n",
              "      <th>NIVEL</th>\n",
              "      <th>FAIXA SALARIAL</th>\n",
              "      <th>QUANTO TEMPO DE EXPERIÊNCIA NA ÁREA DE DADOS VOCÊ TEM?</th>\n",
              "      <th>QUANTO TEMPO DE EXPERIÊNCIA NA ÁREA DE TI/ENGENHARIA DE SOFTWARE VOCÊ TEVE ANTES DE COMEÇAR A TRABALHAR NA ÁREA DE DADOS?</th>\n",
              "      <th>SALARIO</th>\n",
              "    </tr>\n",
              "  </thead>\n",
              "  <tbody>\n",
              "    <tr>\n",
              "      <th>4266</th>\n",
              "      <td>4266</td>\n",
              "      <td>01jnrn9f6va0menfhk2ztm01jnrn96bp</td>\n",
              "      <td>26.0</td>\n",
              "      <td>25-29</td>\n",
              "      <td>Masculino</td>\n",
              "      <td>Branca</td>\n",
              "      <td>Não</td>\n",
              "      <td>NaN</td>\n",
              "      <td>NaN</td>\n",
              "      <td>True</td>\n",
              "      <td>...</td>\n",
              "      <td>Tecnologia/Fábrica de Software</td>\n",
              "      <td>Acima de 3.000</td>\n",
              "      <td>0.0</td>\n",
              "      <td>NaN</td>\n",
              "      <td>Analista de Dados/Data Analyst</td>\n",
              "      <td>Pleno</td>\n",
              "      <td>de R$ 4.001/mês a R$ 6.000/mês</td>\n",
              "      <td>de 3 a 4 anos</td>\n",
              "      <td>de 7 a 10 anos</td>\n",
              "      <td>4329.0</td>\n",
              "    </tr>\n",
              "    <tr>\n",
              "      <th>4267</th>\n",
              "      <td>4267</td>\n",
              "      <td>01dyfxam4u4bi29fem01dyfxaq9akvqp</td>\n",
              "      <td>30.0</td>\n",
              "      <td>30-34</td>\n",
              "      <td>Feminino</td>\n",
              "      <td>Branca</td>\n",
              "      <td>Não</td>\n",
              "      <td>Não acredito que minha experiência profissiona...</td>\n",
              "      <td>NaN</td>\n",
              "      <td>True</td>\n",
              "      <td>...</td>\n",
              "      <td>Área de Consultoria</td>\n",
              "      <td>de 51 a 100</td>\n",
              "      <td>0.0</td>\n",
              "      <td>NaN</td>\n",
              "      <td>Engenheiro de Dados/Arquiteto de Dados/Data En...</td>\n",
              "      <td>Pleno</td>\n",
              "      <td>de R$ 3.001/mês a R$ 4.000/mês</td>\n",
              "      <td>de 1 a 2 anos</td>\n",
              "      <td>Não tive experiência na área de TI/Engenharia ...</td>\n",
              "      <td>3758.0</td>\n",
              "    </tr>\n",
              "    <tr>\n",
              "      <th>4268</th>\n",
              "      <td>4268</td>\n",
              "      <td>00zw9ks9d40z4u00zz3d20iix65qpli3</td>\n",
              "      <td>29.0</td>\n",
              "      <td>25-29</td>\n",
              "      <td>Masculino</td>\n",
              "      <td>Branca</td>\n",
              "      <td>Não</td>\n",
              "      <td>NaN</td>\n",
              "      <td>NaN</td>\n",
              "      <td>True</td>\n",
              "      <td>...</td>\n",
              "      <td>Setor Imobiliário/ Construção Civil</td>\n",
              "      <td>de 101 a 500</td>\n",
              "      <td>1.0</td>\n",
              "      <td>Gerente/Head</td>\n",
              "      <td>NaN</td>\n",
              "      <td>NaN</td>\n",
              "      <td>de R$ 16.001/mês a R$ 20.000/mês</td>\n",
              "      <td>de 4 a 6 anos</td>\n",
              "      <td>Não tive experiência na área de TI/Engenharia ...</td>\n",
              "      <td>19607.0</td>\n",
              "    </tr>\n",
              "    <tr>\n",
              "      <th>4269</th>\n",
              "      <td>4269</td>\n",
              "      <td>00xu7yujd7s57emj00xu7y0c3njix3de</td>\n",
              "      <td>NaN</td>\n",
              "      <td>17-21</td>\n",
              "      <td>Masculino</td>\n",
              "      <td>Branca</td>\n",
              "      <td>Não</td>\n",
              "      <td>NaN</td>\n",
              "      <td>NaN</td>\n",
              "      <td>True</td>\n",
              "      <td>...</td>\n",
              "      <td>Indústria</td>\n",
              "      <td>de 1.001 a 3.000</td>\n",
              "      <td>0.0</td>\n",
              "      <td>NaN</td>\n",
              "      <td>Outra Opção</td>\n",
              "      <td>Júnior</td>\n",
              "      <td>Menos de R$ 1.000/mês</td>\n",
              "      <td>Menos de 1 ano</td>\n",
              "      <td>Não tive experiência na área de TI/Engenharia ...</td>\n",
              "      <td>989.0</td>\n",
              "    </tr>\n",
              "    <tr>\n",
              "      <th>4270</th>\n",
              "      <td>4270</td>\n",
              "      <td>00lb35llmdsidpa00lb35qcdysnzvhv7</td>\n",
              "      <td>24.0</td>\n",
              "      <td>22-24</td>\n",
              "      <td>Masculino</td>\n",
              "      <td>Branca</td>\n",
              "      <td>Não</td>\n",
              "      <td>NaN</td>\n",
              "      <td>NaN</td>\n",
              "      <td>True</td>\n",
              "      <td>...</td>\n",
              "      <td>Agronegócios</td>\n",
              "      <td>de 501 a 1.000</td>\n",
              "      <td>0.0</td>\n",
              "      <td>NaN</td>\n",
              "      <td>Analista de Dados/Data Analyst</td>\n",
              "      <td>Júnior</td>\n",
              "      <td>de R$ 3.001/mês a R$ 4.000/mês</td>\n",
              "      <td>de 1 a 2 anos</td>\n",
              "      <td>Não tive experiência na área de TI/Engenharia ...</td>\n",
              "      <td>3079.0</td>\n",
              "    </tr>\n",
              "  </tbody>\n",
              "</table>\n",
              "<p>5 rows × 28 columns</p>\n",
              "</div>\n",
              "    <div class=\"colab-df-buttons\">\n",
              "\n",
              "  <div class=\"colab-df-container\">\n",
              "    <button class=\"colab-df-convert\" onclick=\"convertToInteractive('df-2b4acf74-3b9c-41e0-a475-059b586f68f4')\"\n",
              "            title=\"Convert this dataframe to an interactive table.\"\n",
              "            style=\"display:none;\">\n",
              "\n",
              "  <svg xmlns=\"http://www.w3.org/2000/svg\" height=\"24px\" viewBox=\"0 -960 960 960\">\n",
              "    <path d=\"M120-120v-720h720v720H120Zm60-500h600v-160H180v160Zm220 220h160v-160H400v160Zm0 220h160v-160H400v160ZM180-400h160v-160H180v160Zm440 0h160v-160H620v160ZM180-180h160v-160H180v160Zm440 0h160v-160H620v160Z\"/>\n",
              "  </svg>\n",
              "    </button>\n",
              "\n",
              "  <style>\n",
              "    .colab-df-container {\n",
              "      display:flex;\n",
              "      gap: 12px;\n",
              "    }\n",
              "\n",
              "    .colab-df-convert {\n",
              "      background-color: #E8F0FE;\n",
              "      border: none;\n",
              "      border-radius: 50%;\n",
              "      cursor: pointer;\n",
              "      display: none;\n",
              "      fill: #1967D2;\n",
              "      height: 32px;\n",
              "      padding: 0 0 0 0;\n",
              "      width: 32px;\n",
              "    }\n",
              "\n",
              "    .colab-df-convert:hover {\n",
              "      background-color: #E2EBFA;\n",
              "      box-shadow: 0px 1px 2px rgba(60, 64, 67, 0.3), 0px 1px 3px 1px rgba(60, 64, 67, 0.15);\n",
              "      fill: #174EA6;\n",
              "    }\n",
              "\n",
              "    .colab-df-buttons div {\n",
              "      margin-bottom: 4px;\n",
              "    }\n",
              "\n",
              "    [theme=dark] .colab-df-convert {\n",
              "      background-color: #3B4455;\n",
              "      fill: #D2E3FC;\n",
              "    }\n",
              "\n",
              "    [theme=dark] .colab-df-convert:hover {\n",
              "      background-color: #434B5C;\n",
              "      box-shadow: 0px 1px 3px 1px rgba(0, 0, 0, 0.15);\n",
              "      filter: drop-shadow(0px 1px 2px rgba(0, 0, 0, 0.3));\n",
              "      fill: #FFFFFF;\n",
              "    }\n",
              "  </style>\n",
              "\n",
              "    <script>\n",
              "      const buttonEl =\n",
              "        document.querySelector('#df-2b4acf74-3b9c-41e0-a475-059b586f68f4 button.colab-df-convert');\n",
              "      buttonEl.style.display =\n",
              "        google.colab.kernel.accessAllowed ? 'block' : 'none';\n",
              "\n",
              "      async function convertToInteractive(key) {\n",
              "        const element = document.querySelector('#df-2b4acf74-3b9c-41e0-a475-059b586f68f4');\n",
              "        const dataTable =\n",
              "          await google.colab.kernel.invokeFunction('convertToInteractive',\n",
              "                                                    [key], {});\n",
              "        if (!dataTable) return;\n",
              "\n",
              "        const docLinkHtml = 'Like what you see? Visit the ' +\n",
              "          '<a target=\"_blank\" href=https://colab.research.google.com/notebooks/data_table.ipynb>data table notebook</a>'\n",
              "          + ' to learn more about interactive tables.';\n",
              "        element.innerHTML = '';\n",
              "        dataTable['output_type'] = 'display_data';\n",
              "        await google.colab.output.renderOutput(dataTable, element);\n",
              "        const docLink = document.createElement('div');\n",
              "        docLink.innerHTML = docLinkHtml;\n",
              "        element.appendChild(docLink);\n",
              "      }\n",
              "    </script>\n",
              "  </div>\n",
              "\n",
              "\n",
              "<div id=\"df-2ef7218f-14f1-48f9-80f1-3f3c3a9520f6\">\n",
              "  <button class=\"colab-df-quickchart\" onclick=\"quickchart('df-2ef7218f-14f1-48f9-80f1-3f3c3a9520f6')\"\n",
              "            title=\"Suggest charts\"\n",
              "            style=\"display:none;\">\n",
              "\n",
              "<svg xmlns=\"http://www.w3.org/2000/svg\" height=\"24px\"viewBox=\"0 0 24 24\"\n",
              "     width=\"24px\">\n",
              "    <g>\n",
              "        <path d=\"M19 3H5c-1.1 0-2 .9-2 2v14c0 1.1.9 2 2 2h14c1.1 0 2-.9 2-2V5c0-1.1-.9-2-2-2zM9 17H7v-7h2v7zm4 0h-2V7h2v10zm4 0h-2v-4h2v4z\"/>\n",
              "    </g>\n",
              "</svg>\n",
              "  </button>\n",
              "\n",
              "<style>\n",
              "  .colab-df-quickchart {\n",
              "      --bg-color: #E8F0FE;\n",
              "      --fill-color: #1967D2;\n",
              "      --hover-bg-color: #E2EBFA;\n",
              "      --hover-fill-color: #174EA6;\n",
              "      --disabled-fill-color: #AAA;\n",
              "      --disabled-bg-color: #DDD;\n",
              "  }\n",
              "\n",
              "  [theme=dark] .colab-df-quickchart {\n",
              "      --bg-color: #3B4455;\n",
              "      --fill-color: #D2E3FC;\n",
              "      --hover-bg-color: #434B5C;\n",
              "      --hover-fill-color: #FFFFFF;\n",
              "      --disabled-bg-color: #3B4455;\n",
              "      --disabled-fill-color: #666;\n",
              "  }\n",
              "\n",
              "  .colab-df-quickchart {\n",
              "    background-color: var(--bg-color);\n",
              "    border: none;\n",
              "    border-radius: 50%;\n",
              "    cursor: pointer;\n",
              "    display: none;\n",
              "    fill: var(--fill-color);\n",
              "    height: 32px;\n",
              "    padding: 0;\n",
              "    width: 32px;\n",
              "  }\n",
              "\n",
              "  .colab-df-quickchart:hover {\n",
              "    background-color: var(--hover-bg-color);\n",
              "    box-shadow: 0 1px 2px rgba(60, 64, 67, 0.3), 0 1px 3px 1px rgba(60, 64, 67, 0.15);\n",
              "    fill: var(--button-hover-fill-color);\n",
              "  }\n",
              "\n",
              "  .colab-df-quickchart-complete:disabled,\n",
              "  .colab-df-quickchart-complete:disabled:hover {\n",
              "    background-color: var(--disabled-bg-color);\n",
              "    fill: var(--disabled-fill-color);\n",
              "    box-shadow: none;\n",
              "  }\n",
              "\n",
              "  .colab-df-spinner {\n",
              "    border: 2px solid var(--fill-color);\n",
              "    border-color: transparent;\n",
              "    border-bottom-color: var(--fill-color);\n",
              "    animation:\n",
              "      spin 1s steps(1) infinite;\n",
              "  }\n",
              "\n",
              "  @keyframes spin {\n",
              "    0% {\n",
              "      border-color: transparent;\n",
              "      border-bottom-color: var(--fill-color);\n",
              "      border-left-color: var(--fill-color);\n",
              "    }\n",
              "    20% {\n",
              "      border-color: transparent;\n",
              "      border-left-color: var(--fill-color);\n",
              "      border-top-color: var(--fill-color);\n",
              "    }\n",
              "    30% {\n",
              "      border-color: transparent;\n",
              "      border-left-color: var(--fill-color);\n",
              "      border-top-color: var(--fill-color);\n",
              "      border-right-color: var(--fill-color);\n",
              "    }\n",
              "    40% {\n",
              "      border-color: transparent;\n",
              "      border-right-color: var(--fill-color);\n",
              "      border-top-color: var(--fill-color);\n",
              "    }\n",
              "    60% {\n",
              "      border-color: transparent;\n",
              "      border-right-color: var(--fill-color);\n",
              "    }\n",
              "    80% {\n",
              "      border-color: transparent;\n",
              "      border-right-color: var(--fill-color);\n",
              "      border-bottom-color: var(--fill-color);\n",
              "    }\n",
              "    90% {\n",
              "      border-color: transparent;\n",
              "      border-bottom-color: var(--fill-color);\n",
              "    }\n",
              "  }\n",
              "</style>\n",
              "\n",
              "  <script>\n",
              "    async function quickchart(key) {\n",
              "      const quickchartButtonEl =\n",
              "        document.querySelector('#' + key + ' button');\n",
              "      quickchartButtonEl.disabled = true;  // To prevent multiple clicks.\n",
              "      quickchartButtonEl.classList.add('colab-df-spinner');\n",
              "      try {\n",
              "        const charts = await google.colab.kernel.invokeFunction(\n",
              "            'suggestCharts', [key], {});\n",
              "      } catch (error) {\n",
              "        console.error('Error during call to suggestCharts:', error);\n",
              "      }\n",
              "      quickchartButtonEl.classList.remove('colab-df-spinner');\n",
              "      quickchartButtonEl.classList.add('colab-df-quickchart-complete');\n",
              "    }\n",
              "    (() => {\n",
              "      let quickchartButtonEl =\n",
              "        document.querySelector('#df-2ef7218f-14f1-48f9-80f1-3f3c3a9520f6 button');\n",
              "      quickchartButtonEl.style.display =\n",
              "        google.colab.kernel.accessAllowed ? 'block' : 'none';\n",
              "    })();\n",
              "  </script>\n",
              "</div>\n",
              "\n",
              "    </div>\n",
              "  </div>\n"
            ],
            "application/vnd.google.colaboratory.intrinsic+json": {
              "type": "dataframe"
            }
          },
          "metadata": {},
          "execution_count": 10
        }
      ]
    },
    {
      "cell_type": "code",
      "source": [
        "len(dados)"
      ],
      "metadata": {
        "colab": {
          "base_uri": "https://localhost:8080/"
        },
        "id": "xMqoEL9mag5I",
        "outputId": "3c2d124a-bc34-4208-93e5-c1b0839923c5"
      },
      "execution_count": null,
      "outputs": [
        {
          "output_type": "execute_result",
          "data": {
            "text/plain": [
              "4271"
            ]
          },
          "metadata": {},
          "execution_count": 12
        }
      ]
    },
    {
      "cell_type": "code",
      "source": [
        "dados.columns"
      ],
      "metadata": {
        "colab": {
          "base_uri": "https://localhost:8080/"
        },
        "id": "XJPhpTppasz-",
        "outputId": "0d890905-ee63-4aae-d058-01787b3c804a"
      },
      "execution_count": null,
      "outputs": [
        {
          "output_type": "execute_result",
          "data": {
            "text/plain": [
              "Index(['Unnamed: 0', 'ID', 'IDADE', 'FAIXA IDADE', 'GENERO', 'COR/RACA/ETNIA',\n",
              "       'PCD', 'EXPERIENCIA_PROFISSIONAL_PREJUDICADA', 'ASPECTOS_PREJUDICADOS',\n",
              "       'VIVE_NO_BRASIL', 'ESTADO ONDE MORA', 'UF ONDE MORA',\n",
              "       'REGIAO ONDE MORA', 'MUDOU DE ESTADO?', 'REGIAO DE ORIGEM',\n",
              "       'NIVEL DE ENSINO', 'ÁREA DE FORMAÇÃO',\n",
              "       'QUAL SUA SITUAÇÃO ATUAL DE TRABALHO?', 'SETOR',\n",
              "       'NUMERO DE FUNCIONARIOS', 'GESTOR?', 'CARGO COMO GESTOR', 'CARGO ATUAL',\n",
              "       'NIVEL', 'FAIXA SALARIAL',\n",
              "       'QUANTO TEMPO DE EXPERIÊNCIA NA ÁREA DE DADOS VOCÊ TEM?',\n",
              "       'QUANTO TEMPO DE EXPERIÊNCIA NA ÁREA DE TI/ENGENHARIA DE SOFTWARE VOCÊ TEVE ANTES DE COMEÇAR A TRABALHAR NA ÁREA DE DADOS?',\n",
              "       'SALARIO'],\n",
              "      dtype='object')"
            ]
          },
          "metadata": {},
          "execution_count": 14
        }
      ]
    },
    {
      "cell_type": "code",
      "source": [
        "dados.info()"
      ],
      "metadata": {
        "colab": {
          "base_uri": "https://localhost:8080/"
        },
        "id": "MmtoCOZma3re",
        "outputId": "08a28710-ce51-4a6e-8db0-d304fab5ee91"
      },
      "execution_count": null,
      "outputs": [
        {
          "output_type": "stream",
          "name": "stdout",
          "text": [
            "<class 'pandas.core.frame.DataFrame'>\n",
            "RangeIndex: 4271 entries, 0 to 4270\n",
            "Data columns (total 28 columns):\n",
            " #   Column                                                                                                                     Non-Null Count  Dtype  \n",
            "---  ------                                                                                                                     --------------  -----  \n",
            " 0   Unnamed: 0                                                                                                                 4271 non-null   int64  \n",
            " 1   ID                                                                                                                         4271 non-null   object \n",
            " 2   IDADE                                                                                                                      4197 non-null   float64\n",
            " 3   FAIXA IDADE                                                                                                                4271 non-null   object \n",
            " 4   GENERO                                                                                                                     4262 non-null   object \n",
            " 5   COR/RACA/ETNIA                                                                                                             4271 non-null   object \n",
            " 6   PCD                                                                                                                        4271 non-null   object \n",
            " 7   EXPERIENCIA_PROFISSIONAL_PREJUDICADA                                                                                       2190 non-null   object \n",
            " 8   ASPECTOS_PREJUDICADOS                                                                                                      837 non-null    object \n",
            " 9   VIVE_NO_BRASIL                                                                                                             4271 non-null   bool   \n",
            " 10  ESTADO ONDE MORA                                                                                                           4156 non-null   object \n",
            " 11  UF ONDE MORA                                                                                                               4156 non-null   object \n",
            " 12  REGIAO ONDE MORA                                                                                                           4171 non-null   object \n",
            " 13  MUDOU DE ESTADO?                                                                                                           4171 non-null   float64\n",
            " 14  REGIAO DE ORIGEM                                                                                                           772 non-null    object \n",
            " 15  NIVEL DE ENSINO                                                                                                            4271 non-null   object \n",
            " 16  ÁREA DE FORMAÇÃO                                                                                                           4149 non-null   object \n",
            " 17  QUAL SUA SITUAÇÃO ATUAL DE TRABALHO?                                                                                       4271 non-null   object \n",
            " 18  SETOR                                                                                                                      3694 non-null   object \n",
            " 19  NUMERO DE FUNCIONARIOS                                                                                                     3694 non-null   object \n",
            " 20  GESTOR?                                                                                                                    3694 non-null   float64\n",
            " 21  CARGO COMO GESTOR                                                                                                          713 non-null    object \n",
            " 22  CARGO ATUAL                                                                                                                2981 non-null   object \n",
            " 23  NIVEL                                                                                                                      2981 non-null   object \n",
            " 24  FAIXA SALARIAL                                                                                                             3694 non-null   object \n",
            " 25  QUANTO TEMPO DE EXPERIÊNCIA NA ÁREA DE DADOS VOCÊ TEM?                                                                     3694 non-null   object \n",
            " 26  QUANTO TEMPO DE EXPERIÊNCIA NA ÁREA DE TI/ENGENHARIA DE SOFTWARE VOCÊ TEVE ANTES DE COMEÇAR A TRABALHAR NA ÁREA DE DADOS?  3694 non-null   object \n",
            " 27  SALARIO                                                                                                                    3694 non-null   float64\n",
            "dtypes: bool(1), float64(4), int64(1), object(22)\n",
            "memory usage: 905.2+ KB\n"
          ]
        }
      ]
    },
    {
      "cell_type": "code",
      "source": [
        "dados.describe()"
      ],
      "metadata": {
        "colab": {
          "base_uri": "https://localhost:8080/",
          "height": 318
        },
        "id": "dQywvd-Qd-mG",
        "outputId": "8e1b8d70-9a0d-40b1-d392-0ca000508d8f"
      },
      "execution_count": null,
      "outputs": [
        {
          "output_type": "execute_result",
          "data": {
            "text/plain": [
              "        Unnamed: 0        IDADE  MUDOU DE ESTADO?      GESTOR?        SALARIO\n",
              "count  4271.000000  4197.000000       4171.000000  3694.000000    3694.000000\n",
              "mean   2135.000000    31.169168          0.806281     0.193016   10969.266919\n",
              "std    1233.075829     6.902803          0.395258     0.394719   19419.753189\n",
              "min       0.000000    18.000000          0.000000     0.000000      35.000000\n",
              "25%    1067.500000    26.000000          1.000000     0.000000    4269.500000\n",
              "50%    2135.000000    30.000000          1.000000     0.000000    7625.500000\n",
              "75%    3202.500000    35.000000          1.000000     0.000000   12778.500000\n",
              "max    4270.000000    54.000000          1.000000     1.000000  485191.000000"
            ],
            "text/html": [
              "\n",
              "  <div id=\"df-3e3b85ec-1f2e-49ea-92f2-c572eb97766f\" class=\"colab-df-container\">\n",
              "    <div>\n",
              "<style scoped>\n",
              "    .dataframe tbody tr th:only-of-type {\n",
              "        vertical-align: middle;\n",
              "    }\n",
              "\n",
              "    .dataframe tbody tr th {\n",
              "        vertical-align: top;\n",
              "    }\n",
              "\n",
              "    .dataframe thead th {\n",
              "        text-align: right;\n",
              "    }\n",
              "</style>\n",
              "<table border=\"1\" class=\"dataframe\">\n",
              "  <thead>\n",
              "    <tr style=\"text-align: right;\">\n",
              "      <th></th>\n",
              "      <th>Unnamed: 0</th>\n",
              "      <th>IDADE</th>\n",
              "      <th>MUDOU DE ESTADO?</th>\n",
              "      <th>GESTOR?</th>\n",
              "      <th>SALARIO</th>\n",
              "    </tr>\n",
              "  </thead>\n",
              "  <tbody>\n",
              "    <tr>\n",
              "      <th>count</th>\n",
              "      <td>4271.000000</td>\n",
              "      <td>4197.000000</td>\n",
              "      <td>4171.000000</td>\n",
              "      <td>3694.000000</td>\n",
              "      <td>3694.000000</td>\n",
              "    </tr>\n",
              "    <tr>\n",
              "      <th>mean</th>\n",
              "      <td>2135.000000</td>\n",
              "      <td>31.169168</td>\n",
              "      <td>0.806281</td>\n",
              "      <td>0.193016</td>\n",
              "      <td>10969.266919</td>\n",
              "    </tr>\n",
              "    <tr>\n",
              "      <th>std</th>\n",
              "      <td>1233.075829</td>\n",
              "      <td>6.902803</td>\n",
              "      <td>0.395258</td>\n",
              "      <td>0.394719</td>\n",
              "      <td>19419.753189</td>\n",
              "    </tr>\n",
              "    <tr>\n",
              "      <th>min</th>\n",
              "      <td>0.000000</td>\n",
              "      <td>18.000000</td>\n",
              "      <td>0.000000</td>\n",
              "      <td>0.000000</td>\n",
              "      <td>35.000000</td>\n",
              "    </tr>\n",
              "    <tr>\n",
              "      <th>25%</th>\n",
              "      <td>1067.500000</td>\n",
              "      <td>26.000000</td>\n",
              "      <td>1.000000</td>\n",
              "      <td>0.000000</td>\n",
              "      <td>4269.500000</td>\n",
              "    </tr>\n",
              "    <tr>\n",
              "      <th>50%</th>\n",
              "      <td>2135.000000</td>\n",
              "      <td>30.000000</td>\n",
              "      <td>1.000000</td>\n",
              "      <td>0.000000</td>\n",
              "      <td>7625.500000</td>\n",
              "    </tr>\n",
              "    <tr>\n",
              "      <th>75%</th>\n",
              "      <td>3202.500000</td>\n",
              "      <td>35.000000</td>\n",
              "      <td>1.000000</td>\n",
              "      <td>0.000000</td>\n",
              "      <td>12778.500000</td>\n",
              "    </tr>\n",
              "    <tr>\n",
              "      <th>max</th>\n",
              "      <td>4270.000000</td>\n",
              "      <td>54.000000</td>\n",
              "      <td>1.000000</td>\n",
              "      <td>1.000000</td>\n",
              "      <td>485191.000000</td>\n",
              "    </tr>\n",
              "  </tbody>\n",
              "</table>\n",
              "</div>\n",
              "    <div class=\"colab-df-buttons\">\n",
              "\n",
              "  <div class=\"colab-df-container\">\n",
              "    <button class=\"colab-df-convert\" onclick=\"convertToInteractive('df-3e3b85ec-1f2e-49ea-92f2-c572eb97766f')\"\n",
              "            title=\"Convert this dataframe to an interactive table.\"\n",
              "            style=\"display:none;\">\n",
              "\n",
              "  <svg xmlns=\"http://www.w3.org/2000/svg\" height=\"24px\" viewBox=\"0 -960 960 960\">\n",
              "    <path d=\"M120-120v-720h720v720H120Zm60-500h600v-160H180v160Zm220 220h160v-160H400v160Zm0 220h160v-160H400v160ZM180-400h160v-160H180v160Zm440 0h160v-160H620v160ZM180-180h160v-160H180v160Zm440 0h160v-160H620v160Z\"/>\n",
              "  </svg>\n",
              "    </button>\n",
              "\n",
              "  <style>\n",
              "    .colab-df-container {\n",
              "      display:flex;\n",
              "      gap: 12px;\n",
              "    }\n",
              "\n",
              "    .colab-df-convert {\n",
              "      background-color: #E8F0FE;\n",
              "      border: none;\n",
              "      border-radius: 50%;\n",
              "      cursor: pointer;\n",
              "      display: none;\n",
              "      fill: #1967D2;\n",
              "      height: 32px;\n",
              "      padding: 0 0 0 0;\n",
              "      width: 32px;\n",
              "    }\n",
              "\n",
              "    .colab-df-convert:hover {\n",
              "      background-color: #E2EBFA;\n",
              "      box-shadow: 0px 1px 2px rgba(60, 64, 67, 0.3), 0px 1px 3px 1px rgba(60, 64, 67, 0.15);\n",
              "      fill: #174EA6;\n",
              "    }\n",
              "\n",
              "    .colab-df-buttons div {\n",
              "      margin-bottom: 4px;\n",
              "    }\n",
              "\n",
              "    [theme=dark] .colab-df-convert {\n",
              "      background-color: #3B4455;\n",
              "      fill: #D2E3FC;\n",
              "    }\n",
              "\n",
              "    [theme=dark] .colab-df-convert:hover {\n",
              "      background-color: #434B5C;\n",
              "      box-shadow: 0px 1px 3px 1px rgba(0, 0, 0, 0.15);\n",
              "      filter: drop-shadow(0px 1px 2px rgba(0, 0, 0, 0.3));\n",
              "      fill: #FFFFFF;\n",
              "    }\n",
              "  </style>\n",
              "\n",
              "    <script>\n",
              "      const buttonEl =\n",
              "        document.querySelector('#df-3e3b85ec-1f2e-49ea-92f2-c572eb97766f button.colab-df-convert');\n",
              "      buttonEl.style.display =\n",
              "        google.colab.kernel.accessAllowed ? 'block' : 'none';\n",
              "\n",
              "      async function convertToInteractive(key) {\n",
              "        const element = document.querySelector('#df-3e3b85ec-1f2e-49ea-92f2-c572eb97766f');\n",
              "        const dataTable =\n",
              "          await google.colab.kernel.invokeFunction('convertToInteractive',\n",
              "                                                    [key], {});\n",
              "        if (!dataTable) return;\n",
              "\n",
              "        const docLinkHtml = 'Like what you see? Visit the ' +\n",
              "          '<a target=\"_blank\" href=https://colab.research.google.com/notebooks/data_table.ipynb>data table notebook</a>'\n",
              "          + ' to learn more about interactive tables.';\n",
              "        element.innerHTML = '';\n",
              "        dataTable['output_type'] = 'display_data';\n",
              "        await google.colab.output.renderOutput(dataTable, element);\n",
              "        const docLink = document.createElement('div');\n",
              "        docLink.innerHTML = docLinkHtml;\n",
              "        element.appendChild(docLink);\n",
              "      }\n",
              "    </script>\n",
              "  </div>\n",
              "\n",
              "\n",
              "<div id=\"df-e9dc229e-faef-4b5e-b1ee-65da4c3991c1\">\n",
              "  <button class=\"colab-df-quickchart\" onclick=\"quickchart('df-e9dc229e-faef-4b5e-b1ee-65da4c3991c1')\"\n",
              "            title=\"Suggest charts\"\n",
              "            style=\"display:none;\">\n",
              "\n",
              "<svg xmlns=\"http://www.w3.org/2000/svg\" height=\"24px\"viewBox=\"0 0 24 24\"\n",
              "     width=\"24px\">\n",
              "    <g>\n",
              "        <path d=\"M19 3H5c-1.1 0-2 .9-2 2v14c0 1.1.9 2 2 2h14c1.1 0 2-.9 2-2V5c0-1.1-.9-2-2-2zM9 17H7v-7h2v7zm4 0h-2V7h2v10zm4 0h-2v-4h2v4z\"/>\n",
              "    </g>\n",
              "</svg>\n",
              "  </button>\n",
              "\n",
              "<style>\n",
              "  .colab-df-quickchart {\n",
              "      --bg-color: #E8F0FE;\n",
              "      --fill-color: #1967D2;\n",
              "      --hover-bg-color: #E2EBFA;\n",
              "      --hover-fill-color: #174EA6;\n",
              "      --disabled-fill-color: #AAA;\n",
              "      --disabled-bg-color: #DDD;\n",
              "  }\n",
              "\n",
              "  [theme=dark] .colab-df-quickchart {\n",
              "      --bg-color: #3B4455;\n",
              "      --fill-color: #D2E3FC;\n",
              "      --hover-bg-color: #434B5C;\n",
              "      --hover-fill-color: #FFFFFF;\n",
              "      --disabled-bg-color: #3B4455;\n",
              "      --disabled-fill-color: #666;\n",
              "  }\n",
              "\n",
              "  .colab-df-quickchart {\n",
              "    background-color: var(--bg-color);\n",
              "    border: none;\n",
              "    border-radius: 50%;\n",
              "    cursor: pointer;\n",
              "    display: none;\n",
              "    fill: var(--fill-color);\n",
              "    height: 32px;\n",
              "    padding: 0;\n",
              "    width: 32px;\n",
              "  }\n",
              "\n",
              "  .colab-df-quickchart:hover {\n",
              "    background-color: var(--hover-bg-color);\n",
              "    box-shadow: 0 1px 2px rgba(60, 64, 67, 0.3), 0 1px 3px 1px rgba(60, 64, 67, 0.15);\n",
              "    fill: var(--button-hover-fill-color);\n",
              "  }\n",
              "\n",
              "  .colab-df-quickchart-complete:disabled,\n",
              "  .colab-df-quickchart-complete:disabled:hover {\n",
              "    background-color: var(--disabled-bg-color);\n",
              "    fill: var(--disabled-fill-color);\n",
              "    box-shadow: none;\n",
              "  }\n",
              "\n",
              "  .colab-df-spinner {\n",
              "    border: 2px solid var(--fill-color);\n",
              "    border-color: transparent;\n",
              "    border-bottom-color: var(--fill-color);\n",
              "    animation:\n",
              "      spin 1s steps(1) infinite;\n",
              "  }\n",
              "\n",
              "  @keyframes spin {\n",
              "    0% {\n",
              "      border-color: transparent;\n",
              "      border-bottom-color: var(--fill-color);\n",
              "      border-left-color: var(--fill-color);\n",
              "    }\n",
              "    20% {\n",
              "      border-color: transparent;\n",
              "      border-left-color: var(--fill-color);\n",
              "      border-top-color: var(--fill-color);\n",
              "    }\n",
              "    30% {\n",
              "      border-color: transparent;\n",
              "      border-left-color: var(--fill-color);\n",
              "      border-top-color: var(--fill-color);\n",
              "      border-right-color: var(--fill-color);\n",
              "    }\n",
              "    40% {\n",
              "      border-color: transparent;\n",
              "      border-right-color: var(--fill-color);\n",
              "      border-top-color: var(--fill-color);\n",
              "    }\n",
              "    60% {\n",
              "      border-color: transparent;\n",
              "      border-right-color: var(--fill-color);\n",
              "    }\n",
              "    80% {\n",
              "      border-color: transparent;\n",
              "      border-right-color: var(--fill-color);\n",
              "      border-bottom-color: var(--fill-color);\n",
              "    }\n",
              "    90% {\n",
              "      border-color: transparent;\n",
              "      border-bottom-color: var(--fill-color);\n",
              "    }\n",
              "  }\n",
              "</style>\n",
              "\n",
              "  <script>\n",
              "    async function quickchart(key) {\n",
              "      const quickchartButtonEl =\n",
              "        document.querySelector('#' + key + ' button');\n",
              "      quickchartButtonEl.disabled = true;  // To prevent multiple clicks.\n",
              "      quickchartButtonEl.classList.add('colab-df-spinner');\n",
              "      try {\n",
              "        const charts = await google.colab.kernel.invokeFunction(\n",
              "            'suggestCharts', [key], {});\n",
              "      } catch (error) {\n",
              "        console.error('Error during call to suggestCharts:', error);\n",
              "      }\n",
              "      quickchartButtonEl.classList.remove('colab-df-spinner');\n",
              "      quickchartButtonEl.classList.add('colab-df-quickchart-complete');\n",
              "    }\n",
              "    (() => {\n",
              "      let quickchartButtonEl =\n",
              "        document.querySelector('#df-e9dc229e-faef-4b5e-b1ee-65da4c3991c1 button');\n",
              "      quickchartButtonEl.style.display =\n",
              "        google.colab.kernel.accessAllowed ? 'block' : 'none';\n",
              "    })();\n",
              "  </script>\n",
              "</div>\n",
              "\n",
              "    </div>\n",
              "  </div>\n"
            ],
            "application/vnd.google.colaboratory.intrinsic+json": {
              "type": "dataframe",
              "summary": "{\n  \"name\": \"dados\",\n  \"rows\": 8,\n  \"fields\": [\n    {\n      \"column\": \"Unnamed: 0\",\n      \"properties\": {\n        \"dtype\": \"number\",\n        \"std\": 1539.070118904066,\n        \"min\": 0.0,\n        \"max\": 4271.0,\n        \"num_unique_values\": 7,\n        \"samples\": [\n          4271.0,\n          2135.0,\n          3202.5\n        ],\n        \"semantic_type\": \"\",\n        \"description\": \"\"\n      }\n    },\n    {\n      \"column\": \"IDADE\",\n      \"properties\": {\n        \"dtype\": \"number\",\n        \"std\": 1473.7701668399807,\n        \"min\": 6.902802832143122,\n        \"max\": 4197.0,\n        \"num_unique_values\": 8,\n        \"samples\": [\n          31.169168453657374,\n          30.0,\n          4197.0\n        ],\n        \"semantic_type\": \"\",\n        \"description\": \"\"\n      }\n    },\n    {\n      \"column\": \"MUDOU DE ESTADO?\",\n      \"properties\": {\n        \"dtype\": \"number\",\n        \"std\": 1474.4085203289899,\n        \"min\": 0.0,\n        \"max\": 4171.0,\n        \"num_unique_values\": 5,\n        \"samples\": [\n          0.806281467274035,\n          1.0,\n          0.3952582938265937\n        ],\n        \"semantic_type\": \"\",\n        \"description\": \"\"\n      }\n    },\n    {\n      \"column\": \"GESTOR?\",\n      \"properties\": {\n        \"dtype\": \"number\",\n        \"std\": 1305.9460777134695,\n        \"min\": 0.0,\n        \"max\": 3694.0,\n        \"num_unique_values\": 5,\n        \"samples\": [\n          0.19301570113697888,\n          1.0,\n          0.39471865615491697\n        ],\n        \"semantic_type\": \"\",\n        \"description\": \"\"\n      }\n    },\n    {\n      \"column\": \"SALARIO\",\n      \"properties\": {\n        \"dtype\": \"number\",\n        \"std\": 168680.3609292338,\n        \"min\": 35.0,\n        \"max\": 485191.0,\n        \"num_unique_values\": 8,\n        \"samples\": [\n          10969.26691932864,\n          7625.5,\n          3694.0\n        ],\n        \"semantic_type\": \"\",\n        \"description\": \"\"\n      }\n    }\n  ]\n}"
            }
          },
          "metadata": {},
          "execution_count": 16
        }
      ]
    },
    {
      "cell_type": "markdown",
      "source": [],
      "metadata": {
        "id": "LBwZi8IHf5MB"
      }
    },
    {
      "cell_type": "code",
      "source": [
        "dados.shape"
      ],
      "metadata": {
        "colab": {
          "base_uri": "https://localhost:8080/"
        },
        "id": "gG-RmSNvaUOp",
        "outputId": "08f7de43-bfb5-42c4-df88-b8164c95376d"
      },
      "execution_count": null,
      "outputs": [
        {
          "output_type": "execute_result",
          "data": {
            "text/plain": [
              "(4271, 28)"
            ]
          },
          "metadata": {},
          "execution_count": 11
        }
      ]
    },
    {
      "cell_type": "markdown",
      "source": [],
      "metadata": {
        "id": "vKOf9yBsf7wG"
      }
    },
    {
      "cell_type": "markdown",
      "source": [
        "#Repetindo analise do excel"
      ],
      "metadata": {
        "id": "32Gbyevof-Na"
      }
    },
    {
      "cell_type": "code",
      "source": [
        "dados.columns"
      ],
      "metadata": {
        "colab": {
          "base_uri": "https://localhost:8080/"
        },
        "id": "4byNVSutgyUW",
        "outputId": "fb0e4e71-dcd8-43dd-f245-95bf7e6f057b"
      },
      "execution_count": null,
      "outputs": [
        {
          "output_type": "execute_result",
          "data": {
            "text/plain": [
              "Index(['Unnamed: 0', 'ID', 'IDADE', 'FAIXA IDADE', 'GENERO', 'COR/RACA/ETNIA',\n",
              "       'PCD', 'EXPERIENCIA_PROFISSIONAL_PREJUDICADA', 'ASPECTOS_PREJUDICADOS',\n",
              "       'VIVE_NO_BRASIL', 'ESTADO ONDE MORA', 'UF ONDE MORA',\n",
              "       'REGIAO ONDE MORA', 'MUDOU DE ESTADO?', 'REGIAO DE ORIGEM',\n",
              "       'NIVEL DE ENSINO', 'ÁREA DE FORMAÇÃO',\n",
              "       'QUAL SUA SITUAÇÃO ATUAL DE TRABALHO?', 'SETOR',\n",
              "       'NUMERO DE FUNCIONARIOS', 'GESTOR?', 'CARGO COMO GESTOR', 'CARGO ATUAL',\n",
              "       'FAIXA SALARIAL',\n",
              "       'QUANTO TEMPO DE EXPERIÊNCIA NA ÁREA DE DADOS VOCÊ TEM?',\n",
              "       'QUANTO TEMPO DE EXPERIÊNCIA NA ÁREA DE TI/ENGENHARIA DE SOFTWARE VOCÊ TEVE ANTES DE COMEÇAR A TRABALHAR NA ÁREA DE DADOS?',\n",
              "       'SALARIO', 'NOVO_NIVEL', 'NIVEL_Júnior', 'NIVEL_Pleno', 'NIVEL_Sênior',\n",
              "       'GERACAO', 'Quanto tempo de experiência na área de dados você tem?_x',\n",
              "       'Quanto tempo de experiência na área de TI/Engenharia de Software você teve antes de começar a trabalhar na área de dados?_x',\n",
              "       'Você está satisfeito na sua empresa atual?_x',\n",
              "       'Qual o principal motivo da sua insatisfação com a empresa atual?',\n",
              "       '('P2_m ', 'Você participou de entrevistas de emprego nos últimos 6 meses?')',\n",
              "       '('P2_n ', 'Você pretende mudar de emprego nos próximos 6 meses?')',\n",
              "       '('P2_o ', 'Quais os principais critérios que você leva em consideração no momento de decidir onde trabalhar?')',\n",
              "       '('P2_p ', 'Atualmente qual a sua forma de trabalho?')',\n",
              "       '('P2_q ', 'Qual a forma de trabalho ideal para você?')',\n",
              "       '('P2_r ', 'Caso sua empresa decida pelo modelo 100% presencial qual será sua atitude?')',\n",
              "       '('P2_s ', 'Sua empresa passu por Layoff em 2022?')',\n",
              "       '('P4_a_1 ', 'Atuacao')',\n",
              "       '('P4_d ', 'Quais das linguagens listadas abaixo você utiliza no trabalho?')',\n",
              "       'Quanto tempo de experiência na área de dados você tem?_y',\n",
              "       'Quanto tempo de experiência na área de TI/Engenharia de Software você teve antes de começar a trabalhar na área de dados?_y',\n",
              "       'Você está satisfeito na sua empresa atual?_y', '0_x',\n",
              "       ' Você participou de entrevistas de emprego nos últimos 6 meses?_x',\n",
              "       ' Você pretende mudar de emprego nos próximos 6 meses?_x',\n",
              "       'Quais os principais critérios que você leva em consideração no momento de decidir onde trabalhar?_x',\n",
              "       'Atualmente qual a sua forma de trabalho?_x',\n",
              "       'Qual a forma de trabalho ideal para você?_x',\n",
              "       'Caso sua empresa decida pelo modelo 100% presencial qual será sua atitude?_x',\n",
              "       'Sua empresa passu por Layoff em 2022?_x', ' Atuacao_x',\n",
              "       'Quais das linguagens listadas abaixo você utiliza no trabalho?_x',\n",
              "       'Quanto tempo de experiência na área de dados você tem?',\n",
              "       'Quanto tempo de experiência na área de TI/Engenharia de Software você teve antes de começar a trabalhar na área de dados?',\n",
              "       'Você está satisfeito na sua empresa atual?', '0_y',\n",
              "       ' Você participou de entrevistas de emprego nos últimos 6 meses?_y',\n",
              "       ' Você pretende mudar de emprego nos próximos 6 meses?_y',\n",
              "       'Quais os principais critérios que você leva em consideração no momento de decidir onde trabalhar?_y',\n",
              "       'Atualmente qual a sua forma de trabalho?_y',\n",
              "       'Qual a forma de trabalho ideal para você?_y',\n",
              "       'Caso sua empresa decida pelo modelo 100% presencial qual será sua atitude?_y',\n",
              "       'Sua empresa passu por Layoff em 2022?_y', ' Atuacao_y',\n",
              "       'Quais das linguagens listadas abaixo você utiliza no trabalho?_y',\n",
              "       'EM_BUSCA'],\n",
              "      dtype='object')"
            ]
          },
          "metadata": {},
          "execution_count": 151
        }
      ]
    },
    {
      "cell_type": "code",
      "source": [
        "dados['GENERO']"
      ],
      "metadata": {
        "colab": {
          "base_uri": "https://localhost:8080/"
        },
        "id": "EC5hEhVBhElg",
        "outputId": "8bfc0e73-efd5-4a32-d554-82140857b1bb"
      },
      "execution_count": null,
      "outputs": [
        {
          "output_type": "execute_result",
          "data": {
            "text/plain": [
              "0       Masculino\n",
              "1       Masculino\n",
              "2       Masculino\n",
              "3       Masculino\n",
              "4        Feminino\n",
              "          ...    \n",
              "4266    Masculino\n",
              "4267     Feminino\n",
              "4268    Masculino\n",
              "4269    Masculino\n",
              "4270    Masculino\n",
              "Name: GENERO, Length: 4271, dtype: object"
            ]
          },
          "metadata": {},
          "execution_count": 19
        }
      ]
    },
    {
      "cell_type": "code",
      "source": [
        "dados[dados['GENERO']=='Feminino']"
      ],
      "metadata": {
        "colab": {
          "base_uri": "https://localhost:8080/",
          "height": 1000
        },
        "id": "Z_Zu0SbJgMn0",
        "outputId": "4a859294-795d-430b-9c70-b18124dad7ea"
      },
      "execution_count": null,
      "outputs": [
        {
          "output_type": "execute_result",
          "data": {
            "text/plain": [
              "      Unnamed: 0                                ID  IDADE FAIXA IDADE  \\\n",
              "4              4  zzaf1m95yan929rb94wzzaf1mekhvhpg   46.0       45-49   \n",
              "5              5  zz0nlhbd8oxyiyxzz0nlh7g4xkiaza5v   32.0       30-34   \n",
              "7              7  zyc0twzno2sm5or5ovoxzyc0twz0300d   31.0       30-34   \n",
              "9              9  zxc3d314cn1c2ovmzxc34ha7nkw1na3j    NaN         55+   \n",
              "10            10  zwy34gktg0tfjq2ttjvazwy34gg3g49i   25.0       25-29   \n",
              "...          ...                               ...    ...         ...   \n",
              "4248        4248  070o4zayoboztox764qu070o4zafbqrd   27.0       25-29   \n",
              "4251        4251  068hhicrqggu068huq0l2ab3g7liagy8   34.0       30-34   \n",
              "4258        4258  03zjgijmnwv9qrlzbr03zjgij1eae1hw   25.0       25-29   \n",
              "4259        4259  03n2lq8st9zobnowu3w03n2lqi0flz2w   28.0       25-29   \n",
              "4267        4267  01dyfxam4u4bi29fem01dyfxaq9akvqp   30.0       30-34   \n",
              "\n",
              "        GENERO COR/RACA/ETNIA  PCD  \\\n",
              "4     Feminino         Branca  Não   \n",
              "5     Feminino          Parda  Não   \n",
              "7     Feminino         Branca  Não   \n",
              "9     Feminino          Parda  Não   \n",
              "10    Feminino          Parda  Não   \n",
              "...        ...            ...  ...   \n",
              "4248  Feminino         Branca  Não   \n",
              "4251  Feminino          Preta  Não   \n",
              "4258  Feminino         Branca  Não   \n",
              "4259  Feminino         Branca  Não   \n",
              "4267  Feminino         Branca  Não   \n",
              "\n",
              "                   EXPERIENCIA_PROFISSIONAL_PREJUDICADA  \\\n",
              "4     Não acredito que minha experiência profissiona...   \n",
              "5     Não acredito que minha experiência profissiona...   \n",
              "7     Não acredito que minha experiência profissiona...   \n",
              "9     Não acredito que minha experiência profissiona...   \n",
              "10    Não acredito que minha experiência profissiona...   \n",
              "...                                                 ...   \n",
              "4248  Não acredito que minha experiência profissiona...   \n",
              "4251  Não acredito que minha experiência profissiona...   \n",
              "4258  Sim, acredito que a minha a experiência profis...   \n",
              "4259  Sim, acredito que a minha a experiência profis...   \n",
              "4267  Não acredito que minha experiência profissiona...   \n",
              "\n",
              "                                  ASPECTOS_PREJUDICADOS  VIVE_NO_BRASIL  ...  \\\n",
              "4                                                   NaN            True  ...   \n",
              "5                                                   NaN            True  ...   \n",
              "7                                                   NaN            True  ...   \n",
              "9                                                   NaN            True  ...   \n",
              "10                                                  NaN            True  ...   \n",
              "...                                                 ...             ...  ...   \n",
              "4248                                                NaN            True  ...   \n",
              "4251                                                NaN            True  ...   \n",
              "4258  Senioridade das vagas recebidas em relação à s...            True  ...   \n",
              "4259  Relação com outros membros da empresa, em mome...            True  ...   \n",
              "4267                                                NaN            True  ...   \n",
              "\n",
              "                               SETOR NUMERO DE FUNCIONARIOS GESTOR?  \\\n",
              "4                      Setor Público           de 101 a 500     0.0   \n",
              "5                           Educação         Acima de 3.000     0.0   \n",
              "7     Tecnologia/Fábrica de Software              de 6 a 10     0.0   \n",
              "9                           Educação         Acima de 3.000     0.0   \n",
              "10                            Varejo           de 101 a 500     0.0   \n",
              "...                              ...                    ...     ...   \n",
              "4248              Finanças ou Bancos           de 101 a 500     0.0   \n",
              "4251              Finanças ou Bancos       de 1.001 a 3.000     0.0   \n",
              "4258                             NaN                    NaN     NaN   \n",
              "4259              Finanças ou Bancos         Acima de 3.000     1.0   \n",
              "4267             Área de Consultoria            de 51 a 100     0.0   \n",
              "\n",
              "           CARGO COMO GESTOR  \\\n",
              "4                        NaN   \n",
              "5                        NaN   \n",
              "7                        NaN   \n",
              "9                        NaN   \n",
              "10                       NaN   \n",
              "...                      ...   \n",
              "4248                     NaN   \n",
              "4251                     NaN   \n",
              "4258                     NaN   \n",
              "4259  Supervisor/Coordenador   \n",
              "4267                     NaN   \n",
              "\n",
              "                                            CARGO ATUAL   NIVEL  \\\n",
              "4     Desenvolvedor/ Engenheiro de Software/ Analist...   Pleno   \n",
              "5                                             Professor   Pleno   \n",
              "7     Desenvolvedor/ Engenheiro de Software/ Analist...  Júnior   \n",
              "9                                             Professor   Pleno   \n",
              "10                            Analista de BI/BI Analyst  Júnior   \n",
              "...                                                 ...     ...   \n",
              "4248                  Cientista de Dados/Data Scientist   Pleno   \n",
              "4251  Engenheiro de Dados/Arquiteto de Dados/Data En...   Pleno   \n",
              "4258                                                NaN     NaN   \n",
              "4259                                                NaN     NaN   \n",
              "4267  Engenheiro de Dados/Arquiteto de Dados/Data En...   Pleno   \n",
              "\n",
              "                        FAIXA SALARIAL  \\\n",
              "4       de R$ 6.001/mês a R$ 8.000/mês   \n",
              "5       de R$ 2.001/mês a R$ 3.000/mês   \n",
              "7       de R$ 2.001/mês a R$ 3.000/mês   \n",
              "9      de R$ 8.001/mês a R$ 12.000/mês   \n",
              "10      de R$ 3.001/mês a R$ 4.000/mês   \n",
              "...                                ...   \n",
              "4248    de R$ 4.001/mês a R$ 6.000/mês   \n",
              "4251    de R$ 4.001/mês a R$ 6.000/mês   \n",
              "4258                               NaN   \n",
              "4259  de R$ 20.001/mês a R$ 25.000/mês   \n",
              "4267    de R$ 3.001/mês a R$ 4.000/mês   \n",
              "\n",
              "     QUANTO TEMPO DE EXPERIÊNCIA NA ÁREA DE DADOS VOCÊ TEM?  \\\n",
              "4                Não tenho experiência na área de dados       \n",
              "5                Não tenho experiência na área de dados       \n",
              "7                                        Menos de 1 ano       \n",
              "9                                       Mais de 10 anos       \n",
              "10                                       Menos de 1 ano       \n",
              "...                                                 ...       \n",
              "4248                                      de 1 a 2 anos       \n",
              "4251                                     Menos de 1 ano       \n",
              "4258                                                NaN       \n",
              "4259                                      de 4 a 6 anos       \n",
              "4267                                      de 1 a 2 anos       \n",
              "\n",
              "     QUANTO TEMPO DE EXPERIÊNCIA NA ÁREA DE TI/ENGENHARIA DE SOFTWARE VOCÊ TEVE ANTES DE COMEÇAR A TRABALHAR NA ÁREA DE DADOS?  \\\n",
              "4                                       Mais de 10 anos                                                                          \n",
              "5     Não tive experiência na área de TI/Engenharia ...                                                                          \n",
              "7                                        Menos de 1 ano                                                                          \n",
              "9     Não tive experiência na área de TI/Engenharia ...                                                                          \n",
              "10    Não tive experiência na área de TI/Engenharia ...                                                                          \n",
              "...                                                 ...                                                                          \n",
              "4248  Não tive experiência na área de TI/Engenharia ...                                                                          \n",
              "4251                                     Menos de 1 ano                                                                          \n",
              "4258                                                NaN                                                                          \n",
              "4259  Não tive experiência na área de TI/Engenharia ...                                                                          \n",
              "4267  Não tive experiência na área de TI/Engenharia ...                                                                          \n",
              "\n",
              "      SALARIO  \n",
              "4      7733.0  \n",
              "5      2336.0  \n",
              "7      2704.0  \n",
              "9     10822.0  \n",
              "10     3450.0  \n",
              "...       ...  \n",
              "4248   4781.0  \n",
              "4251   5673.0  \n",
              "4258      NaN  \n",
              "4259  24963.0  \n",
              "4267   3758.0  \n",
              "\n",
              "[1056 rows x 28 columns]"
            ],
            "text/html": [
              "\n",
              "  <div id=\"df-04e89e64-7bbf-4fc2-8fee-14ff9e264328\" class=\"colab-df-container\">\n",
              "    <div>\n",
              "<style scoped>\n",
              "    .dataframe tbody tr th:only-of-type {\n",
              "        vertical-align: middle;\n",
              "    }\n",
              "\n",
              "    .dataframe tbody tr th {\n",
              "        vertical-align: top;\n",
              "    }\n",
              "\n",
              "    .dataframe thead th {\n",
              "        text-align: right;\n",
              "    }\n",
              "</style>\n",
              "<table border=\"1\" class=\"dataframe\">\n",
              "  <thead>\n",
              "    <tr style=\"text-align: right;\">\n",
              "      <th></th>\n",
              "      <th>Unnamed: 0</th>\n",
              "      <th>ID</th>\n",
              "      <th>IDADE</th>\n",
              "      <th>FAIXA IDADE</th>\n",
              "      <th>GENERO</th>\n",
              "      <th>COR/RACA/ETNIA</th>\n",
              "      <th>PCD</th>\n",
              "      <th>EXPERIENCIA_PROFISSIONAL_PREJUDICADA</th>\n",
              "      <th>ASPECTOS_PREJUDICADOS</th>\n",
              "      <th>VIVE_NO_BRASIL</th>\n",
              "      <th>...</th>\n",
              "      <th>SETOR</th>\n",
              "      <th>NUMERO DE FUNCIONARIOS</th>\n",
              "      <th>GESTOR?</th>\n",
              "      <th>CARGO COMO GESTOR</th>\n",
              "      <th>CARGO ATUAL</th>\n",
              "      <th>NIVEL</th>\n",
              "      <th>FAIXA SALARIAL</th>\n",
              "      <th>QUANTO TEMPO DE EXPERIÊNCIA NA ÁREA DE DADOS VOCÊ TEM?</th>\n",
              "      <th>QUANTO TEMPO DE EXPERIÊNCIA NA ÁREA DE TI/ENGENHARIA DE SOFTWARE VOCÊ TEVE ANTES DE COMEÇAR A TRABALHAR NA ÁREA DE DADOS?</th>\n",
              "      <th>SALARIO</th>\n",
              "    </tr>\n",
              "  </thead>\n",
              "  <tbody>\n",
              "    <tr>\n",
              "      <th>4</th>\n",
              "      <td>4</td>\n",
              "      <td>zzaf1m95yan929rb94wzzaf1mekhvhpg</td>\n",
              "      <td>46.0</td>\n",
              "      <td>45-49</td>\n",
              "      <td>Feminino</td>\n",
              "      <td>Branca</td>\n",
              "      <td>Não</td>\n",
              "      <td>Não acredito que minha experiência profissiona...</td>\n",
              "      <td>NaN</td>\n",
              "      <td>True</td>\n",
              "      <td>...</td>\n",
              "      <td>Setor Público</td>\n",
              "      <td>de 101 a 500</td>\n",
              "      <td>0.0</td>\n",
              "      <td>NaN</td>\n",
              "      <td>Desenvolvedor/ Engenheiro de Software/ Analist...</td>\n",
              "      <td>Pleno</td>\n",
              "      <td>de R$ 6.001/mês a R$ 8.000/mês</td>\n",
              "      <td>Não tenho experiência na área de dados</td>\n",
              "      <td>Mais de 10 anos</td>\n",
              "      <td>7733.0</td>\n",
              "    </tr>\n",
              "    <tr>\n",
              "      <th>5</th>\n",
              "      <td>5</td>\n",
              "      <td>zz0nlhbd8oxyiyxzz0nlh7g4xkiaza5v</td>\n",
              "      <td>32.0</td>\n",
              "      <td>30-34</td>\n",
              "      <td>Feminino</td>\n",
              "      <td>Parda</td>\n",
              "      <td>Não</td>\n",
              "      <td>Não acredito que minha experiência profissiona...</td>\n",
              "      <td>NaN</td>\n",
              "      <td>True</td>\n",
              "      <td>...</td>\n",
              "      <td>Educação</td>\n",
              "      <td>Acima de 3.000</td>\n",
              "      <td>0.0</td>\n",
              "      <td>NaN</td>\n",
              "      <td>Professor</td>\n",
              "      <td>Pleno</td>\n",
              "      <td>de R$ 2.001/mês a R$ 3.000/mês</td>\n",
              "      <td>Não tenho experiência na área de dados</td>\n",
              "      <td>Não tive experiência na área de TI/Engenharia ...</td>\n",
              "      <td>2336.0</td>\n",
              "    </tr>\n",
              "    <tr>\n",
              "      <th>7</th>\n",
              "      <td>7</td>\n",
              "      <td>zyc0twzno2sm5or5ovoxzyc0twz0300d</td>\n",
              "      <td>31.0</td>\n",
              "      <td>30-34</td>\n",
              "      <td>Feminino</td>\n",
              "      <td>Branca</td>\n",
              "      <td>Não</td>\n",
              "      <td>Não acredito que minha experiência profissiona...</td>\n",
              "      <td>NaN</td>\n",
              "      <td>True</td>\n",
              "      <td>...</td>\n",
              "      <td>Tecnologia/Fábrica de Software</td>\n",
              "      <td>de 6 a 10</td>\n",
              "      <td>0.0</td>\n",
              "      <td>NaN</td>\n",
              "      <td>Desenvolvedor/ Engenheiro de Software/ Analist...</td>\n",
              "      <td>Júnior</td>\n",
              "      <td>de R$ 2.001/mês a R$ 3.000/mês</td>\n",
              "      <td>Menos de 1 ano</td>\n",
              "      <td>Menos de 1 ano</td>\n",
              "      <td>2704.0</td>\n",
              "    </tr>\n",
              "    <tr>\n",
              "      <th>9</th>\n",
              "      <td>9</td>\n",
              "      <td>zxc3d314cn1c2ovmzxc34ha7nkw1na3j</td>\n",
              "      <td>NaN</td>\n",
              "      <td>55+</td>\n",
              "      <td>Feminino</td>\n",
              "      <td>Parda</td>\n",
              "      <td>Não</td>\n",
              "      <td>Não acredito que minha experiência profissiona...</td>\n",
              "      <td>NaN</td>\n",
              "      <td>True</td>\n",
              "      <td>...</td>\n",
              "      <td>Educação</td>\n",
              "      <td>Acima de 3.000</td>\n",
              "      <td>0.0</td>\n",
              "      <td>NaN</td>\n",
              "      <td>Professor</td>\n",
              "      <td>Pleno</td>\n",
              "      <td>de R$ 8.001/mês a R$ 12.000/mês</td>\n",
              "      <td>Mais de 10 anos</td>\n",
              "      <td>Não tive experiência na área de TI/Engenharia ...</td>\n",
              "      <td>10822.0</td>\n",
              "    </tr>\n",
              "    <tr>\n",
              "      <th>10</th>\n",
              "      <td>10</td>\n",
              "      <td>zwy34gktg0tfjq2ttjvazwy34gg3g49i</td>\n",
              "      <td>25.0</td>\n",
              "      <td>25-29</td>\n",
              "      <td>Feminino</td>\n",
              "      <td>Parda</td>\n",
              "      <td>Não</td>\n",
              "      <td>Não acredito que minha experiência profissiona...</td>\n",
              "      <td>NaN</td>\n",
              "      <td>True</td>\n",
              "      <td>...</td>\n",
              "      <td>Varejo</td>\n",
              "      <td>de 101 a 500</td>\n",
              "      <td>0.0</td>\n",
              "      <td>NaN</td>\n",
              "      <td>Analista de BI/BI Analyst</td>\n",
              "      <td>Júnior</td>\n",
              "      <td>de R$ 3.001/mês a R$ 4.000/mês</td>\n",
              "      <td>Menos de 1 ano</td>\n",
              "      <td>Não tive experiência na área de TI/Engenharia ...</td>\n",
              "      <td>3450.0</td>\n",
              "    </tr>\n",
              "    <tr>\n",
              "      <th>...</th>\n",
              "      <td>...</td>\n",
              "      <td>...</td>\n",
              "      <td>...</td>\n",
              "      <td>...</td>\n",
              "      <td>...</td>\n",
              "      <td>...</td>\n",
              "      <td>...</td>\n",
              "      <td>...</td>\n",
              "      <td>...</td>\n",
              "      <td>...</td>\n",
              "      <td>...</td>\n",
              "      <td>...</td>\n",
              "      <td>...</td>\n",
              "      <td>...</td>\n",
              "      <td>...</td>\n",
              "      <td>...</td>\n",
              "      <td>...</td>\n",
              "      <td>...</td>\n",
              "      <td>...</td>\n",
              "      <td>...</td>\n",
              "      <td>...</td>\n",
              "    </tr>\n",
              "    <tr>\n",
              "      <th>4248</th>\n",
              "      <td>4248</td>\n",
              "      <td>070o4zayoboztox764qu070o4zafbqrd</td>\n",
              "      <td>27.0</td>\n",
              "      <td>25-29</td>\n",
              "      <td>Feminino</td>\n",
              "      <td>Branca</td>\n",
              "      <td>Não</td>\n",
              "      <td>Não acredito que minha experiência profissiona...</td>\n",
              "      <td>NaN</td>\n",
              "      <td>True</td>\n",
              "      <td>...</td>\n",
              "      <td>Finanças ou Bancos</td>\n",
              "      <td>de 101 a 500</td>\n",
              "      <td>0.0</td>\n",
              "      <td>NaN</td>\n",
              "      <td>Cientista de Dados/Data Scientist</td>\n",
              "      <td>Pleno</td>\n",
              "      <td>de R$ 4.001/mês a R$ 6.000/mês</td>\n",
              "      <td>de 1 a 2 anos</td>\n",
              "      <td>Não tive experiência na área de TI/Engenharia ...</td>\n",
              "      <td>4781.0</td>\n",
              "    </tr>\n",
              "    <tr>\n",
              "      <th>4251</th>\n",
              "      <td>4251</td>\n",
              "      <td>068hhicrqggu068huq0l2ab3g7liagy8</td>\n",
              "      <td>34.0</td>\n",
              "      <td>30-34</td>\n",
              "      <td>Feminino</td>\n",
              "      <td>Preta</td>\n",
              "      <td>Não</td>\n",
              "      <td>Não acredito que minha experiência profissiona...</td>\n",
              "      <td>NaN</td>\n",
              "      <td>True</td>\n",
              "      <td>...</td>\n",
              "      <td>Finanças ou Bancos</td>\n",
              "      <td>de 1.001 a 3.000</td>\n",
              "      <td>0.0</td>\n",
              "      <td>NaN</td>\n",
              "      <td>Engenheiro de Dados/Arquiteto de Dados/Data En...</td>\n",
              "      <td>Pleno</td>\n",
              "      <td>de R$ 4.001/mês a R$ 6.000/mês</td>\n",
              "      <td>Menos de 1 ano</td>\n",
              "      <td>Menos de 1 ano</td>\n",
              "      <td>5673.0</td>\n",
              "    </tr>\n",
              "    <tr>\n",
              "      <th>4258</th>\n",
              "      <td>4258</td>\n",
              "      <td>03zjgijmnwv9qrlzbr03zjgij1eae1hw</td>\n",
              "      <td>25.0</td>\n",
              "      <td>25-29</td>\n",
              "      <td>Feminino</td>\n",
              "      <td>Branca</td>\n",
              "      <td>Não</td>\n",
              "      <td>Sim, acredito que a minha a experiência profis...</td>\n",
              "      <td>Senioridade das vagas recebidas em relação à s...</td>\n",
              "      <td>True</td>\n",
              "      <td>...</td>\n",
              "      <td>NaN</td>\n",
              "      <td>NaN</td>\n",
              "      <td>NaN</td>\n",
              "      <td>NaN</td>\n",
              "      <td>NaN</td>\n",
              "      <td>NaN</td>\n",
              "      <td>NaN</td>\n",
              "      <td>NaN</td>\n",
              "      <td>NaN</td>\n",
              "      <td>NaN</td>\n",
              "    </tr>\n",
              "    <tr>\n",
              "      <th>4259</th>\n",
              "      <td>4259</td>\n",
              "      <td>03n2lq8st9zobnowu3w03n2lqi0flz2w</td>\n",
              "      <td>28.0</td>\n",
              "      <td>25-29</td>\n",
              "      <td>Feminino</td>\n",
              "      <td>Branca</td>\n",
              "      <td>Não</td>\n",
              "      <td>Sim, acredito que a minha a experiência profis...</td>\n",
              "      <td>Relação com outros membros da empresa, em mome...</td>\n",
              "      <td>True</td>\n",
              "      <td>...</td>\n",
              "      <td>Finanças ou Bancos</td>\n",
              "      <td>Acima de 3.000</td>\n",
              "      <td>1.0</td>\n",
              "      <td>Supervisor/Coordenador</td>\n",
              "      <td>NaN</td>\n",
              "      <td>NaN</td>\n",
              "      <td>de R$ 20.001/mês a R$ 25.000/mês</td>\n",
              "      <td>de 4 a 6 anos</td>\n",
              "      <td>Não tive experiência na área de TI/Engenharia ...</td>\n",
              "      <td>24963.0</td>\n",
              "    </tr>\n",
              "    <tr>\n",
              "      <th>4267</th>\n",
              "      <td>4267</td>\n",
              "      <td>01dyfxam4u4bi29fem01dyfxaq9akvqp</td>\n",
              "      <td>30.0</td>\n",
              "      <td>30-34</td>\n",
              "      <td>Feminino</td>\n",
              "      <td>Branca</td>\n",
              "      <td>Não</td>\n",
              "      <td>Não acredito que minha experiência profissiona...</td>\n",
              "      <td>NaN</td>\n",
              "      <td>True</td>\n",
              "      <td>...</td>\n",
              "      <td>Área de Consultoria</td>\n",
              "      <td>de 51 a 100</td>\n",
              "      <td>0.0</td>\n",
              "      <td>NaN</td>\n",
              "      <td>Engenheiro de Dados/Arquiteto de Dados/Data En...</td>\n",
              "      <td>Pleno</td>\n",
              "      <td>de R$ 3.001/mês a R$ 4.000/mês</td>\n",
              "      <td>de 1 a 2 anos</td>\n",
              "      <td>Não tive experiência na área de TI/Engenharia ...</td>\n",
              "      <td>3758.0</td>\n",
              "    </tr>\n",
              "  </tbody>\n",
              "</table>\n",
              "<p>1056 rows × 28 columns</p>\n",
              "</div>\n",
              "    <div class=\"colab-df-buttons\">\n",
              "\n",
              "  <div class=\"colab-df-container\">\n",
              "    <button class=\"colab-df-convert\" onclick=\"convertToInteractive('df-04e89e64-7bbf-4fc2-8fee-14ff9e264328')\"\n",
              "            title=\"Convert this dataframe to an interactive table.\"\n",
              "            style=\"display:none;\">\n",
              "\n",
              "  <svg xmlns=\"http://www.w3.org/2000/svg\" height=\"24px\" viewBox=\"0 -960 960 960\">\n",
              "    <path d=\"M120-120v-720h720v720H120Zm60-500h600v-160H180v160Zm220 220h160v-160H400v160Zm0 220h160v-160H400v160ZM180-400h160v-160H180v160Zm440 0h160v-160H620v160ZM180-180h160v-160H180v160Zm440 0h160v-160H620v160Z\"/>\n",
              "  </svg>\n",
              "    </button>\n",
              "\n",
              "  <style>\n",
              "    .colab-df-container {\n",
              "      display:flex;\n",
              "      gap: 12px;\n",
              "    }\n",
              "\n",
              "    .colab-df-convert {\n",
              "      background-color: #E8F0FE;\n",
              "      border: none;\n",
              "      border-radius: 50%;\n",
              "      cursor: pointer;\n",
              "      display: none;\n",
              "      fill: #1967D2;\n",
              "      height: 32px;\n",
              "      padding: 0 0 0 0;\n",
              "      width: 32px;\n",
              "    }\n",
              "\n",
              "    .colab-df-convert:hover {\n",
              "      background-color: #E2EBFA;\n",
              "      box-shadow: 0px 1px 2px rgba(60, 64, 67, 0.3), 0px 1px 3px 1px rgba(60, 64, 67, 0.15);\n",
              "      fill: #174EA6;\n",
              "    }\n",
              "\n",
              "    .colab-df-buttons div {\n",
              "      margin-bottom: 4px;\n",
              "    }\n",
              "\n",
              "    [theme=dark] .colab-df-convert {\n",
              "      background-color: #3B4455;\n",
              "      fill: #D2E3FC;\n",
              "    }\n",
              "\n",
              "    [theme=dark] .colab-df-convert:hover {\n",
              "      background-color: #434B5C;\n",
              "      box-shadow: 0px 1px 3px 1px rgba(0, 0, 0, 0.15);\n",
              "      filter: drop-shadow(0px 1px 2px rgba(0, 0, 0, 0.3));\n",
              "      fill: #FFFFFF;\n",
              "    }\n",
              "  </style>\n",
              "\n",
              "    <script>\n",
              "      const buttonEl =\n",
              "        document.querySelector('#df-04e89e64-7bbf-4fc2-8fee-14ff9e264328 button.colab-df-convert');\n",
              "      buttonEl.style.display =\n",
              "        google.colab.kernel.accessAllowed ? 'block' : 'none';\n",
              "\n",
              "      async function convertToInteractive(key) {\n",
              "        const element = document.querySelector('#df-04e89e64-7bbf-4fc2-8fee-14ff9e264328');\n",
              "        const dataTable =\n",
              "          await google.colab.kernel.invokeFunction('convertToInteractive',\n",
              "                                                    [key], {});\n",
              "        if (!dataTable) return;\n",
              "\n",
              "        const docLinkHtml = 'Like what you see? Visit the ' +\n",
              "          '<a target=\"_blank\" href=https://colab.research.google.com/notebooks/data_table.ipynb>data table notebook</a>'\n",
              "          + ' to learn more about interactive tables.';\n",
              "        element.innerHTML = '';\n",
              "        dataTable['output_type'] = 'display_data';\n",
              "        await google.colab.output.renderOutput(dataTable, element);\n",
              "        const docLink = document.createElement('div');\n",
              "        docLink.innerHTML = docLinkHtml;\n",
              "        element.appendChild(docLink);\n",
              "      }\n",
              "    </script>\n",
              "  </div>\n",
              "\n",
              "\n",
              "<div id=\"df-930d613e-7e82-4fd9-907d-b3010cac2ef9\">\n",
              "  <button class=\"colab-df-quickchart\" onclick=\"quickchart('df-930d613e-7e82-4fd9-907d-b3010cac2ef9')\"\n",
              "            title=\"Suggest charts\"\n",
              "            style=\"display:none;\">\n",
              "\n",
              "<svg xmlns=\"http://www.w3.org/2000/svg\" height=\"24px\"viewBox=\"0 0 24 24\"\n",
              "     width=\"24px\">\n",
              "    <g>\n",
              "        <path d=\"M19 3H5c-1.1 0-2 .9-2 2v14c0 1.1.9 2 2 2h14c1.1 0 2-.9 2-2V5c0-1.1-.9-2-2-2zM9 17H7v-7h2v7zm4 0h-2V7h2v10zm4 0h-2v-4h2v4z\"/>\n",
              "    </g>\n",
              "</svg>\n",
              "  </button>\n",
              "\n",
              "<style>\n",
              "  .colab-df-quickchart {\n",
              "      --bg-color: #E8F0FE;\n",
              "      --fill-color: #1967D2;\n",
              "      --hover-bg-color: #E2EBFA;\n",
              "      --hover-fill-color: #174EA6;\n",
              "      --disabled-fill-color: #AAA;\n",
              "      --disabled-bg-color: #DDD;\n",
              "  }\n",
              "\n",
              "  [theme=dark] .colab-df-quickchart {\n",
              "      --bg-color: #3B4455;\n",
              "      --fill-color: #D2E3FC;\n",
              "      --hover-bg-color: #434B5C;\n",
              "      --hover-fill-color: #FFFFFF;\n",
              "      --disabled-bg-color: #3B4455;\n",
              "      --disabled-fill-color: #666;\n",
              "  }\n",
              "\n",
              "  .colab-df-quickchart {\n",
              "    background-color: var(--bg-color);\n",
              "    border: none;\n",
              "    border-radius: 50%;\n",
              "    cursor: pointer;\n",
              "    display: none;\n",
              "    fill: var(--fill-color);\n",
              "    height: 32px;\n",
              "    padding: 0;\n",
              "    width: 32px;\n",
              "  }\n",
              "\n",
              "  .colab-df-quickchart:hover {\n",
              "    background-color: var(--hover-bg-color);\n",
              "    box-shadow: 0 1px 2px rgba(60, 64, 67, 0.3), 0 1px 3px 1px rgba(60, 64, 67, 0.15);\n",
              "    fill: var(--button-hover-fill-color);\n",
              "  }\n",
              "\n",
              "  .colab-df-quickchart-complete:disabled,\n",
              "  .colab-df-quickchart-complete:disabled:hover {\n",
              "    background-color: var(--disabled-bg-color);\n",
              "    fill: var(--disabled-fill-color);\n",
              "    box-shadow: none;\n",
              "  }\n",
              "\n",
              "  .colab-df-spinner {\n",
              "    border: 2px solid var(--fill-color);\n",
              "    border-color: transparent;\n",
              "    border-bottom-color: var(--fill-color);\n",
              "    animation:\n",
              "      spin 1s steps(1) infinite;\n",
              "  }\n",
              "\n",
              "  @keyframes spin {\n",
              "    0% {\n",
              "      border-color: transparent;\n",
              "      border-bottom-color: var(--fill-color);\n",
              "      border-left-color: var(--fill-color);\n",
              "    }\n",
              "    20% {\n",
              "      border-color: transparent;\n",
              "      border-left-color: var(--fill-color);\n",
              "      border-top-color: var(--fill-color);\n",
              "    }\n",
              "    30% {\n",
              "      border-color: transparent;\n",
              "      border-left-color: var(--fill-color);\n",
              "      border-top-color: var(--fill-color);\n",
              "      border-right-color: var(--fill-color);\n",
              "    }\n",
              "    40% {\n",
              "      border-color: transparent;\n",
              "      border-right-color: var(--fill-color);\n",
              "      border-top-color: var(--fill-color);\n",
              "    }\n",
              "    60% {\n",
              "      border-color: transparent;\n",
              "      border-right-color: var(--fill-color);\n",
              "    }\n",
              "    80% {\n",
              "      border-color: transparent;\n",
              "      border-right-color: var(--fill-color);\n",
              "      border-bottom-color: var(--fill-color);\n",
              "    }\n",
              "    90% {\n",
              "      border-color: transparent;\n",
              "      border-bottom-color: var(--fill-color);\n",
              "    }\n",
              "  }\n",
              "</style>\n",
              "\n",
              "  <script>\n",
              "    async function quickchart(key) {\n",
              "      const quickchartButtonEl =\n",
              "        document.querySelector('#' + key + ' button');\n",
              "      quickchartButtonEl.disabled = true;  // To prevent multiple clicks.\n",
              "      quickchartButtonEl.classList.add('colab-df-spinner');\n",
              "      try {\n",
              "        const charts = await google.colab.kernel.invokeFunction(\n",
              "            'suggestCharts', [key], {});\n",
              "      } catch (error) {\n",
              "        console.error('Error during call to suggestCharts:', error);\n",
              "      }\n",
              "      quickchartButtonEl.classList.remove('colab-df-spinner');\n",
              "      quickchartButtonEl.classList.add('colab-df-quickchart-complete');\n",
              "    }\n",
              "    (() => {\n",
              "      let quickchartButtonEl =\n",
              "        document.querySelector('#df-930d613e-7e82-4fd9-907d-b3010cac2ef9 button');\n",
              "      quickchartButtonEl.style.display =\n",
              "        google.colab.kernel.accessAllowed ? 'block' : 'none';\n",
              "    })();\n",
              "  </script>\n",
              "</div>\n",
              "\n",
              "    </div>\n",
              "  </div>\n"
            ],
            "application/vnd.google.colaboratory.intrinsic+json": {
              "type": "dataframe"
            }
          },
          "metadata": {},
          "execution_count": 20
        }
      ]
    },
    {
      "cell_type": "code",
      "source": [
        "dados[dados['GENERO']!=\"Masculino\"]\n"
      ],
      "metadata": {
        "colab": {
          "base_uri": "https://localhost:8080/",
          "height": 1000
        },
        "id": "RdDKxvmDhrAs",
        "outputId": "35f0cc1c-cfc5-42c8-c49c-4b127d6d5d4c"
      },
      "execution_count": null,
      "outputs": [
        {
          "output_type": "execute_result",
          "data": {
            "text/plain": [
              "      Unnamed: 0                                ID  IDADE FAIXA IDADE  \\\n",
              "4              4  zzaf1m95yan929rb94wzzaf1mekhvhpg   46.0       45-49   \n",
              "5              5  zz0nlhbd8oxyiyxzz0nlh7g4xkiaza5v   32.0       30-34   \n",
              "7              7  zyc0twzno2sm5or5ovoxzyc0twz0300d   31.0       30-34   \n",
              "9              9  zxc3d314cn1c2ovmzxc34ha7nkw1na3j    NaN         55+   \n",
              "10            10  zwy34gktg0tfjq2ttjvazwy34gg3g49i   25.0       25-29   \n",
              "...          ...                               ...    ...         ...   \n",
              "4248        4248  070o4zayoboztox764qu070o4zafbqrd   27.0       25-29   \n",
              "4251        4251  068hhicrqggu068huq0l2ab3g7liagy8   34.0       30-34   \n",
              "4258        4258  03zjgijmnwv9qrlzbr03zjgij1eae1hw   25.0       25-29   \n",
              "4259        4259  03n2lq8st9zobnowu3w03n2lqi0flz2w   28.0       25-29   \n",
              "4267        4267  01dyfxam4u4bi29fem01dyfxaq9akvqp   30.0       30-34   \n",
              "\n",
              "        GENERO COR/RACA/ETNIA  PCD  \\\n",
              "4     Feminino         Branca  Não   \n",
              "5     Feminino          Parda  Não   \n",
              "7     Feminino         Branca  Não   \n",
              "9     Feminino          Parda  Não   \n",
              "10    Feminino          Parda  Não   \n",
              "...        ...            ...  ...   \n",
              "4248  Feminino         Branca  Não   \n",
              "4251  Feminino          Preta  Não   \n",
              "4258  Feminino         Branca  Não   \n",
              "4259  Feminino         Branca  Não   \n",
              "4267  Feminino         Branca  Não   \n",
              "\n",
              "                   EXPERIENCIA_PROFISSIONAL_PREJUDICADA  \\\n",
              "4     Não acredito que minha experiência profissiona...   \n",
              "5     Não acredito que minha experiência profissiona...   \n",
              "7     Não acredito que minha experiência profissiona...   \n",
              "9     Não acredito que minha experiência profissiona...   \n",
              "10    Não acredito que minha experiência profissiona...   \n",
              "...                                                 ...   \n",
              "4248  Não acredito que minha experiência profissiona...   \n",
              "4251  Não acredito que minha experiência profissiona...   \n",
              "4258  Sim, acredito que a minha a experiência profis...   \n",
              "4259  Sim, acredito que a minha a experiência profis...   \n",
              "4267  Não acredito que minha experiência profissiona...   \n",
              "\n",
              "                                  ASPECTOS_PREJUDICADOS  VIVE_NO_BRASIL  ...  \\\n",
              "4                                                   NaN            True  ...   \n",
              "5                                                   NaN            True  ...   \n",
              "7                                                   NaN            True  ...   \n",
              "9                                                   NaN            True  ...   \n",
              "10                                                  NaN            True  ...   \n",
              "...                                                 ...             ...  ...   \n",
              "4248                                                NaN            True  ...   \n",
              "4251                                                NaN            True  ...   \n",
              "4258  Senioridade das vagas recebidas em relação à s...            True  ...   \n",
              "4259  Relação com outros membros da empresa, em mome...            True  ...   \n",
              "4267                                                NaN            True  ...   \n",
              "\n",
              "                               SETOR NUMERO DE FUNCIONARIOS GESTOR?  \\\n",
              "4                      Setor Público           de 101 a 500     0.0   \n",
              "5                           Educação         Acima de 3.000     0.0   \n",
              "7     Tecnologia/Fábrica de Software              de 6 a 10     0.0   \n",
              "9                           Educação         Acima de 3.000     0.0   \n",
              "10                            Varejo           de 101 a 500     0.0   \n",
              "...                              ...                    ...     ...   \n",
              "4248              Finanças ou Bancos           de 101 a 500     0.0   \n",
              "4251              Finanças ou Bancos       de 1.001 a 3.000     0.0   \n",
              "4258                             NaN                    NaN     NaN   \n",
              "4259              Finanças ou Bancos         Acima de 3.000     1.0   \n",
              "4267             Área de Consultoria            de 51 a 100     0.0   \n",
              "\n",
              "           CARGO COMO GESTOR  \\\n",
              "4                        NaN   \n",
              "5                        NaN   \n",
              "7                        NaN   \n",
              "9                        NaN   \n",
              "10                       NaN   \n",
              "...                      ...   \n",
              "4248                     NaN   \n",
              "4251                     NaN   \n",
              "4258                     NaN   \n",
              "4259  Supervisor/Coordenador   \n",
              "4267                     NaN   \n",
              "\n",
              "                                            CARGO ATUAL   NIVEL  \\\n",
              "4     Desenvolvedor/ Engenheiro de Software/ Analist...   Pleno   \n",
              "5                                             Professor   Pleno   \n",
              "7     Desenvolvedor/ Engenheiro de Software/ Analist...  Júnior   \n",
              "9                                             Professor   Pleno   \n",
              "10                            Analista de BI/BI Analyst  Júnior   \n",
              "...                                                 ...     ...   \n",
              "4248                  Cientista de Dados/Data Scientist   Pleno   \n",
              "4251  Engenheiro de Dados/Arquiteto de Dados/Data En...   Pleno   \n",
              "4258                                                NaN     NaN   \n",
              "4259                                                NaN     NaN   \n",
              "4267  Engenheiro de Dados/Arquiteto de Dados/Data En...   Pleno   \n",
              "\n",
              "                        FAIXA SALARIAL  \\\n",
              "4       de R$ 6.001/mês a R$ 8.000/mês   \n",
              "5       de R$ 2.001/mês a R$ 3.000/mês   \n",
              "7       de R$ 2.001/mês a R$ 3.000/mês   \n",
              "9      de R$ 8.001/mês a R$ 12.000/mês   \n",
              "10      de R$ 3.001/mês a R$ 4.000/mês   \n",
              "...                                ...   \n",
              "4248    de R$ 4.001/mês a R$ 6.000/mês   \n",
              "4251    de R$ 4.001/mês a R$ 6.000/mês   \n",
              "4258                               NaN   \n",
              "4259  de R$ 20.001/mês a R$ 25.000/mês   \n",
              "4267    de R$ 3.001/mês a R$ 4.000/mês   \n",
              "\n",
              "     QUANTO TEMPO DE EXPERIÊNCIA NA ÁREA DE DADOS VOCÊ TEM?  \\\n",
              "4                Não tenho experiência na área de dados       \n",
              "5                Não tenho experiência na área de dados       \n",
              "7                                        Menos de 1 ano       \n",
              "9                                       Mais de 10 anos       \n",
              "10                                       Menos de 1 ano       \n",
              "...                                                 ...       \n",
              "4248                                      de 1 a 2 anos       \n",
              "4251                                     Menos de 1 ano       \n",
              "4258                                                NaN       \n",
              "4259                                      de 4 a 6 anos       \n",
              "4267                                      de 1 a 2 anos       \n",
              "\n",
              "     QUANTO TEMPO DE EXPERIÊNCIA NA ÁREA DE TI/ENGENHARIA DE SOFTWARE VOCÊ TEVE ANTES DE COMEÇAR A TRABALHAR NA ÁREA DE DADOS?  \\\n",
              "4                                       Mais de 10 anos                                                                          \n",
              "5     Não tive experiência na área de TI/Engenharia ...                                                                          \n",
              "7                                        Menos de 1 ano                                                                          \n",
              "9     Não tive experiência na área de TI/Engenharia ...                                                                          \n",
              "10    Não tive experiência na área de TI/Engenharia ...                                                                          \n",
              "...                                                 ...                                                                          \n",
              "4248  Não tive experiência na área de TI/Engenharia ...                                                                          \n",
              "4251                                     Menos de 1 ano                                                                          \n",
              "4258                                                NaN                                                                          \n",
              "4259  Não tive experiência na área de TI/Engenharia ...                                                                          \n",
              "4267  Não tive experiência na área de TI/Engenharia ...                                                                          \n",
              "\n",
              "      SALARIO  \n",
              "4      7733.0  \n",
              "5      2336.0  \n",
              "7      2704.0  \n",
              "9     10822.0  \n",
              "10     3450.0  \n",
              "...       ...  \n",
              "4248   4781.0  \n",
              "4251   5673.0  \n",
              "4258      NaN  \n",
              "4259  24963.0  \n",
              "4267   3758.0  \n",
              "\n",
              "[1077 rows x 28 columns]"
            ],
            "text/html": [
              "\n",
              "  <div id=\"df-1afd55d6-6a08-4a8e-93ca-f49645e8849f\" class=\"colab-df-container\">\n",
              "    <div>\n",
              "<style scoped>\n",
              "    .dataframe tbody tr th:only-of-type {\n",
              "        vertical-align: middle;\n",
              "    }\n",
              "\n",
              "    .dataframe tbody tr th {\n",
              "        vertical-align: top;\n",
              "    }\n",
              "\n",
              "    .dataframe thead th {\n",
              "        text-align: right;\n",
              "    }\n",
              "</style>\n",
              "<table border=\"1\" class=\"dataframe\">\n",
              "  <thead>\n",
              "    <tr style=\"text-align: right;\">\n",
              "      <th></th>\n",
              "      <th>Unnamed: 0</th>\n",
              "      <th>ID</th>\n",
              "      <th>IDADE</th>\n",
              "      <th>FAIXA IDADE</th>\n",
              "      <th>GENERO</th>\n",
              "      <th>COR/RACA/ETNIA</th>\n",
              "      <th>PCD</th>\n",
              "      <th>EXPERIENCIA_PROFISSIONAL_PREJUDICADA</th>\n",
              "      <th>ASPECTOS_PREJUDICADOS</th>\n",
              "      <th>VIVE_NO_BRASIL</th>\n",
              "      <th>...</th>\n",
              "      <th>SETOR</th>\n",
              "      <th>NUMERO DE FUNCIONARIOS</th>\n",
              "      <th>GESTOR?</th>\n",
              "      <th>CARGO COMO GESTOR</th>\n",
              "      <th>CARGO ATUAL</th>\n",
              "      <th>NIVEL</th>\n",
              "      <th>FAIXA SALARIAL</th>\n",
              "      <th>QUANTO TEMPO DE EXPERIÊNCIA NA ÁREA DE DADOS VOCÊ TEM?</th>\n",
              "      <th>QUANTO TEMPO DE EXPERIÊNCIA NA ÁREA DE TI/ENGENHARIA DE SOFTWARE VOCÊ TEVE ANTES DE COMEÇAR A TRABALHAR NA ÁREA DE DADOS?</th>\n",
              "      <th>SALARIO</th>\n",
              "    </tr>\n",
              "  </thead>\n",
              "  <tbody>\n",
              "    <tr>\n",
              "      <th>4</th>\n",
              "      <td>4</td>\n",
              "      <td>zzaf1m95yan929rb94wzzaf1mekhvhpg</td>\n",
              "      <td>46.0</td>\n",
              "      <td>45-49</td>\n",
              "      <td>Feminino</td>\n",
              "      <td>Branca</td>\n",
              "      <td>Não</td>\n",
              "      <td>Não acredito que minha experiência profissiona...</td>\n",
              "      <td>NaN</td>\n",
              "      <td>True</td>\n",
              "      <td>...</td>\n",
              "      <td>Setor Público</td>\n",
              "      <td>de 101 a 500</td>\n",
              "      <td>0.0</td>\n",
              "      <td>NaN</td>\n",
              "      <td>Desenvolvedor/ Engenheiro de Software/ Analist...</td>\n",
              "      <td>Pleno</td>\n",
              "      <td>de R$ 6.001/mês a R$ 8.000/mês</td>\n",
              "      <td>Não tenho experiência na área de dados</td>\n",
              "      <td>Mais de 10 anos</td>\n",
              "      <td>7733.0</td>\n",
              "    </tr>\n",
              "    <tr>\n",
              "      <th>5</th>\n",
              "      <td>5</td>\n",
              "      <td>zz0nlhbd8oxyiyxzz0nlh7g4xkiaza5v</td>\n",
              "      <td>32.0</td>\n",
              "      <td>30-34</td>\n",
              "      <td>Feminino</td>\n",
              "      <td>Parda</td>\n",
              "      <td>Não</td>\n",
              "      <td>Não acredito que minha experiência profissiona...</td>\n",
              "      <td>NaN</td>\n",
              "      <td>True</td>\n",
              "      <td>...</td>\n",
              "      <td>Educação</td>\n",
              "      <td>Acima de 3.000</td>\n",
              "      <td>0.0</td>\n",
              "      <td>NaN</td>\n",
              "      <td>Professor</td>\n",
              "      <td>Pleno</td>\n",
              "      <td>de R$ 2.001/mês a R$ 3.000/mês</td>\n",
              "      <td>Não tenho experiência na área de dados</td>\n",
              "      <td>Não tive experiência na área de TI/Engenharia ...</td>\n",
              "      <td>2336.0</td>\n",
              "    </tr>\n",
              "    <tr>\n",
              "      <th>7</th>\n",
              "      <td>7</td>\n",
              "      <td>zyc0twzno2sm5or5ovoxzyc0twz0300d</td>\n",
              "      <td>31.0</td>\n",
              "      <td>30-34</td>\n",
              "      <td>Feminino</td>\n",
              "      <td>Branca</td>\n",
              "      <td>Não</td>\n",
              "      <td>Não acredito que minha experiência profissiona...</td>\n",
              "      <td>NaN</td>\n",
              "      <td>True</td>\n",
              "      <td>...</td>\n",
              "      <td>Tecnologia/Fábrica de Software</td>\n",
              "      <td>de 6 a 10</td>\n",
              "      <td>0.0</td>\n",
              "      <td>NaN</td>\n",
              "      <td>Desenvolvedor/ Engenheiro de Software/ Analist...</td>\n",
              "      <td>Júnior</td>\n",
              "      <td>de R$ 2.001/mês a R$ 3.000/mês</td>\n",
              "      <td>Menos de 1 ano</td>\n",
              "      <td>Menos de 1 ano</td>\n",
              "      <td>2704.0</td>\n",
              "    </tr>\n",
              "    <tr>\n",
              "      <th>9</th>\n",
              "      <td>9</td>\n",
              "      <td>zxc3d314cn1c2ovmzxc34ha7nkw1na3j</td>\n",
              "      <td>NaN</td>\n",
              "      <td>55+</td>\n",
              "      <td>Feminino</td>\n",
              "      <td>Parda</td>\n",
              "      <td>Não</td>\n",
              "      <td>Não acredito que minha experiência profissiona...</td>\n",
              "      <td>NaN</td>\n",
              "      <td>True</td>\n",
              "      <td>...</td>\n",
              "      <td>Educação</td>\n",
              "      <td>Acima de 3.000</td>\n",
              "      <td>0.0</td>\n",
              "      <td>NaN</td>\n",
              "      <td>Professor</td>\n",
              "      <td>Pleno</td>\n",
              "      <td>de R$ 8.001/mês a R$ 12.000/mês</td>\n",
              "      <td>Mais de 10 anos</td>\n",
              "      <td>Não tive experiência na área de TI/Engenharia ...</td>\n",
              "      <td>10822.0</td>\n",
              "    </tr>\n",
              "    <tr>\n",
              "      <th>10</th>\n",
              "      <td>10</td>\n",
              "      <td>zwy34gktg0tfjq2ttjvazwy34gg3g49i</td>\n",
              "      <td>25.0</td>\n",
              "      <td>25-29</td>\n",
              "      <td>Feminino</td>\n",
              "      <td>Parda</td>\n",
              "      <td>Não</td>\n",
              "      <td>Não acredito que minha experiência profissiona...</td>\n",
              "      <td>NaN</td>\n",
              "      <td>True</td>\n",
              "      <td>...</td>\n",
              "      <td>Varejo</td>\n",
              "      <td>de 101 a 500</td>\n",
              "      <td>0.0</td>\n",
              "      <td>NaN</td>\n",
              "      <td>Analista de BI/BI Analyst</td>\n",
              "      <td>Júnior</td>\n",
              "      <td>de R$ 3.001/mês a R$ 4.000/mês</td>\n",
              "      <td>Menos de 1 ano</td>\n",
              "      <td>Não tive experiência na área de TI/Engenharia ...</td>\n",
              "      <td>3450.0</td>\n",
              "    </tr>\n",
              "    <tr>\n",
              "      <th>...</th>\n",
              "      <td>...</td>\n",
              "      <td>...</td>\n",
              "      <td>...</td>\n",
              "      <td>...</td>\n",
              "      <td>...</td>\n",
              "      <td>...</td>\n",
              "      <td>...</td>\n",
              "      <td>...</td>\n",
              "      <td>...</td>\n",
              "      <td>...</td>\n",
              "      <td>...</td>\n",
              "      <td>...</td>\n",
              "      <td>...</td>\n",
              "      <td>...</td>\n",
              "      <td>...</td>\n",
              "      <td>...</td>\n",
              "      <td>...</td>\n",
              "      <td>...</td>\n",
              "      <td>...</td>\n",
              "      <td>...</td>\n",
              "      <td>...</td>\n",
              "    </tr>\n",
              "    <tr>\n",
              "      <th>4248</th>\n",
              "      <td>4248</td>\n",
              "      <td>070o4zayoboztox764qu070o4zafbqrd</td>\n",
              "      <td>27.0</td>\n",
              "      <td>25-29</td>\n",
              "      <td>Feminino</td>\n",
              "      <td>Branca</td>\n",
              "      <td>Não</td>\n",
              "      <td>Não acredito que minha experiência profissiona...</td>\n",
              "      <td>NaN</td>\n",
              "      <td>True</td>\n",
              "      <td>...</td>\n",
              "      <td>Finanças ou Bancos</td>\n",
              "      <td>de 101 a 500</td>\n",
              "      <td>0.0</td>\n",
              "      <td>NaN</td>\n",
              "      <td>Cientista de Dados/Data Scientist</td>\n",
              "      <td>Pleno</td>\n",
              "      <td>de R$ 4.001/mês a R$ 6.000/mês</td>\n",
              "      <td>de 1 a 2 anos</td>\n",
              "      <td>Não tive experiência na área de TI/Engenharia ...</td>\n",
              "      <td>4781.0</td>\n",
              "    </tr>\n",
              "    <tr>\n",
              "      <th>4251</th>\n",
              "      <td>4251</td>\n",
              "      <td>068hhicrqggu068huq0l2ab3g7liagy8</td>\n",
              "      <td>34.0</td>\n",
              "      <td>30-34</td>\n",
              "      <td>Feminino</td>\n",
              "      <td>Preta</td>\n",
              "      <td>Não</td>\n",
              "      <td>Não acredito que minha experiência profissiona...</td>\n",
              "      <td>NaN</td>\n",
              "      <td>True</td>\n",
              "      <td>...</td>\n",
              "      <td>Finanças ou Bancos</td>\n",
              "      <td>de 1.001 a 3.000</td>\n",
              "      <td>0.0</td>\n",
              "      <td>NaN</td>\n",
              "      <td>Engenheiro de Dados/Arquiteto de Dados/Data En...</td>\n",
              "      <td>Pleno</td>\n",
              "      <td>de R$ 4.001/mês a R$ 6.000/mês</td>\n",
              "      <td>Menos de 1 ano</td>\n",
              "      <td>Menos de 1 ano</td>\n",
              "      <td>5673.0</td>\n",
              "    </tr>\n",
              "    <tr>\n",
              "      <th>4258</th>\n",
              "      <td>4258</td>\n",
              "      <td>03zjgijmnwv9qrlzbr03zjgij1eae1hw</td>\n",
              "      <td>25.0</td>\n",
              "      <td>25-29</td>\n",
              "      <td>Feminino</td>\n",
              "      <td>Branca</td>\n",
              "      <td>Não</td>\n",
              "      <td>Sim, acredito que a minha a experiência profis...</td>\n",
              "      <td>Senioridade das vagas recebidas em relação à s...</td>\n",
              "      <td>True</td>\n",
              "      <td>...</td>\n",
              "      <td>NaN</td>\n",
              "      <td>NaN</td>\n",
              "      <td>NaN</td>\n",
              "      <td>NaN</td>\n",
              "      <td>NaN</td>\n",
              "      <td>NaN</td>\n",
              "      <td>NaN</td>\n",
              "      <td>NaN</td>\n",
              "      <td>NaN</td>\n",
              "      <td>NaN</td>\n",
              "    </tr>\n",
              "    <tr>\n",
              "      <th>4259</th>\n",
              "      <td>4259</td>\n",
              "      <td>03n2lq8st9zobnowu3w03n2lqi0flz2w</td>\n",
              "      <td>28.0</td>\n",
              "      <td>25-29</td>\n",
              "      <td>Feminino</td>\n",
              "      <td>Branca</td>\n",
              "      <td>Não</td>\n",
              "      <td>Sim, acredito que a minha a experiência profis...</td>\n",
              "      <td>Relação com outros membros da empresa, em mome...</td>\n",
              "      <td>True</td>\n",
              "      <td>...</td>\n",
              "      <td>Finanças ou Bancos</td>\n",
              "      <td>Acima de 3.000</td>\n",
              "      <td>1.0</td>\n",
              "      <td>Supervisor/Coordenador</td>\n",
              "      <td>NaN</td>\n",
              "      <td>NaN</td>\n",
              "      <td>de R$ 20.001/mês a R$ 25.000/mês</td>\n",
              "      <td>de 4 a 6 anos</td>\n",
              "      <td>Não tive experiência na área de TI/Engenharia ...</td>\n",
              "      <td>24963.0</td>\n",
              "    </tr>\n",
              "    <tr>\n",
              "      <th>4267</th>\n",
              "      <td>4267</td>\n",
              "      <td>01dyfxam4u4bi29fem01dyfxaq9akvqp</td>\n",
              "      <td>30.0</td>\n",
              "      <td>30-34</td>\n",
              "      <td>Feminino</td>\n",
              "      <td>Branca</td>\n",
              "      <td>Não</td>\n",
              "      <td>Não acredito que minha experiência profissiona...</td>\n",
              "      <td>NaN</td>\n",
              "      <td>True</td>\n",
              "      <td>...</td>\n",
              "      <td>Área de Consultoria</td>\n",
              "      <td>de 51 a 100</td>\n",
              "      <td>0.0</td>\n",
              "      <td>NaN</td>\n",
              "      <td>Engenheiro de Dados/Arquiteto de Dados/Data En...</td>\n",
              "      <td>Pleno</td>\n",
              "      <td>de R$ 3.001/mês a R$ 4.000/mês</td>\n",
              "      <td>de 1 a 2 anos</td>\n",
              "      <td>Não tive experiência na área de TI/Engenharia ...</td>\n",
              "      <td>3758.0</td>\n",
              "    </tr>\n",
              "  </tbody>\n",
              "</table>\n",
              "<p>1077 rows × 28 columns</p>\n",
              "</div>\n",
              "    <div class=\"colab-df-buttons\">\n",
              "\n",
              "  <div class=\"colab-df-container\">\n",
              "    <button class=\"colab-df-convert\" onclick=\"convertToInteractive('df-1afd55d6-6a08-4a8e-93ca-f49645e8849f')\"\n",
              "            title=\"Convert this dataframe to an interactive table.\"\n",
              "            style=\"display:none;\">\n",
              "\n",
              "  <svg xmlns=\"http://www.w3.org/2000/svg\" height=\"24px\" viewBox=\"0 -960 960 960\">\n",
              "    <path d=\"M120-120v-720h720v720H120Zm60-500h600v-160H180v160Zm220 220h160v-160H400v160Zm0 220h160v-160H400v160ZM180-400h160v-160H180v160Zm440 0h160v-160H620v160ZM180-180h160v-160H180v160Zm440 0h160v-160H620v160Z\"/>\n",
              "  </svg>\n",
              "    </button>\n",
              "\n",
              "  <style>\n",
              "    .colab-df-container {\n",
              "      display:flex;\n",
              "      gap: 12px;\n",
              "    }\n",
              "\n",
              "    .colab-df-convert {\n",
              "      background-color: #E8F0FE;\n",
              "      border: none;\n",
              "      border-radius: 50%;\n",
              "      cursor: pointer;\n",
              "      display: none;\n",
              "      fill: #1967D2;\n",
              "      height: 32px;\n",
              "      padding: 0 0 0 0;\n",
              "      width: 32px;\n",
              "    }\n",
              "\n",
              "    .colab-df-convert:hover {\n",
              "      background-color: #E2EBFA;\n",
              "      box-shadow: 0px 1px 2px rgba(60, 64, 67, 0.3), 0px 1px 3px 1px rgba(60, 64, 67, 0.15);\n",
              "      fill: #174EA6;\n",
              "    }\n",
              "\n",
              "    .colab-df-buttons div {\n",
              "      margin-bottom: 4px;\n",
              "    }\n",
              "\n",
              "    [theme=dark] .colab-df-convert {\n",
              "      background-color: #3B4455;\n",
              "      fill: #D2E3FC;\n",
              "    }\n",
              "\n",
              "    [theme=dark] .colab-df-convert:hover {\n",
              "      background-color: #434B5C;\n",
              "      box-shadow: 0px 1px 3px 1px rgba(0, 0, 0, 0.15);\n",
              "      filter: drop-shadow(0px 1px 2px rgba(0, 0, 0, 0.3));\n",
              "      fill: #FFFFFF;\n",
              "    }\n",
              "  </style>\n",
              "\n",
              "    <script>\n",
              "      const buttonEl =\n",
              "        document.querySelector('#df-1afd55d6-6a08-4a8e-93ca-f49645e8849f button.colab-df-convert');\n",
              "      buttonEl.style.display =\n",
              "        google.colab.kernel.accessAllowed ? 'block' : 'none';\n",
              "\n",
              "      async function convertToInteractive(key) {\n",
              "        const element = document.querySelector('#df-1afd55d6-6a08-4a8e-93ca-f49645e8849f');\n",
              "        const dataTable =\n",
              "          await google.colab.kernel.invokeFunction('convertToInteractive',\n",
              "                                                    [key], {});\n",
              "        if (!dataTable) return;\n",
              "\n",
              "        const docLinkHtml = 'Like what you see? Visit the ' +\n",
              "          '<a target=\"_blank\" href=https://colab.research.google.com/notebooks/data_table.ipynb>data table notebook</a>'\n",
              "          + ' to learn more about interactive tables.';\n",
              "        element.innerHTML = '';\n",
              "        dataTable['output_type'] = 'display_data';\n",
              "        await google.colab.output.renderOutput(dataTable, element);\n",
              "        const docLink = document.createElement('div');\n",
              "        docLink.innerHTML = docLinkHtml;\n",
              "        element.appendChild(docLink);\n",
              "      }\n",
              "    </script>\n",
              "  </div>\n",
              "\n",
              "\n",
              "<div id=\"df-98b2125f-96bb-41d1-a930-55b4d59fe1b8\">\n",
              "  <button class=\"colab-df-quickchart\" onclick=\"quickchart('df-98b2125f-96bb-41d1-a930-55b4d59fe1b8')\"\n",
              "            title=\"Suggest charts\"\n",
              "            style=\"display:none;\">\n",
              "\n",
              "<svg xmlns=\"http://www.w3.org/2000/svg\" height=\"24px\"viewBox=\"0 0 24 24\"\n",
              "     width=\"24px\">\n",
              "    <g>\n",
              "        <path d=\"M19 3H5c-1.1 0-2 .9-2 2v14c0 1.1.9 2 2 2h14c1.1 0 2-.9 2-2V5c0-1.1-.9-2-2-2zM9 17H7v-7h2v7zm4 0h-2V7h2v10zm4 0h-2v-4h2v4z\"/>\n",
              "    </g>\n",
              "</svg>\n",
              "  </button>\n",
              "\n",
              "<style>\n",
              "  .colab-df-quickchart {\n",
              "      --bg-color: #E8F0FE;\n",
              "      --fill-color: #1967D2;\n",
              "      --hover-bg-color: #E2EBFA;\n",
              "      --hover-fill-color: #174EA6;\n",
              "      --disabled-fill-color: #AAA;\n",
              "      --disabled-bg-color: #DDD;\n",
              "  }\n",
              "\n",
              "  [theme=dark] .colab-df-quickchart {\n",
              "      --bg-color: #3B4455;\n",
              "      --fill-color: #D2E3FC;\n",
              "      --hover-bg-color: #434B5C;\n",
              "      --hover-fill-color: #FFFFFF;\n",
              "      --disabled-bg-color: #3B4455;\n",
              "      --disabled-fill-color: #666;\n",
              "  }\n",
              "\n",
              "  .colab-df-quickchart {\n",
              "    background-color: var(--bg-color);\n",
              "    border: none;\n",
              "    border-radius: 50%;\n",
              "    cursor: pointer;\n",
              "    display: none;\n",
              "    fill: var(--fill-color);\n",
              "    height: 32px;\n",
              "    padding: 0;\n",
              "    width: 32px;\n",
              "  }\n",
              "\n",
              "  .colab-df-quickchart:hover {\n",
              "    background-color: var(--hover-bg-color);\n",
              "    box-shadow: 0 1px 2px rgba(60, 64, 67, 0.3), 0 1px 3px 1px rgba(60, 64, 67, 0.15);\n",
              "    fill: var(--button-hover-fill-color);\n",
              "  }\n",
              "\n",
              "  .colab-df-quickchart-complete:disabled,\n",
              "  .colab-df-quickchart-complete:disabled:hover {\n",
              "    background-color: var(--disabled-bg-color);\n",
              "    fill: var(--disabled-fill-color);\n",
              "    box-shadow: none;\n",
              "  }\n",
              "\n",
              "  .colab-df-spinner {\n",
              "    border: 2px solid var(--fill-color);\n",
              "    border-color: transparent;\n",
              "    border-bottom-color: var(--fill-color);\n",
              "    animation:\n",
              "      spin 1s steps(1) infinite;\n",
              "  }\n",
              "\n",
              "  @keyframes spin {\n",
              "    0% {\n",
              "      border-color: transparent;\n",
              "      border-bottom-color: var(--fill-color);\n",
              "      border-left-color: var(--fill-color);\n",
              "    }\n",
              "    20% {\n",
              "      border-color: transparent;\n",
              "      border-left-color: var(--fill-color);\n",
              "      border-top-color: var(--fill-color);\n",
              "    }\n",
              "    30% {\n",
              "      border-color: transparent;\n",
              "      border-left-color: var(--fill-color);\n",
              "      border-top-color: var(--fill-color);\n",
              "      border-right-color: var(--fill-color);\n",
              "    }\n",
              "    40% {\n",
              "      border-color: transparent;\n",
              "      border-right-color: var(--fill-color);\n",
              "      border-top-color: var(--fill-color);\n",
              "    }\n",
              "    60% {\n",
              "      border-color: transparent;\n",
              "      border-right-color: var(--fill-color);\n",
              "    }\n",
              "    80% {\n",
              "      border-color: transparent;\n",
              "      border-right-color: var(--fill-color);\n",
              "      border-bottom-color: var(--fill-color);\n",
              "    }\n",
              "    90% {\n",
              "      border-color: transparent;\n",
              "      border-bottom-color: var(--fill-color);\n",
              "    }\n",
              "  }\n",
              "</style>\n",
              "\n",
              "  <script>\n",
              "    async function quickchart(key) {\n",
              "      const quickchartButtonEl =\n",
              "        document.querySelector('#' + key + ' button');\n",
              "      quickchartButtonEl.disabled = true;  // To prevent multiple clicks.\n",
              "      quickchartButtonEl.classList.add('colab-df-spinner');\n",
              "      try {\n",
              "        const charts = await google.colab.kernel.invokeFunction(\n",
              "            'suggestCharts', [key], {});\n",
              "      } catch (error) {\n",
              "        console.error('Error during call to suggestCharts:', error);\n",
              "      }\n",
              "      quickchartButtonEl.classList.remove('colab-df-spinner');\n",
              "      quickchartButtonEl.classList.add('colab-df-quickchart-complete');\n",
              "    }\n",
              "    (() => {\n",
              "      let quickchartButtonEl =\n",
              "        document.querySelector('#df-98b2125f-96bb-41d1-a930-55b4d59fe1b8 button');\n",
              "      quickchartButtonEl.style.display =\n",
              "        google.colab.kernel.accessAllowed ? 'block' : 'none';\n",
              "    })();\n",
              "  </script>\n",
              "</div>\n",
              "\n",
              "    </div>\n",
              "  </div>\n"
            ],
            "application/vnd.google.colaboratory.intrinsic+json": {
              "type": "dataframe"
            }
          },
          "metadata": {},
          "execution_count": 22
        }
      ]
    },
    {
      "cell_type": "code",
      "source": [
        "dados[(dados['IDADE']>30) & (dados ['GENERO']=='Feminino')]"
      ],
      "metadata": {
        "colab": {
          "base_uri": "https://localhost:8080/",
          "height": 1000
        },
        "id": "TKAnVpOskXRp",
        "outputId": "29aa24b2-7c25-4425-9128-ffa88aa1ef9a"
      },
      "execution_count": null,
      "outputs": [
        {
          "output_type": "execute_result",
          "data": {
            "text/plain": [
              "      Unnamed: 0                                ID  IDADE FAIXA IDADE  \\\n",
              "4              4  zzaf1m95yan929rb94wzzaf1mekhvhpg   46.0       45-49   \n",
              "5              5  zz0nlhbd8oxyiyxzz0nlh7g4xkiaza5v   32.0       30-34   \n",
              "7              7  zyc0twzno2sm5or5ovoxzyc0twz0300d   31.0       30-34   \n",
              "14            14  zwez49k0jhdvfkfst4zwef137uuf4ivy   35.0       35-39   \n",
              "23            23  zuqfcwtl9unfc5ezuqfcwm8coytsp5ap   46.0       45-49   \n",
              "...          ...                               ...    ...         ...   \n",
              "4214        4214  0gprow0ownrbfneftxf0gprow4kyrqdy   41.0       40-44   \n",
              "4221        4221  0fgi5bnb0u9b0fgc0jmqlbnvtu12b76d   34.0       30-34   \n",
              "4240        4240  0a5xgxb1ljmuqn0un8a10a5xg4eufs2l   37.0       35-39   \n",
              "4247        4247  07qzabp4ujpe4oz81udmb07qzabp4h0t   34.0       30-34   \n",
              "4251        4251  068hhicrqggu068huq0l2ab3g7liagy8   34.0       30-34   \n",
              "\n",
              "        GENERO COR/RACA/ETNIA                   PCD  \\\n",
              "4     Feminino         Branca                   Não   \n",
              "5     Feminino          Parda                   Não   \n",
              "7     Feminino         Branca                   Não   \n",
              "14    Feminino          Parda                   Não   \n",
              "23    Feminino         Branca                   Não   \n",
              "...        ...            ...                   ...   \n",
              "4214  Feminino         Branca  Prefiro não informar   \n",
              "4221  Feminino          Outra                   Não   \n",
              "4240  Feminino         Branca                   Não   \n",
              "4247  Feminino         Branca                   Não   \n",
              "4251  Feminino          Preta                   Não   \n",
              "\n",
              "                   EXPERIENCIA_PROFISSIONAL_PREJUDICADA  \\\n",
              "4     Não acredito que minha experiência profissiona...   \n",
              "5     Não acredito que minha experiência profissiona...   \n",
              "7     Não acredito que minha experiência profissiona...   \n",
              "14    Sim, acredito que a minha a experiência profis...   \n",
              "23    Não acredito que minha experiência profissiona...   \n",
              "...                                                 ...   \n",
              "4214  Sim, acredito que a minha a experiência profis...   \n",
              "4221  Não acredito que minha experiência profissiona...   \n",
              "4240  Sim, acredito que a minha a experiência profis...   \n",
              "4247  Não acredito que minha experiência profissiona...   \n",
              "4251  Não acredito que minha experiência profissiona...   \n",
              "\n",
              "                                  ASPECTOS_PREJUDICADOS  VIVE_NO_BRASIL  ...  \\\n",
              "4                                                   NaN            True  ...   \n",
              "5                                                   NaN            True  ...   \n",
              "7                                                   NaN            True  ...   \n",
              "14    Atenção dada pelas pessoas diante das minhas o...            True  ...   \n",
              "23                                                  NaN            True  ...   \n",
              "...                                                 ...             ...  ...   \n",
              "4214  Oportunidades de progressão de carreira, Veloc...            True  ...   \n",
              "4221                                                NaN            True  ...   \n",
              "4240  Quantidade de oportunidades de emprego/vagas r...            True  ...   \n",
              "4247                                                NaN            True  ...   \n",
              "4251                                                NaN            True  ...   \n",
              "\n",
              "                               SETOR NUMERO DE FUNCIONARIOS GESTOR?  \\\n",
              "4                      Setor Público           de 101 a 500     0.0   \n",
              "5                           Educação         Acima de 3.000     0.0   \n",
              "7     Tecnologia/Fábrica de Software              de 6 a 10     0.0   \n",
              "14                            Varejo         Acima de 3.000     0.0   \n",
              "23    Tecnologia/Fábrica de Software         de 501 a 1.000     0.0   \n",
              "...                              ...                    ...     ...   \n",
              "4214          Seguros ou Previdência         Acima de 3.000     1.0   \n",
              "4221             Área de Consultoria            de 51 a 100     0.0   \n",
              "4240              Finanças ou Bancos            de 51 a 100     0.0   \n",
              "4247                Setor de Energia             de 11 a 50     0.0   \n",
              "4251              Finanças ou Bancos       de 1.001 a 3.000     0.0   \n",
              "\n",
              "           CARGO COMO GESTOR  \\\n",
              "4                        NaN   \n",
              "5                        NaN   \n",
              "7                        NaN   \n",
              "14                       NaN   \n",
              "23                       NaN   \n",
              "...                      ...   \n",
              "4214  Supervisor/Coordenador   \n",
              "4221                     NaN   \n",
              "4240                     NaN   \n",
              "4247                     NaN   \n",
              "4251                     NaN   \n",
              "\n",
              "                                            CARGO ATUAL   NIVEL  \\\n",
              "4     Desenvolvedor/ Engenheiro de Software/ Analist...   Pleno   \n",
              "5                                             Professor   Pleno   \n",
              "7     Desenvolvedor/ Engenheiro de Software/ Analist...  Júnior   \n",
              "14                Analista de Negócios/Business Analyst   Pleno   \n",
              "23    Engenheiro de Dados/Arquiteto de Dados/Data En...  Sênior   \n",
              "...                                                 ...     ...   \n",
              "4214                                                NaN     NaN   \n",
              "4221                                        Outra Opção  Júnior   \n",
              "4240                          Analista de BI/BI Analyst  Júnior   \n",
              "4247                  Cientista de Dados/Data Scientist  Júnior   \n",
              "4251  Engenheiro de Dados/Arquiteto de Dados/Data En...   Pleno   \n",
              "\n",
              "                        FAIXA SALARIAL  \\\n",
              "4       de R$ 6.001/mês a R$ 8.000/mês   \n",
              "5       de R$ 2.001/mês a R$ 3.000/mês   \n",
              "7       de R$ 2.001/mês a R$ 3.000/mês   \n",
              "14      de R$ 6.001/mês a R$ 8.000/mês   \n",
              "23    de R$ 12.001/mês a R$ 16.000/mês   \n",
              "...                                ...   \n",
              "4214   de R$ 8.001/mês a R$ 12.000/mês   \n",
              "4221    de R$ 4.001/mês a R$ 6.000/mês   \n",
              "4240    de R$ 1.001/mês a R$ 2.000/mês   \n",
              "4247    de R$ 4.001/mês a R$ 6.000/mês   \n",
              "4251    de R$ 4.001/mês a R$ 6.000/mês   \n",
              "\n",
              "     QUANTO TEMPO DE EXPERIÊNCIA NA ÁREA DE DADOS VOCÊ TEM?  \\\n",
              "4                Não tenho experiência na área de dados       \n",
              "5                Não tenho experiência na área de dados       \n",
              "7                                        Menos de 1 ano       \n",
              "14                                        de 1 a 2 anos       \n",
              "23                                      Mais de 10 anos       \n",
              "...                                                 ...       \n",
              "4214                                      de 4 a 6 anos       \n",
              "4221                                     Menos de 1 ano       \n",
              "4240                                      de 1 a 2 anos       \n",
              "4247                                    Mais de 10 anos       \n",
              "4251                                     Menos de 1 ano       \n",
              "\n",
              "     QUANTO TEMPO DE EXPERIÊNCIA NA ÁREA DE TI/ENGENHARIA DE SOFTWARE VOCÊ TEVE ANTES DE COMEÇAR A TRABALHAR NA ÁREA DE DADOS?  \\\n",
              "4                                       Mais de 10 anos                                                                          \n",
              "5     Não tive experiência na área de TI/Engenharia ...                                                                          \n",
              "7                                        Menos de 1 ano                                                                          \n",
              "14    Não tive experiência na área de TI/Engenharia ...                                                                          \n",
              "23                                        de 5 a 6 anos                                                                          \n",
              "...                                                 ...                                                                          \n",
              "4214  Não tive experiência na área de TI/Engenharia ...                                                                          \n",
              "4221                                     Menos de 1 ano                                                                          \n",
              "4240                                     Menos de 1 ano                                                                          \n",
              "4247  Não tive experiência na área de TI/Engenharia ...                                                                          \n",
              "4251                                     Menos de 1 ano                                                                          \n",
              "\n",
              "      SALARIO  \n",
              "4      7733.0  \n",
              "5      2336.0  \n",
              "7      2704.0  \n",
              "14     7416.0  \n",
              "23    13418.0  \n",
              "...       ...  \n",
              "4214  11452.0  \n",
              "4221   5687.0  \n",
              "4240   1182.0  \n",
              "4247   5925.0  \n",
              "4251   5673.0  \n",
              "\n",
              "[503 rows x 28 columns]"
            ],
            "text/html": [
              "\n",
              "  <div id=\"df-7e391c4a-20e0-4d1e-b58d-3c8a03cde88e\" class=\"colab-df-container\">\n",
              "    <div>\n",
              "<style scoped>\n",
              "    .dataframe tbody tr th:only-of-type {\n",
              "        vertical-align: middle;\n",
              "    }\n",
              "\n",
              "    .dataframe tbody tr th {\n",
              "        vertical-align: top;\n",
              "    }\n",
              "\n",
              "    .dataframe thead th {\n",
              "        text-align: right;\n",
              "    }\n",
              "</style>\n",
              "<table border=\"1\" class=\"dataframe\">\n",
              "  <thead>\n",
              "    <tr style=\"text-align: right;\">\n",
              "      <th></th>\n",
              "      <th>Unnamed: 0</th>\n",
              "      <th>ID</th>\n",
              "      <th>IDADE</th>\n",
              "      <th>FAIXA IDADE</th>\n",
              "      <th>GENERO</th>\n",
              "      <th>COR/RACA/ETNIA</th>\n",
              "      <th>PCD</th>\n",
              "      <th>EXPERIENCIA_PROFISSIONAL_PREJUDICADA</th>\n",
              "      <th>ASPECTOS_PREJUDICADOS</th>\n",
              "      <th>VIVE_NO_BRASIL</th>\n",
              "      <th>...</th>\n",
              "      <th>SETOR</th>\n",
              "      <th>NUMERO DE FUNCIONARIOS</th>\n",
              "      <th>GESTOR?</th>\n",
              "      <th>CARGO COMO GESTOR</th>\n",
              "      <th>CARGO ATUAL</th>\n",
              "      <th>NIVEL</th>\n",
              "      <th>FAIXA SALARIAL</th>\n",
              "      <th>QUANTO TEMPO DE EXPERIÊNCIA NA ÁREA DE DADOS VOCÊ TEM?</th>\n",
              "      <th>QUANTO TEMPO DE EXPERIÊNCIA NA ÁREA DE TI/ENGENHARIA DE SOFTWARE VOCÊ TEVE ANTES DE COMEÇAR A TRABALHAR NA ÁREA DE DADOS?</th>\n",
              "      <th>SALARIO</th>\n",
              "    </tr>\n",
              "  </thead>\n",
              "  <tbody>\n",
              "    <tr>\n",
              "      <th>4</th>\n",
              "      <td>4</td>\n",
              "      <td>zzaf1m95yan929rb94wzzaf1mekhvhpg</td>\n",
              "      <td>46.0</td>\n",
              "      <td>45-49</td>\n",
              "      <td>Feminino</td>\n",
              "      <td>Branca</td>\n",
              "      <td>Não</td>\n",
              "      <td>Não acredito que minha experiência profissiona...</td>\n",
              "      <td>NaN</td>\n",
              "      <td>True</td>\n",
              "      <td>...</td>\n",
              "      <td>Setor Público</td>\n",
              "      <td>de 101 a 500</td>\n",
              "      <td>0.0</td>\n",
              "      <td>NaN</td>\n",
              "      <td>Desenvolvedor/ Engenheiro de Software/ Analist...</td>\n",
              "      <td>Pleno</td>\n",
              "      <td>de R$ 6.001/mês a R$ 8.000/mês</td>\n",
              "      <td>Não tenho experiência na área de dados</td>\n",
              "      <td>Mais de 10 anos</td>\n",
              "      <td>7733.0</td>\n",
              "    </tr>\n",
              "    <tr>\n",
              "      <th>5</th>\n",
              "      <td>5</td>\n",
              "      <td>zz0nlhbd8oxyiyxzz0nlh7g4xkiaza5v</td>\n",
              "      <td>32.0</td>\n",
              "      <td>30-34</td>\n",
              "      <td>Feminino</td>\n",
              "      <td>Parda</td>\n",
              "      <td>Não</td>\n",
              "      <td>Não acredito que minha experiência profissiona...</td>\n",
              "      <td>NaN</td>\n",
              "      <td>True</td>\n",
              "      <td>...</td>\n",
              "      <td>Educação</td>\n",
              "      <td>Acima de 3.000</td>\n",
              "      <td>0.0</td>\n",
              "      <td>NaN</td>\n",
              "      <td>Professor</td>\n",
              "      <td>Pleno</td>\n",
              "      <td>de R$ 2.001/mês a R$ 3.000/mês</td>\n",
              "      <td>Não tenho experiência na área de dados</td>\n",
              "      <td>Não tive experiência na área de TI/Engenharia ...</td>\n",
              "      <td>2336.0</td>\n",
              "    </tr>\n",
              "    <tr>\n",
              "      <th>7</th>\n",
              "      <td>7</td>\n",
              "      <td>zyc0twzno2sm5or5ovoxzyc0twz0300d</td>\n",
              "      <td>31.0</td>\n",
              "      <td>30-34</td>\n",
              "      <td>Feminino</td>\n",
              "      <td>Branca</td>\n",
              "      <td>Não</td>\n",
              "      <td>Não acredito que minha experiência profissiona...</td>\n",
              "      <td>NaN</td>\n",
              "      <td>True</td>\n",
              "      <td>...</td>\n",
              "      <td>Tecnologia/Fábrica de Software</td>\n",
              "      <td>de 6 a 10</td>\n",
              "      <td>0.0</td>\n",
              "      <td>NaN</td>\n",
              "      <td>Desenvolvedor/ Engenheiro de Software/ Analist...</td>\n",
              "      <td>Júnior</td>\n",
              "      <td>de R$ 2.001/mês a R$ 3.000/mês</td>\n",
              "      <td>Menos de 1 ano</td>\n",
              "      <td>Menos de 1 ano</td>\n",
              "      <td>2704.0</td>\n",
              "    </tr>\n",
              "    <tr>\n",
              "      <th>14</th>\n",
              "      <td>14</td>\n",
              "      <td>zwez49k0jhdvfkfst4zwef137uuf4ivy</td>\n",
              "      <td>35.0</td>\n",
              "      <td>35-39</td>\n",
              "      <td>Feminino</td>\n",
              "      <td>Parda</td>\n",
              "      <td>Não</td>\n",
              "      <td>Sim, acredito que a minha a experiência profis...</td>\n",
              "      <td>Atenção dada pelas pessoas diante das minhas o...</td>\n",
              "      <td>True</td>\n",
              "      <td>...</td>\n",
              "      <td>Varejo</td>\n",
              "      <td>Acima de 3.000</td>\n",
              "      <td>0.0</td>\n",
              "      <td>NaN</td>\n",
              "      <td>Analista de Negócios/Business Analyst</td>\n",
              "      <td>Pleno</td>\n",
              "      <td>de R$ 6.001/mês a R$ 8.000/mês</td>\n",
              "      <td>de 1 a 2 anos</td>\n",
              "      <td>Não tive experiência na área de TI/Engenharia ...</td>\n",
              "      <td>7416.0</td>\n",
              "    </tr>\n",
              "    <tr>\n",
              "      <th>23</th>\n",
              "      <td>23</td>\n",
              "      <td>zuqfcwtl9unfc5ezuqfcwm8coytsp5ap</td>\n",
              "      <td>46.0</td>\n",
              "      <td>45-49</td>\n",
              "      <td>Feminino</td>\n",
              "      <td>Branca</td>\n",
              "      <td>Não</td>\n",
              "      <td>Não acredito que minha experiência profissiona...</td>\n",
              "      <td>NaN</td>\n",
              "      <td>True</td>\n",
              "      <td>...</td>\n",
              "      <td>Tecnologia/Fábrica de Software</td>\n",
              "      <td>de 501 a 1.000</td>\n",
              "      <td>0.0</td>\n",
              "      <td>NaN</td>\n",
              "      <td>Engenheiro de Dados/Arquiteto de Dados/Data En...</td>\n",
              "      <td>Sênior</td>\n",
              "      <td>de R$ 12.001/mês a R$ 16.000/mês</td>\n",
              "      <td>Mais de 10 anos</td>\n",
              "      <td>de 5 a 6 anos</td>\n",
              "      <td>13418.0</td>\n",
              "    </tr>\n",
              "    <tr>\n",
              "      <th>...</th>\n",
              "      <td>...</td>\n",
              "      <td>...</td>\n",
              "      <td>...</td>\n",
              "      <td>...</td>\n",
              "      <td>...</td>\n",
              "      <td>...</td>\n",
              "      <td>...</td>\n",
              "      <td>...</td>\n",
              "      <td>...</td>\n",
              "      <td>...</td>\n",
              "      <td>...</td>\n",
              "      <td>...</td>\n",
              "      <td>...</td>\n",
              "      <td>...</td>\n",
              "      <td>...</td>\n",
              "      <td>...</td>\n",
              "      <td>...</td>\n",
              "      <td>...</td>\n",
              "      <td>...</td>\n",
              "      <td>...</td>\n",
              "      <td>...</td>\n",
              "    </tr>\n",
              "    <tr>\n",
              "      <th>4214</th>\n",
              "      <td>4214</td>\n",
              "      <td>0gprow0ownrbfneftxf0gprow4kyrqdy</td>\n",
              "      <td>41.0</td>\n",
              "      <td>40-44</td>\n",
              "      <td>Feminino</td>\n",
              "      <td>Branca</td>\n",
              "      <td>Prefiro não informar</td>\n",
              "      <td>Sim, acredito que a minha a experiência profis...</td>\n",
              "      <td>Oportunidades de progressão de carreira, Veloc...</td>\n",
              "      <td>True</td>\n",
              "      <td>...</td>\n",
              "      <td>Seguros ou Previdência</td>\n",
              "      <td>Acima de 3.000</td>\n",
              "      <td>1.0</td>\n",
              "      <td>Supervisor/Coordenador</td>\n",
              "      <td>NaN</td>\n",
              "      <td>NaN</td>\n",
              "      <td>de R$ 8.001/mês a R$ 12.000/mês</td>\n",
              "      <td>de 4 a 6 anos</td>\n",
              "      <td>Não tive experiência na área de TI/Engenharia ...</td>\n",
              "      <td>11452.0</td>\n",
              "    </tr>\n",
              "    <tr>\n",
              "      <th>4221</th>\n",
              "      <td>4221</td>\n",
              "      <td>0fgi5bnb0u9b0fgc0jmqlbnvtu12b76d</td>\n",
              "      <td>34.0</td>\n",
              "      <td>30-34</td>\n",
              "      <td>Feminino</td>\n",
              "      <td>Outra</td>\n",
              "      <td>Não</td>\n",
              "      <td>Não acredito que minha experiência profissiona...</td>\n",
              "      <td>NaN</td>\n",
              "      <td>True</td>\n",
              "      <td>...</td>\n",
              "      <td>Área de Consultoria</td>\n",
              "      <td>de 51 a 100</td>\n",
              "      <td>0.0</td>\n",
              "      <td>NaN</td>\n",
              "      <td>Outra Opção</td>\n",
              "      <td>Júnior</td>\n",
              "      <td>de R$ 4.001/mês a R$ 6.000/mês</td>\n",
              "      <td>Menos de 1 ano</td>\n",
              "      <td>Menos de 1 ano</td>\n",
              "      <td>5687.0</td>\n",
              "    </tr>\n",
              "    <tr>\n",
              "      <th>4240</th>\n",
              "      <td>4240</td>\n",
              "      <td>0a5xgxb1ljmuqn0un8a10a5xg4eufs2l</td>\n",
              "      <td>37.0</td>\n",
              "      <td>35-39</td>\n",
              "      <td>Feminino</td>\n",
              "      <td>Branca</td>\n",
              "      <td>Não</td>\n",
              "      <td>Sim, acredito que a minha a experiência profis...</td>\n",
              "      <td>Quantidade de oportunidades de emprego/vagas r...</td>\n",
              "      <td>True</td>\n",
              "      <td>...</td>\n",
              "      <td>Finanças ou Bancos</td>\n",
              "      <td>de 51 a 100</td>\n",
              "      <td>0.0</td>\n",
              "      <td>NaN</td>\n",
              "      <td>Analista de BI/BI Analyst</td>\n",
              "      <td>Júnior</td>\n",
              "      <td>de R$ 1.001/mês a R$ 2.000/mês</td>\n",
              "      <td>de 1 a 2 anos</td>\n",
              "      <td>Menos de 1 ano</td>\n",
              "      <td>1182.0</td>\n",
              "    </tr>\n",
              "    <tr>\n",
              "      <th>4247</th>\n",
              "      <td>4247</td>\n",
              "      <td>07qzabp4ujpe4oz81udmb07qzabp4h0t</td>\n",
              "      <td>34.0</td>\n",
              "      <td>30-34</td>\n",
              "      <td>Feminino</td>\n",
              "      <td>Branca</td>\n",
              "      <td>Não</td>\n",
              "      <td>Não acredito que minha experiência profissiona...</td>\n",
              "      <td>NaN</td>\n",
              "      <td>True</td>\n",
              "      <td>...</td>\n",
              "      <td>Setor de Energia</td>\n",
              "      <td>de 11 a 50</td>\n",
              "      <td>0.0</td>\n",
              "      <td>NaN</td>\n",
              "      <td>Cientista de Dados/Data Scientist</td>\n",
              "      <td>Júnior</td>\n",
              "      <td>de R$ 4.001/mês a R$ 6.000/mês</td>\n",
              "      <td>Mais de 10 anos</td>\n",
              "      <td>Não tive experiência na área de TI/Engenharia ...</td>\n",
              "      <td>5925.0</td>\n",
              "    </tr>\n",
              "    <tr>\n",
              "      <th>4251</th>\n",
              "      <td>4251</td>\n",
              "      <td>068hhicrqggu068huq0l2ab3g7liagy8</td>\n",
              "      <td>34.0</td>\n",
              "      <td>30-34</td>\n",
              "      <td>Feminino</td>\n",
              "      <td>Preta</td>\n",
              "      <td>Não</td>\n",
              "      <td>Não acredito que minha experiência profissiona...</td>\n",
              "      <td>NaN</td>\n",
              "      <td>True</td>\n",
              "      <td>...</td>\n",
              "      <td>Finanças ou Bancos</td>\n",
              "      <td>de 1.001 a 3.000</td>\n",
              "      <td>0.0</td>\n",
              "      <td>NaN</td>\n",
              "      <td>Engenheiro de Dados/Arquiteto de Dados/Data En...</td>\n",
              "      <td>Pleno</td>\n",
              "      <td>de R$ 4.001/mês a R$ 6.000/mês</td>\n",
              "      <td>Menos de 1 ano</td>\n",
              "      <td>Menos de 1 ano</td>\n",
              "      <td>5673.0</td>\n",
              "    </tr>\n",
              "  </tbody>\n",
              "</table>\n",
              "<p>503 rows × 28 columns</p>\n",
              "</div>\n",
              "    <div class=\"colab-df-buttons\">\n",
              "\n",
              "  <div class=\"colab-df-container\">\n",
              "    <button class=\"colab-df-convert\" onclick=\"convertToInteractive('df-7e391c4a-20e0-4d1e-b58d-3c8a03cde88e')\"\n",
              "            title=\"Convert this dataframe to an interactive table.\"\n",
              "            style=\"display:none;\">\n",
              "\n",
              "  <svg xmlns=\"http://www.w3.org/2000/svg\" height=\"24px\" viewBox=\"0 -960 960 960\">\n",
              "    <path d=\"M120-120v-720h720v720H120Zm60-500h600v-160H180v160Zm220 220h160v-160H400v160Zm0 220h160v-160H400v160ZM180-400h160v-160H180v160Zm440 0h160v-160H620v160ZM180-180h160v-160H180v160Zm440 0h160v-160H620v160Z\"/>\n",
              "  </svg>\n",
              "    </button>\n",
              "\n",
              "  <style>\n",
              "    .colab-df-container {\n",
              "      display:flex;\n",
              "      gap: 12px;\n",
              "    }\n",
              "\n",
              "    .colab-df-convert {\n",
              "      background-color: #E8F0FE;\n",
              "      border: none;\n",
              "      border-radius: 50%;\n",
              "      cursor: pointer;\n",
              "      display: none;\n",
              "      fill: #1967D2;\n",
              "      height: 32px;\n",
              "      padding: 0 0 0 0;\n",
              "      width: 32px;\n",
              "    }\n",
              "\n",
              "    .colab-df-convert:hover {\n",
              "      background-color: #E2EBFA;\n",
              "      box-shadow: 0px 1px 2px rgba(60, 64, 67, 0.3), 0px 1px 3px 1px rgba(60, 64, 67, 0.15);\n",
              "      fill: #174EA6;\n",
              "    }\n",
              "\n",
              "    .colab-df-buttons div {\n",
              "      margin-bottom: 4px;\n",
              "    }\n",
              "\n",
              "    [theme=dark] .colab-df-convert {\n",
              "      background-color: #3B4455;\n",
              "      fill: #D2E3FC;\n",
              "    }\n",
              "\n",
              "    [theme=dark] .colab-df-convert:hover {\n",
              "      background-color: #434B5C;\n",
              "      box-shadow: 0px 1px 3px 1px rgba(0, 0, 0, 0.15);\n",
              "      filter: drop-shadow(0px 1px 2px rgba(0, 0, 0, 0.3));\n",
              "      fill: #FFFFFF;\n",
              "    }\n",
              "  </style>\n",
              "\n",
              "    <script>\n",
              "      const buttonEl =\n",
              "        document.querySelector('#df-7e391c4a-20e0-4d1e-b58d-3c8a03cde88e button.colab-df-convert');\n",
              "      buttonEl.style.display =\n",
              "        google.colab.kernel.accessAllowed ? 'block' : 'none';\n",
              "\n",
              "      async function convertToInteractive(key) {\n",
              "        const element = document.querySelector('#df-7e391c4a-20e0-4d1e-b58d-3c8a03cde88e');\n",
              "        const dataTable =\n",
              "          await google.colab.kernel.invokeFunction('convertToInteractive',\n",
              "                                                    [key], {});\n",
              "        if (!dataTable) return;\n",
              "\n",
              "        const docLinkHtml = 'Like what you see? Visit the ' +\n",
              "          '<a target=\"_blank\" href=https://colab.research.google.com/notebooks/data_table.ipynb>data table notebook</a>'\n",
              "          + ' to learn more about interactive tables.';\n",
              "        element.innerHTML = '';\n",
              "        dataTable['output_type'] = 'display_data';\n",
              "        await google.colab.output.renderOutput(dataTable, element);\n",
              "        const docLink = document.createElement('div');\n",
              "        docLink.innerHTML = docLinkHtml;\n",
              "        element.appendChild(docLink);\n",
              "      }\n",
              "    </script>\n",
              "  </div>\n",
              "\n",
              "\n",
              "<div id=\"df-f5dae067-b1f1-4bf1-b6f6-f110ddfbdbab\">\n",
              "  <button class=\"colab-df-quickchart\" onclick=\"quickchart('df-f5dae067-b1f1-4bf1-b6f6-f110ddfbdbab')\"\n",
              "            title=\"Suggest charts\"\n",
              "            style=\"display:none;\">\n",
              "\n",
              "<svg xmlns=\"http://www.w3.org/2000/svg\" height=\"24px\"viewBox=\"0 0 24 24\"\n",
              "     width=\"24px\">\n",
              "    <g>\n",
              "        <path d=\"M19 3H5c-1.1 0-2 .9-2 2v14c0 1.1.9 2 2 2h14c1.1 0 2-.9 2-2V5c0-1.1-.9-2-2-2zM9 17H7v-7h2v7zm4 0h-2V7h2v10zm4 0h-2v-4h2v4z\"/>\n",
              "    </g>\n",
              "</svg>\n",
              "  </button>\n",
              "\n",
              "<style>\n",
              "  .colab-df-quickchart {\n",
              "      --bg-color: #E8F0FE;\n",
              "      --fill-color: #1967D2;\n",
              "      --hover-bg-color: #E2EBFA;\n",
              "      --hover-fill-color: #174EA6;\n",
              "      --disabled-fill-color: #AAA;\n",
              "      --disabled-bg-color: #DDD;\n",
              "  }\n",
              "\n",
              "  [theme=dark] .colab-df-quickchart {\n",
              "      --bg-color: #3B4455;\n",
              "      --fill-color: #D2E3FC;\n",
              "      --hover-bg-color: #434B5C;\n",
              "      --hover-fill-color: #FFFFFF;\n",
              "      --disabled-bg-color: #3B4455;\n",
              "      --disabled-fill-color: #666;\n",
              "  }\n",
              "\n",
              "  .colab-df-quickchart {\n",
              "    background-color: var(--bg-color);\n",
              "    border: none;\n",
              "    border-radius: 50%;\n",
              "    cursor: pointer;\n",
              "    display: none;\n",
              "    fill: var(--fill-color);\n",
              "    height: 32px;\n",
              "    padding: 0;\n",
              "    width: 32px;\n",
              "  }\n",
              "\n",
              "  .colab-df-quickchart:hover {\n",
              "    background-color: var(--hover-bg-color);\n",
              "    box-shadow: 0 1px 2px rgba(60, 64, 67, 0.3), 0 1px 3px 1px rgba(60, 64, 67, 0.15);\n",
              "    fill: var(--button-hover-fill-color);\n",
              "  }\n",
              "\n",
              "  .colab-df-quickchart-complete:disabled,\n",
              "  .colab-df-quickchart-complete:disabled:hover {\n",
              "    background-color: var(--disabled-bg-color);\n",
              "    fill: var(--disabled-fill-color);\n",
              "    box-shadow: none;\n",
              "  }\n",
              "\n",
              "  .colab-df-spinner {\n",
              "    border: 2px solid var(--fill-color);\n",
              "    border-color: transparent;\n",
              "    border-bottom-color: var(--fill-color);\n",
              "    animation:\n",
              "      spin 1s steps(1) infinite;\n",
              "  }\n",
              "\n",
              "  @keyframes spin {\n",
              "    0% {\n",
              "      border-color: transparent;\n",
              "      border-bottom-color: var(--fill-color);\n",
              "      border-left-color: var(--fill-color);\n",
              "    }\n",
              "    20% {\n",
              "      border-color: transparent;\n",
              "      border-left-color: var(--fill-color);\n",
              "      border-top-color: var(--fill-color);\n",
              "    }\n",
              "    30% {\n",
              "      border-color: transparent;\n",
              "      border-left-color: var(--fill-color);\n",
              "      border-top-color: var(--fill-color);\n",
              "      border-right-color: var(--fill-color);\n",
              "    }\n",
              "    40% {\n",
              "      border-color: transparent;\n",
              "      border-right-color: var(--fill-color);\n",
              "      border-top-color: var(--fill-color);\n",
              "    }\n",
              "    60% {\n",
              "      border-color: transparent;\n",
              "      border-right-color: var(--fill-color);\n",
              "    }\n",
              "    80% {\n",
              "      border-color: transparent;\n",
              "      border-right-color: var(--fill-color);\n",
              "      border-bottom-color: var(--fill-color);\n",
              "    }\n",
              "    90% {\n",
              "      border-color: transparent;\n",
              "      border-bottom-color: var(--fill-color);\n",
              "    }\n",
              "  }\n",
              "</style>\n",
              "\n",
              "  <script>\n",
              "    async function quickchart(key) {\n",
              "      const quickchartButtonEl =\n",
              "        document.querySelector('#' + key + ' button');\n",
              "      quickchartButtonEl.disabled = true;  // To prevent multiple clicks.\n",
              "      quickchartButtonEl.classList.add('colab-df-spinner');\n",
              "      try {\n",
              "        const charts = await google.colab.kernel.invokeFunction(\n",
              "            'suggestCharts', [key], {});\n",
              "      } catch (error) {\n",
              "        console.error('Error during call to suggestCharts:', error);\n",
              "      }\n",
              "      quickchartButtonEl.classList.remove('colab-df-spinner');\n",
              "      quickchartButtonEl.classList.add('colab-df-quickchart-complete');\n",
              "    }\n",
              "    (() => {\n",
              "      let quickchartButtonEl =\n",
              "        document.querySelector('#df-f5dae067-b1f1-4bf1-b6f6-f110ddfbdbab button');\n",
              "      quickchartButtonEl.style.display =\n",
              "        google.colab.kernel.accessAllowed ? 'block' : 'none';\n",
              "    })();\n",
              "  </script>\n",
              "</div>\n",
              "\n",
              "    </div>\n",
              "  </div>\n"
            ],
            "application/vnd.google.colaboratory.intrinsic+json": {
              "type": "dataframe"
            }
          },
          "metadata": {},
          "execution_count": 26
        }
      ]
    },
    {
      "cell_type": "code",
      "source": [
        "dados.groupby('GENERO')['ID'].nunique()"
      ],
      "metadata": {
        "colab": {
          "base_uri": "https://localhost:8080/"
        },
        "id": "JepON2-Hn348",
        "outputId": "ad30958b-f737-4655-d196-0c6b77e45517"
      },
      "execution_count": null,
      "outputs": [
        {
          "output_type": "execute_result",
          "data": {
            "text/plain": [
              "GENERO\n",
              "Feminino                1055\n",
              "Masculino               3194\n",
              "Prefiro não informar      12\n",
              "Name: ID, dtype: int64"
            ]
          },
          "metadata": {},
          "execution_count": 27
        }
      ]
    },
    {
      "cell_type": "code",
      "source": [
        "dados.groupby('GENERO',dropna=False)['ID'].nunique()"
      ],
      "metadata": {
        "colab": {
          "base_uri": "https://localhost:8080/"
        },
        "id": "tkDBr7quoYlE",
        "outputId": "8e67344b-1051-4cf0-a3dd-4867a5e634c7"
      },
      "execution_count": null,
      "outputs": [
        {
          "output_type": "execute_result",
          "data": {
            "text/plain": [
              "GENERO\n",
              "Feminino                1055\n",
              "Masculino               3194\n",
              "Prefiro não informar      12\n",
              "NaN                        9\n",
              "Name: ID, dtype: int64"
            ]
          },
          "metadata": {},
          "execution_count": 28
        }
      ]
    },
    {
      "cell_type": "code",
      "source": [
        "dados['GENERO'].value_counts(dropna=False)"
      ],
      "metadata": {
        "id": "H2UZdNZzpDyq"
      },
      "execution_count": null,
      "outputs": []
    },
    {
      "cell_type": "code",
      "source": [
        "dados[dados['IDADE']>30]['NIVEL'].value_counts()"
      ],
      "metadata": {
        "colab": {
          "base_uri": "https://localhost:8080/"
        },
        "id": "uuYVfLGhp7zA",
        "outputId": "66abd3e4-c572-481d-c85c-9b16c86237cb"
      },
      "execution_count": null,
      "outputs": [
        {
          "output_type": "execute_result",
          "data": {
            "text/plain": [
              "NIVEL\n",
              "Sênior    525\n",
              "Pleno     408\n",
              "Júnior    274\n",
              "Name: count, dtype: int64"
            ]
          },
          "metadata": {},
          "execution_count": 31
        }
      ]
    },
    {
      "cell_type": "code",
      "source": [
        "dados[(dados['IDADE']>30) & (dados['GENERO']=='Feminino')]['NIVEL'].value_counts()"
      ],
      "metadata": {
        "colab": {
          "base_uri": "https://localhost:8080/"
        },
        "id": "4LjfC5ByqYt6",
        "outputId": "07df2952-d4f3-4223-800d-35376ec947d2"
      },
      "execution_count": null,
      "outputs": [
        {
          "output_type": "execute_result",
          "data": {
            "text/plain": [
              "NIVEL\n",
              "Pleno     117\n",
              "Sênior    114\n",
              "Júnior     96\n",
              "Name: count, dtype: int64"
            ]
          },
          "metadata": {},
          "execution_count": 32
        }
      ]
    },
    {
      "cell_type": "code",
      "source": [
        "pd.pivot_table(dados, values=['ID'], index=['GENERO'], columns=['GESTOR?'], aggfunc='count')"
      ],
      "metadata": {
        "colab": {
          "base_uri": "https://localhost:8080/",
          "height": 206
        },
        "id": "kgvF_rMdrUpv",
        "outputId": "34f0f25a-795b-4733-db0f-5f3fff9b0c59"
      },
      "execution_count": null,
      "outputs": [
        {
          "output_type": "execute_result",
          "data": {
            "text/plain": [
              "                        ID     \n",
              "GESTOR?                0.0  1.0\n",
              "GENERO                         \n",
              "Feminino               754  132\n",
              "Masculino             2212  578\n",
              "Prefiro não informar     9    2"
            ],
            "text/html": [
              "\n",
              "  <div id=\"df-e9ced9ad-0e90-4442-aa2c-9faa29f656b9\" class=\"colab-df-container\">\n",
              "    <div>\n",
              "<style scoped>\n",
              "    .dataframe tbody tr th:only-of-type {\n",
              "        vertical-align: middle;\n",
              "    }\n",
              "\n",
              "    .dataframe tbody tr th {\n",
              "        vertical-align: top;\n",
              "    }\n",
              "\n",
              "    .dataframe thead tr th {\n",
              "        text-align: left;\n",
              "    }\n",
              "\n",
              "    .dataframe thead tr:last-of-type th {\n",
              "        text-align: right;\n",
              "    }\n",
              "</style>\n",
              "<table border=\"1\" class=\"dataframe\">\n",
              "  <thead>\n",
              "    <tr>\n",
              "      <th></th>\n",
              "      <th colspan=\"2\" halign=\"left\">ID</th>\n",
              "    </tr>\n",
              "    <tr>\n",
              "      <th>GESTOR?</th>\n",
              "      <th>0.0</th>\n",
              "      <th>1.0</th>\n",
              "    </tr>\n",
              "    <tr>\n",
              "      <th>GENERO</th>\n",
              "      <th></th>\n",
              "      <th></th>\n",
              "    </tr>\n",
              "  </thead>\n",
              "  <tbody>\n",
              "    <tr>\n",
              "      <th>Feminino</th>\n",
              "      <td>754</td>\n",
              "      <td>132</td>\n",
              "    </tr>\n",
              "    <tr>\n",
              "      <th>Masculino</th>\n",
              "      <td>2212</td>\n",
              "      <td>578</td>\n",
              "    </tr>\n",
              "    <tr>\n",
              "      <th>Prefiro não informar</th>\n",
              "      <td>9</td>\n",
              "      <td>2</td>\n",
              "    </tr>\n",
              "  </tbody>\n",
              "</table>\n",
              "</div>\n",
              "    <div class=\"colab-df-buttons\">\n",
              "\n",
              "  <div class=\"colab-df-container\">\n",
              "    <button class=\"colab-df-convert\" onclick=\"convertToInteractive('df-e9ced9ad-0e90-4442-aa2c-9faa29f656b9')\"\n",
              "            title=\"Convert this dataframe to an interactive table.\"\n",
              "            style=\"display:none;\">\n",
              "\n",
              "  <svg xmlns=\"http://www.w3.org/2000/svg\" height=\"24px\" viewBox=\"0 -960 960 960\">\n",
              "    <path d=\"M120-120v-720h720v720H120Zm60-500h600v-160H180v160Zm220 220h160v-160H400v160Zm0 220h160v-160H400v160ZM180-400h160v-160H180v160Zm440 0h160v-160H620v160ZM180-180h160v-160H180v160Zm440 0h160v-160H620v160Z\"/>\n",
              "  </svg>\n",
              "    </button>\n",
              "\n",
              "  <style>\n",
              "    .colab-df-container {\n",
              "      display:flex;\n",
              "      gap: 12px;\n",
              "    }\n",
              "\n",
              "    .colab-df-convert {\n",
              "      background-color: #E8F0FE;\n",
              "      border: none;\n",
              "      border-radius: 50%;\n",
              "      cursor: pointer;\n",
              "      display: none;\n",
              "      fill: #1967D2;\n",
              "      height: 32px;\n",
              "      padding: 0 0 0 0;\n",
              "      width: 32px;\n",
              "    }\n",
              "\n",
              "    .colab-df-convert:hover {\n",
              "      background-color: #E2EBFA;\n",
              "      box-shadow: 0px 1px 2px rgba(60, 64, 67, 0.3), 0px 1px 3px 1px rgba(60, 64, 67, 0.15);\n",
              "      fill: #174EA6;\n",
              "    }\n",
              "\n",
              "    .colab-df-buttons div {\n",
              "      margin-bottom: 4px;\n",
              "    }\n",
              "\n",
              "    [theme=dark] .colab-df-convert {\n",
              "      background-color: #3B4455;\n",
              "      fill: #D2E3FC;\n",
              "    }\n",
              "\n",
              "    [theme=dark] .colab-df-convert:hover {\n",
              "      background-color: #434B5C;\n",
              "      box-shadow: 0px 1px 3px 1px rgba(0, 0, 0, 0.15);\n",
              "      filter: drop-shadow(0px 1px 2px rgba(0, 0, 0, 0.3));\n",
              "      fill: #FFFFFF;\n",
              "    }\n",
              "  </style>\n",
              "\n",
              "    <script>\n",
              "      const buttonEl =\n",
              "        document.querySelector('#df-e9ced9ad-0e90-4442-aa2c-9faa29f656b9 button.colab-df-convert');\n",
              "      buttonEl.style.display =\n",
              "        google.colab.kernel.accessAllowed ? 'block' : 'none';\n",
              "\n",
              "      async function convertToInteractive(key) {\n",
              "        const element = document.querySelector('#df-e9ced9ad-0e90-4442-aa2c-9faa29f656b9');\n",
              "        const dataTable =\n",
              "          await google.colab.kernel.invokeFunction('convertToInteractive',\n",
              "                                                    [key], {});\n",
              "        if (!dataTable) return;\n",
              "\n",
              "        const docLinkHtml = 'Like what you see? Visit the ' +\n",
              "          '<a target=\"_blank\" href=https://colab.research.google.com/notebooks/data_table.ipynb>data table notebook</a>'\n",
              "          + ' to learn more about interactive tables.';\n",
              "        element.innerHTML = '';\n",
              "        dataTable['output_type'] = 'display_data';\n",
              "        await google.colab.output.renderOutput(dataTable, element);\n",
              "        const docLink = document.createElement('div');\n",
              "        docLink.innerHTML = docLinkHtml;\n",
              "        element.appendChild(docLink);\n",
              "      }\n",
              "    </script>\n",
              "  </div>\n",
              "\n",
              "\n",
              "<div id=\"df-fce2ba71-fb07-459e-b045-4d58f242403d\">\n",
              "  <button class=\"colab-df-quickchart\" onclick=\"quickchart('df-fce2ba71-fb07-459e-b045-4d58f242403d')\"\n",
              "            title=\"Suggest charts\"\n",
              "            style=\"display:none;\">\n",
              "\n",
              "<svg xmlns=\"http://www.w3.org/2000/svg\" height=\"24px\"viewBox=\"0 0 24 24\"\n",
              "     width=\"24px\">\n",
              "    <g>\n",
              "        <path d=\"M19 3H5c-1.1 0-2 .9-2 2v14c0 1.1.9 2 2 2h14c1.1 0 2-.9 2-2V5c0-1.1-.9-2-2-2zM9 17H7v-7h2v7zm4 0h-2V7h2v10zm4 0h-2v-4h2v4z\"/>\n",
              "    </g>\n",
              "</svg>\n",
              "  </button>\n",
              "\n",
              "<style>\n",
              "  .colab-df-quickchart {\n",
              "      --bg-color: #E8F0FE;\n",
              "      --fill-color: #1967D2;\n",
              "      --hover-bg-color: #E2EBFA;\n",
              "      --hover-fill-color: #174EA6;\n",
              "      --disabled-fill-color: #AAA;\n",
              "      --disabled-bg-color: #DDD;\n",
              "  }\n",
              "\n",
              "  [theme=dark] .colab-df-quickchart {\n",
              "      --bg-color: #3B4455;\n",
              "      --fill-color: #D2E3FC;\n",
              "      --hover-bg-color: #434B5C;\n",
              "      --hover-fill-color: #FFFFFF;\n",
              "      --disabled-bg-color: #3B4455;\n",
              "      --disabled-fill-color: #666;\n",
              "  }\n",
              "\n",
              "  .colab-df-quickchart {\n",
              "    background-color: var(--bg-color);\n",
              "    border: none;\n",
              "    border-radius: 50%;\n",
              "    cursor: pointer;\n",
              "    display: none;\n",
              "    fill: var(--fill-color);\n",
              "    height: 32px;\n",
              "    padding: 0;\n",
              "    width: 32px;\n",
              "  }\n",
              "\n",
              "  .colab-df-quickchart:hover {\n",
              "    background-color: var(--hover-bg-color);\n",
              "    box-shadow: 0 1px 2px rgba(60, 64, 67, 0.3), 0 1px 3px 1px rgba(60, 64, 67, 0.15);\n",
              "    fill: var(--button-hover-fill-color);\n",
              "  }\n",
              "\n",
              "  .colab-df-quickchart-complete:disabled,\n",
              "  .colab-df-quickchart-complete:disabled:hover {\n",
              "    background-color: var(--disabled-bg-color);\n",
              "    fill: var(--disabled-fill-color);\n",
              "    box-shadow: none;\n",
              "  }\n",
              "\n",
              "  .colab-df-spinner {\n",
              "    border: 2px solid var(--fill-color);\n",
              "    border-color: transparent;\n",
              "    border-bottom-color: var(--fill-color);\n",
              "    animation:\n",
              "      spin 1s steps(1) infinite;\n",
              "  }\n",
              "\n",
              "  @keyframes spin {\n",
              "    0% {\n",
              "      border-color: transparent;\n",
              "      border-bottom-color: var(--fill-color);\n",
              "      border-left-color: var(--fill-color);\n",
              "    }\n",
              "    20% {\n",
              "      border-color: transparent;\n",
              "      border-left-color: var(--fill-color);\n",
              "      border-top-color: var(--fill-color);\n",
              "    }\n",
              "    30% {\n",
              "      border-color: transparent;\n",
              "      border-left-color: var(--fill-color);\n",
              "      border-top-color: var(--fill-color);\n",
              "      border-right-color: var(--fill-color);\n",
              "    }\n",
              "    40% {\n",
              "      border-color: transparent;\n",
              "      border-right-color: var(--fill-color);\n",
              "      border-top-color: var(--fill-color);\n",
              "    }\n",
              "    60% {\n",
              "      border-color: transparent;\n",
              "      border-right-color: var(--fill-color);\n",
              "    }\n",
              "    80% {\n",
              "      border-color: transparent;\n",
              "      border-right-color: var(--fill-color);\n",
              "      border-bottom-color: var(--fill-color);\n",
              "    }\n",
              "    90% {\n",
              "      border-color: transparent;\n",
              "      border-bottom-color: var(--fill-color);\n",
              "    }\n",
              "  }\n",
              "</style>\n",
              "\n",
              "  <script>\n",
              "    async function quickchart(key) {\n",
              "      const quickchartButtonEl =\n",
              "        document.querySelector('#' + key + ' button');\n",
              "      quickchartButtonEl.disabled = true;  // To prevent multiple clicks.\n",
              "      quickchartButtonEl.classList.add('colab-df-spinner');\n",
              "      try {\n",
              "        const charts = await google.colab.kernel.invokeFunction(\n",
              "            'suggestCharts', [key], {});\n",
              "      } catch (error) {\n",
              "        console.error('Error during call to suggestCharts:', error);\n",
              "      }\n",
              "      quickchartButtonEl.classList.remove('colab-df-spinner');\n",
              "      quickchartButtonEl.classList.add('colab-df-quickchart-complete');\n",
              "    }\n",
              "    (() => {\n",
              "      let quickchartButtonEl =\n",
              "        document.querySelector('#df-fce2ba71-fb07-459e-b045-4d58f242403d button');\n",
              "      quickchartButtonEl.style.display =\n",
              "        google.colab.kernel.accessAllowed ? 'block' : 'none';\n",
              "    })();\n",
              "  </script>\n",
              "</div>\n",
              "\n",
              "    </div>\n",
              "  </div>\n"
            ],
            "application/vnd.google.colaboratory.intrinsic+json": {
              "type": "dataframe",
              "summary": "{\n  \"name\": \"pd\",\n  \"rows\": 3,\n  \"fields\": [\n    {\n      \"column\": [\n        \"GENERO\",\n        \"\"\n      ],\n      \"properties\": {\n        \"dtype\": \"string\",\n        \"num_unique_values\": 3,\n        \"samples\": [\n          \"Feminino\",\n          \"Masculino\",\n          \"Prefiro n\\u00e3o informar\"\n        ],\n        \"semantic_type\": \"\",\n        \"description\": \"\"\n      }\n    },\n    {\n      \"column\": [\n        \"ID\",\n        0.0\n      ],\n      \"properties\": {\n        \"dtype\": \"number\",\n        \"std\": 1120,\n        \"min\": 9,\n        \"max\": 2212,\n        \"num_unique_values\": 3,\n        \"samples\": [\n          754,\n          2212,\n          9\n        ],\n        \"semantic_type\": \"\",\n        \"description\": \"\"\n      }\n    },\n    {\n      \"column\": [\n        \"ID\",\n        1.0\n      ],\n      \"properties\": {\n        \"dtype\": \"number\",\n        \"std\": 302,\n        \"min\": 2,\n        \"max\": 578,\n        \"num_unique_values\": 3,\n        \"samples\": [\n          132,\n          578,\n          2\n        ],\n        \"semantic_type\": \"\",\n        \"description\": \"\"\n      }\n    }\n  ]\n}"
            }
          },
          "metadata": {},
          "execution_count": 36
        }
      ]
    },
    {
      "cell_type": "markdown",
      "source": [
        "#Estatistica Básica\n",
        "\n"
      ],
      "metadata": {
        "id": "ww0Cb7Ol6AyJ"
      }
    },
    {
      "cell_type": "code",
      "source": [
        " import numpy as np"
      ],
      "metadata": {
        "id": "Tiq1ZcGl6iO2"
      },
      "execution_count": null,
      "outputs": []
    },
    {
      "cell_type": "code",
      "source": [
        "lista_idades = [26,30,32,22,26,35,40,20,43,31,23]"
      ],
      "metadata": {
        "id": "BoQKVDMV6227"
      },
      "execution_count": null,
      "outputs": []
    },
    {
      "cell_type": "code",
      "source": [
        "np.sum(lista_idades)"
      ],
      "metadata": {
        "colab": {
          "base_uri": "https://localhost:8080/"
        },
        "id": "ACOm1k-D7r1c",
        "outputId": "af7ffa8a-79e6-4933-d8b1-5d044b8d1b4d"
      },
      "execution_count": null,
      "outputs": [
        {
          "output_type": "execute_result",
          "data": {
            "text/plain": [
              "328"
            ]
          },
          "metadata": {},
          "execution_count": 4
        }
      ]
    },
    {
      "cell_type": "code",
      "source": [
        "len(lista_idades)"
      ],
      "metadata": {
        "colab": {
          "base_uri": "https://localhost:8080/"
        },
        "id": "WdToXcEf8Ozw",
        "outputId": "6c12d4f7-94ba-4c28-ddea-7d97b1b90f05"
      },
      "execution_count": null,
      "outputs": [
        {
          "output_type": "execute_result",
          "data": {
            "text/plain": [
              "11"
            ]
          },
          "metadata": {},
          "execution_count": 5
        }
      ]
    },
    {
      "cell_type": "code",
      "source": [
        "np.sum(lista_idades)/len(lista_idades)"
      ],
      "metadata": {
        "colab": {
          "base_uri": "https://localhost:8080/"
        },
        "id": "8CEXKvCF8XdS",
        "outputId": "de94be8f-3592-4bc5-83f1-89e78a524d89"
      },
      "execution_count": null,
      "outputs": [
        {
          "output_type": "execute_result",
          "data": {
            "text/plain": [
              "29.818181818181817"
            ]
          },
          "metadata": {},
          "execution_count": 6
        }
      ]
    },
    {
      "cell_type": "code",
      "source": [
        "media = np.mean(lista_idades)"
      ],
      "metadata": {
        "id": "4OU84VoF8v-V"
      },
      "execution_count": null,
      "outputs": []
    },
    {
      "cell_type": "code",
      "source": [
        "print(\"Média aritmetica:\", media)"
      ],
      "metadata": {
        "colab": {
          "base_uri": "https://localhost:8080/"
        },
        "id": "uglMVjkg8z-s",
        "outputId": "18f54cfd-2eba-4ccd-bbed-817fe5e21df6"
      },
      "execution_count": null,
      "outputs": [
        {
          "output_type": "stream",
          "name": "stdout",
          "text": [
            "Média aritmetica: 29.818181818181817\n"
          ]
        }
      ]
    },
    {
      "cell_type": "code",
      "source": [
        "lista_idades.sort()\n",
        "lista_idades"
      ],
      "metadata": {
        "colab": {
          "base_uri": "https://localhost:8080/"
        },
        "id": "nBMpcY2e9twG",
        "outputId": "f9eb2003-1940-4066-a594-f84cb01ceb83"
      },
      "execution_count": null,
      "outputs": [
        {
          "output_type": "execute_result",
          "data": {
            "text/plain": [
              "[20, 22, 23, 26, 26, 30, 31, 32, 35, 40, 43]"
            ]
          },
          "metadata": {},
          "execution_count": 14
        }
      ]
    },
    {
      "cell_type": "markdown",
      "source": [],
      "metadata": {
        "id": "7m8D-Z1L-TnW"
      }
    },
    {
      "cell_type": "code",
      "source": [
        "lista_idades = [26,30,32,22,26,35,40,20,43,31,23,100]"
      ],
      "metadata": {
        "id": "C5hlIxcf80PB"
      },
      "execution_count": null,
      "outputs": []
    },
    {
      "cell_type": "markdown",
      "source": [],
      "metadata": {
        "id": "gSobswsA-VIe"
      }
    },
    {
      "cell_type": "code",
      "source": [
        "lista_idades.sort()\n",
        "lista_idades"
      ],
      "metadata": {
        "colab": {
          "base_uri": "https://localhost:8080/"
        },
        "id": "wFKLxubg-R_F",
        "outputId": "2f22b40d-e4e8-4880-8f4d-b8d2a7dc9b58"
      },
      "execution_count": null,
      "outputs": [
        {
          "output_type": "execute_result",
          "data": {
            "text/plain": [
              "[20, 22, 23, 26, 26, 30, 31, 32, 35, 40, 43, 100]"
            ]
          },
          "metadata": {},
          "execution_count": 16
        }
      ]
    },
    {
      "cell_type": "code",
      "source": [
        "mediana = np.median(lista_idades)\n",
        "mediana"
      ],
      "metadata": {
        "colab": {
          "base_uri": "https://localhost:8080/"
        },
        "id": "58qFDepW-aNJ",
        "outputId": "a64e7632-77ea-4b96-e56e-004e3ea4332b"
      },
      "execution_count": null,
      "outputs": [
        {
          "output_type": "execute_result",
          "data": {
            "text/plain": [
              "30.5"
            ]
          },
          "metadata": {},
          "execution_count": 18
        }
      ]
    },
    {
      "cell_type": "markdown",
      "source": [
        "###Voltando para a tabela"
      ],
      "metadata": {
        "id": "8gSPE1Et-2fM"
      }
    },
    {
      "cell_type": "code",
      "source": [
        "dados = pd.read_excel('/content/drive/MyDrive/Programaria/planilha_modulo3.xlsx')"
      ],
      "metadata": {
        "id": "DXUCiQaH-9CT"
      },
      "execution_count": null,
      "outputs": []
    },
    {
      "cell_type": "code",
      "source": [
        "#media\n",
        "dados['IDADE'].mean()"
      ],
      "metadata": {
        "colab": {
          "base_uri": "https://localhost:8080/"
        },
        "id": "FTSsGEYRApUr",
        "outputId": "7f7239e8-aa69-4309-bedf-121495b32b9d"
      },
      "execution_count": null,
      "outputs": [
        {
          "output_type": "execute_result",
          "data": {
            "text/plain": [
              "31.169168453657374"
            ]
          },
          "metadata": {},
          "execution_count": 28
        }
      ]
    },
    {
      "cell_type": "code",
      "source": [
        "#mediana\n",
        "dados['IDADE'].median()"
      ],
      "metadata": {
        "colab": {
          "base_uri": "https://localhost:8080/"
        },
        "id": "CZc4JtOLAy_D",
        "outputId": "4d43cfbe-a141-41ac-92aa-347f14372272"
      },
      "execution_count": null,
      "outputs": [
        {
          "output_type": "execute_result",
          "data": {
            "text/plain": [
              "30.0"
            ]
          },
          "metadata": {},
          "execution_count": 29
        }
      ]
    },
    {
      "cell_type": "code",
      "source": [
        "#moda\n",
        "dados['IDADE'].mode()"
      ],
      "metadata": {
        "colab": {
          "base_uri": "https://localhost:8080/",
          "height": 116
        },
        "id": "mCr106hnBG-P",
        "outputId": "53527325-e504-46b1-f06c-d1717c55b279"
      },
      "execution_count": null,
      "outputs": [
        {
          "output_type": "execute_result",
          "data": {
            "text/plain": [
              "0    27.0\n",
              "Name: IDADE, dtype: float64"
            ],
            "text/html": [
              "<div>\n",
              "<style scoped>\n",
              "    .dataframe tbody tr th:only-of-type {\n",
              "        vertical-align: middle;\n",
              "    }\n",
              "\n",
              "    .dataframe tbody tr th {\n",
              "        vertical-align: top;\n",
              "    }\n",
              "\n",
              "    .dataframe thead th {\n",
              "        text-align: right;\n",
              "    }\n",
              "</style>\n",
              "<table border=\"1\" class=\"dataframe\">\n",
              "  <thead>\n",
              "    <tr style=\"text-align: right;\">\n",
              "      <th></th>\n",
              "      <th>IDADE</th>\n",
              "    </tr>\n",
              "  </thead>\n",
              "  <tbody>\n",
              "    <tr>\n",
              "      <th>0</th>\n",
              "      <td>27.0</td>\n",
              "    </tr>\n",
              "  </tbody>\n",
              "</table>\n",
              "</div><br><label><b>dtype:</b> float64</label>"
            ]
          },
          "metadata": {},
          "execution_count": 30
        }
      ]
    },
    {
      "cell_type": "code",
      "source": [
        "#desvio media padrão\n",
        "dados['IDADE'].std()"
      ],
      "metadata": {
        "colab": {
          "base_uri": "https://localhost:8080/"
        },
        "id": "pg29ohkKLWWN",
        "outputId": "4c5021f3-3bd4-4901-b8a1-de991a6a48a4"
      },
      "execution_count": null,
      "outputs": [
        {
          "output_type": "execute_result",
          "data": {
            "text/plain": [
              "6.9192093904851335"
            ]
          },
          "metadata": {},
          "execution_count": 152
        }
      ]
    },
    {
      "cell_type": "code",
      "source": [
        "dados['IDADE'].min()"
      ],
      "metadata": {
        "colab": {
          "base_uri": "https://localhost:8080/"
        },
        "id": "qLfIAYLNCN18",
        "outputId": "32c5200e-bda4-423a-d1d6-03c2c05f2804"
      },
      "execution_count": null,
      "outputs": [
        {
          "output_type": "execute_result",
          "data": {
            "text/plain": [
              "18.0"
            ]
          },
          "metadata": {},
          "execution_count": 31
        }
      ]
    },
    {
      "cell_type": "code",
      "source": [
        "dados['IDADE'].max()"
      ],
      "metadata": {
        "colab": {
          "base_uri": "https://localhost:8080/"
        },
        "id": "6YoT0F1FCUoS",
        "outputId": "29f6d18d-7f77-418f-9bc4-4efb5f7c8fed"
      },
      "execution_count": null,
      "outputs": [
        {
          "output_type": "execute_result",
          "data": {
            "text/plain": [
              "54.0"
            ]
          },
          "metadata": {},
          "execution_count": 32
        }
      ]
    },
    {
      "cell_type": "code",
      "source": [
        "dados [dados['GENERO']=='Feminino']['IDADE'].mean()"
      ],
      "metadata": {
        "colab": {
          "base_uri": "https://localhost:8080/"
        },
        "id": "49LpgkDKCXRZ",
        "outputId": "48577272-0fe8-405b-c5ef-765530a8fb08"
      },
      "execution_count": null,
      "outputs": [
        {
          "output_type": "execute_result",
          "data": {
            "text/plain": [
              "31.318051575931232"
            ]
          },
          "metadata": {},
          "execution_count": 33
        }
      ]
    },
    {
      "cell_type": "code",
      "source": [
        "dados [dados['GENERO']=='Masculino']['IDADE'].mean()"
      ],
      "metadata": {
        "colab": {
          "base_uri": "https://localhost:8080/"
        },
        "id": "ZHjotpKODHno",
        "outputId": "e1d6c8c3-7082-4842-fefe-062b91d5781c"
      },
      "execution_count": null,
      "outputs": [
        {
          "output_type": "execute_result",
          "data": {
            "text/plain": [
              "31.147876077930373"
            ]
          },
          "metadata": {},
          "execution_count": 34
        }
      ]
    },
    {
      "cell_type": "code",
      "source": [
        "dados [dados['GENERO']=='Masculino']['SALARIO'].mean()"
      ],
      "metadata": {
        "colab": {
          "base_uri": "https://localhost:8080/"
        },
        "id": "9_ugw8rkDrDj",
        "outputId": "a6eadee9-c5fc-42cb-9bbb-f18e68c4ab73"
      },
      "execution_count": null,
      "outputs": [
        {
          "output_type": "execute_result",
          "data": {
            "text/plain": [
              "11724.552688172043"
            ]
          },
          "metadata": {},
          "execution_count": 35
        }
      ]
    },
    {
      "cell_type": "code",
      "source": [
        "dados [dados['GENERO']=='Feminino']['SALARIO'].mean()"
      ],
      "metadata": {
        "colab": {
          "base_uri": "https://localhost:8080/"
        },
        "id": "owuu5qtsDvh6",
        "outputId": "f25e4725-5ea2-4b32-f140-9ab2734c0f1b"
      },
      "execution_count": null,
      "outputs": [
        {
          "output_type": "execute_result",
          "data": {
            "text/plain": [
              "8673.22460496614"
            ]
          },
          "metadata": {},
          "execution_count": 36
        }
      ]
    },
    {
      "cell_type": "markdown",
      "source": [],
      "metadata": {
        "id": "dbmdKcgJTmt0"
      }
    },
    {
      "cell_type": "code",
      "source": [
        "#Valores Faltantes"
      ],
      "metadata": {
        "id": "ZfqDFr_TQZ_o"
      },
      "execution_count": null,
      "outputs": []
    },
    {
      "cell_type": "code",
      "source": [
        "dados.info()"
      ],
      "metadata": {
        "colab": {
          "base_uri": "https://localhost:8080/"
        },
        "id": "NxPSwd7qQfkD",
        "outputId": "080188e8-cbd4-476c-c491-5c347acabed0"
      },
      "execution_count": null,
      "outputs": [
        {
          "output_type": "stream",
          "name": "stdout",
          "text": [
            "<class 'pandas.core.frame.DataFrame'>\n",
            "RangeIndex: 4271 entries, 0 to 4270\n",
            "Data columns (total 28 columns):\n",
            " #   Column                                                                                                                     Non-Null Count  Dtype  \n",
            "---  ------                                                                                                                     --------------  -----  \n",
            " 0   Unnamed: 0                                                                                                                 4271 non-null   int64  \n",
            " 1   ID                                                                                                                         4271 non-null   object \n",
            " 2   IDADE                                                                                                                      4197 non-null   float64\n",
            " 3   FAIXA IDADE                                                                                                                4271 non-null   object \n",
            " 4   GENERO                                                                                                                     4262 non-null   object \n",
            " 5   COR/RACA/ETNIA                                                                                                             4271 non-null   object \n",
            " 6   PCD                                                                                                                        4271 non-null   object \n",
            " 7   EXPERIENCIA_PROFISSIONAL_PREJUDICADA                                                                                       2190 non-null   object \n",
            " 8   ASPECTOS_PREJUDICADOS                                                                                                      837 non-null    object \n",
            " 9   VIVE_NO_BRASIL                                                                                                             4271 non-null   bool   \n",
            " 10  ESTADO ONDE MORA                                                                                                           4156 non-null   object \n",
            " 11  UF ONDE MORA                                                                                                               4156 non-null   object \n",
            " 12  REGIAO ONDE MORA                                                                                                           4171 non-null   object \n",
            " 13  MUDOU DE ESTADO?                                                                                                           4171 non-null   float64\n",
            " 14  REGIAO DE ORIGEM                                                                                                           772 non-null    object \n",
            " 15  NIVEL DE ENSINO                                                                                                            4271 non-null   object \n",
            " 16  ÁREA DE FORMAÇÃO                                                                                                           4149 non-null   object \n",
            " 17  QUAL SUA SITUAÇÃO ATUAL DE TRABALHO?                                                                                       4271 non-null   object \n",
            " 18  SETOR                                                                                                                      3694 non-null   object \n",
            " 19  NUMERO DE FUNCIONARIOS                                                                                                     3694 non-null   object \n",
            " 20  GESTOR?                                                                                                                    3694 non-null   float64\n",
            " 21  CARGO COMO GESTOR                                                                                                          713 non-null    object \n",
            " 22  CARGO ATUAL                                                                                                                2981 non-null   object \n",
            " 23  NIVEL                                                                                                                      2981 non-null   object \n",
            " 24  FAIXA SALARIAL                                                                                                             3694 non-null   object \n",
            " 25  QUANTO TEMPO DE EXPERIÊNCIA NA ÁREA DE DADOS VOCÊ TEM?                                                                     3694 non-null   object \n",
            " 26  QUANTO TEMPO DE EXPERIÊNCIA NA ÁREA DE TI/ENGENHARIA DE SOFTWARE VOCÊ TEVE ANTES DE COMEÇAR A TRABALHAR NA ÁREA DE DADOS?  3694 non-null   object \n",
            " 27  SALARIO                                                                                                                    3694 non-null   float64\n",
            "dtypes: bool(1), float64(4), int64(1), object(22)\n",
            "memory usage: 905.2+ KB\n"
          ]
        }
      ]
    },
    {
      "cell_type": "markdown",
      "source": [
        "###Trabalhando coluna de genero"
      ],
      "metadata": {
        "id": "GawV8A0oRqWA"
      }
    },
    {
      "cell_type": "code",
      "source": [
        "dados.groupby('GENERO', dropna=False)[\"ID\"].nunique()"
      ],
      "metadata": {
        "colab": {
          "base_uri": "https://localhost:8080/",
          "height": 241
        },
        "id": "ROpznPmURWja",
        "outputId": "9ce9367d-dd49-400b-db19-0c7f829f4d31"
      },
      "execution_count": null,
      "outputs": [
        {
          "output_type": "execute_result",
          "data": {
            "text/plain": [
              "GENERO\n",
              "Feminino                1055\n",
              "Masculino               3194\n",
              "Prefiro não informar      12\n",
              "NaN                        9\n",
              "Name: ID, dtype: int64"
            ],
            "text/html": [
              "<div>\n",
              "<style scoped>\n",
              "    .dataframe tbody tr th:only-of-type {\n",
              "        vertical-align: middle;\n",
              "    }\n",
              "\n",
              "    .dataframe tbody tr th {\n",
              "        vertical-align: top;\n",
              "    }\n",
              "\n",
              "    .dataframe thead th {\n",
              "        text-align: right;\n",
              "    }\n",
              "</style>\n",
              "<table border=\"1\" class=\"dataframe\">\n",
              "  <thead>\n",
              "    <tr style=\"text-align: right;\">\n",
              "      <th></th>\n",
              "      <th>ID</th>\n",
              "    </tr>\n",
              "    <tr>\n",
              "      <th>GENERO</th>\n",
              "      <th></th>\n",
              "    </tr>\n",
              "  </thead>\n",
              "  <tbody>\n",
              "    <tr>\n",
              "      <th>Feminino</th>\n",
              "      <td>1055</td>\n",
              "    </tr>\n",
              "    <tr>\n",
              "      <th>Masculino</th>\n",
              "      <td>3194</td>\n",
              "    </tr>\n",
              "    <tr>\n",
              "      <th>Prefiro não informar</th>\n",
              "      <td>12</td>\n",
              "    </tr>\n",
              "    <tr>\n",
              "      <th>NaN</th>\n",
              "      <td>9</td>\n",
              "    </tr>\n",
              "  </tbody>\n",
              "</table>\n",
              "</div><br><label><b>dtype:</b> int64</label>"
            ]
          },
          "metadata": {},
          "execution_count": 41
        }
      ]
    },
    {
      "cell_type": "code",
      "source": [
        "dados['GENERO'] = dados['GENERO'].fillna('Prefiro não informar')"
      ],
      "metadata": {
        "id": "kHbqbF7cSZYd"
      },
      "execution_count": null,
      "outputs": []
    },
    {
      "cell_type": "code",
      "source": [
        "dados.groupby('GENERO', dropna=False)[\"ID\"].nunique()"
      ],
      "metadata": {
        "colab": {
          "base_uri": "https://localhost:8080/",
          "height": 210
        },
        "id": "fOiTpmPzS-0Y",
        "outputId": "bd9eac78-1b7d-4023-b057-a66a8fec905a"
      },
      "execution_count": null,
      "outputs": [
        {
          "output_type": "execute_result",
          "data": {
            "text/plain": [
              "GENERO\n",
              "Feminino                1055\n",
              "Masculino               3194\n",
              "Prefiro não informar      21\n",
              "Name: ID, dtype: int64"
            ],
            "text/html": [
              "<div>\n",
              "<style scoped>\n",
              "    .dataframe tbody tr th:only-of-type {\n",
              "        vertical-align: middle;\n",
              "    }\n",
              "\n",
              "    .dataframe tbody tr th {\n",
              "        vertical-align: top;\n",
              "    }\n",
              "\n",
              "    .dataframe thead th {\n",
              "        text-align: right;\n",
              "    }\n",
              "</style>\n",
              "<table border=\"1\" class=\"dataframe\">\n",
              "  <thead>\n",
              "    <tr style=\"text-align: right;\">\n",
              "      <th></th>\n",
              "      <th>ID</th>\n",
              "    </tr>\n",
              "    <tr>\n",
              "      <th>GENERO</th>\n",
              "      <th></th>\n",
              "    </tr>\n",
              "  </thead>\n",
              "  <tbody>\n",
              "    <tr>\n",
              "      <th>Feminino</th>\n",
              "      <td>1055</td>\n",
              "    </tr>\n",
              "    <tr>\n",
              "      <th>Masculino</th>\n",
              "      <td>3194</td>\n",
              "    </tr>\n",
              "    <tr>\n",
              "      <th>Prefiro não informar</th>\n",
              "      <td>21</td>\n",
              "    </tr>\n",
              "  </tbody>\n",
              "</table>\n",
              "</div><br><label><b>dtype:</b> int64</label>"
            ]
          },
          "metadata": {},
          "execution_count": 44
        }
      ]
    },
    {
      "cell_type": "markdown",
      "source": [
        "#Trabalhando coluna de idade\n"
      ],
      "metadata": {
        "id": "MnqwqQTdSKGJ"
      }
    },
    {
      "cell_type": "code",
      "source": [
        "dados['IDADE'].isnull().value_counts()"
      ],
      "metadata": {
        "colab": {
          "base_uri": "https://localhost:8080/",
          "height": 178
        },
        "id": "DEi_pBTYT2tb",
        "outputId": "6b5f8b18-6b47-41ac-d513-a3c46824b7a9"
      },
      "execution_count": null,
      "outputs": [
        {
          "output_type": "execute_result",
          "data": {
            "text/plain": [
              "IDADE\n",
              "False    4197\n",
              "True       74\n",
              "Name: count, dtype: int64"
            ],
            "text/html": [
              "<div>\n",
              "<style scoped>\n",
              "    .dataframe tbody tr th:only-of-type {\n",
              "        vertical-align: middle;\n",
              "    }\n",
              "\n",
              "    .dataframe tbody tr th {\n",
              "        vertical-align: top;\n",
              "    }\n",
              "\n",
              "    .dataframe thead th {\n",
              "        text-align: right;\n",
              "    }\n",
              "</style>\n",
              "<table border=\"1\" class=\"dataframe\">\n",
              "  <thead>\n",
              "    <tr style=\"text-align: right;\">\n",
              "      <th></th>\n",
              "      <th>count</th>\n",
              "    </tr>\n",
              "    <tr>\n",
              "      <th>IDADE</th>\n",
              "      <th></th>\n",
              "    </tr>\n",
              "  </thead>\n",
              "  <tbody>\n",
              "    <tr>\n",
              "      <th>False</th>\n",
              "      <td>4197</td>\n",
              "    </tr>\n",
              "    <tr>\n",
              "      <th>True</th>\n",
              "      <td>74</td>\n",
              "    </tr>\n",
              "  </tbody>\n",
              "</table>\n",
              "</div><br><label><b>dtype:</b> int64</label>"
            ]
          },
          "metadata": {},
          "execution_count": 45
        }
      ]
    },
    {
      "cell_type": "code",
      "source": [
        "dados.columns"
      ],
      "metadata": {
        "colab": {
          "base_uri": "https://localhost:8080/"
        },
        "id": "7HpfQnklUlWk",
        "outputId": "453f4abe-ae6f-4629-9651-9d0c45ee6469"
      },
      "execution_count": null,
      "outputs": [
        {
          "output_type": "execute_result",
          "data": {
            "text/plain": [
              "Index(['Unnamed: 0', 'ID', 'IDADE', 'FAIXA IDADE', 'GENERO', 'COR/RACA/ETNIA',\n",
              "       'PCD', 'EXPERIENCIA_PROFISSIONAL_PREJUDICADA', 'ASPECTOS_PREJUDICADOS',\n",
              "       'VIVE_NO_BRASIL', 'ESTADO ONDE MORA', 'UF ONDE MORA',\n",
              "       'REGIAO ONDE MORA', 'MUDOU DE ESTADO?', 'REGIAO DE ORIGEM',\n",
              "       'NIVEL DE ENSINO', 'ÁREA DE FORMAÇÃO',\n",
              "       'QUAL SUA SITUAÇÃO ATUAL DE TRABALHO?', 'SETOR',\n",
              "       'NUMERO DE FUNCIONARIOS', 'GESTOR?', 'CARGO COMO GESTOR', 'CARGO ATUAL',\n",
              "       'NIVEL', 'FAIXA SALARIAL',\n",
              "       'QUANTO TEMPO DE EXPERIÊNCIA NA ÁREA DE DADOS VOCÊ TEM?',\n",
              "       'QUANTO TEMPO DE EXPERIÊNCIA NA ÁREA DE TI/ENGENHARIA DE SOFTWARE VOCÊ TEVE ANTES DE COMEÇAR A TRABALHAR NA ÁREA DE DADOS?',\n",
              "       'SALARIO'],\n",
              "      dtype='object')"
            ]
          },
          "metadata": {},
          "execution_count": 46
        }
      ]
    },
    {
      "cell_type": "code",
      "source": [
        "dados[dados['IDADE'].isnull()]['FAIXA IDADE'].value_counts()"
      ],
      "metadata": {
        "colab": {
          "base_uri": "https://localhost:8080/",
          "height": 178
        },
        "id": "NniCB0m0Ur82",
        "outputId": "540a63ef-6a2b-4877-a086-a4e16feeb840"
      },
      "execution_count": null,
      "outputs": [
        {
          "output_type": "execute_result",
          "data": {
            "text/plain": [
              "FAIXA IDADE\n",
              "55+      68\n",
              "17-21     6\n",
              "Name: count, dtype: int64"
            ],
            "text/html": [
              "<div>\n",
              "<style scoped>\n",
              "    .dataframe tbody tr th:only-of-type {\n",
              "        vertical-align: middle;\n",
              "    }\n",
              "\n",
              "    .dataframe tbody tr th {\n",
              "        vertical-align: top;\n",
              "    }\n",
              "\n",
              "    .dataframe thead th {\n",
              "        text-align: right;\n",
              "    }\n",
              "</style>\n",
              "<table border=\"1\" class=\"dataframe\">\n",
              "  <thead>\n",
              "    <tr style=\"text-align: right;\">\n",
              "      <th></th>\n",
              "      <th>count</th>\n",
              "    </tr>\n",
              "    <tr>\n",
              "      <th>FAIXA IDADE</th>\n",
              "      <th></th>\n",
              "    </tr>\n",
              "  </thead>\n",
              "  <tbody>\n",
              "    <tr>\n",
              "      <th>55+</th>\n",
              "      <td>68</td>\n",
              "    </tr>\n",
              "    <tr>\n",
              "      <th>17-21</th>\n",
              "      <td>6</td>\n",
              "    </tr>\n",
              "  </tbody>\n",
              "</table>\n",
              "</div><br><label><b>dtype:</b> int64</label>"
            ]
          },
          "metadata": {},
          "execution_count": 48
        }
      ]
    },
    {
      "cell_type": "code",
      "source": [
        "media_17_21 = dados[dados['FAIXA IDADE']=='17-21']['IDADE'].mean()"
      ],
      "metadata": {
        "id": "g5UwhgxmVadW"
      },
      "execution_count": null,
      "outputs": []
    },
    {
      "cell_type": "code",
      "source": [
        "dados.loc[(dados['FAIXA IDADE']=='17-21') & (dados['IDADE'].isnull()), 'IDADE'] = media_17_21"
      ],
      "metadata": {
        "id": "fYXwDo2eV8tk"
      },
      "execution_count": null,
      "outputs": []
    },
    {
      "cell_type": "code",
      "source": [
        "[dados['IDADE'].isnull()]['FAIXA IDADE']dados.value_counts()"
      ],
      "metadata": {
        "colab": {
          "base_uri": "https://localhost:8080/",
          "height": 147
        },
        "id": "zi-4vlPTXQDn",
        "outputId": "49d2c412-ed02-4ef8-a1b9-44cdd5e40ab9"
      },
      "execution_count": null,
      "outputs": [
        {
          "output_type": "execute_result",
          "data": {
            "text/plain": [
              "FAIXA IDADE\n",
              "55+    68\n",
              "Name: count, dtype: int64"
            ],
            "text/html": [
              "<div>\n",
              "<style scoped>\n",
              "    .dataframe tbody tr th:only-of-type {\n",
              "        vertical-align: middle;\n",
              "    }\n",
              "\n",
              "    .dataframe tbody tr th {\n",
              "        vertical-align: top;\n",
              "    }\n",
              "\n",
              "    .dataframe thead th {\n",
              "        text-align: right;\n",
              "    }\n",
              "</style>\n",
              "<table border=\"1\" class=\"dataframe\">\n",
              "  <thead>\n",
              "    <tr style=\"text-align: right;\">\n",
              "      <th></th>\n",
              "      <th>count</th>\n",
              "    </tr>\n",
              "    <tr>\n",
              "      <th>FAIXA IDADE</th>\n",
              "      <th></th>\n",
              "    </tr>\n",
              "  </thead>\n",
              "  <tbody>\n",
              "    <tr>\n",
              "      <th>55+</th>\n",
              "      <td>68</td>\n",
              "    </tr>\n",
              "  </tbody>\n",
              "</table>\n",
              "</div><br><label><b>dtype:</b> int64</label>"
            ]
          },
          "metadata": {},
          "execution_count": 53
        }
      ]
    },
    {
      "cell_type": "code",
      "source": [
        "dados[dados['FAIXA IDADE']=='55+']['IDADE']"
      ],
      "metadata": {
        "colab": {
          "base_uri": "https://localhost:8080/",
          "height": 458
        },
        "id": "KXJMHI4ZXZSF",
        "outputId": "2377c8c2-6796-479a-998d-4b6b857f8e2d"
      },
      "execution_count": null,
      "outputs": [
        {
          "output_type": "execute_result",
          "data": {
            "text/plain": [
              "9      NaN\n",
              "66     NaN\n",
              "96     NaN\n",
              "121    NaN\n",
              "156    NaN\n",
              "        ..\n",
              "4001   NaN\n",
              "4043   NaN\n",
              "4048   NaN\n",
              "4061   NaN\n",
              "4215   NaN\n",
              "Name: IDADE, Length: 68, dtype: float64"
            ],
            "text/html": [
              "<div>\n",
              "<style scoped>\n",
              "    .dataframe tbody tr th:only-of-type {\n",
              "        vertical-align: middle;\n",
              "    }\n",
              "\n",
              "    .dataframe tbody tr th {\n",
              "        vertical-align: top;\n",
              "    }\n",
              "\n",
              "    .dataframe thead th {\n",
              "        text-align: right;\n",
              "    }\n",
              "</style>\n",
              "<table border=\"1\" class=\"dataframe\">\n",
              "  <thead>\n",
              "    <tr style=\"text-align: right;\">\n",
              "      <th></th>\n",
              "      <th>IDADE</th>\n",
              "    </tr>\n",
              "  </thead>\n",
              "  <tbody>\n",
              "    <tr>\n",
              "      <th>9</th>\n",
              "      <td>NaN</td>\n",
              "    </tr>\n",
              "    <tr>\n",
              "      <th>66</th>\n",
              "      <td>NaN</td>\n",
              "    </tr>\n",
              "    <tr>\n",
              "      <th>96</th>\n",
              "      <td>NaN</td>\n",
              "    </tr>\n",
              "    <tr>\n",
              "      <th>121</th>\n",
              "      <td>NaN</td>\n",
              "    </tr>\n",
              "    <tr>\n",
              "      <th>156</th>\n",
              "      <td>NaN</td>\n",
              "    </tr>\n",
              "    <tr>\n",
              "      <th>...</th>\n",
              "      <td>...</td>\n",
              "    </tr>\n",
              "    <tr>\n",
              "      <th>4001</th>\n",
              "      <td>NaN</td>\n",
              "    </tr>\n",
              "    <tr>\n",
              "      <th>4043</th>\n",
              "      <td>NaN</td>\n",
              "    </tr>\n",
              "    <tr>\n",
              "      <th>4048</th>\n",
              "      <td>NaN</td>\n",
              "    </tr>\n",
              "    <tr>\n",
              "      <th>4061</th>\n",
              "      <td>NaN</td>\n",
              "    </tr>\n",
              "    <tr>\n",
              "      <th>4215</th>\n",
              "      <td>NaN</td>\n",
              "    </tr>\n",
              "  </tbody>\n",
              "</table>\n",
              "<p>68 rows × 1 columns</p>\n",
              "</div><br><label><b>dtype:</b> float64</label>"
            ]
          },
          "metadata": {},
          "execution_count": 55
        }
      ]
    },
    {
      "cell_type": "code",
      "source": [
        "dados[dados['FAIXA IDADE']=='55+']['NIVEL']"
      ],
      "metadata": {
        "colab": {
          "base_uri": "https://localhost:8080/",
          "height": 458
        },
        "id": "5XXR19zHXwta",
        "outputId": "427721fb-9f0c-478b-f008-8e8495147cb9"
      },
      "execution_count": null,
      "outputs": [
        {
          "output_type": "execute_result",
          "data": {
            "text/plain": [
              "9        Pleno\n",
              "66      Júnior\n",
              "96       Pleno\n",
              "121      Pleno\n",
              "156     Júnior\n",
              "         ...  \n",
              "4001       NaN\n",
              "4043       NaN\n",
              "4048       NaN\n",
              "4061       NaN\n",
              "4215    Sênior\n",
              "Name: NIVEL, Length: 68, dtype: object"
            ],
            "text/html": [
              "<div>\n",
              "<style scoped>\n",
              "    .dataframe tbody tr th:only-of-type {\n",
              "        vertical-align: middle;\n",
              "    }\n",
              "\n",
              "    .dataframe tbody tr th {\n",
              "        vertical-align: top;\n",
              "    }\n",
              "\n",
              "    .dataframe thead th {\n",
              "        text-align: right;\n",
              "    }\n",
              "</style>\n",
              "<table border=\"1\" class=\"dataframe\">\n",
              "  <thead>\n",
              "    <tr style=\"text-align: right;\">\n",
              "      <th></th>\n",
              "      <th>NIVEL</th>\n",
              "    </tr>\n",
              "  </thead>\n",
              "  <tbody>\n",
              "    <tr>\n",
              "      <th>9</th>\n",
              "      <td>Pleno</td>\n",
              "    </tr>\n",
              "    <tr>\n",
              "      <th>66</th>\n",
              "      <td>Júnior</td>\n",
              "    </tr>\n",
              "    <tr>\n",
              "      <th>96</th>\n",
              "      <td>Pleno</td>\n",
              "    </tr>\n",
              "    <tr>\n",
              "      <th>121</th>\n",
              "      <td>Pleno</td>\n",
              "    </tr>\n",
              "    <tr>\n",
              "      <th>156</th>\n",
              "      <td>Júnior</td>\n",
              "    </tr>\n",
              "    <tr>\n",
              "      <th>...</th>\n",
              "      <td>...</td>\n",
              "    </tr>\n",
              "    <tr>\n",
              "      <th>4001</th>\n",
              "      <td>NaN</td>\n",
              "    </tr>\n",
              "    <tr>\n",
              "      <th>4043</th>\n",
              "      <td>NaN</td>\n",
              "    </tr>\n",
              "    <tr>\n",
              "      <th>4048</th>\n",
              "      <td>NaN</td>\n",
              "    </tr>\n",
              "    <tr>\n",
              "      <th>4061</th>\n",
              "      <td>NaN</td>\n",
              "    </tr>\n",
              "    <tr>\n",
              "      <th>4215</th>\n",
              "      <td>Sênior</td>\n",
              "    </tr>\n",
              "  </tbody>\n",
              "</table>\n",
              "<p>68 rows × 1 columns</p>\n",
              "</div><br><label><b>dtype:</b> object</label>"
            ]
          },
          "metadata": {},
          "execution_count": 56
        }
      ]
    },
    {
      "cell_type": "code",
      "source": [
        "media_geral = dados ['IDADE'].mean()\n",
        "media_geral"
      ],
      "metadata": {
        "colab": {
          "base_uri": "https://localhost:8080/"
        },
        "id": "ZvUmgeUUYB3a",
        "outputId": "0124b5a5-5e52-4eb5-afc4-b3dca48601e7"
      },
      "execution_count": null,
      "outputs": [
        {
          "output_type": "execute_result",
          "data": {
            "text/plain": [
              "31.153517220250375"
            ]
          },
          "metadata": {},
          "execution_count": 58
        }
      ]
    },
    {
      "cell_type": "code",
      "source": [
        "dados.loc[(dados['FAIXA IDADE']== '55+') & (dados['IDADE'].isnull()), 'IDADE'] = media_geral"
      ],
      "metadata": {
        "id": "DCYfU0PhYVq7"
      },
      "execution_count": null,
      "outputs": []
    },
    {
      "cell_type": "code",
      "source": [
        "[dados['IDADE'].isnull()]['FAIXA IDADE'] dados.value_counts()"
      ],
      "metadata": {
        "id": "vg_KpEUnZz5d"
      },
      "execution_count": null,
      "outputs": []
    },
    {
      "cell_type": "code",
      "source": [
        "dados[dados['IDADE'].isnull()]['FAIXA IDADE'].value_counts()"
      ],
      "metadata": {
        "id": "tQp28NBHaFcu",
        "outputId": "f629ba53-6f0e-4d09-cc83-0d71f87d8ad8",
        "colab": {
          "base_uri": "https://localhost:8080/",
          "height": 116
        }
      },
      "execution_count": null,
      "outputs": [
        {
          "output_type": "execute_result",
          "data": {
            "text/plain": [
              "Series([], Name: count, dtype: int64)"
            ],
            "text/html": [
              "<div>\n",
              "<style scoped>\n",
              "    .dataframe tbody tr th:only-of-type {\n",
              "        vertical-align: middle;\n",
              "    }\n",
              "\n",
              "    .dataframe tbody tr th {\n",
              "        vertical-align: top;\n",
              "    }\n",
              "\n",
              "    .dataframe thead th {\n",
              "        text-align: right;\n",
              "    }\n",
              "</style>\n",
              "<table border=\"1\" class=\"dataframe\">\n",
              "  <thead>\n",
              "    <tr style=\"text-align: right;\">\n",
              "      <th></th>\n",
              "      <th>count</th>\n",
              "    </tr>\n",
              "    <tr>\n",
              "      <th>FAIXA IDADE</th>\n",
              "      <th></th>\n",
              "    </tr>\n",
              "  </thead>\n",
              "  <tbody>\n",
              "  </tbody>\n",
              "</table>\n",
              "</div><br><label><b>dtype:</b> int64</label>"
            ]
          },
          "metadata": {},
          "execution_count": 65
        }
      ]
    },
    {
      "cell_type": "markdown",
      "source": [
        "###Tratando coluna salário"
      ],
      "metadata": {
        "id": "RGzRMFAsOq3H"
      }
    },
    {
      "cell_type": "code",
      "source": [
        "dados[dados['SALARIO'].isnull()]"
      ],
      "metadata": {
        "colab": {
          "base_uri": "https://localhost:8080/",
          "height": 774
        },
        "id": "b8uVIUtWO27d",
        "outputId": "29ee6949-7e27-4ed6-b2bd-baa29d137406"
      },
      "execution_count": null,
      "outputs": [
        {
          "output_type": "execute_result",
          "data": {
            "text/plain": [
              "      Unnamed: 0                                ID  IDADE FAIXA IDADE  \\\n",
              "12            12  zwr9hqcpg513kaopenzwr9hibaqmldto   31.0       30-34   \n",
              "28            28  ztgepgj82o9oix0nztgepq2trcay6gpv   24.0       22-24   \n",
              "34            34  zsa9i6njd3e594mw0tvlk4zsa9iw86i9   24.0       22-24   \n",
              "39            39  zr4b2vm7dapp3linwqwn7zr4b2vmagqx   32.0       30-34   \n",
              "63            63  zm7o5yquakof0j6zm7vh3o0letznhdvh   26.0       25-29   \n",
              "...          ...                               ...    ...         ...   \n",
              "4242        4242  09oxwp6lsdwhw09ox1uobuxa8cq2pzma   26.0       25-29   \n",
              "4252        4252  064pe9b1htw7mflhif064pe95dotv6yf   39.0       35-39   \n",
              "4258        4258  03zjgijmnwv9qrlzbr03zjgij1eae1hw   25.0       25-29   \n",
              "4260        4260  03atvow8404tatt2iixjds03atvownkz   36.0       35-39   \n",
              "4261        4261  02xomoejng6c9152kde02xomww412qpg   33.0       30-34   \n",
              "\n",
              "         GENERO COR/RACA/ETNIA  PCD  \\\n",
              "12    Masculino         Branca  Não   \n",
              "28     Feminino          Parda  Não   \n",
              "34     Feminino         Branca  Não   \n",
              "39    Masculino          Parda  Não   \n",
              "63    Masculino         Branca  Não   \n",
              "...         ...            ...  ...   \n",
              "4242  Masculino         Branca  Não   \n",
              "4252  Masculino          Parda  Não   \n",
              "4258   Feminino         Branca  Não   \n",
              "4260  Masculino          Parda  Não   \n",
              "4261  Masculino         Branca  Não   \n",
              "\n",
              "                   EXPERIENCIA_PROFISSIONAL_PREJUDICADA  \\\n",
              "12                                                  NaN   \n",
              "28    Sim, acredito que a minha a experiência profis...   \n",
              "34    Sim, acredito que a minha a experiência profis...   \n",
              "39    Não acredito que minha experiência profissiona...   \n",
              "63                                                  NaN   \n",
              "...                                                 ...   \n",
              "4242                                                NaN   \n",
              "4252  Não acredito que minha experiência profissiona...   \n",
              "4258  Sim, acredito que a minha a experiência profis...   \n",
              "4260  Não acredito que minha experiência profissiona...   \n",
              "4261                                                NaN   \n",
              "\n",
              "                                  ASPECTOS_PREJUDICADOS  VIVE_NO_BRASIL  ...  \\\n",
              "12                                                  NaN            True  ...   \n",
              "28         Aprovação em processos seletivos/entrevistas            True  ...   \n",
              "34    Quantidade de oportunidades de emprego/vagas r...            True  ...   \n",
              "39                                                  NaN            True  ...   \n",
              "63                                                  NaN            True  ...   \n",
              "...                                                 ...             ...  ...   \n",
              "4242                                                NaN            True  ...   \n",
              "4252                                                NaN            True  ...   \n",
              "4258  Senioridade das vagas recebidas em relação à s...            True  ...   \n",
              "4260                                                NaN            True  ...   \n",
              "4261                                                NaN            True  ...   \n",
              "\n",
              "     SETOR NUMERO DE FUNCIONARIOS GESTOR?  CARGO COMO GESTOR CARGO ATUAL  \\\n",
              "12     NaN                    NaN     NaN                NaN         NaN   \n",
              "28     NaN                    NaN     NaN                NaN         NaN   \n",
              "34     NaN                    NaN     NaN                NaN         NaN   \n",
              "39     NaN                    NaN     NaN                NaN         NaN   \n",
              "63     NaN                    NaN     NaN                NaN         NaN   \n",
              "...    ...                    ...     ...                ...         ...   \n",
              "4242   NaN                    NaN     NaN                NaN         NaN   \n",
              "4252   NaN                    NaN     NaN                NaN         NaN   \n",
              "4258   NaN                    NaN     NaN                NaN         NaN   \n",
              "4260   NaN                    NaN     NaN                NaN         NaN   \n",
              "4261   NaN                    NaN     NaN                NaN         NaN   \n",
              "\n",
              "     NIVEL FAIXA SALARIAL  \\\n",
              "12     NaN            NaN   \n",
              "28     NaN            NaN   \n",
              "34     NaN            NaN   \n",
              "39     NaN            NaN   \n",
              "63     NaN            NaN   \n",
              "...    ...            ...   \n",
              "4242   NaN            NaN   \n",
              "4252   NaN            NaN   \n",
              "4258   NaN            NaN   \n",
              "4260   NaN            NaN   \n",
              "4261   NaN            NaN   \n",
              "\n",
              "     QUANTO TEMPO DE EXPERIÊNCIA NA ÁREA DE DADOS VOCÊ TEM?  \\\n",
              "12                                                  NaN       \n",
              "28                                                  NaN       \n",
              "34                                                  NaN       \n",
              "39                                                  NaN       \n",
              "63                                                  NaN       \n",
              "...                                                 ...       \n",
              "4242                                                NaN       \n",
              "4252                                                NaN       \n",
              "4258                                                NaN       \n",
              "4260                                                NaN       \n",
              "4261                                                NaN       \n",
              "\n",
              "     QUANTO TEMPO DE EXPERIÊNCIA NA ÁREA DE TI/ENGENHARIA DE SOFTWARE VOCÊ TEVE ANTES DE COMEÇAR A TRABALHAR NA ÁREA DE DADOS?  \\\n",
              "12                                                  NaN                                                                          \n",
              "28                                                  NaN                                                                          \n",
              "34                                                  NaN                                                                          \n",
              "39                                                  NaN                                                                          \n",
              "63                                                  NaN                                                                          \n",
              "...                                                 ...                                                                          \n",
              "4242                                                NaN                                                                          \n",
              "4252                                                NaN                                                                          \n",
              "4258                                                NaN                                                                          \n",
              "4260                                                NaN                                                                          \n",
              "4261                                                NaN                                                                          \n",
              "\n",
              "     SALARIO  \n",
              "12       NaN  \n",
              "28       NaN  \n",
              "34       NaN  \n",
              "39       NaN  \n",
              "63       NaN  \n",
              "...      ...  \n",
              "4242     NaN  \n",
              "4252     NaN  \n",
              "4258     NaN  \n",
              "4260     NaN  \n",
              "4261     NaN  \n",
              "\n",
              "[577 rows x 28 columns]"
            ],
            "text/html": [
              "\n",
              "  <div id=\"df-4d2b47d2-99d1-485a-915d-a495e28e6c56\" class=\"colab-df-container\">\n",
              "    <div>\n",
              "<style scoped>\n",
              "    .dataframe tbody tr th:only-of-type {\n",
              "        vertical-align: middle;\n",
              "    }\n",
              "\n",
              "    .dataframe tbody tr th {\n",
              "        vertical-align: top;\n",
              "    }\n",
              "\n",
              "    .dataframe thead th {\n",
              "        text-align: right;\n",
              "    }\n",
              "</style>\n",
              "<table border=\"1\" class=\"dataframe\">\n",
              "  <thead>\n",
              "    <tr style=\"text-align: right;\">\n",
              "      <th></th>\n",
              "      <th>Unnamed: 0</th>\n",
              "      <th>ID</th>\n",
              "      <th>IDADE</th>\n",
              "      <th>FAIXA IDADE</th>\n",
              "      <th>GENERO</th>\n",
              "      <th>COR/RACA/ETNIA</th>\n",
              "      <th>PCD</th>\n",
              "      <th>EXPERIENCIA_PROFISSIONAL_PREJUDICADA</th>\n",
              "      <th>ASPECTOS_PREJUDICADOS</th>\n",
              "      <th>VIVE_NO_BRASIL</th>\n",
              "      <th>...</th>\n",
              "      <th>SETOR</th>\n",
              "      <th>NUMERO DE FUNCIONARIOS</th>\n",
              "      <th>GESTOR?</th>\n",
              "      <th>CARGO COMO GESTOR</th>\n",
              "      <th>CARGO ATUAL</th>\n",
              "      <th>NIVEL</th>\n",
              "      <th>FAIXA SALARIAL</th>\n",
              "      <th>QUANTO TEMPO DE EXPERIÊNCIA NA ÁREA DE DADOS VOCÊ TEM?</th>\n",
              "      <th>QUANTO TEMPO DE EXPERIÊNCIA NA ÁREA DE TI/ENGENHARIA DE SOFTWARE VOCÊ TEVE ANTES DE COMEÇAR A TRABALHAR NA ÁREA DE DADOS?</th>\n",
              "      <th>SALARIO</th>\n",
              "    </tr>\n",
              "  </thead>\n",
              "  <tbody>\n",
              "    <tr>\n",
              "      <th>12</th>\n",
              "      <td>12</td>\n",
              "      <td>zwr9hqcpg513kaopenzwr9hibaqmldto</td>\n",
              "      <td>31.0</td>\n",
              "      <td>30-34</td>\n",
              "      <td>Masculino</td>\n",
              "      <td>Branca</td>\n",
              "      <td>Não</td>\n",
              "      <td>NaN</td>\n",
              "      <td>NaN</td>\n",
              "      <td>True</td>\n",
              "      <td>...</td>\n",
              "      <td>NaN</td>\n",
              "      <td>NaN</td>\n",
              "      <td>NaN</td>\n",
              "      <td>NaN</td>\n",
              "      <td>NaN</td>\n",
              "      <td>NaN</td>\n",
              "      <td>NaN</td>\n",
              "      <td>NaN</td>\n",
              "      <td>NaN</td>\n",
              "      <td>NaN</td>\n",
              "    </tr>\n",
              "    <tr>\n",
              "      <th>28</th>\n",
              "      <td>28</td>\n",
              "      <td>ztgepgj82o9oix0nztgepq2trcay6gpv</td>\n",
              "      <td>24.0</td>\n",
              "      <td>22-24</td>\n",
              "      <td>Feminino</td>\n",
              "      <td>Parda</td>\n",
              "      <td>Não</td>\n",
              "      <td>Sim, acredito que a minha a experiência profis...</td>\n",
              "      <td>Aprovação em processos seletivos/entrevistas</td>\n",
              "      <td>True</td>\n",
              "      <td>...</td>\n",
              "      <td>NaN</td>\n",
              "      <td>NaN</td>\n",
              "      <td>NaN</td>\n",
              "      <td>NaN</td>\n",
              "      <td>NaN</td>\n",
              "      <td>NaN</td>\n",
              "      <td>NaN</td>\n",
              "      <td>NaN</td>\n",
              "      <td>NaN</td>\n",
              "      <td>NaN</td>\n",
              "    </tr>\n",
              "    <tr>\n",
              "      <th>34</th>\n",
              "      <td>34</td>\n",
              "      <td>zsa9i6njd3e594mw0tvlk4zsa9iw86i9</td>\n",
              "      <td>24.0</td>\n",
              "      <td>22-24</td>\n",
              "      <td>Feminino</td>\n",
              "      <td>Branca</td>\n",
              "      <td>Não</td>\n",
              "      <td>Sim, acredito que a minha a experiência profis...</td>\n",
              "      <td>Quantidade de oportunidades de emprego/vagas r...</td>\n",
              "      <td>True</td>\n",
              "      <td>...</td>\n",
              "      <td>NaN</td>\n",
              "      <td>NaN</td>\n",
              "      <td>NaN</td>\n",
              "      <td>NaN</td>\n",
              "      <td>NaN</td>\n",
              "      <td>NaN</td>\n",
              "      <td>NaN</td>\n",
              "      <td>NaN</td>\n",
              "      <td>NaN</td>\n",
              "      <td>NaN</td>\n",
              "    </tr>\n",
              "    <tr>\n",
              "      <th>39</th>\n",
              "      <td>39</td>\n",
              "      <td>zr4b2vm7dapp3linwqwn7zr4b2vmagqx</td>\n",
              "      <td>32.0</td>\n",
              "      <td>30-34</td>\n",
              "      <td>Masculino</td>\n",
              "      <td>Parda</td>\n",
              "      <td>Não</td>\n",
              "      <td>Não acredito que minha experiência profissiona...</td>\n",
              "      <td>NaN</td>\n",
              "      <td>True</td>\n",
              "      <td>...</td>\n",
              "      <td>NaN</td>\n",
              "      <td>NaN</td>\n",
              "      <td>NaN</td>\n",
              "      <td>NaN</td>\n",
              "      <td>NaN</td>\n",
              "      <td>NaN</td>\n",
              "      <td>NaN</td>\n",
              "      <td>NaN</td>\n",
              "      <td>NaN</td>\n",
              "      <td>NaN</td>\n",
              "    </tr>\n",
              "    <tr>\n",
              "      <th>63</th>\n",
              "      <td>63</td>\n",
              "      <td>zm7o5yquakof0j6zm7vh3o0letznhdvh</td>\n",
              "      <td>26.0</td>\n",
              "      <td>25-29</td>\n",
              "      <td>Masculino</td>\n",
              "      <td>Branca</td>\n",
              "      <td>Não</td>\n",
              "      <td>NaN</td>\n",
              "      <td>NaN</td>\n",
              "      <td>True</td>\n",
              "      <td>...</td>\n",
              "      <td>NaN</td>\n",
              "      <td>NaN</td>\n",
              "      <td>NaN</td>\n",
              "      <td>NaN</td>\n",
              "      <td>NaN</td>\n",
              "      <td>NaN</td>\n",
              "      <td>NaN</td>\n",
              "      <td>NaN</td>\n",
              "      <td>NaN</td>\n",
              "      <td>NaN</td>\n",
              "    </tr>\n",
              "    <tr>\n",
              "      <th>...</th>\n",
              "      <td>...</td>\n",
              "      <td>...</td>\n",
              "      <td>...</td>\n",
              "      <td>...</td>\n",
              "      <td>...</td>\n",
              "      <td>...</td>\n",
              "      <td>...</td>\n",
              "      <td>...</td>\n",
              "      <td>...</td>\n",
              "      <td>...</td>\n",
              "      <td>...</td>\n",
              "      <td>...</td>\n",
              "      <td>...</td>\n",
              "      <td>...</td>\n",
              "      <td>...</td>\n",
              "      <td>...</td>\n",
              "      <td>...</td>\n",
              "      <td>...</td>\n",
              "      <td>...</td>\n",
              "      <td>...</td>\n",
              "      <td>...</td>\n",
              "    </tr>\n",
              "    <tr>\n",
              "      <th>4242</th>\n",
              "      <td>4242</td>\n",
              "      <td>09oxwp6lsdwhw09ox1uobuxa8cq2pzma</td>\n",
              "      <td>26.0</td>\n",
              "      <td>25-29</td>\n",
              "      <td>Masculino</td>\n",
              "      <td>Branca</td>\n",
              "      <td>Não</td>\n",
              "      <td>NaN</td>\n",
              "      <td>NaN</td>\n",
              "      <td>True</td>\n",
              "      <td>...</td>\n",
              "      <td>NaN</td>\n",
              "      <td>NaN</td>\n",
              "      <td>NaN</td>\n",
              "      <td>NaN</td>\n",
              "      <td>NaN</td>\n",
              "      <td>NaN</td>\n",
              "      <td>NaN</td>\n",
              "      <td>NaN</td>\n",
              "      <td>NaN</td>\n",
              "      <td>NaN</td>\n",
              "    </tr>\n",
              "    <tr>\n",
              "      <th>4252</th>\n",
              "      <td>4252</td>\n",
              "      <td>064pe9b1htw7mflhif064pe95dotv6yf</td>\n",
              "      <td>39.0</td>\n",
              "      <td>35-39</td>\n",
              "      <td>Masculino</td>\n",
              "      <td>Parda</td>\n",
              "      <td>Não</td>\n",
              "      <td>Não acredito que minha experiência profissiona...</td>\n",
              "      <td>NaN</td>\n",
              "      <td>True</td>\n",
              "      <td>...</td>\n",
              "      <td>NaN</td>\n",
              "      <td>NaN</td>\n",
              "      <td>NaN</td>\n",
              "      <td>NaN</td>\n",
              "      <td>NaN</td>\n",
              "      <td>NaN</td>\n",
              "      <td>NaN</td>\n",
              "      <td>NaN</td>\n",
              "      <td>NaN</td>\n",
              "      <td>NaN</td>\n",
              "    </tr>\n",
              "    <tr>\n",
              "      <th>4258</th>\n",
              "      <td>4258</td>\n",
              "      <td>03zjgijmnwv9qrlzbr03zjgij1eae1hw</td>\n",
              "      <td>25.0</td>\n",
              "      <td>25-29</td>\n",
              "      <td>Feminino</td>\n",
              "      <td>Branca</td>\n",
              "      <td>Não</td>\n",
              "      <td>Sim, acredito que a minha a experiência profis...</td>\n",
              "      <td>Senioridade das vagas recebidas em relação à s...</td>\n",
              "      <td>True</td>\n",
              "      <td>...</td>\n",
              "      <td>NaN</td>\n",
              "      <td>NaN</td>\n",
              "      <td>NaN</td>\n",
              "      <td>NaN</td>\n",
              "      <td>NaN</td>\n",
              "      <td>NaN</td>\n",
              "      <td>NaN</td>\n",
              "      <td>NaN</td>\n",
              "      <td>NaN</td>\n",
              "      <td>NaN</td>\n",
              "    </tr>\n",
              "    <tr>\n",
              "      <th>4260</th>\n",
              "      <td>4260</td>\n",
              "      <td>03atvow8404tatt2iixjds03atvownkz</td>\n",
              "      <td>36.0</td>\n",
              "      <td>35-39</td>\n",
              "      <td>Masculino</td>\n",
              "      <td>Parda</td>\n",
              "      <td>Não</td>\n",
              "      <td>Não acredito que minha experiência profissiona...</td>\n",
              "      <td>NaN</td>\n",
              "      <td>True</td>\n",
              "      <td>...</td>\n",
              "      <td>NaN</td>\n",
              "      <td>NaN</td>\n",
              "      <td>NaN</td>\n",
              "      <td>NaN</td>\n",
              "      <td>NaN</td>\n",
              "      <td>NaN</td>\n",
              "      <td>NaN</td>\n",
              "      <td>NaN</td>\n",
              "      <td>NaN</td>\n",
              "      <td>NaN</td>\n",
              "    </tr>\n",
              "    <tr>\n",
              "      <th>4261</th>\n",
              "      <td>4261</td>\n",
              "      <td>02xomoejng6c9152kde02xomww412qpg</td>\n",
              "      <td>33.0</td>\n",
              "      <td>30-34</td>\n",
              "      <td>Masculino</td>\n",
              "      <td>Branca</td>\n",
              "      <td>Não</td>\n",
              "      <td>NaN</td>\n",
              "      <td>NaN</td>\n",
              "      <td>True</td>\n",
              "      <td>...</td>\n",
              "      <td>NaN</td>\n",
              "      <td>NaN</td>\n",
              "      <td>NaN</td>\n",
              "      <td>NaN</td>\n",
              "      <td>NaN</td>\n",
              "      <td>NaN</td>\n",
              "      <td>NaN</td>\n",
              "      <td>NaN</td>\n",
              "      <td>NaN</td>\n",
              "      <td>NaN</td>\n",
              "    </tr>\n",
              "  </tbody>\n",
              "</table>\n",
              "<p>577 rows × 28 columns</p>\n",
              "</div>\n",
              "    <div class=\"colab-df-buttons\">\n",
              "\n",
              "  <div class=\"colab-df-container\">\n",
              "    <button class=\"colab-df-convert\" onclick=\"convertToInteractive('df-4d2b47d2-99d1-485a-915d-a495e28e6c56')\"\n",
              "            title=\"Convert this dataframe to an interactive table.\"\n",
              "            style=\"display:none;\">\n",
              "\n",
              "  <svg xmlns=\"http://www.w3.org/2000/svg\" height=\"24px\" viewBox=\"0 -960 960 960\">\n",
              "    <path d=\"M120-120v-720h720v720H120Zm60-500h600v-160H180v160Zm220 220h160v-160H400v160Zm0 220h160v-160H400v160ZM180-400h160v-160H180v160Zm440 0h160v-160H620v160ZM180-180h160v-160H180v160Zm440 0h160v-160H620v160Z\"/>\n",
              "  </svg>\n",
              "    </button>\n",
              "\n",
              "  <style>\n",
              "    .colab-df-container {\n",
              "      display:flex;\n",
              "      gap: 12px;\n",
              "    }\n",
              "\n",
              "    .colab-df-convert {\n",
              "      background-color: #E8F0FE;\n",
              "      border: none;\n",
              "      border-radius: 50%;\n",
              "      cursor: pointer;\n",
              "      display: none;\n",
              "      fill: #1967D2;\n",
              "      height: 32px;\n",
              "      padding: 0 0 0 0;\n",
              "      width: 32px;\n",
              "    }\n",
              "\n",
              "    .colab-df-convert:hover {\n",
              "      background-color: #E2EBFA;\n",
              "      box-shadow: 0px 1px 2px rgba(60, 64, 67, 0.3), 0px 1px 3px 1px rgba(60, 64, 67, 0.15);\n",
              "      fill: #174EA6;\n",
              "    }\n",
              "\n",
              "    .colab-df-buttons div {\n",
              "      margin-bottom: 4px;\n",
              "    }\n",
              "\n",
              "    [theme=dark] .colab-df-convert {\n",
              "      background-color: #3B4455;\n",
              "      fill: #D2E3FC;\n",
              "    }\n",
              "\n",
              "    [theme=dark] .colab-df-convert:hover {\n",
              "      background-color: #434B5C;\n",
              "      box-shadow: 0px 1px 3px 1px rgba(0, 0, 0, 0.15);\n",
              "      filter: drop-shadow(0px 1px 2px rgba(0, 0, 0, 0.3));\n",
              "      fill: #FFFFFF;\n",
              "    }\n",
              "  </style>\n",
              "\n",
              "    <script>\n",
              "      const buttonEl =\n",
              "        document.querySelector('#df-4d2b47d2-99d1-485a-915d-a495e28e6c56 button.colab-df-convert');\n",
              "      buttonEl.style.display =\n",
              "        google.colab.kernel.accessAllowed ? 'block' : 'none';\n",
              "\n",
              "      async function convertToInteractive(key) {\n",
              "        const element = document.querySelector('#df-4d2b47d2-99d1-485a-915d-a495e28e6c56');\n",
              "        const dataTable =\n",
              "          await google.colab.kernel.invokeFunction('convertToInteractive',\n",
              "                                                    [key], {});\n",
              "        if (!dataTable) return;\n",
              "\n",
              "        const docLinkHtml = 'Like what you see? Visit the ' +\n",
              "          '<a target=\"_blank\" href=https://colab.research.google.com/notebooks/data_table.ipynb>data table notebook</a>'\n",
              "          + ' to learn more about interactive tables.';\n",
              "        element.innerHTML = '';\n",
              "        dataTable['output_type'] = 'display_data';\n",
              "        await google.colab.output.renderOutput(dataTable, element);\n",
              "        const docLink = document.createElement('div');\n",
              "        docLink.innerHTML = docLinkHtml;\n",
              "        element.appendChild(docLink);\n",
              "      }\n",
              "    </script>\n",
              "  </div>\n",
              "\n",
              "\n",
              "<div id=\"df-b2849a17-1f15-42af-b9d8-52b08b692e19\">\n",
              "  <button class=\"colab-df-quickchart\" onclick=\"quickchart('df-b2849a17-1f15-42af-b9d8-52b08b692e19')\"\n",
              "            title=\"Suggest charts\"\n",
              "            style=\"display:none;\">\n",
              "\n",
              "<svg xmlns=\"http://www.w3.org/2000/svg\" height=\"24px\"viewBox=\"0 0 24 24\"\n",
              "     width=\"24px\">\n",
              "    <g>\n",
              "        <path d=\"M19 3H5c-1.1 0-2 .9-2 2v14c0 1.1.9 2 2 2h14c1.1 0 2-.9 2-2V5c0-1.1-.9-2-2-2zM9 17H7v-7h2v7zm4 0h-2V7h2v10zm4 0h-2v-4h2v4z\"/>\n",
              "    </g>\n",
              "</svg>\n",
              "  </button>\n",
              "\n",
              "<style>\n",
              "  .colab-df-quickchart {\n",
              "      --bg-color: #E8F0FE;\n",
              "      --fill-color: #1967D2;\n",
              "      --hover-bg-color: #E2EBFA;\n",
              "      --hover-fill-color: #174EA6;\n",
              "      --disabled-fill-color: #AAA;\n",
              "      --disabled-bg-color: #DDD;\n",
              "  }\n",
              "\n",
              "  [theme=dark] .colab-df-quickchart {\n",
              "      --bg-color: #3B4455;\n",
              "      --fill-color: #D2E3FC;\n",
              "      --hover-bg-color: #434B5C;\n",
              "      --hover-fill-color: #FFFFFF;\n",
              "      --disabled-bg-color: #3B4455;\n",
              "      --disabled-fill-color: #666;\n",
              "  }\n",
              "\n",
              "  .colab-df-quickchart {\n",
              "    background-color: var(--bg-color);\n",
              "    border: none;\n",
              "    border-radius: 50%;\n",
              "    cursor: pointer;\n",
              "    display: none;\n",
              "    fill: var(--fill-color);\n",
              "    height: 32px;\n",
              "    padding: 0;\n",
              "    width: 32px;\n",
              "  }\n",
              "\n",
              "  .colab-df-quickchart:hover {\n",
              "    background-color: var(--hover-bg-color);\n",
              "    box-shadow: 0 1px 2px rgba(60, 64, 67, 0.3), 0 1px 3px 1px rgba(60, 64, 67, 0.15);\n",
              "    fill: var(--button-hover-fill-color);\n",
              "  }\n",
              "\n",
              "  .colab-df-quickchart-complete:disabled,\n",
              "  .colab-df-quickchart-complete:disabled:hover {\n",
              "    background-color: var(--disabled-bg-color);\n",
              "    fill: var(--disabled-fill-color);\n",
              "    box-shadow: none;\n",
              "  }\n",
              "\n",
              "  .colab-df-spinner {\n",
              "    border: 2px solid var(--fill-color);\n",
              "    border-color: transparent;\n",
              "    border-bottom-color: var(--fill-color);\n",
              "    animation:\n",
              "      spin 1s steps(1) infinite;\n",
              "  }\n",
              "\n",
              "  @keyframes spin {\n",
              "    0% {\n",
              "      border-color: transparent;\n",
              "      border-bottom-color: var(--fill-color);\n",
              "      border-left-color: var(--fill-color);\n",
              "    }\n",
              "    20% {\n",
              "      border-color: transparent;\n",
              "      border-left-color: var(--fill-color);\n",
              "      border-top-color: var(--fill-color);\n",
              "    }\n",
              "    30% {\n",
              "      border-color: transparent;\n",
              "      border-left-color: var(--fill-color);\n",
              "      border-top-color: var(--fill-color);\n",
              "      border-right-color: var(--fill-color);\n",
              "    }\n",
              "    40% {\n",
              "      border-color: transparent;\n",
              "      border-right-color: var(--fill-color);\n",
              "      border-top-color: var(--fill-color);\n",
              "    }\n",
              "    60% {\n",
              "      border-color: transparent;\n",
              "      border-right-color: var(--fill-color);\n",
              "    }\n",
              "    80% {\n",
              "      border-color: transparent;\n",
              "      border-right-color: var(--fill-color);\n",
              "      border-bottom-color: var(--fill-color);\n",
              "    }\n",
              "    90% {\n",
              "      border-color: transparent;\n",
              "      border-bottom-color: var(--fill-color);\n",
              "    }\n",
              "  }\n",
              "</style>\n",
              "\n",
              "  <script>\n",
              "    async function quickchart(key) {\n",
              "      const quickchartButtonEl =\n",
              "        document.querySelector('#' + key + ' button');\n",
              "      quickchartButtonEl.disabled = true;  // To prevent multiple clicks.\n",
              "      quickchartButtonEl.classList.add('colab-df-spinner');\n",
              "      try {\n",
              "        const charts = await google.colab.kernel.invokeFunction(\n",
              "            'suggestCharts', [key], {});\n",
              "      } catch (error) {\n",
              "        console.error('Error during call to suggestCharts:', error);\n",
              "      }\n",
              "      quickchartButtonEl.classList.remove('colab-df-spinner');\n",
              "      quickchartButtonEl.classList.add('colab-df-quickchart-complete');\n",
              "    }\n",
              "    (() => {\n",
              "      let quickchartButtonEl =\n",
              "        document.querySelector('#df-b2849a17-1f15-42af-b9d8-52b08b692e19 button');\n",
              "      quickchartButtonEl.style.display =\n",
              "        google.colab.kernel.accessAllowed ? 'block' : 'none';\n",
              "    })();\n",
              "  </script>\n",
              "</div>\n",
              "\n",
              "    </div>\n",
              "  </div>\n"
            ],
            "application/vnd.google.colaboratory.intrinsic+json": {
              "type": "dataframe"
            }
          },
          "metadata": {},
          "execution_count": 7
        }
      ]
    },
    {
      "cell_type": "code",
      "source": [
        "dados[dados['SALARIO'].isnull()]['FAIXA SALARIAL'].value_counts()"
      ],
      "metadata": {
        "colab": {
          "base_uri": "https://localhost:8080/",
          "height": 115
        },
        "id": "bZXLfWoCPWlF",
        "outputId": "43bd6c8e-0835-4d36-8ea5-a18811d44da0"
      },
      "execution_count": null,
      "outputs": [
        {
          "output_type": "execute_result",
          "data": {
            "text/plain": [
              "Series([], Name: count, dtype: int64)"
            ],
            "text/html": [
              "<div>\n",
              "<style scoped>\n",
              "    .dataframe tbody tr th:only-of-type {\n",
              "        vertical-align: middle;\n",
              "    }\n",
              "\n",
              "    .dataframe tbody tr th {\n",
              "        vertical-align: top;\n",
              "    }\n",
              "\n",
              "    .dataframe thead th {\n",
              "        text-align: right;\n",
              "    }\n",
              "</style>\n",
              "<table border=\"1\" class=\"dataframe\">\n",
              "  <thead>\n",
              "    <tr style=\"text-align: right;\">\n",
              "      <th></th>\n",
              "      <th>count</th>\n",
              "    </tr>\n",
              "    <tr>\n",
              "      <th>FAIXA SALARIAL</th>\n",
              "      <th></th>\n",
              "    </tr>\n",
              "  </thead>\n",
              "  <tbody>\n",
              "  </tbody>\n",
              "</table>\n",
              "</div><br><label><b>dtype:</b> int64</label>"
            ]
          },
          "metadata": {},
          "execution_count": 8
        }
      ]
    },
    {
      "cell_type": "code",
      "source": [
        "mediana_salario = dados['SALARIO'].median()"
      ],
      "metadata": {
        "id": "11l-RZv7Podj"
      },
      "execution_count": null,
      "outputs": []
    },
    {
      "cell_type": "code",
      "source": [
        "dados.loc[dados['SALARIO'].isnull(), 'SALARIO'] = mediana_salario"
      ],
      "metadata": {
        "id": "joFWrl8fP2ka"
      },
      "execution_count": null,
      "outputs": []
    },
    {
      "cell_type": "markdown",
      "source": [
        "###Valores discreprantes (outliersa)"
      ],
      "metadata": {
        "id": "EZJ2sxFmQxsU"
      }
    },
    {
      "cell_type": "code",
      "source": [
        "lista_idades = [26,30,32,22,26,35,400,20,43,31,23]"
      ],
      "metadata": {
        "id": "gUcUB9Y0QOjt"
      },
      "execution_count": null,
      "outputs": []
    },
    {
      "cell_type": "code",
      "source": [
        "media = np.mean(lista_idades)\n",
        "media"
      ],
      "metadata": {
        "id": "FFvLAUQKRLvh",
        "colab": {
          "base_uri": "https://localhost:8080/"
        },
        "outputId": "487df801-4714-4a63-9f43-35ec7f8b0e3f"
      },
      "execution_count": null,
      "outputs": [
        {
          "output_type": "execute_result",
          "data": {
            "text/plain": [
              "62.54545454545455"
            ]
          },
          "metadata": {},
          "execution_count": 28
        }
      ]
    },
    {
      "cell_type": "code",
      "source": [
        "desvio = np.std(lista_idades)\n",
        "desvio"
      ],
      "metadata": {
        "colab": {
          "base_uri": "https://localhost:8080/"
        },
        "id": "bgThtGvwR0XH",
        "outputId": "1a4f1c26-0ab4-461d-8228-1ed33e365fce"
      },
      "execution_count": null,
      "outputs": [
        {
          "output_type": "execute_result",
          "data": {
            "text/plain": [
              "106.89532997398872"
            ]
          },
          "metadata": {},
          "execution_count": 26
        }
      ]
    },
    {
      "cell_type": "code",
      "source": [
        "media + 3*desvio\n"
      ],
      "metadata": {
        "colab": {
          "base_uri": "https://localhost:8080/"
        },
        "id": "ysOn2H5vT0P-",
        "outputId": "9d015fea-8dce-4a66-cc61-d6cdce29c858"
      },
      "execution_count": null,
      "outputs": [
        {
          "output_type": "execute_result",
          "data": {
            "text/plain": [
              "383.2314444674207"
            ]
          },
          "metadata": {},
          "execution_count": 29
        }
      ]
    },
    {
      "cell_type": "code",
      "source": [
        "media - 3*desvio"
      ],
      "metadata": {
        "colab": {
          "base_uri": "https://localhost:8080/"
        },
        "id": "OHeqdd2xUyxs",
        "outputId": "c784155f-d219-4a0b-9286-4cb1e4b3ff4d"
      },
      "execution_count": null,
      "outputs": [
        {
          "output_type": "execute_result",
          "data": {
            "text/plain": [
              "-258.1405353765116"
            ]
          },
          "metadata": {},
          "execution_count": 30
        }
      ]
    },
    {
      "cell_type": "code",
      "source": [
        "import matplotlib.pyplot as plt"
      ],
      "metadata": {
        "id": "AddUScKSU3dF"
      },
      "execution_count": null,
      "outputs": []
    },
    {
      "cell_type": "code",
      "source": [
        "#Aqui conseguimos visulizar os valores em grafico e percebemos que haviam valores fora da realilidade, como por exemplo uma pessoa preencehu que tinha 400 anos sendo que não seria possível, levando a acreditar que foi um erro de digitação, esse número erra do pode nos levar a informações erradas em outras analises, como média de idade, mediana e outra, por isso é importantes localizar os valores dicrepantes e corrigilos para não comprometer a analise\n",
        "\n",
        "plt.boxplot(lista_idades)"
      ],
      "metadata": {
        "colab": {
          "base_uri": "https://localhost:8080/",
          "height": 569
        },
        "id": "Et8u2ugkVDpl",
        "outputId": "8f9f553f-6fff-4ae5-e04c-b5a35b7d14b9"
      },
      "execution_count": null,
      "outputs": [
        {
          "output_type": "execute_result",
          "data": {
            "text/plain": [
              "{'whiskers': [<matplotlib.lines.Line2D at 0x7ff570684610>,\n",
              "  <matplotlib.lines.Line2D at 0x7ff570687010>],\n",
              " 'caps': [<matplotlib.lines.Line2D at 0x7ff570686a70>,\n",
              "  <matplotlib.lines.Line2D at 0x7ff570685a20>],\n",
              " 'boxes': [<matplotlib.lines.Line2D at 0x7ff570687550>],\n",
              " 'medians': [<matplotlib.lines.Line2D at 0x7ff570685a80>],\n",
              " 'fliers': [<matplotlib.lines.Line2D at 0x7ff570684d90>],\n",
              " 'means': []}"
            ]
          },
          "metadata": {},
          "execution_count": 32
        },
        {
          "output_type": "display_data",
          "data": {
            "text/plain": [
              "<Figure size 640x480 with 1 Axes>"
            ],
            "image/png": "[encoded data removed]"
          },
          "metadata": {}
        }
      ]
    },
    {
      "cell_type": "code",
      "source": [
        "plt.boxplot(dados['SALARIO'])"
      ],
      "metadata": {
        "colab": {
          "base_uri": "https://localhost:8080/",
          "height": 569
        },
        "id": "qN2ijDHHVI89",
        "outputId": "83af83de-fa07-4a00-adf7-f92bb6e2d332"
      },
      "execution_count": null,
      "outputs": [
        {
          "output_type": "execute_result",
          "data": {
            "text/plain": [
              "{'whiskers': [<matplotlib.lines.Line2D at 0x7ff56dfccac0>,\n",
              "  <matplotlib.lines.Line2D at 0x7ff56dfcc130>],\n",
              " 'caps': [<matplotlib.lines.Line2D at 0x7ff56dfcf730>,\n",
              "  <matplotlib.lines.Line2D at 0x7ff56dfcfa60>],\n",
              " 'boxes': [<matplotlib.lines.Line2D at 0x7ff56dfcdd20>],\n",
              " 'medians': [<matplotlib.lines.Line2D at 0x7ff56dfcd9c0>],\n",
              " 'fliers': [<matplotlib.lines.Line2D at 0x7ff56dfcee00>],\n",
              " 'means': []}"
            ]
          },
          "metadata": {},
          "execution_count": 33
        },
        {
          "output_type": "display_data",
          "data": {
            "text/plain": [
              "<Figure size 640x480 with 1 Axes>"
            ],
            "image/png": "[encoded data removed]"
          },
          "metadata": {}
        }
      ]
    },
    {
      "cell_type": "code",
      "source": [
        "Q1 = dados['SALARIO'].quantile(0.25)\n",
        "Q1\n"
      ],
      "metadata": {
        "colab": {
          "base_uri": "https://localhost:8080/"
        },
        "id": "2qlyOAYXVcut",
        "outputId": "63982e17-6585-4b34-a280-38094516a0d7"
      },
      "execution_count": null,
      "outputs": [
        {
          "output_type": "execute_result",
          "data": {
            "text/plain": [
              "4751.5"
            ]
          },
          "metadata": {},
          "execution_count": 34
        }
      ]
    },
    {
      "cell_type": "code",
      "source": [
        "Q3 = dados['SALARIO'].quantile(0.75)\n",
        "Q3"
      ],
      "metadata": {
        "colab": {
          "base_uri": "https://localhost:8080/"
        },
        "id": "PiBQnH01VnSS",
        "outputId": "bd2477a6-2097-44d8-ecd4-9f95278a7bab"
      },
      "execution_count": null,
      "outputs": [
        {
          "output_type": "execute_result",
          "data": {
            "text/plain": [
              "11794.5"
            ]
          },
          "metadata": {},
          "execution_count": 35
        }
      ]
    },
    {
      "cell_type": "code",
      "source": [
        "IQR = Q3 - Q1\n",
        "IQR"
      ],
      "metadata": {
        "colab": {
          "base_uri": "https://localhost:8080/"
        },
        "id": "aVvgMyUeVr0C",
        "outputId": "772c15cb-ed71-4405-e4ef-9c664dcde2c1"
      },
      "execution_count": null,
      "outputs": [
        {
          "output_type": "execute_result",
          "data": {
            "text/plain": [
              "7043.0"
            ]
          },
          "metadata": {},
          "execution_count": 36
        }
      ]
    },
    {
      "cell_type": "code",
      "source": [
        "lim_superior = Q3 + (1.5*IQR)\n",
        "lim_superior"
      ],
      "metadata": {
        "colab": {
          "base_uri": "https://localhost:8080/"
        },
        "id": "bJqRekhRVyXF",
        "outputId": "50605b7e-1bbc-48c3-e416-00c70ffc5aca"
      },
      "execution_count": null,
      "outputs": [
        {
          "output_type": "execute_result",
          "data": {
            "text/plain": [
              "22359.0"
            ]
          },
          "metadata": {},
          "execution_count": 37
        }
      ]
    },
    {
      "cell_type": "code",
      "source": [
        "lim_inferior = Q1 - (1.5*IQR)\n",
        "lim_inferior"
      ],
      "metadata": {
        "colab": {
          "base_uri": "https://localhost:8080/"
        },
        "id": "gkNzxFSPWKl6",
        "outputId": "3a008079-c467-4ff5-e4bf-3a921d23d4d6"
      },
      "execution_count": null,
      "outputs": [
        {
          "output_type": "execute_result",
          "data": {
            "text/plain": [
              "-5813.0"
            ]
          },
          "metadata": {},
          "execution_count": 38
        }
      ]
    },
    {
      "cell_type": "code",
      "source": [
        "dados['FAIXA SALARIAL'].value_counts()"
      ],
      "metadata": {
        "colab": {
          "base_uri": "https://localhost:8080/",
          "height": 523
        },
        "id": "S_b5-hHRWRBp",
        "outputId": "4f7b687a-ec8c-4209-a3f5-876abd7f30ba"
      },
      "execution_count": null,
      "outputs": [
        {
          "output_type": "execute_result",
          "data": {
            "text/plain": [
              "FAIXA SALARIAL\n",
              "de R$ 8.001/mês a R$ 12.000/mês     752\n",
              "de R$ 4.001/mês a R$ 6.000/mês      584\n",
              "de R$ 6.001/mês a R$ 8.000/mês      527\n",
              "de R$ 12.001/mês a R$ 16.000/mês    437\n",
              "de R$ 3.001/mês a R$ 4.000/mês      303\n",
              "de R$ 2.001/mês a R$ 3.000/mês      285\n",
              "de R$ 16.001/mês a R$ 20.000/mês    229\n",
              "de R$ 1.001/mês a R$ 2.000/mês      216\n",
              "de R$ 20.001/mês a R$ 25.000/mês    134\n",
              "de R$ 25.001/mês a R$ 30.000/mês     77\n",
              "de R$ 30.001/mês a R$ 40.000/mês     70\n",
              "Acima de R$ 40.001/mês               45\n",
              "Menos de R$ 1.000/mês                35\n",
              "Name: count, dtype: int64"
            ],
            "text/html": [
              "<div>\n",
              "<style scoped>\n",
              "    .dataframe tbody tr th:only-of-type {\n",
              "        vertical-align: middle;\n",
              "    }\n",
              "\n",
              "    .dataframe tbody tr th {\n",
              "        vertical-align: top;\n",
              "    }\n",
              "\n",
              "    .dataframe thead th {\n",
              "        text-align: right;\n",
              "    }\n",
              "</style>\n",
              "<table border=\"1\" class=\"dataframe\">\n",
              "  <thead>\n",
              "    <tr style=\"text-align: right;\">\n",
              "      <th></th>\n",
              "      <th>count</th>\n",
              "    </tr>\n",
              "    <tr>\n",
              "      <th>FAIXA SALARIAL</th>\n",
              "      <th></th>\n",
              "    </tr>\n",
              "  </thead>\n",
              "  <tbody>\n",
              "    <tr>\n",
              "      <th>de R$ 8.001/mês a R$ 12.000/mês</th>\n",
              "      <td>752</td>\n",
              "    </tr>\n",
              "    <tr>\n",
              "      <th>de R$ 4.001/mês a R$ 6.000/mês</th>\n",
              "      <td>584</td>\n",
              "    </tr>\n",
              "    <tr>\n",
              "      <th>de R$ 6.001/mês a R$ 8.000/mês</th>\n",
              "      <td>527</td>\n",
              "    </tr>\n",
              "    <tr>\n",
              "      <th>de R$ 12.001/mês a R$ 16.000/mês</th>\n",
              "      <td>437</td>\n",
              "    </tr>\n",
              "    <tr>\n",
              "      <th>de R$ 3.001/mês a R$ 4.000/mês</th>\n",
              "      <td>303</td>\n",
              "    </tr>\n",
              "    <tr>\n",
              "      <th>de R$ 2.001/mês a R$ 3.000/mês</th>\n",
              "      <td>285</td>\n",
              "    </tr>\n",
              "    <tr>\n",
              "      <th>de R$ 16.001/mês a R$ 20.000/mês</th>\n",
              "      <td>229</td>\n",
              "    </tr>\n",
              "    <tr>\n",
              "      <th>de R$ 1.001/mês a R$ 2.000/mês</th>\n",
              "      <td>216</td>\n",
              "    </tr>\n",
              "    <tr>\n",
              "      <th>de R$ 20.001/mês a R$ 25.000/mês</th>\n",
              "      <td>134</td>\n",
              "    </tr>\n",
              "    <tr>\n",
              "      <th>de R$ 25.001/mês a R$ 30.000/mês</th>\n",
              "      <td>77</td>\n",
              "    </tr>\n",
              "    <tr>\n",
              "      <th>de R$ 30.001/mês a R$ 40.000/mês</th>\n",
              "      <td>70</td>\n",
              "    </tr>\n",
              "    <tr>\n",
              "      <th>Acima de R$ 40.001/mês</th>\n",
              "      <td>45</td>\n",
              "    </tr>\n",
              "    <tr>\n",
              "      <th>Menos de R$ 1.000/mês</th>\n",
              "      <td>35</td>\n",
              "    </tr>\n",
              "  </tbody>\n",
              "</table>\n",
              "</div><br><label><b>dtype:</b> int64</label>"
            ]
          },
          "metadata": {},
          "execution_count": 39
        }
      ]
    },
    {
      "cell_type": "code",
      "source": [
        "media_salario = dados['SALARIO'].mean()\n",
        "media_salario"
      ],
      "metadata": {
        "colab": {
          "base_uri": "https://localhost:8080/"
        },
        "id": "CdF-v-wDWoq6",
        "outputId": "d2ab470f-cd8e-4340-bbd0-7065b5637308"
      },
      "execution_count": null,
      "outputs": [
        {
          "output_type": "execute_result",
          "data": {
            "text/plain": [
              "10517.53348162023"
            ]
          },
          "metadata": {},
          "execution_count": 40
        }
      ]
    },
    {
      "cell_type": "code",
      "source": [
        "dados = dados.merge(dados2, on='ID', how='left')"
      ],
      "metadata": {
        "id": "hAz9-Hdr0jdp"
      },
      "execution_count": null,
      "outputs": []
    },
    {
      "cell_type": "code",
      "source": [
        "desvio_salario = dados['SALARIO'].std()\n",
        "desvio_salario"
      ],
      "metadata": {
        "colab": {
          "base_uri": "https://localhost:8080/"
        },
        "id": "Ts754gkyXF2K",
        "outputId": "9be9809c-e045-45e9-a2d7-e9146a3f8662"
      },
      "execution_count": null,
      "outputs": [
        {
          "output_type": "execute_result",
          "data": {
            "text/plain": [
              "18096.21098911858"
            ]
          },
          "metadata": {},
          "execution_count": 41
        }
      ]
    },
    {
      "cell_type": "code",
      "source": [
        "limite_superior = media_salario + (3*desvio_salario)\n",
        "limite_superior"
      ],
      "metadata": {
        "colab": {
          "base_uri": "https://localhost:8080/"
        },
        "id": "KDAbwfzQXKOo",
        "outputId": "e81a60f5-d84e-4f67-e954-e43b277090e2"
      },
      "execution_count": null,
      "outputs": [
        {
          "output_type": "execute_result",
          "data": {
            "text/plain": [
              "64806.166448975964"
            ]
          },
          "metadata": {},
          "execution_count": 42
        }
      ]
    },
    {
      "cell_type": "code",
      "source": [
        "dados[dados['SALARIO']>limite_superior]['FAIXA SALARIAL'].value_counts()"
      ],
      "metadata": {
        "colab": {
          "base_uri": "https://localhost:8080/",
          "height": 178
        },
        "id": "M_yxwjhxdQg6",
        "outputId": "1174de42-59e4-4f53-cc33-92cd9c09c74e"
      },
      "execution_count": null,
      "outputs": [
        {
          "output_type": "execute_result",
          "data": {
            "text/plain": [
              "FAIXA SALARIAL\n",
              "Acima de R$ 40.001/mês              19\n",
              "de R$ 30.001/mês a R$ 40.000/mês     3\n",
              "Name: count, dtype: int64"
            ],
            "text/html": [
              "<div>\n",
              "<style scoped>\n",
              "    .dataframe tbody tr th:only-of-type {\n",
              "        vertical-align: middle;\n",
              "    }\n",
              "\n",
              "    .dataframe tbody tr th {\n",
              "        vertical-align: top;\n",
              "    }\n",
              "\n",
              "    .dataframe thead th {\n",
              "        text-align: right;\n",
              "    }\n",
              "</style>\n",
              "<table border=\"1\" class=\"dataframe\">\n",
              "  <thead>\n",
              "    <tr style=\"text-align: right;\">\n",
              "      <th></th>\n",
              "      <th>count</th>\n",
              "    </tr>\n",
              "    <tr>\n",
              "      <th>FAIXA SALARIAL</th>\n",
              "      <th></th>\n",
              "    </tr>\n",
              "  </thead>\n",
              "  <tbody>\n",
              "    <tr>\n",
              "      <th>Acima de R$ 40.001/mês</th>\n",
              "      <td>19</td>\n",
              "    </tr>\n",
              "    <tr>\n",
              "      <th>de R$ 30.001/mês a R$ 40.000/mês</th>\n",
              "      <td>3</td>\n",
              "    </tr>\n",
              "  </tbody>\n",
              "</table>\n",
              "</div><br><label><b>dtype:</b> int64</label>"
            ]
          },
          "metadata": {},
          "execution_count": 45
        }
      ]
    },
    {
      "cell_type": "code",
      "source": [
        "media_30_40 = dados[(dados['FAIXA SALARIAL'] == 'de R$ 30.001/mês a R$ 40.000/mês') & (dados['SALARIO']<limite_superior)]['SALARIO'].mean()"
      ],
      "metadata": {
        "id": "8znK-qkseTSA"
      },
      "execution_count": null,
      "outputs": []
    },
    {
      "cell_type": "code",
      "source": [
        "dados.loc[(dados['FAIXA SALARIAL'] == 'de R$ 30.001/mês a R$ 40.000/mês') & (dados['SALARIO']>limite_superior), 'SALARIO'] = media_30_40"
      ],
      "metadata": {
        "id": "vHxJuGGbf7IM"
      },
      "execution_count": null,
      "outputs": []
    },
    {
      "cell_type": "code",
      "source": [
        "dados[dados['SALARIO']>limite_superior]['FAIXA SALARIAL'].value_counts()"
      ],
      "metadata": {
        "colab": {
          "base_uri": "https://localhost:8080/",
          "height": 147
        },
        "id": "4dub5M2YeFSJ",
        "outputId": "0004c836-90aa-4b65-99ea-32f72583e9aa"
      },
      "execution_count": null,
      "outputs": [
        {
          "output_type": "execute_result",
          "data": {
            "text/plain": [
              "FAIXA SALARIAL\n",
              "Acima de R$ 40.001/mês    19\n",
              "Name: count, dtype: int64"
            ],
            "text/html": [
              "<div>\n",
              "<style scoped>\n",
              "    .dataframe tbody tr th:only-of-type {\n",
              "        vertical-align: middle;\n",
              "    }\n",
              "\n",
              "    .dataframe tbody tr th {\n",
              "        vertical-align: top;\n",
              "    }\n",
              "\n",
              "    .dataframe thead th {\n",
              "        text-align: right;\n",
              "    }\n",
              "</style>\n",
              "<table border=\"1\" class=\"dataframe\">\n",
              "  <thead>\n",
              "    <tr style=\"text-align: right;\">\n",
              "      <th></th>\n",
              "      <th>count</th>\n",
              "    </tr>\n",
              "    <tr>\n",
              "      <th>FAIXA SALARIAL</th>\n",
              "      <th></th>\n",
              "    </tr>\n",
              "  </thead>\n",
              "  <tbody>\n",
              "    <tr>\n",
              "      <th>Acima de R$ 40.001/mês</th>\n",
              "      <td>19</td>\n",
              "    </tr>\n",
              "  </tbody>\n",
              "</table>\n",
              "</div><br><label><b>dtype:</b> int64</label>"
            ]
          },
          "metadata": {},
          "execution_count": 57
        }
      ]
    },
    {
      "cell_type": "code",
      "source": [
        "plt.boxplot(dados['SALARIO'])"
      ],
      "metadata": {
        "colab": {
          "base_uri": "https://localhost:8080/",
          "height": 569
        },
        "id": "x-R_OOq1hhYE",
        "outputId": "f93353bf-68be-4f40-f3b1-1f8e8372d4fe"
      },
      "execution_count": null,
      "outputs": [
        {
          "output_type": "execute_result",
          "data": {
            "text/plain": [
              "{'whiskers': [<matplotlib.lines.Line2D at 0x7ff56e155ba0>,\n",
              "  <matplotlib.lines.Line2D at 0x7ff56e1570a0>],\n",
              " 'caps': [<matplotlib.lines.Line2D at 0x7ff56e1554e0>,\n",
              "  <matplotlib.lines.Line2D at 0x7ff56e155900>],\n",
              " 'boxes': [<matplotlib.lines.Line2D at 0x7ff56e154b80>],\n",
              " 'medians': [<matplotlib.lines.Line2D at 0x7ff56e155c30>],\n",
              " 'fliers': [<matplotlib.lines.Line2D at 0x7ff56e154a90>],\n",
              " 'means': []}"
            ]
          },
          "metadata": {},
          "execution_count": 58
        },
        {
          "output_type": "display_data",
          "data": {
            "text/plain": [
              "<Figure size 640x480 with 1 Axes>"
            ],
            "image/png": "[encoded data removed]"
          },
          "metadata": {}
        }
      ]
    },
    {
      "cell_type": "markdown",
      "source": [
        "# Distribuição amostral e intervalo de confiança"
      ],
      "metadata": {
        "id": "eEPA8Krxik7s"
      }
    },
    {
      "cell_type": "code",
      "source": [
        "salarios = dados['SALARIO']"
      ],
      "metadata": {
        "id": "DxTe880zhylW"
      },
      "execution_count": null,
      "outputs": []
    },
    {
      "cell_type": "code",
      "source": [
        "salarios"
      ],
      "metadata": {
        "colab": {
          "base_uri": "https://localhost:8080/",
          "height": 458
        },
        "id": "pVfY72O9ixld",
        "outputId": "980e67fa-ca7f-4b08-98da-02efc9b39493"
      },
      "execution_count": null,
      "outputs": [
        {
          "output_type": "execute_result",
          "data": {
            "text/plain": [
              "0       11194.0\n",
              "1        4695.0\n",
              "2       14202.0\n",
              "3       15463.0\n",
              "4        7733.0\n",
              "         ...   \n",
              "4266     4329.0\n",
              "4267     3758.0\n",
              "4268    19607.0\n",
              "4269      989.0\n",
              "4270     3079.0\n",
              "Name: SALARIO, Length: 4271, dtype: float64"
            ],
            "text/html": [
              "<div>\n",
              "<style scoped>\n",
              "    .dataframe tbody tr th:only-of-type {\n",
              "        vertical-align: middle;\n",
              "    }\n",
              "\n",
              "    .dataframe tbody tr th {\n",
              "        vertical-align: top;\n",
              "    }\n",
              "\n",
              "    .dataframe thead th {\n",
              "        text-align: right;\n",
              "    }\n",
              "</style>\n",
              "<table border=\"1\" class=\"dataframe\">\n",
              "  <thead>\n",
              "    <tr style=\"text-align: right;\">\n",
              "      <th></th>\n",
              "      <th>SALARIO</th>\n",
              "    </tr>\n",
              "  </thead>\n",
              "  <tbody>\n",
              "    <tr>\n",
              "      <th>0</th>\n",
              "      <td>11194.0</td>\n",
              "    </tr>\n",
              "    <tr>\n",
              "      <th>1</th>\n",
              "      <td>4695.0</td>\n",
              "    </tr>\n",
              "    <tr>\n",
              "      <th>2</th>\n",
              "      <td>14202.0</td>\n",
              "    </tr>\n",
              "    <tr>\n",
              "      <th>3</th>\n",
              "      <td>15463.0</td>\n",
              "    </tr>\n",
              "    <tr>\n",
              "      <th>4</th>\n",
              "      <td>7733.0</td>\n",
              "    </tr>\n",
              "    <tr>\n",
              "      <th>...</th>\n",
              "      <td>...</td>\n",
              "    </tr>\n",
              "    <tr>\n",
              "      <th>4266</th>\n",
              "      <td>4329.0</td>\n",
              "    </tr>\n",
              "    <tr>\n",
              "      <th>4267</th>\n",
              "      <td>3758.0</td>\n",
              "    </tr>\n",
              "    <tr>\n",
              "      <th>4268</th>\n",
              "      <td>19607.0</td>\n",
              "    </tr>\n",
              "    <tr>\n",
              "      <th>4269</th>\n",
              "      <td>989.0</td>\n",
              "    </tr>\n",
              "    <tr>\n",
              "      <th>4270</th>\n",
              "      <td>3079.0</td>\n",
              "    </tr>\n",
              "  </tbody>\n",
              "</table>\n",
              "<p>4271 rows × 1 columns</p>\n",
              "</div><br><label><b>dtype:</b> float64</label>"
            ]
          },
          "metadata": {},
          "execution_count": 60
        }
      ]
    },
    {
      "cell_type": "code",
      "source": [
        "#calculando a média de salarios\n",
        "media_amostral = np.mean(salarios)\n",
        "media_amostral"
      ],
      "metadata": {
        "colab": {
          "base_uri": "https://localhost:8080/"
        },
        "id": "Ix7kChN5i8PU",
        "outputId": "34b2f101-6dd4-4340-ad7b-b6acae8c554d"
      },
      "execution_count": null,
      "outputs": [
        {
          "output_type": "execute_result",
          "data": {
            "text/plain": [
              "10247.43200236234"
            ]
          },
          "metadata": {},
          "execution_count": 61
        }
      ]
    },
    {
      "cell_type": "code",
      "source": [
        "#calculando desvio padrãp\n",
        "desvio_amostral = np.std(salarios)\n",
        "desvio_amostral"
      ],
      "metadata": {
        "colab": {
          "base_uri": "https://localhost:8080/"
        },
        "id": "M1e116MljaHX",
        "outputId": "ec1b8029-9ca5-4445-a4f1-1a57f09231cd"
      },
      "execution_count": null,
      "outputs": [
        {
          "output_type": "execute_result",
          "data": {
            "text/plain": [
              "14370.38041525522"
            ]
          },
          "metadata": {},
          "execution_count": 62
        }
      ]
    },
    {
      "cell_type": "code",
      "source": [
        "#atribuindo o valor de confinça\n",
        "nivel_confianca = 0.95"
      ],
      "metadata": {
        "id": "_h1hYOJ3jmHt"
      },
      "execution_count": null,
      "outputs": []
    },
    {
      "cell_type": "code",
      "source": [
        "#Descobrindo o número da amosta, quantidade de pessoas que responderam a pesquisa\n",
        "tamanho_amostra = len(salarios)\n",
        "tamanho_amostra"
      ],
      "metadata": {
        "colab": {
          "base_uri": "https://localhost:8080/"
        },
        "id": "v3ii_yS5jtf8",
        "outputId": "72352449-067a-4195-b4ca-670767429716"
      },
      "execution_count": null,
      "outputs": [
        {
          "output_type": "execute_result",
          "data": {
            "text/plain": [
              "4271"
            ]
          },
          "metadata": {},
          "execution_count": 64
        }
      ]
    },
    {
      "cell_type": "code",
      "source": [
        "erro_padrao = desvio_amostral/np.sqrt(tamanho_amostra)\n",
        "erro_padrao"
      ],
      "metadata": {
        "colab": {
          "base_uri": "https://localhost:8080/"
        },
        "id": "0oHVWYZ5j-7p",
        "outputId": "0751615c-dd57-46a8-e5e2-35e23046359d"
      },
      "execution_count": null,
      "outputs": [
        {
          "output_type": "execute_result",
          "data": {
            "text/plain": [
              "219.8889873801076"
            ]
          },
          "metadata": {},
          "execution_count": 70
        }
      ]
    },
    {
      "cell_type": "code",
      "source": [
        "intervalo_confianca = stats.t.interval(nivel_confianca, tamanho_amostra-1, loc=media_amostral, scale=erro_padrao)\n",
        "intervalo_confianca"
      ],
      "metadata": {
        "colab": {
          "base_uri": "https://localhost:8080/"
        },
        "id": "gB0l6nyKkTG4",
        "outputId": "06e8ac93-4384-49e7-c84f-a383ed59bf6f"
      },
      "execution_count": null,
      "outputs": [
        {
          "output_type": "execute_result",
          "data": {
            "text/plain": [
              "(9816.335309381484, 10678.528695343197)"
            ]
          },
          "metadata": {},
          "execution_count": 71
        }
      ]
    },
    {
      "cell_type": "markdown",
      "source": [
        "## Featuring engineering"
      ],
      "metadata": {
        "id": "kiiYTxYZmHo3"
      }
    },
    {
      "cell_type": "code",
      "source": [
        "def preencher_nivel(gestor,nivel):\n",
        "  if gestor==1:\n",
        "    return \"Pessoa Gestora\"\n",
        "  else:\n",
        "    return nivel\n"
      ],
      "metadata": {
        "id": "RN3ewPslmFNp"
      },
      "execution_count": null,
      "outputs": []
    },
    {
      "cell_type": "code",
      "source": [
        "dados ['NOVO_NIVEL'] = dados.apply(lambda x: preencher_nivel(x['GESTOR?'], x['NIVEL']), axis=1)"
      ],
      "metadata": {
        "id": "6XVTYdeynT8g"
      },
      "execution_count": null,
      "outputs": []
    },
    {
      "cell_type": "code",
      "source": [
        "dados ['NOVO_NIVEL'].value_counts()"
      ],
      "metadata": {
        "colab": {
          "base_uri": "https://localhost:8080/",
          "height": 241
        },
        "id": "Bw1LnX9ZozYY",
        "outputId": "e26ea889-4b3c-40f6-ce58-32f9bed6b961"
      },
      "execution_count": null,
      "outputs": [
        {
          "output_type": "execute_result",
          "data": {
            "text/plain": [
              "NOVO_NIVEL\n",
              "Pleno             1060\n",
              "Júnior            1023\n",
              "Sênior             898\n",
              "Pessoa Gestora     713\n",
              "Name: count, dtype: int64"
            ],
            "text/html": [
              "<div>\n",
              "<style scoped>\n",
              "    .dataframe tbody tr th:only-of-type {\n",
              "        vertical-align: middle;\n",
              "    }\n",
              "\n",
              "    .dataframe tbody tr th {\n",
              "        vertical-align: top;\n",
              "    }\n",
              "\n",
              "    .dataframe thead th {\n",
              "        text-align: right;\n",
              "    }\n",
              "</style>\n",
              "<table border=\"1\" class=\"dataframe\">\n",
              "  <thead>\n",
              "    <tr style=\"text-align: right;\">\n",
              "      <th></th>\n",
              "      <th>count</th>\n",
              "    </tr>\n",
              "    <tr>\n",
              "      <th>NOVO_NIVEL</th>\n",
              "      <th></th>\n",
              "    </tr>\n",
              "  </thead>\n",
              "  <tbody>\n",
              "    <tr>\n",
              "      <th>Pleno</th>\n",
              "      <td>1060</td>\n",
              "    </tr>\n",
              "    <tr>\n",
              "      <th>Júnior</th>\n",
              "      <td>1023</td>\n",
              "    </tr>\n",
              "    <tr>\n",
              "      <th>Sênior</th>\n",
              "      <td>898</td>\n",
              "    </tr>\n",
              "    <tr>\n",
              "      <th>Pessoa Gestora</th>\n",
              "      <td>713</td>\n",
              "    </tr>\n",
              "  </tbody>\n",
              "</table>\n",
              "</div><br><label><b>dtype:</b> int64</label>"
            ]
          },
          "metadata": {},
          "execution_count": 74
        }
      ]
    },
    {
      "cell_type": "code",
      "source": [
        "dados['NIVEL']"
      ],
      "metadata": {
        "colab": {
          "base_uri": "https://localhost:8080/",
          "height": 458
        },
        "id": "GcF6OrU5pFLz",
        "outputId": "9ee5a16f-c332-431f-9661-a3e0725f3651"
      },
      "execution_count": null,
      "outputs": [
        {
          "output_type": "execute_result",
          "data": {
            "text/plain": [
              "0       Júnior\n",
              "1          NaN\n",
              "2        Pleno\n",
              "3       Sênior\n",
              "4        Pleno\n",
              "         ...  \n",
              "4266     Pleno\n",
              "4267     Pleno\n",
              "4268       NaN\n",
              "4269    Júnior\n",
              "4270    Júnior\n",
              "Name: NIVEL, Length: 4271, dtype: object"
            ],
            "text/html": [
              "<div>\n",
              "<style scoped>\n",
              "    .dataframe tbody tr th:only-of-type {\n",
              "        vertical-align: middle;\n",
              "    }\n",
              "\n",
              "    .dataframe tbody tr th {\n",
              "        vertical-align: top;\n",
              "    }\n",
              "\n",
              "    .dataframe thead th {\n",
              "        text-align: right;\n",
              "    }\n",
              "</style>\n",
              "<table border=\"1\" class=\"dataframe\">\n",
              "  <thead>\n",
              "    <tr style=\"text-align: right;\">\n",
              "      <th></th>\n",
              "      <th>NIVEL</th>\n",
              "    </tr>\n",
              "  </thead>\n",
              "  <tbody>\n",
              "    <tr>\n",
              "      <th>0</th>\n",
              "      <td>Júnior</td>\n",
              "    </tr>\n",
              "    <tr>\n",
              "      <th>1</th>\n",
              "      <td>NaN</td>\n",
              "    </tr>\n",
              "    <tr>\n",
              "      <th>2</th>\n",
              "      <td>Pleno</td>\n",
              "    </tr>\n",
              "    <tr>\n",
              "      <th>3</th>\n",
              "      <td>Sênior</td>\n",
              "    </tr>\n",
              "    <tr>\n",
              "      <th>4</th>\n",
              "      <td>Pleno</td>\n",
              "    </tr>\n",
              "    <tr>\n",
              "      <th>...</th>\n",
              "      <td>...</td>\n",
              "    </tr>\n",
              "    <tr>\n",
              "      <th>4266</th>\n",
              "      <td>Pleno</td>\n",
              "    </tr>\n",
              "    <tr>\n",
              "      <th>4267</th>\n",
              "      <td>Pleno</td>\n",
              "    </tr>\n",
              "    <tr>\n",
              "      <th>4268</th>\n",
              "      <td>NaN</td>\n",
              "    </tr>\n",
              "    <tr>\n",
              "      <th>4269</th>\n",
              "      <td>Júnior</td>\n",
              "    </tr>\n",
              "    <tr>\n",
              "      <th>4270</th>\n",
              "      <td>Júnior</td>\n",
              "    </tr>\n",
              "  </tbody>\n",
              "</table>\n",
              "<p>4271 rows × 1 columns</p>\n",
              "</div><br><label><b>dtype:</b> object</label>"
            ]
          },
          "metadata": {},
          "execution_count": 75
        }
      ]
    },
    {
      "cell_type": "code",
      "source": [
        "dados = pd.get_dummies(dados, columns=['NIVEL'])"
      ],
      "metadata": {
        "id": "RTwDPjMopPo7"
      },
      "execution_count": null,
      "outputs": []
    },
    {
      "cell_type": "code",
      "source": [
        "dados.columns"
      ],
      "metadata": {
        "colab": {
          "base_uri": "https://localhost:8080/"
        },
        "id": "qAwlwT50qYiU",
        "outputId": "3c22a2df-08b2-434b-9588-2624cdf374fc"
      },
      "execution_count": null,
      "outputs": [
        {
          "output_type": "execute_result",
          "data": {
            "text/plain": [
              "Index(['Unnamed: 0', 'ID', 'IDADE', 'FAIXA IDADE', 'GENERO', 'COR/RACA/ETNIA',\n",
              "       'PCD', 'EXPERIENCIA_PROFISSIONAL_PREJUDICADA', 'ASPECTOS_PREJUDICADOS',\n",
              "       'VIVE_NO_BRASIL', 'ESTADO ONDE MORA', 'UF ONDE MORA',\n",
              "       'REGIAO ONDE MORA', 'MUDOU DE ESTADO?', 'REGIAO DE ORIGEM',\n",
              "       'NIVEL DE ENSINO', 'ÁREA DE FORMAÇÃO',\n",
              "       'QUAL SUA SITUAÇÃO ATUAL DE TRABALHO?', 'SETOR',\n",
              "       'NUMERO DE FUNCIONARIOS', 'GESTOR?', 'CARGO COMO GESTOR', 'CARGO ATUAL',\n",
              "       'FAIXA SALARIAL',\n",
              "       'QUANTO TEMPO DE EXPERIÊNCIA NA ÁREA DE DADOS VOCÊ TEM?',\n",
              "       'QUANTO TEMPO DE EXPERIÊNCIA NA ÁREA DE TI/ENGENHARIA DE SOFTWARE VOCÊ TEVE ANTES DE COMEÇAR A TRABALHAR NA ÁREA DE DADOS?',\n",
              "       'SALARIO', 'NOVO_NIVEL', 'NIVEL_Júnior', 'NIVEL_Pleno', 'NIVEL_Sênior'],\n",
              "      dtype='object')"
            ]
          },
          "metadata": {},
          "execution_count": 79
        }
      ]
    },
    {
      "cell_type": "code",
      "source": [
        "def determinar_geracao(idade):\n",
        "  if 39<idade<=58:\n",
        "    return \"Geração X\"\n",
        "  elif 29<idade<=39:\n",
        "    return \"Millenial\"\n",
        "  elif 13<idade<=29:\n",
        "    return \"Geração Z\"\n",
        "  else:\n",
        "    return \"Outra Geração \"\n"
      ],
      "metadata": {
        "id": "P-6VG-Q4qvpM"
      },
      "execution_count": null,
      "outputs": []
    },
    {
      "cell_type": "code",
      "source": [
        "dados['GERACAO'] = dados['IDADE'].apply(determinar_geracao)"
      ],
      "metadata": {
        "id": "CYl50I3Ns8tX"
      },
      "execution_count": null,
      "outputs": []
    },
    {
      "cell_type": "code",
      "source": [
        "dados['GERACAO'].value_counts()"
      ],
      "metadata": {
        "colab": {
          "base_uri": "https://localhost:8080/",
          "height": 241
        },
        "id": "hIP49oFQvOa6",
        "outputId": "53677dc7-eda9-4ac2-ed0d-bcc25e274f36"
      },
      "execution_count": null,
      "outputs": [
        {
          "output_type": "execute_result",
          "data": {
            "text/plain": [
              "GERACAO\n",
              "Geração Z         1993\n",
              "Millenial         1693\n",
              "Geração X          511\n",
              "Outra Geração       74\n",
              "Name: count, dtype: int64"
            ],
            "text/html": [
              "<div>\n",
              "<style scoped>\n",
              "    .dataframe tbody tr th:only-of-type {\n",
              "        vertical-align: middle;\n",
              "    }\n",
              "\n",
              "    .dataframe tbody tr th {\n",
              "        vertical-align: top;\n",
              "    }\n",
              "\n",
              "    .dataframe thead th {\n",
              "        text-align: right;\n",
              "    }\n",
              "</style>\n",
              "<table border=\"1\" class=\"dataframe\">\n",
              "  <thead>\n",
              "    <tr style=\"text-align: right;\">\n",
              "      <th></th>\n",
              "      <th>count</th>\n",
              "    </tr>\n",
              "    <tr>\n",
              "      <th>GERACAO</th>\n",
              "      <th></th>\n",
              "    </tr>\n",
              "  </thead>\n",
              "  <tbody>\n",
              "    <tr>\n",
              "      <th>Geração Z</th>\n",
              "      <td>1993</td>\n",
              "    </tr>\n",
              "    <tr>\n",
              "      <th>Millenial</th>\n",
              "      <td>1693</td>\n",
              "    </tr>\n",
              "    <tr>\n",
              "      <th>Geração X</th>\n",
              "      <td>511</td>\n",
              "    </tr>\n",
              "    <tr>\n",
              "      <th>Outra Geração</th>\n",
              "      <td>74</td>\n",
              "    </tr>\n",
              "  </tbody>\n",
              "</table>\n",
              "</div><br><label><b>dtype:</b> int64</label>"
            ]
          },
          "metadata": {},
          "execution_count": 101
        }
      ]
    },
    {
      "cell_type": "code",
      "source": [
        "dados2 = pd.read_excel('/content/drive/MyDrive/Programaria/Cópia de Planilha_Aula_parte2.xlsx')"
      ],
      "metadata": {
        "id": "-tXtXPhdxTlg"
      },
      "execution_count": null,
      "outputs": []
    },
    {
      "cell_type": "code",
      "source": [
        "dados2.head()"
      ],
      "metadata": {
        "colab": {
          "base_uri": "https://localhost:8080/",
          "height": 782
        },
        "id": "7DpAiBOj0MYk",
        "outputId": "2cbc3f7f-bcf9-40b2-fb89-65e4cc7ea6a0"
      },
      "execution_count": null,
      "outputs": [
        {
          "output_type": "execute_result",
          "data": {
            "text/plain": [
              "                                 ID  \\\n",
              "0  zzqzz3l9ily8nuo2m7wyzzqzz3w48o96   \n",
              "1  zzls2oftfn9law393oezzls2ofhvfpzd   \n",
              "2  zzdwqzfqqp1ypc7ps6m0hzzdwqz292yi   \n",
              "3  zzbqh3uy7yk7k9qmkzzbqtb4s9faqspl   \n",
              "4  zzaf1m95yan929rb94wzzaf1mekhvhpg   \n",
              "\n",
              "  Quanto tempo de experiência na área de dados você tem?  \\\n",
              "0                                      de 1 a 2 anos       \n",
              "1                                      de 3 a 4 anos       \n",
              "2                                      de 3 a 4 anos       \n",
              "3                                      de 4 a 6 anos       \n",
              "4             Não tenho experiência na área de dados       \n",
              "\n",
              "  Quanto tempo de experiência na área de TI/Engenharia de Software você teve antes de começar a trabalhar na área de dados?  \\\n",
              "0                                     de 7 a 10 anos                                                                          \n",
              "1                                     Menos de 1 ano                                                                          \n",
              "2                                    Mais de 10 anos                                                                          \n",
              "3  Não tive experiência na área de TI/Engenharia ...                                                                          \n",
              "4                                    Mais de 10 anos                                                                          \n",
              "\n",
              "  Você está satisfeito na sua empresa atual?  \\\n",
              "0                                       True   \n",
              "1                                      False   \n",
              "2                                      False   \n",
              "3                                       True   \n",
              "4                                      False   \n",
              "\n",
              "  Qual o principal motivo da sua insatisfação com a empresa atual?  \\\n",
              "0                                                NaN                 \n",
              "1  Falta de oportunidade de crescimento no empreg...                 \n",
              "2  Falta de oportunidade de crescimento no empreg...                 \n",
              "3                                                NaN                 \n",
              "4  Falta de oportunidade de crescimento no empreg...                 \n",
              "\n",
              "  ('P2_m ', 'Você participou de entrevistas de emprego nos últimos 6 meses?')  \\\n",
              "0  Não participei de entrevistas de emprego/proce...                            \n",
              "1          Sim, fiz entrevistas mas não fui aprovado                            \n",
              "2  Não participei de entrevistas de emprego/proce...                            \n",
              "3               Sim, fui aprovado e mudei de emprego                            \n",
              "4  Não participei de entrevistas de emprego/proce...                            \n",
              "\n",
              "  ('P2_n ', 'Você pretende mudar de emprego nos próximos 6 meses?')  \\\n",
              "0  Não estou buscando e não pretendo mudar de emp...                  \n",
              "1  Estou em busca de oportunidades dentro ou fora...                  \n",
              "2  Não estou buscando, mas me considero aberto a ...                  \n",
              "3  Não estou buscando, mas me considero aberto a ...                  \n",
              "4  Não estou buscando, mas me considero aberto a ...                  \n",
              "\n",
              "  ('P2_o ', 'Quais os principais critérios que você leva em consideração no momento de decidir onde trabalhar?')  \\\n",
              "0                                         Benefícios                                                               \n",
              "1  Remuneração/Salário, Plano de carreira e oport...                                                               \n",
              "2  Remuneração/Salário, Flexibilidade de trabalho...                                                               \n",
              "3  Remuneração/Salário, Flexibilidade de trabalho...                                                               \n",
              "4  Remuneração/Salário, Oportunidade de aprendiza...                                                               \n",
              "\n",
              "  ('P2_p ', 'Atualmente qual a sua forma de trabalho?')  \\\n",
              "0                             Modelo 100% presencial      \n",
              "1                             Modelo 100% presencial      \n",
              "2  Modelo híbrido com dias fixos de trabalho pres...      \n",
              "3  Modelo híbrido flexível (o funcionário tem lib...      \n",
              "4                             Modelo 100% presencial      \n",
              "\n",
              "  ('P2_q ', 'Qual a forma de trabalho ideal para você?')  \\\n",
              "0  Modelo híbrido com dias fixos de trabalho pres...       \n",
              "1  Modelo híbrido flexível (o funcionário tem lib...       \n",
              "2  Modelo híbrido flexível (o funcionário tem lib...       \n",
              "3  Modelo híbrido flexível (o funcionário tem lib...       \n",
              "4                             Modelo 100% presencial       \n",
              "\n",
              "  ('P2_r ', 'Caso sua empresa decida pelo modelo 100% presencial qual será sua atitude?')  \\\n",
              "0   Vou aceitar e retornar ao modelo 100% presencial                                        \n",
              "1   Vou aceitar e retornar ao modelo 100% presencial                                        \n",
              "2  Vou procurar outra oportunidade no modelo híbr...                                        \n",
              "3  Vou procurar outra oportunidade no modelo híbr...                                        \n",
              "4   Vou aceitar e retornar ao modelo 100% presencial                                        \n",
              "\n",
              "  ('P2_s ', 'Sua empresa passu por Layoff em 2022?')  \\\n",
              "0  Não ocorreram layoffs/demissões em massa na em...   \n",
              "1  Não ocorreram layoffs/demissões em massa na em...   \n",
              "2  Não ocorreram layoffs/demissões em massa na em...   \n",
              "3  Não ocorreram layoffs/demissões em massa na em...   \n",
              "4  Não ocorreram layoffs/demissões em massa na em...   \n",
              "\n",
              "                              ('P4_a_1 ', 'Atuacao')  \\\n",
              "0                                Engenharia de Dados   \n",
              "1                                             Gestor   \n",
              "2   desenvolve modelos preditivos e algoritmos de...   \n",
              "3   desenvolve modelos preditivos e algoritmos de...   \n",
              "4                                      Outra atuação   \n",
              "\n",
              "  ('P4_d ', 'Quais das linguagens listadas abaixo você utiliza no trabalho?')  \n",
              "0                                                SQL                           \n",
              "1                                                NaN                           \n",
              "2                                                  1                           \n",
              "3                                                  0                           \n",
              "4                                                SQL                           "
            ],
            "text/html": [
              "\n",
              "  <div id=\"df-f2b27b44-8e83-401a-9b19-2216c50b51f5\" class=\"colab-df-container\">\n",
              "    <div>\n",
              "<style scoped>\n",
              "    .dataframe tbody tr th:only-of-type {\n",
              "        vertical-align: middle;\n",
              "    }\n",
              "\n",
              "    .dataframe tbody tr th {\n",
              "        vertical-align: top;\n",
              "    }\n",
              "\n",
              "    .dataframe thead th {\n",
              "        text-align: right;\n",
              "    }\n",
              "</style>\n",
              "<table border=\"1\" class=\"dataframe\">\n",
              "  <thead>\n",
              "    <tr style=\"text-align: right;\">\n",
              "      <th></th>\n",
              "      <th>ID</th>\n",
              "      <th>Quanto tempo de experiência na área de dados você tem?</th>\n",
              "      <th>Quanto tempo de experiência na área de TI/Engenharia de Software você teve antes de começar a trabalhar na área de dados?</th>\n",
              "      <th>Você está satisfeito na sua empresa atual?</th>\n",
              "      <th>Qual o principal motivo da sua insatisfação com a empresa atual?</th>\n",
              "      <th>('P2_m ', 'Você participou de entrevistas de emprego nos últimos 6 meses?')</th>\n",
              "      <th>('P2_n ', 'Você pretende mudar de emprego nos próximos 6 meses?')</th>\n",
              "      <th>('P2_o ', 'Quais os principais critérios que você leva em consideração no momento de decidir onde trabalhar?')</th>\n",
              "      <th>('P2_p ', 'Atualmente qual a sua forma de trabalho?')</th>\n",
              "      <th>('P2_q ', 'Qual a forma de trabalho ideal para você?')</th>\n",
              "      <th>('P2_r ', 'Caso sua empresa decida pelo modelo 100% presencial qual será sua atitude?')</th>\n",
              "      <th>('P2_s ', 'Sua empresa passu por Layoff em 2022?')</th>\n",
              "      <th>('P4_a_1 ', 'Atuacao')</th>\n",
              "      <th>('P4_d ', 'Quais das linguagens listadas abaixo você utiliza no trabalho?')</th>\n",
              "    </tr>\n",
              "  </thead>\n",
              "  <tbody>\n",
              "    <tr>\n",
              "      <th>0</th>\n",
              "      <td>zzqzz3l9ily8nuo2m7wyzzqzz3w48o96</td>\n",
              "      <td>de 1 a 2 anos</td>\n",
              "      <td>de 7 a 10 anos</td>\n",
              "      <td>True</td>\n",
              "      <td>NaN</td>\n",
              "      <td>Não participei de entrevistas de emprego/proce...</td>\n",
              "      <td>Não estou buscando e não pretendo mudar de emp...</td>\n",
              "      <td>Benefícios</td>\n",
              "      <td>Modelo 100% presencial</td>\n",
              "      <td>Modelo híbrido com dias fixos de trabalho pres...</td>\n",
              "      <td>Vou aceitar e retornar ao modelo 100% presencial</td>\n",
              "      <td>Não ocorreram layoffs/demissões em massa na em...</td>\n",
              "      <td>Engenharia de Dados</td>\n",
              "      <td>SQL</td>\n",
              "    </tr>\n",
              "    <tr>\n",
              "      <th>1</th>\n",
              "      <td>zzls2oftfn9law393oezzls2ofhvfpzd</td>\n",
              "      <td>de 3 a 4 anos</td>\n",
              "      <td>Menos de 1 ano</td>\n",
              "      <td>False</td>\n",
              "      <td>Falta de oportunidade de crescimento no empreg...</td>\n",
              "      <td>Sim, fiz entrevistas mas não fui aprovado</td>\n",
              "      <td>Estou em busca de oportunidades dentro ou fora...</td>\n",
              "      <td>Remuneração/Salário, Plano de carreira e oport...</td>\n",
              "      <td>Modelo 100% presencial</td>\n",
              "      <td>Modelo híbrido flexível (o funcionário tem lib...</td>\n",
              "      <td>Vou aceitar e retornar ao modelo 100% presencial</td>\n",
              "      <td>Não ocorreram layoffs/demissões em massa na em...</td>\n",
              "      <td>Gestor</td>\n",
              "      <td>NaN</td>\n",
              "    </tr>\n",
              "    <tr>\n",
              "      <th>2</th>\n",
              "      <td>zzdwqzfqqp1ypc7ps6m0hzzdwqz292yi</td>\n",
              "      <td>de 3 a 4 anos</td>\n",
              "      <td>Mais de 10 anos</td>\n",
              "      <td>False</td>\n",
              "      <td>Falta de oportunidade de crescimento no empreg...</td>\n",
              "      <td>Não participei de entrevistas de emprego/proce...</td>\n",
              "      <td>Não estou buscando, mas me considero aberto a ...</td>\n",
              "      <td>Remuneração/Salário, Flexibilidade de trabalho...</td>\n",
              "      <td>Modelo híbrido com dias fixos de trabalho pres...</td>\n",
              "      <td>Modelo híbrido flexível (o funcionário tem lib...</td>\n",
              "      <td>Vou procurar outra oportunidade no modelo híbr...</td>\n",
              "      <td>Não ocorreram layoffs/demissões em massa na em...</td>\n",
              "      <td>desenvolve modelos preditivos e algoritmos de...</td>\n",
              "      <td>1</td>\n",
              "    </tr>\n",
              "    <tr>\n",
              "      <th>3</th>\n",
              "      <td>zzbqh3uy7yk7k9qmkzzbqtb4s9faqspl</td>\n",
              "      <td>de 4 a 6 anos</td>\n",
              "      <td>Não tive experiência na área de TI/Engenharia ...</td>\n",
              "      <td>True</td>\n",
              "      <td>NaN</td>\n",
              "      <td>Sim, fui aprovado e mudei de emprego</td>\n",
              "      <td>Não estou buscando, mas me considero aberto a ...</td>\n",
              "      <td>Remuneração/Salário, Flexibilidade de trabalho...</td>\n",
              "      <td>Modelo híbrido flexível (o funcionário tem lib...</td>\n",
              "      <td>Modelo híbrido flexível (o funcionário tem lib...</td>\n",
              "      <td>Vou procurar outra oportunidade no modelo híbr...</td>\n",
              "      <td>Não ocorreram layoffs/demissões em massa na em...</td>\n",
              "      <td>desenvolve modelos preditivos e algoritmos de...</td>\n",
              "      <td>0</td>\n",
              "    </tr>\n",
              "    <tr>\n",
              "      <th>4</th>\n",
              "      <td>zzaf1m95yan929rb94wzzaf1mekhvhpg</td>\n",
              "      <td>Não tenho experiência na área de dados</td>\n",
              "      <td>Mais de 10 anos</td>\n",
              "      <td>False</td>\n",
              "      <td>Falta de oportunidade de crescimento no empreg...</td>\n",
              "      <td>Não participei de entrevistas de emprego/proce...</td>\n",
              "      <td>Não estou buscando, mas me considero aberto a ...</td>\n",
              "      <td>Remuneração/Salário, Oportunidade de aprendiza...</td>\n",
              "      <td>Modelo 100% presencial</td>\n",
              "      <td>Modelo 100% presencial</td>\n",
              "      <td>Vou aceitar e retornar ao modelo 100% presencial</td>\n",
              "      <td>Não ocorreram layoffs/demissões em massa na em...</td>\n",
              "      <td>Outra atuação</td>\n",
              "      <td>SQL</td>\n",
              "    </tr>\n",
              "  </tbody>\n",
              "</table>\n",
              "</div>\n",
              "    <div class=\"colab-df-buttons\">\n",
              "\n",
              "  <div class=\"colab-df-container\">\n",
              "    <button class=\"colab-df-convert\" onclick=\"convertToInteractive('df-f2b27b44-8e83-401a-9b19-2216c50b51f5')\"\n",
              "            title=\"Convert this dataframe to an interactive table.\"\n",
              "            style=\"display:none;\">\n",
              "\n",
              "  <svg xmlns=\"http://www.w3.org/2000/svg\" height=\"24px\" viewBox=\"0 -960 960 960\">\n",
              "    <path d=\"M120-120v-720h720v720H120Zm60-500h600v-160H180v160Zm220 220h160v-160H400v160Zm0 220h160v-160H400v160ZM180-400h160v-160H180v160Zm440 0h160v-160H620v160ZM180-180h160v-160H180v160Zm440 0h160v-160H620v160Z\"/>\n",
              "  </svg>\n",
              "    </button>\n",
              "\n",
              "  <style>\n",
              "    .colab-df-container {\n",
              "      display:flex;\n",
              "      gap: 12px;\n",
              "    }\n",
              "\n",
              "    .colab-df-convert {\n",
              "      background-color: #E8F0FE;\n",
              "      border: none;\n",
              "      border-radius: 50%;\n",
              "      cursor: pointer;\n",
              "      display: none;\n",
              "      fill: #1967D2;\n",
              "      height: 32px;\n",
              "      padding: 0 0 0 0;\n",
              "      width: 32px;\n",
              "    }\n",
              "\n",
              "    .colab-df-convert:hover {\n",
              "      background-color: #E2EBFA;\n",
              "      box-shadow: 0px 1px 2px rgba(60, 64, 67, 0.3), 0px 1px 3px 1px rgba(60, 64, 67, 0.15);\n",
              "      fill: #174EA6;\n",
              "    }\n",
              "\n",
              "    .colab-df-buttons div {\n",
              "      margin-bottom: 4px;\n",
              "    }\n",
              "\n",
              "    [theme=dark] .colab-df-convert {\n",
              "      background-color: #3B4455;\n",
              "      fill: #D2E3FC;\n",
              "    }\n",
              "\n",
              "    [theme=dark] .colab-df-convert:hover {\n",
              "      background-color: #434B5C;\n",
              "      box-shadow: 0px 1px 3px 1px rgba(0, 0, 0, 0.15);\n",
              "      filter: drop-shadow(0px 1px 2px rgba(0, 0, 0, 0.3));\n",
              "      fill: #FFFFFF;\n",
              "    }\n",
              "  </style>\n",
              "\n",
              "    <script>\n",
              "      const buttonEl =\n",
              "        document.querySelector('#df-f2b27b44-8e83-401a-9b19-2216c50b51f5 button.colab-df-convert');\n",
              "      buttonEl.style.display =\n",
              "        google.colab.kernel.accessAllowed ? 'block' : 'none';\n",
              "\n",
              "      async function convertToInteractive(key) {\n",
              "        const element = document.querySelector('#df-f2b27b44-8e83-401a-9b19-2216c50b51f5');\n",
              "        const dataTable =\n",
              "          await google.colab.kernel.invokeFunction('convertToInteractive',\n",
              "                                                    [key], {});\n",
              "        if (!dataTable) return;\n",
              "\n",
              "        const docLinkHtml = 'Like what you see? Visit the ' +\n",
              "          '<a target=\"_blank\" href=https://colab.research.google.com/notebooks/data_table.ipynb>data table notebook</a>'\n",
              "          + ' to learn more about interactive tables.';\n",
              "        element.innerHTML = '';\n",
              "        dataTable['output_type'] = 'display_data';\n",
              "        await google.colab.output.renderOutput(dataTable, element);\n",
              "        const docLink = document.createElement('div');\n",
              "        docLink.innerHTML = docLinkHtml;\n",
              "        element.appendChild(docLink);\n",
              "      }\n",
              "    </script>\n",
              "  </div>\n",
              "\n",
              "\n",
              "<div id=\"df-601f24c3-9d61-4545-9404-0d73c5f7acab\">\n",
              "  <button class=\"colab-df-quickchart\" onclick=\"quickchart('df-601f24c3-9d61-4545-9404-0d73c5f7acab')\"\n",
              "            title=\"Suggest charts\"\n",
              "            style=\"display:none;\">\n",
              "\n",
              "<svg xmlns=\"http://www.w3.org/2000/svg\" height=\"24px\"viewBox=\"0 0 24 24\"\n",
              "     width=\"24px\">\n",
              "    <g>\n",
              "        <path d=\"M19 3H5c-1.1 0-2 .9-2 2v14c0 1.1.9 2 2 2h14c1.1 0 2-.9 2-2V5c0-1.1-.9-2-2-2zM9 17H7v-7h2v7zm4 0h-2V7h2v10zm4 0h-2v-4h2v4z\"/>\n",
              "    </g>\n",
              "</svg>\n",
              "  </button>\n",
              "\n",
              "<style>\n",
              "  .colab-df-quickchart {\n",
              "      --bg-color: #E8F0FE;\n",
              "      --fill-color: #1967D2;\n",
              "      --hover-bg-color: #E2EBFA;\n",
              "      --hover-fill-color: #174EA6;\n",
              "      --disabled-fill-color: #AAA;\n",
              "      --disabled-bg-color: #DDD;\n",
              "  }\n",
              "\n",
              "  [theme=dark] .colab-df-quickchart {\n",
              "      --bg-color: #3B4455;\n",
              "      --fill-color: #D2E3FC;\n",
              "      --hover-bg-color: #434B5C;\n",
              "      --hover-fill-color: #FFFFFF;\n",
              "      --disabled-bg-color: #3B4455;\n",
              "      --disabled-fill-color: #666;\n",
              "  }\n",
              "\n",
              "  .colab-df-quickchart {\n",
              "    background-color: var(--bg-color);\n",
              "    border: none;\n",
              "    border-radius: 50%;\n",
              "    cursor: pointer;\n",
              "    display: none;\n",
              "    fill: var(--fill-color);\n",
              "    height: 32px;\n",
              "    padding: 0;\n",
              "    width: 32px;\n",
              "  }\n",
              "\n",
              "  .colab-df-quickchart:hover {\n",
              "    background-color: var(--hover-bg-color);\n",
              "    box-shadow: 0 1px 2px rgba(60, 64, 67, 0.3), 0 1px 3px 1px rgba(60, 64, 67, 0.15);\n",
              "    fill: var(--button-hover-fill-color);\n",
              "  }\n",
              "\n",
              "  .colab-df-quickchart-complete:disabled,\n",
              "  .colab-df-quickchart-complete:disabled:hover {\n",
              "    background-color: var(--disabled-bg-color);\n",
              "    fill: var(--disabled-fill-color);\n",
              "    box-shadow: none;\n",
              "  }\n",
              "\n",
              "  .colab-df-spinner {\n",
              "    border: 2px solid var(--fill-color);\n",
              "    border-color: transparent;\n",
              "    border-bottom-color: var(--fill-color);\n",
              "    animation:\n",
              "      spin 1s steps(1) infinite;\n",
              "  }\n",
              "\n",
              "  @keyframes spin {\n",
              "    0% {\n",
              "      border-color: transparent;\n",
              "      border-bottom-color: var(--fill-color);\n",
              "      border-left-color: var(--fill-color);\n",
              "    }\n",
              "    20% {\n",
              "      border-color: transparent;\n",
              "      border-left-color: var(--fill-color);\n",
              "      border-top-color: var(--fill-color);\n",
              "    }\n",
              "    30% {\n",
              "      border-color: transparent;\n",
              "      border-left-color: var(--fill-color);\n",
              "      border-top-color: var(--fill-color);\n",
              "      border-right-color: var(--fill-color);\n",
              "    }\n",
              "    40% {\n",
              "      border-color: transparent;\n",
              "      border-right-color: var(--fill-color);\n",
              "      border-top-color: var(--fill-color);\n",
              "    }\n",
              "    60% {\n",
              "      border-color: transparent;\n",
              "      border-right-color: var(--fill-color);\n",
              "    }\n",
              "    80% {\n",
              "      border-color: transparent;\n",
              "      border-right-color: var(--fill-color);\n",
              "      border-bottom-color: var(--fill-color);\n",
              "    }\n",
              "    90% {\n",
              "      border-color: transparent;\n",
              "      border-bottom-color: var(--fill-color);\n",
              "    }\n",
              "  }\n",
              "</style>\n",
              "\n",
              "  <script>\n",
              "    async function quickchart(key) {\n",
              "      const quickchartButtonEl =\n",
              "        document.querySelector('#' + key + ' button');\n",
              "      quickchartButtonEl.disabled = true;  // To prevent multiple clicks.\n",
              "      quickchartButtonEl.classList.add('colab-df-spinner');\n",
              "      try {\n",
              "        const charts = await google.colab.kernel.invokeFunction(\n",
              "            'suggestCharts', [key], {});\n",
              "      } catch (error) {\n",
              "        console.error('Error during call to suggestCharts:', error);\n",
              "      }\n",
              "      quickchartButtonEl.classList.remove('colab-df-spinner');\n",
              "      quickchartButtonEl.classList.add('colab-df-quickchart-complete');\n",
              "    }\n",
              "    (() => {\n",
              "      let quickchartButtonEl =\n",
              "        document.querySelector('#df-601f24c3-9d61-4545-9404-0d73c5f7acab button');\n",
              "      quickchartButtonEl.style.display =\n",
              "        google.colab.kernel.accessAllowed ? 'block' : 'none';\n",
              "    })();\n",
              "  </script>\n",
              "</div>\n",
              "\n",
              "    </div>\n",
              "  </div>\n"
            ],
            "application/vnd.google.colaboratory.intrinsic+json": {
              "type": "dataframe",
              "variable_name": "dados2",
              "summary": "{\n  \"name\": \"dados2\",\n  \"rows\": 4271,\n  \"fields\": [\n    {\n      \"column\": \"ID\",\n      \"properties\": {\n        \"dtype\": \"string\",\n        \"num_unique_values\": 4270,\n        \"samples\": [\n          \"lon3cbabqxsfdipw9plon3c9ppw1805p\",\n          \"q8n7by6t52wt15467rvzyq8n7by60zrc\",\n          \"xmrl95xsh1vjvdbyewlcc9qtnxmrl95x\"\n        ],\n        \"semantic_type\": \"\",\n        \"description\": \"\"\n      }\n    },\n    {\n      \"column\": \"Quanto tempo de experi\\u00eancia na \\u00e1rea de dados voc\\u00ea tem?\",\n      \"properties\": {\n        \"dtype\": \"category\",\n        \"num_unique_values\": 7,\n        \"samples\": [\n          \"de 1 a 2 anos\",\n          \"de 3 a 4 anos\",\n          \"Mais de 10 anos\"\n        ],\n        \"semantic_type\": \"\",\n        \"description\": \"\"\n      }\n    },\n    {\n      \"column\": \"Quanto tempo de experi\\u00eancia na \\u00e1rea de TI/Engenharia de Software voc\\u00ea teve antes de come\\u00e7ar a trabalhar na \\u00e1rea de dados?\",\n      \"properties\": {\n        \"dtype\": \"category\",\n        \"num_unique_values\": 7,\n        \"samples\": [\n          \"de 7 a 10 anos\",\n          \"Menos de 1 ano\",\n          \"de 5 a 6 anos\"\n        ],\n        \"semantic_type\": \"\",\n        \"description\": \"\"\n      }\n    },\n    {\n      \"column\": \"Voc\\u00ea est\\u00e1 satisfeito na sua empresa atual?\",\n      \"properties\": {\n        \"dtype\": \"category\",\n        \"num_unique_values\": 2,\n        \"samples\": [\n          false,\n          true\n        ],\n        \"semantic_type\": \"\",\n        \"description\": \"\"\n      }\n    },\n    {\n      \"column\": \"Qual o principal motivo da sua insatisfa\\u00e7\\u00e3o com a empresa atual?\",\n      \"properties\": {\n        \"dtype\": \"category\",\n        \"num_unique_values\": 221,\n        \"samples\": [\n          \"Falta de oportunidade de crescimento no emprego atual, Gostaria de receber mais benef\\u00edcios, Pouco reconhecimento financeiro pelo trabalho exercido. Gest\\u00e3o de pessoas deixa a desejar. Processos de mudan\\u00e7a s\\u00e3o engessados\",\n          \"Burocracia\"\n        ],\n        \"semantic_type\": \"\",\n        \"description\": \"\"\n      }\n    },\n    {\n      \"column\": \"('P2_m ', 'Voc\\u00ea participou de entrevistas de emprego nos \\u00faltimos 6 meses?')\",\n      \"properties\": {\n        \"dtype\": \"category\",\n        \"num_unique_values\": 4,\n        \"samples\": [\n          \"Sim, fiz entrevistas mas n\\u00e3o fui aprovado\",\n          \"Sim, fui aprovado mas decidi n\\u00e3o mudar de emprego\"\n        ],\n        \"semantic_type\": \"\",\n        \"description\": \"\"\n      }\n    },\n    {\n      \"column\": \"('P2_n ', 'Voc\\u00ea pretende mudar de emprego nos pr\\u00f3ximos 6 meses?')\",\n      \"properties\": {\n        \"dtype\": \"category\",\n        \"num_unique_values\": 4,\n        \"samples\": [\n          \"Estou em busca de oportunidades dentro ou fora do Brasil\",\n          \"Estou em busca de oportunidades, mas apenas fora do Brasil\"\n        ],\n        \"semantic_type\": \"\",\n        \"description\": \"\"\n      }\n    },\n    {\n      \"column\": \"('P2_o ', 'Quais os principais crit\\u00e9rios que voc\\u00ea leva em considera\\u00e7\\u00e3o no momento de decidir onde trabalhar?')\",\n      \"properties\": {\n        \"dtype\": \"category\",\n        \"num_unique_values\": 462,\n        \"samples\": [\n          \"Remunera\\u00e7\\u00e3o/Sal\\u00e1rio, Prop\\u00f3sito do trabalho e da empresa, Benef\\u00edcios\",\n          \"Flexibilidade de trabalho remoto, Ambiente e clima de trabalho, Oportunidade de aprendizado e trabalhar com refer\\u00eancias na \\u00e1rea\"\n        ],\n        \"semantic_type\": \"\",\n        \"description\": \"\"\n      }\n    },\n    {\n      \"column\": \"('P2_p ', 'Atualmente qual a sua forma de trabalho?')\",\n      \"properties\": {\n        \"dtype\": \"category\",\n        \"num_unique_values\": 4,\n        \"samples\": [\n          \"Modelo h\\u00edbrido com dias fixos de trabalho presencial\",\n          \"Modelo 100% remoto\"\n        ],\n        \"semantic_type\": \"\",\n        \"description\": \"\"\n      }\n    },\n    {\n      \"column\": \"('P2_q ', 'Qual a forma de trabalho ideal para voc\\u00ea?')\",\n      \"properties\": {\n        \"dtype\": \"category\",\n        \"num_unique_values\": 4,\n        \"samples\": [\n          \"Modelo h\\u00edbrido flex\\u00edvel (o funcion\\u00e1rio tem liberdade para escolher quando estar no escrit\\u00f3rio presencialmente)\",\n          \"Modelo 100% remoto\"\n        ],\n        \"semantic_type\": \"\",\n        \"description\": \"\"\n      }\n    },\n    {\n      \"column\": \"('P2_r ', 'Caso sua empresa decida pelo modelo 100% presencial qual ser\\u00e1 sua atitude?')\",\n      \"properties\": {\n        \"dtype\": \"category\",\n        \"num_unique_values\": 3,\n        \"samples\": [\n          \"Vou aceitar e retornar ao modelo 100% presencial\",\n          \"Vou procurar outra oportunidade no modelo h\\u00edbrido ou remoto\"\n        ],\n        \"semantic_type\": \"\",\n        \"description\": \"\"\n      }\n    },\n    {\n      \"column\": \"('P2_s ', 'Sua empresa passu por Layoff em 2022?')\",\n      \"properties\": {\n        \"dtype\": \"category\",\n        \"num_unique_values\": 3,\n        \"samples\": [\n          \"N\\u00e3o ocorreram layoffs/demiss\\u00f5es em massa na empresa em que trabalho\",\n          \"Sim, ocorreram layoffs/demiss\\u00f5es em massa na empresa em que trabalho mas n\\u00e3o fui afetado\"\n        ],\n        \"semantic_type\": \"\",\n        \"description\": \"\"\n      }\n    },\n    {\n      \"column\": \"('P4_a_1 ', 'Atuacao')\",\n      \"properties\": {\n        \"dtype\": \"category\",\n        \"num_unique_values\": 6,\n        \"samples\": [\n          \"Engenharia de Dados\",\n          \"Gestor\"\n        ],\n        \"semantic_type\": \"\",\n        \"description\": \"\"\n      }\n    },\n    {\n      \"column\": \"('P4_d ', 'Quais das linguagens listadas abaixo voc\\u00ea utiliza no trabalho?')\",\n      \"properties\": {\n        \"dtype\": \"category\",\n        \"num_unique_values\": 208,\n        \"samples\": [\n          \"SQL, .NET, Java\",\n          \"SQL, Python, Java\"\n        ],\n        \"semantic_type\": \"\",\n        \"description\": \"\"\n      }\n    }\n  ]\n}"
            }
          },
          "metadata": {},
          "execution_count": 103
        }
      ]
    },
    {
      "cell_type": "code",
      "source": [
        "dados.columns"
      ],
      "metadata": {
        "colab": {
          "base_uri": "https://localhost:8080/"
        },
        "id": "QwNcVWQd1LIN",
        "outputId": "c9f2c89a-92ff-4bc0-a13c-101324cd080a"
      },
      "execution_count": null,
      "outputs": [
        {
          "output_type": "execute_result",
          "data": {
            "text/plain": [
              "Index(['Unnamed: 0', 'ID', 'IDADE', 'FAIXA IDADE', 'GENERO', 'COR/RACA/ETNIA',\n",
              "       'PCD', 'EXPERIENCIA_PROFISSIONAL_PREJUDICADA', 'ASPECTOS_PREJUDICADOS',\n",
              "       'VIVE_NO_BRASIL', 'ESTADO ONDE MORA', 'UF ONDE MORA',\n",
              "       'REGIAO ONDE MORA', 'MUDOU DE ESTADO?', 'REGIAO DE ORIGEM',\n",
              "       'NIVEL DE ENSINO', 'ÁREA DE FORMAÇÃO',\n",
              "       'QUAL SUA SITUAÇÃO ATUAL DE TRABALHO?', 'SETOR',\n",
              "       'NUMERO DE FUNCIONARIOS', 'GESTOR?', 'CARGO COMO GESTOR', 'CARGO ATUAL',\n",
              "       'FAIXA SALARIAL',\n",
              "       'QUANTO TEMPO DE EXPERIÊNCIA NA ÁREA DE DADOS VOCÊ TEM?',\n",
              "       'QUANTO TEMPO DE EXPERIÊNCIA NA ÁREA DE TI/ENGENHARIA DE SOFTWARE VOCÊ TEVE ANTES DE COMEÇAR A TRABALHAR NA ÁREA DE DADOS?',\n",
              "       'SALARIO', 'NOVO_NIVEL', 'NIVEL_Júnior', 'NIVEL_Pleno', 'NIVEL_Sênior',\n",
              "       'GERACAO', 'Quanto tempo de experiência na área de dados você tem?',\n",
              "       'Quanto tempo de experiência na área de TI/Engenharia de Software você teve antes de começar a trabalhar na área de dados?',\n",
              "       'Você está satisfeito na sua empresa atual?',\n",
              "       'Qual o principal motivo da sua insatisfação com a empresa atual?',\n",
              "       '('P2_m ', 'Você participou de entrevistas de emprego nos últimos 6 meses?')',\n",
              "       '('P2_n ', 'Você pretende mudar de emprego nos próximos 6 meses?')',\n",
              "       '('P2_o ', 'Quais os principais critérios que você leva em consideração no momento de decidir onde trabalhar?')',\n",
              "       '('P2_p ', 'Atualmente qual a sua forma de trabalho?')',\n",
              "       '('P2_q ', 'Qual a forma de trabalho ideal para você?')',\n",
              "       '('P2_r ', 'Caso sua empresa decida pelo modelo 100% presencial qual será sua atitude?')',\n",
              "       '('P2_s ', 'Sua empresa passu por Layoff em 2022?')',\n",
              "       '('P4_a_1 ', 'Atuacao')',\n",
              "       '('P4_d ', 'Quais das linguagens listadas abaixo você utiliza no trabalho?')'],\n",
              "      dtype='object')"
            ]
          },
          "metadata": {},
          "execution_count": 113
        }
      ]
    },
    {
      "cell_type": "code",
      "source": [
        "dados['EM_BUSCA'] = dados [\"('P2_m ', 'Você participou de entrevistas de emprego nos últimos 6 meses?')\"].str.contains('em busca', case=False)"
      ],
      "metadata": {
        "id": "RngdmnydY_Dy"
      },
      "execution_count": null,
      "outputs": []
    },
    {
      "cell_type": "code",
      "source": [
        "dados['EM_BUSCA'].value_counts()"
      ],
      "metadata": {
        "colab": {
          "base_uri": "https://localhost:8080/",
          "height": 147
        },
        "id": "w-k2AmuC8HlI",
        "outputId": "55819876-4767-4b8e-fb83-c6fd56b537ec"
      },
      "execution_count": null,
      "outputs": [
        {
          "output_type": "execute_result",
          "data": {
            "text/plain": [
              "EM_BUSCA\n",
              "False    3708\n",
              "Name: count, dtype: int64"
            ],
            "text/html": [
              "<div>\n",
              "<style scoped>\n",
              "    .dataframe tbody tr th:only-of-type {\n",
              "        vertical-align: middle;\n",
              "    }\n",
              "\n",
              "    .dataframe tbody tr th {\n",
              "        vertical-align: top;\n",
              "    }\n",
              "\n",
              "    .dataframe thead th {\n",
              "        text-align: right;\n",
              "    }\n",
              "</style>\n",
              "<table border=\"1\" class=\"dataframe\">\n",
              "  <thead>\n",
              "    <tr style=\"text-align: right;\">\n",
              "      <th></th>\n",
              "      <th>count</th>\n",
              "    </tr>\n",
              "    <tr>\n",
              "      <th>EM_BUSCA</th>\n",
              "      <th></th>\n",
              "    </tr>\n",
              "  </thead>\n",
              "  <tbody>\n",
              "    <tr>\n",
              "      <th>False</th>\n",
              "      <td>3708</td>\n",
              "    </tr>\n",
              "  </tbody>\n",
              "</table>\n",
              "</div><br><label><b>dtype:</b> int64</label>"
            ]
          },
          "metadata": {},
          "execution_count": 135
        }
      ]
    },
    {
      "cell_type": "code",
      "source": [
        "dados['EM_BUSCA'].value_counts()"
      ],
      "metadata": {
        "id": "ELl7IBCH8s-c"
      },
      "execution_count": null,
      "outputs": []
    },
    {
      "cell_type": "code",
      "source": [
        "dados['EM_BUSCA'] = dados [\"('P2_m ', 'Você participou de entrevistas de emprego nos últimos 6 meses?')\"].str.contains('ABERTO_OPORTUNIDADES', case=False)"
      ],
      "metadata": {
        "id": "4RQlgQB78eZv"
      },
      "execution_count": null,
      "outputs": []
    },
    {
      "cell_type": "code",
      "source": [
        "dados['ABERTO_OPORTUNIDADES'].value_counts()"
      ],
      "metadata": {
        "id": "cEAWEnLN9BDJ"
      },
      "execution_count": null,
      "outputs": []
    },
    {
      "cell_type": "code",
      "source": [
        "def determinar_etnia(COR_RACA_ETNIA):\n",
        "  if COR_RACA_ETNIA== 'Branca':\n",
        "    return \"Branca\"\n",
        "  elif COR_RACA_ETNIA == 'Parda' or'Preta'or 'Amarela' or 'Indígena':\n",
        "    return \"Parda\"\n",
        "  else:\n",
        "    return'Outra'"
      ],
      "metadata": {
        "id": "VSxb5Yud9mM0"
      },
      "execution_count": null,
      "outputs": []
    },
    {
      "cell_type": "code",
      "source": [
        "dados['ETNIA'] = dados['COR_RACA_ETNIA'].apply(determinar_etnia)"
      ],
      "metadata": {
        "id": "1_Cc4QZ9-T0o"
      },
      "execution_count": null,
      "outputs": []
    },
    {
      "cell_type": "markdown",
      "source": [
        "###Correlação"
      ],
      "metadata": {
        "id": "M8h1JM4q_wpJ"
      }
    },
    {
      "cell_type": "code",
      "source": [
        "dados.columns"
      ],
      "metadata": {
        "colab": {
          "base_uri": "https://localhost:8080/"
        },
        "id": "By3QL72XBki1",
        "outputId": "25f9eadd-412a-4d09-ea4e-6ee8f96e9261"
      },
      "execution_count": null,
      "outputs": [
        {
          "output_type": "execute_result",
          "data": {
            "text/plain": [
              "Index(['Unnamed: 0', 'ID', 'IDADE', 'FAIXA IDADE', 'GENERO', 'COR/RACA/ETNIA',\n",
              "       'PCD', 'EXPERIENCIA_PROFISSIONAL_PREJUDICADA', 'ASPECTOS_PREJUDICADOS',\n",
              "       'VIVE_NO_BRASIL', 'ESTADO ONDE MORA', 'UF ONDE MORA',\n",
              "       'REGIAO ONDE MORA', 'MUDOU DE ESTADO?', 'REGIAO DE ORIGEM',\n",
              "       'NIVEL DE ENSINO', 'ÁREA DE FORMAÇÃO',\n",
              "       'QUAL SUA SITUAÇÃO ATUAL DE TRABALHO?', 'SETOR',\n",
              "       'NUMERO DE FUNCIONARIOS', 'GESTOR?', 'CARGO COMO GESTOR', 'CARGO ATUAL',\n",
              "       'FAIXA SALARIAL',\n",
              "       'QUANTO TEMPO DE EXPERIÊNCIA NA ÁREA DE DADOS VOCÊ TEM?',\n",
              "       'QUANTO TEMPO DE EXPERIÊNCIA NA ÁREA DE TI/ENGENHARIA DE SOFTWARE VOCÊ TEVE ANTES DE COMEÇAR A TRABALHAR NA ÁREA DE DADOS?',\n",
              "       'SALARIO', 'NOVO_NIVEL', 'NIVEL_Júnior', 'NIVEL_Pleno', 'NIVEL_Sênior',\n",
              "       'GERACAO', 'Quanto tempo de experiência na área de dados você tem?_x',\n",
              "       'Quanto tempo de experiência na área de TI/Engenharia de Software você teve antes de começar a trabalhar na área de dados?_x',\n",
              "       'Você está satisfeito na sua empresa atual?_x',\n",
              "       'Qual o principal motivo da sua insatisfação com a empresa atual?',\n",
              "       '('P2_m ', 'Você participou de entrevistas de emprego nos últimos 6 meses?')',\n",
              "       '('P2_n ', 'Você pretende mudar de emprego nos próximos 6 meses?')',\n",
              "       '('P2_o ', 'Quais os principais critérios que você leva em consideração no momento de decidir onde trabalhar?')',\n",
              "       '('P2_p ', 'Atualmente qual a sua forma de trabalho?')',\n",
              "       '('P2_q ', 'Qual a forma de trabalho ideal para você?')',\n",
              "       '('P2_r ', 'Caso sua empresa decida pelo modelo 100% presencial qual será sua atitude?')',\n",
              "       '('P2_s ', 'Sua empresa passu por Layoff em 2022?')',\n",
              "       '('P4_a_1 ', 'Atuacao')',\n",
              "       '('P4_d ', 'Quais das linguagens listadas abaixo você utiliza no trabalho?')',\n",
              "       'Quanto tempo de experiência na área de dados você tem?_y',\n",
              "       'Quanto tempo de experiência na área de TI/Engenharia de Software você teve antes de começar a trabalhar na área de dados?_y',\n",
              "       'Você está satisfeito na sua empresa atual?_y', '0_x',\n",
              "       ' Você participou de entrevistas de emprego nos últimos 6 meses?_x',\n",
              "       ' Você pretende mudar de emprego nos próximos 6 meses?_x',\n",
              "       'Quais os principais critérios que você leva em consideração no momento de decidir onde trabalhar?_x',\n",
              "       'Atualmente qual a sua forma de trabalho?_x',\n",
              "       'Qual a forma de trabalho ideal para você?_x',\n",
              "       'Caso sua empresa decida pelo modelo 100% presencial qual será sua atitude?_x',\n",
              "       'Sua empresa passu por Layoff em 2022?_x', ' Atuacao_x',\n",
              "       'Quais das linguagens listadas abaixo você utiliza no trabalho?_x',\n",
              "       'Quanto tempo de experiência na área de dados você tem?',\n",
              "       'Quanto tempo de experiência na área de TI/Engenharia de Software você teve antes de começar a trabalhar na área de dados?',\n",
              "       'Você está satisfeito na sua empresa atual?', '0_y',\n",
              "       ' Você participou de entrevistas de emprego nos últimos 6 meses?_y',\n",
              "       ' Você pretende mudar de emprego nos próximos 6 meses?_y',\n",
              "       'Quais os principais critérios que você leva em consideração no momento de decidir onde trabalhar?_y',\n",
              "       'Atualmente qual a sua forma de trabalho?_y',\n",
              "       'Qual a forma de trabalho ideal para você?_y',\n",
              "       'Caso sua empresa decida pelo modelo 100% presencial qual será sua atitude?_y',\n",
              "       'Sua empresa passu por Layoff em 2022?_y', ' Atuacao_y',\n",
              "       'Quais das linguagens listadas abaixo você utiliza no trabalho?_y',\n",
              "       'EM_BUSCA'],\n",
              "      dtype='object')"
            ]
          },
          "metadata": {},
          "execution_count": 144
        }
      ]
    },
    {
      "cell_type": "code",
      "source": [
        "#Corelação entre idade de salário e vimos que a correlçao é baixa, ou seja, acreditavamos que o salario aumentaria conforme a idade devido o tempo de experiencia, porém vimos que não é bem assim\n",
        "correlacao_continue = dados ['IDADE'].corr(dados['SALARIO'])\n",
        "correlacao_continue"
      ],
      "metadata": {
        "colab": {
          "base_uri": "https://localhost:8080/"
        },
        "id": "RrDYsXNv_wMK",
        "outputId": "ba76dbde-b96a-4ee9-dc02-414b0a8e0586"
      },
      "execution_count": null,
      "outputs": [
        {
          "output_type": "execute_result",
          "data": {
            "text/plain": [
              "0.18182479364534648"
            ]
          },
          "metadata": {},
          "execution_count": 142
        }
      ]
    },
    {
      "cell_type": "code",
      "source": [
        "from scipy.stats import chi2_contingency"
      ],
      "metadata": {
        "id": "sZIkkpexBcQ2"
      },
      "execution_count": null,
      "outputs": []
    },
    {
      "cell_type": "code",
      "source": [
        "def cramer_coeficient(coluna1, coluna2):\n",
        "  tabela_cruzada = np.array(pd.crosstab(coluna1, coluna2))\n",
        "  chi2 = chi2_contingency(tabela_cruzada)[0]\n",
        "  soma = np.sum(tabela_cruzada)\n",
        "  mini = min(tabela_cruzada.shape)-1\n",
        "  cramer = np.sqrt(chi2/(soma*mini))\n",
        "  return cramer"
      ],
      "metadata": {
        "id": "fOezvcloAyA_"
      },
      "execution_count": null,
      "outputs": []
    },
    {
      "cell_type": "code",
      "source": [
        "#Correlacionando duas colunas, e tbm não teve uma correlação alta ou seja no caso de pessoa na area de Ti a etnia não tem correlçao com o nível de ensino, acredito que essa não correlçao se aplica pois a pesquisa foi feita com pessoas que já tem alguma formação e estão atuando\n",
        "cramer_coeficient(dados['COR/RACA/ETNIA'],dados['NIVEL DE ENSINO'])"
      ],
      "metadata": {
        "colab": {
          "base_uri": "https://localhost:8080/"
        },
        "id": "60brW1hHEW7T",
        "outputId": "5427d665-60eb-4e10-d65e-126b4511bd25"
      },
      "execution_count": null,
      "outputs": [
        {
          "output_type": "execute_result",
          "data": {
            "text/plain": [
              "0.044761581984218174"
            ]
          },
          "metadata": {},
          "execution_count": 149
        }
      ]
    },
    {
      "cell_type": "code",
      "source": [
        "#A correlação entre genero e nível de ensino sim é alta. pois chega proximo de 1, como o esperado considerando nossa sociedade\n",
        "cramer_coeficient(dados['GENERO'],dados['NIVEL DE ENSINO'])"
      ],
      "metadata": {
        "colab": {
          "base_uri": "https://localhost:8080/"
        },
        "id": "cZz8sR0kFmKm",
        "outputId": "0a420e98-cbbb-4fdc-a4d5-fe7f33da450d"
      },
      "execution_count": null,
      "outputs": [
        {
          "output_type": "execute_result",
          "data": {
            "text/plain": [
              "0.07854849845060499"
            ]
          },
          "metadata": {},
          "execution_count": 150
        }
      ]
    },
    {
      "cell_type": "code",
      "source": [
        "tabela_cruzada = pd.crosstab(dados['COR/RACA/ETNIA'],dados['NIVEL DE ENSINO'])\n",
        "tabela_cruzada"
      ],
      "metadata": {
        "colab": {
          "base_uri": "https://localhost:8080/",
          "height": 352
        },
        "id": "d34DcT-6BfQp",
        "outputId": "5d2cbd3f-5b9e-4f13-982d-f25c93c0f827"
      },
      "execution_count": null,
      "outputs": [
        {
          "output_type": "execute_result",
          "data": {
            "text/plain": [
              "NIVEL DE ENSINO       Doutorado ou Phd  Estudante de Graduação  \\\n",
              "COR/RACA/ETNIA                                                   \n",
              "Amarela                              7                      15   \n",
              "Branca                             127                     365   \n",
              "Indígena                             0                       2   \n",
              "Outra                                0                       0   \n",
              "Parda                               50                     178   \n",
              "Prefiro não informar                 1                       2   \n",
              "Preta                                6                      51   \n",
              "\n",
              "NIVEL DE ENSINO       Graduação/Bacharelado  Mestrado  \\\n",
              "COR/RACA/ETNIA                                          \n",
              "Amarela                                  50        14   \n",
              "Branca                                  999       355   \n",
              "Indígena                                  4         2   \n",
              "Outra                                     6         3   \n",
              "Parda                                   333       113   \n",
              "Prefiro não informar                     14         1   \n",
              "Preta                                   104        33   \n",
              "\n",
              "NIVEL DE ENSINO       Não tenho graduação formal  Prefiro não informar  \\\n",
              "COR/RACA/ETNIA                                                           \n",
              "Amarela                                        2                     0   \n",
              "Branca                                        65                     8   \n",
              "Indígena                                       0                     0   \n",
              "Outra                                          1                     0   \n",
              "Parda                                         33                     3   \n",
              "Prefiro não informar                           0                     1   \n",
              "Preta                                          9                     0   \n",
              "\n",
              "NIVEL DE ENSINO       Pós-graduação  \n",
              "COR/RACA/ETNIA                       \n",
              "Amarela                          40  \n",
              "Branca                          839  \n",
              "Indígena                          3  \n",
              "Outra                             7  \n",
              "Parda                           344  \n",
              "Prefiro não informar              7  \n",
              "Preta                            88  "
            ],
            "text/html": [
              "\n",
              "  <div id=\"df-57c22cf7-ed4d-4f75-9784-7c90af74d6c6\" class=\"colab-df-container\">\n",
              "    <div>\n",
              "<style scoped>\n",
              "    .dataframe tbody tr th:only-of-type {\n",
              "        vertical-align: middle;\n",
              "    }\n",
              "\n",
              "    .dataframe tbody tr th {\n",
              "        vertical-align: top;\n",
              "    }\n",
              "\n",
              "    .dataframe thead th {\n",
              "        text-align: right;\n",
              "    }\n",
              "</style>\n",
              "<table border=\"1\" class=\"dataframe\">\n",
              "  <thead>\n",
              "    <tr style=\"text-align: right;\">\n",
              "      <th>NIVEL DE ENSINO</th>\n",
              "      <th>Doutorado ou Phd</th>\n",
              "      <th>Estudante de Graduação</th>\n",
              "      <th>Graduação/Bacharelado</th>\n",
              "      <th>Mestrado</th>\n",
              "      <th>Não tenho graduação formal</th>\n",
              "      <th>Prefiro não informar</th>\n",
              "      <th>Pós-graduação</th>\n",
              "    </tr>\n",
              "    <tr>\n",
              "      <th>COR/RACA/ETNIA</th>\n",
              "      <th></th>\n",
              "      <th></th>\n",
              "      <th></th>\n",
              "      <th></th>\n",
              "      <th></th>\n",
              "      <th></th>\n",
              "      <th></th>\n",
              "    </tr>\n",
              "  </thead>\n",
              "  <tbody>\n",
              "    <tr>\n",
              "      <th>Amarela</th>\n",
              "      <td>7</td>\n",
              "      <td>15</td>\n",
              "      <td>50</td>\n",
              "      <td>14</td>\n",
              "      <td>2</td>\n",
              "      <td>0</td>\n",
              "      <td>40</td>\n",
              "    </tr>\n",
              "    <tr>\n",
              "      <th>Branca</th>\n",
              "      <td>127</td>\n",
              "      <td>365</td>\n",
              "      <td>999</td>\n",
              "      <td>355</td>\n",
              "      <td>65</td>\n",
              "      <td>8</td>\n",
              "      <td>839</td>\n",
              "    </tr>\n",
              "    <tr>\n",
              "      <th>Indígena</th>\n",
              "      <td>0</td>\n",
              "      <td>2</td>\n",
              "      <td>4</td>\n",
              "      <td>2</td>\n",
              "      <td>0</td>\n",
              "      <td>0</td>\n",
              "      <td>3</td>\n",
              "    </tr>\n",
              "    <tr>\n",
              "      <th>Outra</th>\n",
              "      <td>0</td>\n",
              "      <td>0</td>\n",
              "      <td>6</td>\n",
              "      <td>3</td>\n",
              "      <td>1</td>\n",
              "      <td>0</td>\n",
              "      <td>7</td>\n",
              "    </tr>\n",
              "    <tr>\n",
              "      <th>Parda</th>\n",
              "      <td>50</td>\n",
              "      <td>178</td>\n",
              "      <td>333</td>\n",
              "      <td>113</td>\n",
              "      <td>33</td>\n",
              "      <td>3</td>\n",
              "      <td>344</td>\n",
              "    </tr>\n",
              "    <tr>\n",
              "      <th>Prefiro não informar</th>\n",
              "      <td>1</td>\n",
              "      <td>2</td>\n",
              "      <td>14</td>\n",
              "      <td>1</td>\n",
              "      <td>0</td>\n",
              "      <td>1</td>\n",
              "      <td>7</td>\n",
              "    </tr>\n",
              "    <tr>\n",
              "      <th>Preta</th>\n",
              "      <td>6</td>\n",
              "      <td>51</td>\n",
              "      <td>104</td>\n",
              "      <td>33</td>\n",
              "      <td>9</td>\n",
              "      <td>0</td>\n",
              "      <td>88</td>\n",
              "    </tr>\n",
              "  </tbody>\n",
              "</table>\n",
              "</div>\n",
              "    <div class=\"colab-df-buttons\">\n",
              "\n",
              "  <div class=\"colab-df-container\">\n",
              "    <button class=\"colab-df-convert\" onclick=\"convertToInteractive('df-57c22cf7-ed4d-4f75-9784-7c90af74d6c6')\"\n",
              "            title=\"Convert this dataframe to an interactive table.\"\n",
              "            style=\"display:none;\">\n",
              "\n",
              "  <svg xmlns=\"http://www.w3.org/2000/svg\" height=\"24px\" viewBox=\"0 -960 960 960\">\n",
              "    <path d=\"M120-120v-720h720v720H120Zm60-500h600v-160H180v160Zm220 220h160v-160H400v160Zm0 220h160v-160H400v160ZM180-400h160v-160H180v160Zm440 0h160v-160H620v160ZM180-180h160v-160H180v160Zm440 0h160v-160H620v160Z\"/>\n",
              "  </svg>\n",
              "    </button>\n",
              "\n",
              "  <style>\n",
              "    .colab-df-container {\n",
              "      display:flex;\n",
              "      gap: 12px;\n",
              "    }\n",
              "\n",
              "    .colab-df-convert {\n",
              "      background-color: #E8F0FE;\n",
              "      border: none;\n",
              "      border-radius: 50%;\n",
              "      cursor: pointer;\n",
              "      display: none;\n",
              "      fill: #1967D2;\n",
              "      height: 32px;\n",
              "      padding: 0 0 0 0;\n",
              "      width: 32px;\n",
              "    }\n",
              "\n",
              "    .colab-df-convert:hover {\n",
              "      background-color: #E2EBFA;\n",
              "      box-shadow: 0px 1px 2px rgba(60, 64, 67, 0.3), 0px 1px 3px 1px rgba(60, 64, 67, 0.15);\n",
              "      fill: #174EA6;\n",
              "    }\n",
              "\n",
              "    .colab-df-buttons div {\n",
              "      margin-bottom: 4px;\n",
              "    }\n",
              "\n",
              "    [theme=dark] .colab-df-convert {\n",
              "      background-color: #3B4455;\n",
              "      fill: #D2E3FC;\n",
              "    }\n",
              "\n",
              "    [theme=dark] .colab-df-convert:hover {\n",
              "      background-color: #434B5C;\n",
              "      box-shadow: 0px 1px 3px 1px rgba(0, 0, 0, 0.15);\n",
              "      filter: drop-shadow(0px 1px 2px rgba(0, 0, 0, 0.3));\n",
              "      fill: #FFFFFF;\n",
              "    }\n",
              "  </style>\n",
              "\n",
              "    <script>\n",
              "      const buttonEl =\n",
              "        document.querySelector('#df-57c22cf7-ed4d-4f75-9784-7c90af74d6c6 button.colab-df-convert');\n",
              "      buttonEl.style.display =\n",
              "        google.colab.kernel.accessAllowed ? 'block' : 'none';\n",
              "\n",
              "      async function convertToInteractive(key) {\n",
              "        const element = document.querySelector('#df-57c22cf7-ed4d-4f75-9784-7c90af74d6c6');\n",
              "        const dataTable =\n",
              "          await google.colab.kernel.invokeFunction('convertToInteractive',\n",
              "                                                    [key], {});\n",
              "        if (!dataTable) return;\n",
              "\n",
              "        const docLinkHtml = 'Like what you see? Visit the ' +\n",
              "          '<a target=\"_blank\" href=https://colab.research.google.com/notebooks/data_table.ipynb>data table notebook</a>'\n",
              "          + ' to learn more about interactive tables.';\n",
              "        element.innerHTML = '';\n",
              "        dataTable['output_type'] = 'display_data';\n",
              "        await google.colab.output.renderOutput(dataTable, element);\n",
              "        const docLink = document.createElement('div');\n",
              "        docLink.innerHTML = docLinkHtml;\n",
              "        element.appendChild(docLink);\n",
              "      }\n",
              "    </script>\n",
              "  </div>\n",
              "\n",
              "\n",
              "<div id=\"df-5b5ba376-1d63-41a8-98b9-b379f47dd083\">\n",
              "  <button class=\"colab-df-quickchart\" onclick=\"quickchart('df-5b5ba376-1d63-41a8-98b9-b379f47dd083')\"\n",
              "            title=\"Suggest charts\"\n",
              "            style=\"display:none;\">\n",
              "\n",
              "<svg xmlns=\"http://www.w3.org/2000/svg\" height=\"24px\"viewBox=\"0 0 24 24\"\n",
              "     width=\"24px\">\n",
              "    <g>\n",
              "        <path d=\"M19 3H5c-1.1 0-2 .9-2 2v14c0 1.1.9 2 2 2h14c1.1 0 2-.9 2-2V5c0-1.1-.9-2-2-2zM9 17H7v-7h2v7zm4 0h-2V7h2v10zm4 0h-2v-4h2v4z\"/>\n",
              "    </g>\n",
              "</svg>\n",
              "  </button>\n",
              "\n",
              "<style>\n",
              "  .colab-df-quickchart {\n",
              "      --bg-color: #E8F0FE;\n",
              "      --fill-color: #1967D2;\n",
              "      --hover-bg-color: #E2EBFA;\n",
              "      --hover-fill-color: #174EA6;\n",
              "      --disabled-fill-color: #AAA;\n",
              "      --disabled-bg-color: #DDD;\n",
              "  }\n",
              "\n",
              "  [theme=dark] .colab-df-quickchart {\n",
              "      --bg-color: #3B4455;\n",
              "      --fill-color: #D2E3FC;\n",
              "      --hover-bg-color: #434B5C;\n",
              "      --hover-fill-color: #FFFFFF;\n",
              "      --disabled-bg-color: #3B4455;\n",
              "      --disabled-fill-color: #666;\n",
              "  }\n",
              "\n",
              "  .colab-df-quickchart {\n",
              "    background-color: var(--bg-color);\n",
              "    border: none;\n",
              "    border-radius: 50%;\n",
              "    cursor: pointer;\n",
              "    display: none;\n",
              "    fill: var(--fill-color);\n",
              "    height: 32px;\n",
              "    padding: 0;\n",
              "    width: 32px;\n",
              "  }\n",
              "\n",
              "  .colab-df-quickchart:hover {\n",
              "    background-color: var(--hover-bg-color);\n",
              "    box-shadow: 0 1px 2px rgba(60, 64, 67, 0.3), 0 1px 3px 1px rgba(60, 64, 67, 0.15);\n",
              "    fill: var(--button-hover-fill-color);\n",
              "  }\n",
              "\n",
              "  .colab-df-quickchart-complete:disabled,\n",
              "  .colab-df-quickchart-complete:disabled:hover {\n",
              "    background-color: var(--disabled-bg-color);\n",
              "    fill: var(--disabled-fill-color);\n",
              "    box-shadow: none;\n",
              "  }\n",
              "\n",
              "  .colab-df-spinner {\n",
              "    border: 2px solid var(--fill-color);\n",
              "    border-color: transparent;\n",
              "    border-bottom-color: var(--fill-color);\n",
              "    animation:\n",
              "      spin 1s steps(1) infinite;\n",
              "  }\n",
              "\n",
              "  @keyframes spin {\n",
              "    0% {\n",
              "      border-color: transparent;\n",
              "      border-bottom-color: var(--fill-color);\n",
              "      border-left-color: var(--fill-color);\n",
              "    }\n",
              "    20% {\n",
              "      border-color: transparent;\n",
              "      border-left-color: var(--fill-color);\n",
              "      border-top-color: var(--fill-color);\n",
              "    }\n",
              "    30% {\n",
              "      border-color: transparent;\n",
              "      border-left-color: var(--fill-color);\n",
              "      border-top-color: var(--fill-color);\n",
              "      border-right-color: var(--fill-color);\n",
              "    }\n",
              "    40% {\n",
              "      border-color: transparent;\n",
              "      border-right-color: var(--fill-color);\n",
              "      border-top-color: var(--fill-color);\n",
              "    }\n",
              "    60% {\n",
              "      border-color: transparent;\n",
              "      border-right-color: var(--fill-color);\n",
              "    }\n",
              "    80% {\n",
              "      border-color: transparent;\n",
              "      border-right-color: var(--fill-color);\n",
              "      border-bottom-color: var(--fill-color);\n",
              "    }\n",
              "    90% {\n",
              "      border-color: transparent;\n",
              "      border-bottom-color: var(--fill-color);\n",
              "    }\n",
              "  }\n",
              "</style>\n",
              "\n",
              "  <script>\n",
              "    async function quickchart(key) {\n",
              "      const quickchartButtonEl =\n",
              "        document.querySelector('#' + key + ' button');\n",
              "      quickchartButtonEl.disabled = true;  // To prevent multiple clicks.\n",
              "      quickchartButtonEl.classList.add('colab-df-spinner');\n",
              "      try {\n",
              "        const charts = await google.colab.kernel.invokeFunction(\n",
              "            'suggestCharts', [key], {});\n",
              "      } catch (error) {\n",
              "        console.error('Error during call to suggestCharts:', error);\n",
              "      }\n",
              "      quickchartButtonEl.classList.remove('colab-df-spinner');\n",
              "      quickchartButtonEl.classList.add('colab-df-quickchart-complete');\n",
              "    }\n",
              "    (() => {\n",
              "      let quickchartButtonEl =\n",
              "        document.querySelector('#df-5b5ba376-1d63-41a8-98b9-b379f47dd083 button');\n",
              "      quickchartButtonEl.style.display =\n",
              "        google.colab.kernel.accessAllowed ? 'block' : 'none';\n",
              "    })();\n",
              "  </script>\n",
              "</div>\n",
              "\n",
              "  <div id=\"id_96ecce8a-4944-4c83-bcbe-5830b1b4987e\">\n",
              "    <style>\n",
              "      .colab-df-generate {\n",
              "        background-color: #E8F0FE;\n",
              "        border: none;\n",
              "        border-radius: 50%;\n",
              "        cursor: pointer;\n",
              "        display: none;\n",
              "        fill: #1967D2;\n",
              "        height: 32px;\n",
              "        padding: 0 0 0 0;\n",
              "        width: 32px;\n",
              "      }\n",
              "\n",
              "      .colab-df-generate:hover {\n",
              "        background-color: #E2EBFA;\n",
              "        box-shadow: 0px 1px 2px rgba(60, 64, 67, 0.3), 0px 1px 3px 1px rgba(60, 64, 67, 0.15);\n",
              "        fill: #174EA6;\n",
              "      }\n",
              "\n",
              "      [theme=dark] .colab-df-generate {\n",
              "        background-color: #3B4455;\n",
              "        fill: #D2E3FC;\n",
              "      }\n",
              "\n",
              "      [theme=dark] .colab-df-generate:hover {\n",
              "        background-color: #434B5C;\n",
              "        box-shadow: 0px 1px 3px 1px rgba(0, 0, 0, 0.15);\n",
              "        filter: drop-shadow(0px 1px 2px rgba(0, 0, 0, 0.3));\n",
              "        fill: #FFFFFF;\n",
              "      }\n",
              "    </style>\n",
              "    <button class=\"colab-df-generate\" onclick=\"generateWithVariable('tabela_cruzada')\"\n",
              "            title=\"Generate code using this dataframe.\"\n",
              "            style=\"display:none;\">\n",
              "\n",
              "  <svg xmlns=\"http://www.w3.org/2000/svg\" height=\"24px\"viewBox=\"0 0 24 24\"\n",
              "       width=\"24px\">\n",
              "    <path d=\"M7,19H8.4L18.45,9,17,7.55,7,17.6ZM5,21V16.75L18.45,3.32a2,2,0,0,1,2.83,0l1.4,1.43a1.91,1.91,0,0,1,.58,1.4,1.91,1.91,0,0,1-.58,1.4L9.25,21ZM18.45,9,17,7.55Zm-12,3A5.31,5.31,0,0,0,4.9,8.1,5.31,5.31,0,0,0,1,6.5,5.31,5.31,0,0,0,4.9,4.9,5.31,5.31,0,0,0,6.5,1,5.31,5.31,0,0,0,8.1,4.9,5.31,5.31,0,0,0,12,6.5,5.46,5.46,0,0,0,6.5,12Z\"/>\n",
              "  </svg>\n",
              "    </button>\n",
              "    <script>\n",
              "      (() => {\n",
              "      const buttonEl =\n",
              "        document.querySelector('#id_96ecce8a-4944-4c83-bcbe-5830b1b4987e button.colab-df-generate');\n",
              "      buttonEl.style.display =\n",
              "        google.colab.kernel.accessAllowed ? 'block' : 'none';\n",
              "\n",
              "      buttonEl.onclick = () => {\n",
              "        google.colab.notebook.generateWithVariable('tabela_cruzada');\n",
              "      }\n",
              "      })();\n",
              "    </script>\n",
              "  </div>\n",
              "\n",
              "    </div>\n",
              "  </div>\n"
            ],
            "application/vnd.google.colaboratory.intrinsic+json": {
              "type": "dataframe",
              "variable_name": "tabela_cruzada",
              "summary": "{\n  \"name\": \"tabela_cruzada\",\n  \"rows\": 7,\n  \"fields\": [\n    {\n      \"column\": \"COR/RACA/ETNIA\",\n      \"properties\": {\n        \"dtype\": \"string\",\n        \"num_unique_values\": 7,\n        \"samples\": [\n          \"Amarela\",\n          \"Branca\",\n          \"Prefiro n\\u00e3o informar\"\n        ],\n        \"semantic_type\": \"\",\n        \"description\": \"\"\n      }\n    },\n    {\n      \"column\": \"Doutorado ou Phd\",\n      \"properties\": {\n        \"dtype\": \"number\",\n        \"std\": 47,\n        \"min\": 0,\n        \"max\": 127,\n        \"num_unique_values\": 6,\n        \"samples\": [\n          7,\n          127,\n          6\n        ],\n        \"semantic_type\": \"\",\n        \"description\": \"\"\n      }\n    },\n    {\n      \"column\": \"Estudante de Gradua\\u00e7\\u00e3o\",\n      \"properties\": {\n        \"dtype\": \"number\",\n        \"std\": 137,\n        \"min\": 0,\n        \"max\": 365,\n        \"num_unique_values\": 6,\n        \"samples\": [\n          15,\n          365,\n          51\n        ],\n        \"semantic_type\": \"\",\n        \"description\": \"\"\n      }\n    },\n    {\n      \"column\": \"Gradua\\u00e7\\u00e3o/Bacharelado\",\n      \"properties\": {\n        \"dtype\": \"number\",\n        \"std\": 364,\n        \"min\": 4,\n        \"max\": 999,\n        \"num_unique_values\": 7,\n        \"samples\": [\n          50,\n          999,\n          14\n        ],\n        \"semantic_type\": \"\",\n        \"description\": \"\"\n      }\n    },\n    {\n      \"column\": \"Mestrado\",\n      \"properties\": {\n        \"dtype\": \"number\",\n        \"std\": 129,\n        \"min\": 1,\n        \"max\": 355,\n        \"num_unique_values\": 7,\n        \"samples\": [\n          14,\n          355,\n          1\n        ],\n        \"semantic_type\": \"\",\n        \"description\": \"\"\n      }\n    },\n    {\n      \"column\": \"N\\u00e3o tenho gradua\\u00e7\\u00e3o formal\",\n      \"properties\": {\n        \"dtype\": \"number\",\n        \"std\": 24,\n        \"min\": 0,\n        \"max\": 65,\n        \"num_unique_values\": 6,\n        \"samples\": [\n          2,\n          65,\n          9\n        ],\n        \"semantic_type\": \"\",\n        \"description\": \"\"\n      }\n    },\n    {\n      \"column\": \"Prefiro n\\u00e3o informar\",\n      \"properties\": {\n        \"dtype\": \"number\",\n        \"std\": 2,\n        \"min\": 0,\n        \"max\": 8,\n        \"num_unique_values\": 4,\n        \"samples\": [\n          8,\n          1,\n          0\n        ],\n        \"semantic_type\": \"\",\n        \"description\": \"\"\n      }\n    },\n    {\n      \"column\": \"P\\u00f3s-gradua\\u00e7\\u00e3o\",\n      \"properties\": {\n        \"dtype\": \"number\",\n        \"std\": 310,\n        \"min\": 3,\n        \"max\": 839,\n        \"num_unique_values\": 6,\n        \"samples\": [\n          40,\n          839,\n          88\n        ],\n        \"semantic_type\": \"\",\n        \"description\": \"\"\n      }\n    }\n  ]\n}"
            }
          },
          "metadata": {},
          "execution_count": 145
        }
      ]
    },
    {
      "cell_type": "code",
      "source": [
        "np.array(tabela_cruzada)"
      ],
      "metadata": {
        "colab": {
          "base_uri": "https://localhost:8080/"
        },
        "id": "BPE3O7KgCZxK",
        "outputId": "3e1ebc09-5a17-479b-a816-918267d5db1f"
      },
      "execution_count": null,
      "outputs": [
        {
          "output_type": "execute_result",
          "data": {
            "text/plain": [
              "array([[  7,  15,  50,  14,   2,   0,  40],\n",
              "       [127, 365, 999, 355,  65,   8, 839],\n",
              "       [  0,   2,   4,   2,   0,   0,   3],\n",
              "       [  0,   0,   6,   3,   1,   0,   7],\n",
              "       [ 50, 178, 333, 113,  33,   3, 344],\n",
              "       [  1,   2,  14,   1,   0,   1,   7],\n",
              "       [  6,  51, 104,  33,   9,   0,  88]])"
            ]
          },
          "metadata": {},
          "execution_count": 146
        }
      ]
    },
    {
      "cell_type": "code",
      "source": [
        "dados.to_csv('/content/drive/MyDrive/Programaria/analise_dados.csv',index=False)"
      ],
      "metadata": {
        "id": "bahihIYSQD_Y"
      },
      "execution_count": null,
      "outputs": []
    },
    {
      "cell_type": "markdown",
      "source": [
        "#Conectando SQL com pandas\n"
      ],
      "metadata": {
        "id": "3N_2zjKmUpeB"
      }
    },
    {
      "cell_type": "code",
      "source": [
        "import sqlite3"
      ],
      "metadata": {
        "id": "KnuORkLgVNST"
      },
      "execution_count": null,
      "outputs": []
    },
    {
      "cell_type": "code",
      "source": [
        "import os\n",
        "print(os.path.exists('/status_brasil'))"
      ],
      "metadata": {
        "colab": {
          "base_uri": "https://localhost:8080/"
        },
        "id": "bqaowPLT8_Mc",
        "outputId": "c409cf45-95d7-4b84-c173-cdd53f4a1c31"
      },
      "execution_count": null,
      "outputs": [
        {
          "output_type": "stream",
          "name": "stdout",
          "text": [
            "True\n"
          ]
        }
      ]
    },
    {
      "cell_type": "code",
      "source": [
        "conexao = sqlite3.connect('/status_brasil')"
      ],
      "metadata": {
        "id": "SIDZhmYcVSDe"
      },
      "execution_count": null,
      "outputs": []
    },
    {
      "cell_type": "code",
      "source": [
        "from google.colab import drive\n",
        "drive.mount('/content/drive')"
      ],
      "metadata": {
        "id": "H85hoJCV9CKx",
        "colab": {
          "base_uri": "https://localhost:8080/"
        },
        "outputId": "1c32e4da-0bce-4767-83f6-e2878780522c"
      },
      "execution_count": null,
      "outputs": [
        {
          "output_type": "stream",
          "name": "stdout",
          "text": [
            "Mounted at /content/drive\n"
          ]
        }
      ]
    },
    {
      "cell_type": "code",
      "source": [
        "query = \"SELECT * FROM Municipios_Brasileiros WHERE Cidade='Itaquaquecetuba';\""
      ],
      "metadata": {
        "id": "wr4oCsImVqMN"
      },
      "execution_count": null,
      "outputs": []
    },
    {
      "cell_type": "code",
      "source": [
        "query"
      ],
      "metadata": {
        "id": "N-I2ZHTsWRbF",
        "colab": {
          "base_uri": "https://localhost:8080/",
          "height": 35
        },
        "outputId": "d8f73f34-d9ca-4fb4-a775-53b4128cc084"
      },
      "execution_count": null,
      "outputs": [
        {
          "output_type": "execute_result",
          "data": {
            "text/plain": [
              "\"SELECT * FROM Municipios_Brasileiros WHERE Cidade='Itaquaquecetuba';\""
            ],
            "application/vnd.google.colaboratory.intrinsic+json": {
              "type": "string"
            }
          },
          "metadata": {},
          "execution_count": 14
        }
      ]
    },
    {
      "cell_type": "code",
      "source": [
        "11"
      ],
      "metadata": {
        "id": "z6mAvuLCZD_w",
        "colab": {
          "base_uri": "https://localhost:8080/"
        },
        "outputId": "b7c08ca3-e764-455e-fb0c-3c7abddd35f0"
      },
      "execution_count": null,
      "outputs": [
        {
          "output_type": "execute_result",
          "data": {
            "text/plain": [
              "11"
            ]
          },
          "metadata": {},
          "execution_count": 56
        }
      ]
    },
    {
      "cell_type": "code",
      "source": [
        "pd.read_sql(query, con=conexao)"
      ],
      "metadata": {
        "colab": {
          "base_uri": "https://localhost:8080/",
          "height": 81
        },
        "id": "8qZhgfLPiFuR",
        "outputId": "5f167e91-93f6-4b2b-8c10-f85d7f8033fa"
      },
      "execution_count": null,
      "outputs": [
        {
          "output_type": "execute_result",
          "data": {
            "text/plain": [
              "            Cidade Estado   Regiao  municipio_ID\n",
              "0  Itaquaquecetuba     SP  Sudeste          5043"
            ],
            "text/html": [
              "\n",
              "  <div id=\"df-60413df7-01e7-4742-8eb3-b7b488c31d96\" class=\"colab-df-container\">\n",
              "    <div>\n",
              "<style scoped>\n",
              "    .dataframe tbody tr th:only-of-type {\n",
              "        vertical-align: middle;\n",
              "    }\n",
              "\n",
              "    .dataframe tbody tr th {\n",
              "        vertical-align: top;\n",
              "    }\n",
              "\n",
              "    .dataframe thead th {\n",
              "        text-align: right;\n",
              "    }\n",
              "</style>\n",
              "<table border=\"1\" class=\"dataframe\">\n",
              "  <thead>\n",
              "    <tr style=\"text-align: right;\">\n",
              "      <th></th>\n",
              "      <th>Cidade</th>\n",
              "      <th>Estado</th>\n",
              "      <th>Regiao</th>\n",
              "      <th>municipio_ID</th>\n",
              "    </tr>\n",
              "  </thead>\n",
              "  <tbody>\n",
              "    <tr>\n",
              "      <th>0</th>\n",
              "      <td>Itaquaquecetuba</td>\n",
              "      <td>SP</td>\n",
              "      <td>Sudeste</td>\n",
              "      <td>5043</td>\n",
              "    </tr>\n",
              "  </tbody>\n",
              "</table>\n",
              "</div>\n",
              "    <div class=\"colab-df-buttons\">\n",
              "\n",
              "  <div class=\"colab-df-container\">\n",
              "    <button class=\"colab-df-convert\" onclick=\"convertToInteractive('df-60413df7-01e7-4742-8eb3-b7b488c31d96')\"\n",
              "            title=\"Convert this dataframe to an interactive table.\"\n",
              "            style=\"display:none;\">\n",
              "\n",
              "  <svg xmlns=\"http://www.w3.org/2000/svg\" height=\"24px\" viewBox=\"0 -960 960 960\">\n",
              "    <path d=\"M120-120v-720h720v720H120Zm60-500h600v-160H180v160Zm220 220h160v-160H400v160Zm0 220h160v-160H400v160ZM180-400h160v-160H180v160Zm440 0h160v-160H620v160ZM180-180h160v-160H180v160Zm440 0h160v-160H620v160Z\"/>\n",
              "  </svg>\n",
              "    </button>\n",
              "\n",
              "  <style>\n",
              "    .colab-df-container {\n",
              "      display:flex;\n",
              "      gap: 12px;\n",
              "    }\n",
              "\n",
              "    .colab-df-convert {\n",
              "      background-color: #E8F0FE;\n",
              "      border: none;\n",
              "      border-radius: 50%;\n",
              "      cursor: pointer;\n",
              "      display: none;\n",
              "      fill: #1967D2;\n",
              "      height: 32px;\n",
              "      padding: 0 0 0 0;\n",
              "      width: 32px;\n",
              "    }\n",
              "\n",
              "    .colab-df-convert:hover {\n",
              "      background-color: #E2EBFA;\n",
              "      box-shadow: 0px 1px 2px rgba(60, 64, 67, 0.3), 0px 1px 3px 1px rgba(60, 64, 67, 0.15);\n",
              "      fill: #174EA6;\n",
              "    }\n",
              "\n",
              "    .colab-df-buttons div {\n",
              "      margin-bottom: 4px;\n",
              "    }\n",
              "\n",
              "    [theme=dark] .colab-df-convert {\n",
              "      background-color: #3B4455;\n",
              "      fill: #D2E3FC;\n",
              "    }\n",
              "\n",
              "    [theme=dark] .colab-df-convert:hover {\n",
              "      background-color: #434B5C;\n",
              "      box-shadow: 0px 1px 3px 1px rgba(0, 0, 0, 0.15);\n",
              "      filter: drop-shadow(0px 1px 2px rgba(0, 0, 0, 0.3));\n",
              "      fill: #FFFFFF;\n",
              "    }\n",
              "  </style>\n",
              "\n",
              "    <script>\n",
              "      const buttonEl =\n",
              "        document.querySelector('#df-60413df7-01e7-4742-8eb3-b7b488c31d96 button.colab-df-convert');\n",
              "      buttonEl.style.display =\n",
              "        google.colab.kernel.accessAllowed ? 'block' : 'none';\n",
              "\n",
              "      async function convertToInteractive(key) {\n",
              "        const element = document.querySelector('#df-60413df7-01e7-4742-8eb3-b7b488c31d96');\n",
              "        const dataTable =\n",
              "          await google.colab.kernel.invokeFunction('convertToInteractive',\n",
              "                                                    [key], {});\n",
              "        if (!dataTable) return;\n",
              "\n",
              "        const docLinkHtml = 'Like what you see? Visit the ' +\n",
              "          '<a target=\"_blank\" href=https://colab.research.google.com/notebooks/data_table.ipynb>data table notebook</a>'\n",
              "          + ' to learn more about interactive tables.';\n",
              "        element.innerHTML = '';\n",
              "        dataTable['output_type'] = 'display_data';\n",
              "        await google.colab.output.renderOutput(dataTable, element);\n",
              "        const docLink = document.createElement('div');\n",
              "        docLink.innerHTML = docLinkHtml;\n",
              "        element.appendChild(docLink);\n",
              "      }\n",
              "    </script>\n",
              "  </div>\n",
              "\n",
              "\n",
              "    </div>\n",
              "  </div>\n"
            ],
            "application/vnd.google.colaboratory.intrinsic+json": {
              "type": "dataframe",
              "summary": "{\n  \"name\": \"pd\",\n  \"rows\": 1,\n  \"fields\": [\n    {\n      \"column\": \"Cidade\",\n      \"properties\": {\n        \"dtype\": \"string\",\n        \"num_unique_values\": 1,\n        \"samples\": [\n          \"Itaquaquecetuba\"\n        ],\n        \"semantic_type\": \"\",\n        \"description\": \"\"\n      }\n    },\n    {\n      \"column\": \"Estado\",\n      \"properties\": {\n        \"dtype\": \"string\",\n        \"num_unique_values\": 1,\n        \"samples\": [\n          \"SP\"\n        ],\n        \"semantic_type\": \"\",\n        \"description\": \"\"\n      }\n    },\n    {\n      \"column\": \"Regiao\",\n      \"properties\": {\n        \"dtype\": \"string\",\n        \"num_unique_values\": 1,\n        \"samples\": [\n          \"Sudeste\"\n        ],\n        \"semantic_type\": \"\",\n        \"description\": \"\"\n      }\n    },\n    {\n      \"column\": \"municipio_ID\",\n      \"properties\": {\n        \"dtype\": \"number\",\n        \"std\": null,\n        \"min\": 5043,\n        \"max\": 5043,\n        \"num_unique_values\": 1,\n        \"samples\": [\n          5043\n        ],\n        \"semantic_type\": \"\",\n        \"description\": \"\"\n      }\n    }\n  ]\n}"
            }
          },
          "metadata": {},
          "execution_count": 15
        }
      ]
    },
    {
      "cell_type": "code",
      "source": [
        "A = 'batata'"
      ],
      "metadata": {
        "id": "mUPxr8PmZDMP"
      },
      "execution_count": null,
      "outputs": []
    },
    {
      "cell_type": "code",
      "source": [
        "print ('eu gosto de {}'.format (A))"
      ],
      "metadata": {
        "colab": {
          "base_uri": "https://localhost:8080/"
        },
        "id": "uUkY21LIYf4C",
        "outputId": "93c99ec1-fc4f-46b4-add4-f99f76bcfe31"
      },
      "execution_count": null,
      "outputs": [
        {
          "output_type": "stream",
          "name": "stdout",
          "text": [
            "eu gosto de batata\n"
          ]
        }
      ]
    },
    {
      "cell_type": "code",
      "source": [
        "A = ['batata', 'tomate', 'alface']"
      ],
      "metadata": {
        "id": "tyEnPxYOYgNl"
      },
      "execution_count": null,
      "outputs": []
    },
    {
      "cell_type": "code",
      "source": [
        "print ('Eu gosto de {},{} e {}'.format (A[0], A[1], A[2]))"
      ],
      "metadata": {
        "colab": {
          "base_uri": "https://localhost:8080/"
        },
        "id": "oSsqeMIhZ-Ht",
        "outputId": "ee60a9d4-9757-4b95-d724-0b71939299a8"
      },
      "execution_count": null,
      "outputs": [
        {
          "output_type": "stream",
          "name": "stdout",
          "text": [
            "Eu gosto de batata,tomate e alface\n"
          ]
        }
      ]
    },
    {
      "cell_type": "code",
      "source": [
        "print ('Eu gosto de {}'.format (','.join(A)))"
      ],
      "metadata": {
        "colab": {
          "base_uri": "https://localhost:8080/"
        },
        "id": "yS0LHcC6ac-Z",
        "outputId": "ce987aaa-19eb-4e0f-ed39-609f5d61f2b2"
      },
      "execution_count": null,
      "outputs": [
        {
          "output_type": "stream",
          "name": "stdout",
          "text": [
            "Eu gosto de batata,tomate,alface\n"
          ]
        }
      ]
    },
    {
      "cell_type": "code",
      "source": [
        "dados = pd.read_csv('/content/drive/MyDrive/Programaria/analise_dados.csv')"
      ],
      "metadata": {
        "id": "DuDygG-BW4mq"
      },
      "execution_count": null,
      "outputs": []
    },
    {
      "cell_type": "code",
      "source": [
        "lista_estados = list(dados['UF ONDE MORA'].unique())"
      ],
      "metadata": {
        "id": "wi2EpJfZXCMJ"
      },
      "execution_count": null,
      "outputs": []
    },
    {
      "cell_type": "code",
      "source": [
        "query = '''SELECT Municipios_Brasileiros.Estado, AVG(Municipios_Status.renda) FROM Municipios_Brasileiros\n",
        "        INNER JOIN Municipios_Status ON Municipios_Brasileiros.municipio_ID = Municipios_Status.municipio_ID\n",
        "        WHERE Municipios_Brasileiros.Estado IN ({})\n",
        "        GROUP BY Municipios_Brasileiros.Estado;'''.format(','.join(['?' for _ in lista_estados]))\n",
        "\n"
      ],
      "metadata": {
        "id": "BQSIFL1qH26s"
      },
      "execution_count": null,
      "outputs": []
    },
    {
      "cell_type": "code",
      "source": [
        "estados_renda = pd.read_sql(query, con=conexao, params=lista_estados)"
      ],
      "metadata": {
        "id": "BDuB8pkuWuNE"
      },
      "execution_count": null,
      "outputs": []
    },
    {
      "cell_type": "code",
      "source": [
        "print(query)"
      ],
      "metadata": {
        "colab": {
          "base_uri": "https://localhost:8080/"
        },
        "id": "zEHHM206MqAf",
        "outputId": "d30a1961-832c-4f44-e2cd-f396bd46c107"
      },
      "execution_count": null,
      "outputs": [
        {
          "output_type": "stream",
          "name": "stdout",
          "text": [
            "SELECT Municipios_Brasileiros.Estado, AVG(Municipios_Status.renda) FROM Municipios_Brasileiros\n",
            "        INNER JOIN Municipios_Status ON Municipios_Brasileiros.municipio_ID = Municipios_Status.municipio_ID\n",
            "        WHERE Municipios_Brasileiros.Estado IN (?,?,?,?,?,?,?,?,?,?,?,?,?,?,?,?,?,?,?,?,?,?,?)\n",
            "        GROUP BY Municipios_Brasileiros.Estado;\n"
          ]
        }
      ]
    },
    {
      "cell_type": "code",
      "source": [
        "dados.rename(columns={'UF ONDE MORA': 'Estado'}, inplace=True)"
      ],
      "metadata": {
        "id": "qBeDHfahNMCO"
      },
      "execution_count": null,
      "outputs": []
    },
    {
      "cell_type": "code",
      "source": [
        "dados = dados.merge(estados_renda, on='Estado', how='left')"
      ],
      "metadata": {
        "id": "LUK6_O43N_18"
      },
      "execution_count": null,
      "outputs": []
    },
    {
      "cell_type": "code",
      "source": [
        "correlacao_renda_salario = dados['SALARIO'].corr(dados['AVG(Municipios_Status.renda)'])\n",
        "correlacao_renda_salario"
      ],
      "metadata": {
        "colab": {
          "base_uri": "https://localhost:8080/"
        },
        "id": "huL9EIhFeK6m",
        "outputId": "91269159-9f0c-4aa5-9e65-203bea5d460b"
      },
      "execution_count": null,
      "outputs": [
        {
          "output_type": "execute_result",
          "data": {
            "text/plain": [
              "0.0742655584923988"
            ]
          },
          "metadata": {},
          "execution_count": 34
        }
      ]
    },
    {
      "cell_type": "markdown",
      "source": [
        "#Visualização de dados"
      ],
      "metadata": {
        "id": "3PpagbFpkC4r"
      }
    },
    {
      "cell_type": "code",
      "source": [
        "dados = pd.read_csv('/content/drive/MyDrive/Programaria/analise_dados.csv')"
      ],
      "metadata": {
        "id": "tior1PnceBb5"
      },
      "execution_count": null,
      "outputs": []
    },
    {
      "cell_type": "code",
      "source": [
        "dados.head()"
      ],
      "metadata": {
        "colab": {
          "base_uri": "https://localhost:8080/",
          "height": 776
        },
        "id": "hV7TLNuKmY_i",
        "outputId": "1eb6fd81-a6ee-4664-99bb-257313a7fe51"
      },
      "execution_count": null,
      "outputs": [
        {
          "output_type": "execute_result",
          "data": {
            "text/plain": [
              "   Unnamed: 0                                ID  IDADE FAIXA IDADE     GENERO  \\\n",
              "0           0  zzqzz3l9ily8nuo2m7wyzzqzz3w48o96   39.0       35-39  Masculino   \n",
              "1           1  zzls2oftfn9law393oezzls2ofhvfpzd   32.0       30-34  Masculino   \n",
              "2           2  zzdwqzfqqp1ypc7ps6m0hzzdwqz292yi   53.0       50-54  Masculino   \n",
              "3           3  zzbqh3uy7yk7k9qmkzzbqtb4s9faqspl   27.0       25-29  Masculino   \n",
              "4           4  zzaf1m95yan929rb94wzzaf1mekhvhpg   46.0       45-49   Feminino   \n",
              "\n",
              "  COR/RACA/ETNIA  PCD               EXPERIENCIA_PROFISSIONAL_PREJUDICADA  \\\n",
              "0          Parda  Não  Não acredito que minha experiência profissiona...   \n",
              "1          Parda  Não  Sim, acredito que a minha a experiência profis...   \n",
              "2         Branca  Não                                                NaN   \n",
              "3         Branca  Não                                                NaN   \n",
              "4         Branca  Não  Não acredito que minha experiência profissiona...   \n",
              "\n",
              "                          ASPECTOS_PREJUDICADOS  VIVE_NO_BRASIL  ...  \\\n",
              "0                                           NaN            True  ...   \n",
              "1  Aprovação em processos seletivos/entrevistas            True  ...   \n",
              "2                                           NaN            True  ...   \n",
              "3                                           NaN            True  ...   \n",
              "4                                           NaN            True  ...   \n",
              "\n",
              "   Você participou de entrevistas de emprego nos últimos 6 meses?_y  \\\n",
              "0  Não participei de entrevistas de emprego/proce...                  \n",
              "1          Sim, fiz entrevistas mas não fui aprovado                  \n",
              "2  Não participei de entrevistas de emprego/proce...                  \n",
              "3               Sim, fui aprovado e mudei de emprego                  \n",
              "4  Não participei de entrevistas de emprego/proce...                  \n",
              "\n",
              "   Você pretende mudar de emprego nos próximos 6 meses?_y  \\\n",
              "0  Não estou buscando e não pretendo mudar de emp...        \n",
              "1  Estou em busca de oportunidades dentro ou fora...        \n",
              "2  Não estou buscando, mas me considero aberto a ...        \n",
              "3  Não estou buscando, mas me considero aberto a ...        \n",
              "4  Não estou buscando, mas me considero aberto a ...        \n",
              "\n",
              "  Quais os principais critérios que você leva em consideração no momento de decidir onde trabalhar?_y  \\\n",
              "0                                         Benefícios                                                    \n",
              "1  Remuneração/Salário, Plano de carreira e oport...                                                    \n",
              "2  Remuneração/Salário, Flexibilidade de trabalho...                                                    \n",
              "3  Remuneração/Salário, Flexibilidade de trabalho...                                                    \n",
              "4  Remuneração/Salário, Oportunidade de aprendiza...                                                    \n",
              "\n",
              "          Atualmente qual a sua forma de trabalho?_y  \\\n",
              "0                             Modelo 100% presencial   \n",
              "1                             Modelo 100% presencial   \n",
              "2  Modelo híbrido com dias fixos de trabalho pres...   \n",
              "3  Modelo híbrido flexível (o funcionário tem lib...   \n",
              "4                             Modelo 100% presencial   \n",
              "\n",
              "         Qual a forma de trabalho ideal para você?_y  \\\n",
              "0  Modelo híbrido com dias fixos de trabalho pres...   \n",
              "1  Modelo híbrido flexível (o funcionário tem lib...   \n",
              "2  Modelo híbrido flexível (o funcionário tem lib...   \n",
              "3  Modelo híbrido flexível (o funcionário tem lib...   \n",
              "4                             Modelo 100% presencial   \n",
              "\n",
              "  Caso sua empresa decida pelo modelo 100% presencial qual será sua atitude?_y  \\\n",
              "0   Vou aceitar e retornar ao modelo 100% presencial                             \n",
              "1   Vou aceitar e retornar ao modelo 100% presencial                             \n",
              "2  Vou procurar outra oportunidade no modelo híbr...                             \n",
              "3  Vou procurar outra oportunidade no modelo híbr...                             \n",
              "4   Vou aceitar e retornar ao modelo 100% presencial                             \n",
              "\n",
              "             Sua empresa passu por Layoff em 2022?_y  \\\n",
              "0  Não ocorreram layoffs/demissões em massa na em...   \n",
              "1  Não ocorreram layoffs/demissões em massa na em...   \n",
              "2  Não ocorreram layoffs/demissões em massa na em...   \n",
              "3  Não ocorreram layoffs/demissões em massa na em...   \n",
              "4  Não ocorreram layoffs/demissões em massa na em...   \n",
              "\n",
              "                                           Atuacao_y  \\\n",
              "0                                Engenharia de Dados   \n",
              "1                                             Gestor   \n",
              "2   desenvolve modelos preditivos e algoritmos de...   \n",
              "3   desenvolve modelos preditivos e algoritmos de...   \n",
              "4                                      Outra atuação   \n",
              "\n",
              "  Quais das linguagens listadas abaixo você utiliza no trabalho?_y EM_BUSCA  \n",
              "0                                                SQL                  False  \n",
              "1                                                NaN                  False  \n",
              "2                                                  1                  False  \n",
              "3                                                  0                  False  \n",
              "4                                                SQL                  False  \n",
              "\n",
              "[5 rows x 72 columns]"
            ],
            "text/html": [
              "\n",
              "  <div id=\"df-8973710f-4793-4bca-8e7c-b76ae9c219c9\" class=\"colab-df-container\">\n",
              "    <div>\n",
              "<style scoped>\n",
              "    .dataframe tbody tr th:only-of-type {\n",
              "        vertical-align: middle;\n",
              "    }\n",
              "\n",
              "    .dataframe tbody tr th {\n",
              "        vertical-align: top;\n",
              "    }\n",
              "\n",
              "    .dataframe thead th {\n",
              "        text-align: right;\n",
              "    }\n",
              "</style>\n",
              "<table border=\"1\" class=\"dataframe\">\n",
              "  <thead>\n",
              "    <tr style=\"text-align: right;\">\n",
              "      <th></th>\n",
              "      <th>Unnamed: 0</th>\n",
              "      <th>ID</th>\n",
              "      <th>IDADE</th>\n",
              "      <th>FAIXA IDADE</th>\n",
              "      <th>GENERO</th>\n",
              "      <th>COR/RACA/ETNIA</th>\n",
              "      <th>PCD</th>\n",
              "      <th>EXPERIENCIA_PROFISSIONAL_PREJUDICADA</th>\n",
              "      <th>ASPECTOS_PREJUDICADOS</th>\n",
              "      <th>VIVE_NO_BRASIL</th>\n",
              "      <th>...</th>\n",
              "      <th>Você participou de entrevistas de emprego nos últimos 6 meses?_y</th>\n",
              "      <th>Você pretende mudar de emprego nos próximos 6 meses?_y</th>\n",
              "      <th>Quais os principais critérios que você leva em consideração no momento de decidir onde trabalhar?_y</th>\n",
              "      <th>Atualmente qual a sua forma de trabalho?_y</th>\n",
              "      <th>Qual a forma de trabalho ideal para você?_y</th>\n",
              "      <th>Caso sua empresa decida pelo modelo 100% presencial qual será sua atitude?_y</th>\n",
              "      <th>Sua empresa passu por Layoff em 2022?_y</th>\n",
              "      <th>Atuacao_y</th>\n",
              "      <th>Quais das linguagens listadas abaixo você utiliza no trabalho?_y</th>\n",
              "      <th>EM_BUSCA</th>\n",
              "    </tr>\n",
              "  </thead>\n",
              "  <tbody>\n",
              "    <tr>\n",
              "      <th>0</th>\n",
              "      <td>0</td>\n",
              "      <td>zzqzz3l9ily8nuo2m7wyzzqzz3w48o96</td>\n",
              "      <td>39.0</td>\n",
              "      <td>35-39</td>\n",
              "      <td>Masculino</td>\n",
              "      <td>Parda</td>\n",
              "      <td>Não</td>\n",
              "      <td>Não acredito que minha experiência profissiona...</td>\n",
              "      <td>NaN</td>\n",
              "      <td>True</td>\n",
              "      <td>...</td>\n",
              "      <td>Não participei de entrevistas de emprego/proce...</td>\n",
              "      <td>Não estou buscando e não pretendo mudar de emp...</td>\n",
              "      <td>Benefícios</td>\n",
              "      <td>Modelo 100% presencial</td>\n",
              "      <td>Modelo híbrido com dias fixos de trabalho pres...</td>\n",
              "      <td>Vou aceitar e retornar ao modelo 100% presencial</td>\n",
              "      <td>Não ocorreram layoffs/demissões em massa na em...</td>\n",
              "      <td>Engenharia de Dados</td>\n",
              "      <td>SQL</td>\n",
              "      <td>False</td>\n",
              "    </tr>\n",
              "    <tr>\n",
              "      <th>1</th>\n",
              "      <td>1</td>\n",
              "      <td>zzls2oftfn9law393oezzls2ofhvfpzd</td>\n",
              "      <td>32.0</td>\n",
              "      <td>30-34</td>\n",
              "      <td>Masculino</td>\n",
              "      <td>Parda</td>\n",
              "      <td>Não</td>\n",
              "      <td>Sim, acredito que a minha a experiência profis...</td>\n",
              "      <td>Aprovação em processos seletivos/entrevistas</td>\n",
              "      <td>True</td>\n",
              "      <td>...</td>\n",
              "      <td>Sim, fiz entrevistas mas não fui aprovado</td>\n",
              "      <td>Estou em busca de oportunidades dentro ou fora...</td>\n",
              "      <td>Remuneração/Salário, Plano de carreira e oport...</td>\n",
              "      <td>Modelo 100% presencial</td>\n",
              "      <td>Modelo híbrido flexível (o funcionário tem lib...</td>\n",
              "      <td>Vou aceitar e retornar ao modelo 100% presencial</td>\n",
              "      <td>Não ocorreram layoffs/demissões em massa na em...</td>\n",
              "      <td>Gestor</td>\n",
              "      <td>NaN</td>\n",
              "      <td>False</td>\n",
              "    </tr>\n",
              "    <tr>\n",
              "      <th>2</th>\n",
              "      <td>2</td>\n",
              "      <td>zzdwqzfqqp1ypc7ps6m0hzzdwqz292yi</td>\n",
              "      <td>53.0</td>\n",
              "      <td>50-54</td>\n",
              "      <td>Masculino</td>\n",
              "      <td>Branca</td>\n",
              "      <td>Não</td>\n",
              "      <td>NaN</td>\n",
              "      <td>NaN</td>\n",
              "      <td>True</td>\n",
              "      <td>...</td>\n",
              "      <td>Não participei de entrevistas de emprego/proce...</td>\n",
              "      <td>Não estou buscando, mas me considero aberto a ...</td>\n",
              "      <td>Remuneração/Salário, Flexibilidade de trabalho...</td>\n",
              "      <td>Modelo híbrido com dias fixos de trabalho pres...</td>\n",
              "      <td>Modelo híbrido flexível (o funcionário tem lib...</td>\n",
              "      <td>Vou procurar outra oportunidade no modelo híbr...</td>\n",
              "      <td>Não ocorreram layoffs/demissões em massa na em...</td>\n",
              "      <td>desenvolve modelos preditivos e algoritmos de...</td>\n",
              "      <td>1</td>\n",
              "      <td>False</td>\n",
              "    </tr>\n",
              "    <tr>\n",
              "      <th>3</th>\n",
              "      <td>3</td>\n",
              "      <td>zzbqh3uy7yk7k9qmkzzbqtb4s9faqspl</td>\n",
              "      <td>27.0</td>\n",
              "      <td>25-29</td>\n",
              "      <td>Masculino</td>\n",
              "      <td>Branca</td>\n",
              "      <td>Não</td>\n",
              "      <td>NaN</td>\n",
              "      <td>NaN</td>\n",
              "      <td>True</td>\n",
              "      <td>...</td>\n",
              "      <td>Sim, fui aprovado e mudei de emprego</td>\n",
              "      <td>Não estou buscando, mas me considero aberto a ...</td>\n",
              "      <td>Remuneração/Salário, Flexibilidade de trabalho...</td>\n",
              "      <td>Modelo híbrido flexível (o funcionário tem lib...</td>\n",
              "      <td>Modelo híbrido flexível (o funcionário tem lib...</td>\n",
              "      <td>Vou procurar outra oportunidade no modelo híbr...</td>\n",
              "      <td>Não ocorreram layoffs/demissões em massa na em...</td>\n",
              "      <td>desenvolve modelos preditivos e algoritmos de...</td>\n",
              "      <td>0</td>\n",
              "      <td>False</td>\n",
              "    </tr>\n",
              "    <tr>\n",
              "      <th>4</th>\n",
              "      <td>4</td>\n",
              "      <td>zzaf1m95yan929rb94wzzaf1mekhvhpg</td>\n",
              "      <td>46.0</td>\n",
              "      <td>45-49</td>\n",
              "      <td>Feminino</td>\n",
              "      <td>Branca</td>\n",
              "      <td>Não</td>\n",
              "      <td>Não acredito que minha experiência profissiona...</td>\n",
              "      <td>NaN</td>\n",
              "      <td>True</td>\n",
              "      <td>...</td>\n",
              "      <td>Não participei de entrevistas de emprego/proce...</td>\n",
              "      <td>Não estou buscando, mas me considero aberto a ...</td>\n",
              "      <td>Remuneração/Salário, Oportunidade de aprendiza...</td>\n",
              "      <td>Modelo 100% presencial</td>\n",
              "      <td>Modelo 100% presencial</td>\n",
              "      <td>Vou aceitar e retornar ao modelo 100% presencial</td>\n",
              "      <td>Não ocorreram layoffs/demissões em massa na em...</td>\n",
              "      <td>Outra atuação</td>\n",
              "      <td>SQL</td>\n",
              "      <td>False</td>\n",
              "    </tr>\n",
              "  </tbody>\n",
              "</table>\n",
              "<p>5 rows × 72 columns</p>\n",
              "</div>\n",
              "    <div class=\"colab-df-buttons\">\n",
              "\n",
              "  <div class=\"colab-df-container\">\n",
              "    <button class=\"colab-df-convert\" onclick=\"convertToInteractive('df-8973710f-4793-4bca-8e7c-b76ae9c219c9')\"\n",
              "            title=\"Convert this dataframe to an interactive table.\"\n",
              "            style=\"display:none;\">\n",
              "\n",
              "  <svg xmlns=\"http://www.w3.org/2000/svg\" height=\"24px\" viewBox=\"0 -960 960 960\">\n",
              "    <path d=\"M120-120v-720h720v720H120Zm60-500h600v-160H180v160Zm220 220h160v-160H400v160Zm0 220h160v-160H400v160ZM180-400h160v-160H180v160Zm440 0h160v-160H620v160ZM180-180h160v-160H180v160Zm440 0h160v-160H620v160Z\"/>\n",
              "  </svg>\n",
              "    </button>\n",
              "\n",
              "  <style>\n",
              "    .colab-df-container {\n",
              "      display:flex;\n",
              "      gap: 12px;\n",
              "    }\n",
              "\n",
              "    .colab-df-convert {\n",
              "      background-color: #E8F0FE;\n",
              "      border: none;\n",
              "      border-radius: 50%;\n",
              "      cursor: pointer;\n",
              "      display: none;\n",
              "      fill: #1967D2;\n",
              "      height: 32px;\n",
              "      padding: 0 0 0 0;\n",
              "      width: 32px;\n",
              "    }\n",
              "\n",
              "    .colab-df-convert:hover {\n",
              "      background-color: #E2EBFA;\n",
              "      box-shadow: 0px 1px 2px rgba(60, 64, 67, 0.3), 0px 1px 3px 1px rgba(60, 64, 67, 0.15);\n",
              "      fill: #174EA6;\n",
              "    }\n",
              "\n",
              "    .colab-df-buttons div {\n",
              "      margin-bottom: 4px;\n",
              "    }\n",
              "\n",
              "    [theme=dark] .colab-df-convert {\n",
              "      background-color: #3B4455;\n",
              "      fill: #D2E3FC;\n",
              "    }\n",
              "\n",
              "    [theme=dark] .colab-df-convert:hover {\n",
              "      background-color: #434B5C;\n",
              "      box-shadow: 0px 1px 3px 1px rgba(0, 0, 0, 0.15);\n",
              "      filter: drop-shadow(0px 1px 2px rgba(0, 0, 0, 0.3));\n",
              "      fill: #FFFFFF;\n",
              "    }\n",
              "  </style>\n",
              "\n",
              "    <script>\n",
              "      const buttonEl =\n",
              "        document.querySelector('#df-8973710f-4793-4bca-8e7c-b76ae9c219c9 button.colab-df-convert');\n",
              "      buttonEl.style.display =\n",
              "        google.colab.kernel.accessAllowed ? 'block' : 'none';\n",
              "\n",
              "      async function convertToInteractive(key) {\n",
              "        const element = document.querySelector('#df-8973710f-4793-4bca-8e7c-b76ae9c219c9');\n",
              "        const dataTable =\n",
              "          await google.colab.kernel.invokeFunction('convertToInteractive',\n",
              "                                                    [key], {});\n",
              "        if (!dataTable) return;\n",
              "\n",
              "        const docLinkHtml = 'Like what you see? Visit the ' +\n",
              "          '<a target=\"_blank\" href=https://colab.research.google.com/notebooks/data_table.ipynb>data table notebook</a>'\n",
              "          + ' to learn more about interactive tables.';\n",
              "        element.innerHTML = '';\n",
              "        dataTable['output_type'] = 'display_data';\n",
              "        await google.colab.output.renderOutput(dataTable, element);\n",
              "        const docLink = document.createElement('div');\n",
              "        docLink.innerHTML = docLinkHtml;\n",
              "        element.appendChild(docLink);\n",
              "      }\n",
              "    </script>\n",
              "  </div>\n",
              "\n",
              "\n",
              "<div id=\"df-54b39f1b-8218-46f6-9b97-4faf7c197240\">\n",
              "  <button class=\"colab-df-quickchart\" onclick=\"quickchart('df-54b39f1b-8218-46f6-9b97-4faf7c197240')\"\n",
              "            title=\"Suggest charts\"\n",
              "            style=\"display:none;\">\n",
              "\n",
              "<svg xmlns=\"http://www.w3.org/2000/svg\" height=\"24px\"viewBox=\"0 0 24 24\"\n",
              "     width=\"24px\">\n",
              "    <g>\n",
              "        <path d=\"M19 3H5c-1.1 0-2 .9-2 2v14c0 1.1.9 2 2 2h14c1.1 0 2-.9 2-2V5c0-1.1-.9-2-2-2zM9 17H7v-7h2v7zm4 0h-2V7h2v10zm4 0h-2v-4h2v4z\"/>\n",
              "    </g>\n",
              "</svg>\n",
              "  </button>\n",
              "\n",
              "<style>\n",
              "  .colab-df-quickchart {\n",
              "      --bg-color: #E8F0FE;\n",
              "      --fill-color: #1967D2;\n",
              "      --hover-bg-color: #E2EBFA;\n",
              "      --hover-fill-color: #174EA6;\n",
              "      --disabled-fill-color: #AAA;\n",
              "      --disabled-bg-color: #DDD;\n",
              "  }\n",
              "\n",
              "  [theme=dark] .colab-df-quickchart {\n",
              "      --bg-color: #3B4455;\n",
              "      --fill-color: #D2E3FC;\n",
              "      --hover-bg-color: #434B5C;\n",
              "      --hover-fill-color: #FFFFFF;\n",
              "      --disabled-bg-color: #3B4455;\n",
              "      --disabled-fill-color: #666;\n",
              "  }\n",
              "\n",
              "  .colab-df-quickchart {\n",
              "    background-color: var(--bg-color);\n",
              "    border: none;\n",
              "    border-radius: 50%;\n",
              "    cursor: pointer;\n",
              "    display: none;\n",
              "    fill: var(--fill-color);\n",
              "    height: 32px;\n",
              "    padding: 0;\n",
              "    width: 32px;\n",
              "  }\n",
              "\n",
              "  .colab-df-quickchart:hover {\n",
              "    background-color: var(--hover-bg-color);\n",
              "    box-shadow: 0 1px 2px rgba(60, 64, 67, 0.3), 0 1px 3px 1px rgba(60, 64, 67, 0.15);\n",
              "    fill: var(--button-hover-fill-color);\n",
              "  }\n",
              "\n",
              "  .colab-df-quickchart-complete:disabled,\n",
              "  .colab-df-quickchart-complete:disabled:hover {\n",
              "    background-color: var(--disabled-bg-color);\n",
              "    fill: var(--disabled-fill-color);\n",
              "    box-shadow: none;\n",
              "  }\n",
              "\n",
              "  .colab-df-spinner {\n",
              "    border: 2px solid var(--fill-color);\n",
              "    border-color: transparent;\n",
              "    border-bottom-color: var(--fill-color);\n",
              "    animation:\n",
              "      spin 1s steps(1) infinite;\n",
              "  }\n",
              "\n",
              "  @keyframes spin {\n",
              "    0% {\n",
              "      border-color: transparent;\n",
              "      border-bottom-color: var(--fill-color);\n",
              "      border-left-color: var(--fill-color);\n",
              "    }\n",
              "    20% {\n",
              "      border-color: transparent;\n",
              "      border-left-color: var(--fill-color);\n",
              "      border-top-color: var(--fill-color);\n",
              "    }\n",
              "    30% {\n",
              "      border-color: transparent;\n",
              "      border-left-color: var(--fill-color);\n",
              "      border-top-color: var(--fill-color);\n",
              "      border-right-color: var(--fill-color);\n",
              "    }\n",
              "    40% {\n",
              "      border-color: transparent;\n",
              "      border-right-color: var(--fill-color);\n",
              "      border-top-color: var(--fill-color);\n",
              "    }\n",
              "    60% {\n",
              "      border-color: transparent;\n",
              "      border-right-color: var(--fill-color);\n",
              "    }\n",
              "    80% {\n",
              "      border-color: transparent;\n",
              "      border-right-color: var(--fill-color);\n",
              "      border-bottom-color: var(--fill-color);\n",
              "    }\n",
              "    90% {\n",
              "      border-color: transparent;\n",
              "      border-bottom-color: var(--fill-color);\n",
              "    }\n",
              "  }\n",
              "</style>\n",
              "\n",
              "  <script>\n",
              "    async function quickchart(key) {\n",
              "      const quickchartButtonEl =\n",
              "        document.querySelector('#' + key + ' button');\n",
              "      quickchartButtonEl.disabled = true;  // To prevent multiple clicks.\n",
              "      quickchartButtonEl.classList.add('colab-df-spinner');\n",
              "      try {\n",
              "        const charts = await google.colab.kernel.invokeFunction(\n",
              "            'suggestCharts', [key], {});\n",
              "      } catch (error) {\n",
              "        console.error('Error during call to suggestCharts:', error);\n",
              "      }\n",
              "      quickchartButtonEl.classList.remove('colab-df-spinner');\n",
              "      quickchartButtonEl.classList.add('colab-df-quickchart-complete');\n",
              "    }\n",
              "    (() => {\n",
              "      let quickchartButtonEl =\n",
              "        document.querySelector('#df-54b39f1b-8218-46f6-9b97-4faf7c197240 button');\n",
              "      quickchartButtonEl.style.display =\n",
              "        google.colab.kernel.accessAllowed ? 'block' : 'none';\n",
              "    })();\n",
              "  </script>\n",
              "</div>\n",
              "\n",
              "    </div>\n",
              "  </div>\n"
            ],
            "application/vnd.google.colaboratory.intrinsic+json": {
              "type": "dataframe",
              "variable_name": "dados"
            }
          },
          "metadata": {},
          "execution_count": 39
        }
      ]
    },
    {
      "cell_type": "code",
      "source": [
        "genero_counts = dados['GENERO'].value_counts()"
      ],
      "metadata": {
        "id": "b2P9R53RmtJk"
      },
      "execution_count": null,
      "outputs": []
    },
    {
      "cell_type": "code",
      "source": [
        "import matplotlib.pyplot as plt\n"
      ],
      "metadata": {
        "id": "gSfolstEm7Ej"
      },
      "execution_count": null,
      "outputs": []
    },
    {
      "cell_type": "code",
      "source": [
        "plt.figure()\n",
        "plt.bar(height = genero_counts.values, x = genero_counts.index)\n",
        "plt.title('Quantidade de pessoas por gênero na area de dados')\n",
        "plt.xlabel('Gênero')\n",
        "plt.ylabel('Contagem')\n"
      ],
      "metadata": {
        "colab": {
          "base_uri": "https://localhost:8080/",
          "height": 489
        },
        "id": "tpCvRfXrnBwf",
        "outputId": "eb6556dd-72c5-4b6e-cd13-e6b97b40cff7"
      },
      "execution_count": null,
      "outputs": [
        {
          "output_type": "execute_result",
          "data": {
            "text/plain": [
              "Text(0, 0.5, 'Contagem')"
            ]
          },
          "metadata": {},
          "execution_count": 42
        },
        {
          "output_type": "display_data",
          "data": {
            "text/plain": [
              "<Figure size 640x480 with 1 Axes>"
            ],
            "image/png": "[encoded data removed]"
          },
          "metadata": {}
        }
      ]
    },
    {
      "cell_type": "code",
      "source": [
        "import seaborn as sns"
      ],
      "metadata": {
        "id": "Dt_E7FbnoirT"
      },
      "execution_count": null,
      "outputs": []
    },
    {
      "cell_type": "code",
      "source": [
        "plt.figure()\n",
        "sns.countplot(data=dados, x='GENERO',palette = 'pastel')\n",
        "plt.title('Quantidade de pessoas por gênero na area de dados')\n",
        "plt.xlabel('Gênero')\n",
        "plt.ylabel('Contagem')\n",
        "plt.grid(True)\n",
        "plt.show()"
      ],
      "metadata": {
        "colab": {
          "base_uri": "https://localhost:8080/",
          "height": 614
        },
        "id": "qmngOiMOorfU",
        "outputId": "b8d0de1d-4b1e-4666-8049-2448d81bebee"
      },
      "execution_count": null,
      "outputs": [
        {
          "output_type": "stream",
          "name": "stderr",
          "text": [
            "<ipython-input-44-c701ed5b91c4>:2: FutureWarning:\n",
            "\n",
            "\n",
            "\n",
            "Passing `palette` without assigning `hue` is deprecated and will be removed in v0.14.0. Assign the `x` variable to `hue` and set `legend=False` for the same effect.\n",
            "\n",
            "\n"
          ]
        },
        {
          "output_type": "display_data",
          "data": {
            "text/plain": [
              "<Figure size 640x480 with 1 Axes>"
            ],
            "image/png": "[encoded data removed]"
          },
          "metadata": {}
        }
      ]
    },
    {
      "cell_type": "code",
      "source": [
        "salario_por_idade = dados.groupby('IDADE')['SALARIO'].mean()"
      ],
      "metadata": {
        "id": "wDrkvX5NqDVI"
      },
      "execution_count": null,
      "outputs": []
    },
    {
      "cell_type": "code",
      "source": [
        "salario_por_idade"
      ],
      "metadata": {
        "colab": {
          "base_uri": "https://localhost:8080/",
          "height": 1000
        },
        "id": "St_C7CyGqPP8",
        "outputId": "fa054e3c-bb80-4777-973b-077699aed436"
      },
      "execution_count": null,
      "outputs": [
        {
          "output_type": "execute_result",
          "data": {
            "text/plain": [
              "IDADE\n",
              "18.000000     4230.307692\n",
              "19.000000     4519.590909\n",
              "20.000000     5004.272727\n",
              "20.205479     3536.000000\n",
              "21.000000     4578.737179\n",
              "22.000000     4394.689815\n",
              "23.000000     5602.406897\n",
              "24.000000     6151.622449\n",
              "25.000000     7616.392336\n",
              "26.000000     7700.071174\n",
              "27.000000     8237.429766\n",
              "28.000000     9737.938144\n",
              "29.000000    11076.339921\n",
              "30.000000    11715.945565\n",
              "31.000000    10094.285352\n",
              "31.153517     9646.330882\n",
              "32.000000    10843.197778\n",
              "33.000000    11723.547222\n",
              "34.000000    12294.640212\n",
              "35.000000    12552.811683\n",
              "36.000000    15073.571429\n",
              "37.000000    12813.631356\n",
              "38.000000    14089.649923\n",
              "39.000000    13774.019417\n",
              "40.000000    15666.156716\n",
              "41.000000    13578.880952\n",
              "42.000000    11801.037037\n",
              "43.000000    14783.931373\n",
              "44.000000    15119.011905\n",
              "45.000000    16883.560976\n",
              "46.000000    11913.709677\n",
              "47.000000    11156.031250\n",
              "48.000000    12249.714286\n",
              "49.000000    18150.882353\n",
              "50.000000    16193.014706\n",
              "51.000000     8977.900000\n",
              "52.000000    11779.475000\n",
              "53.000000     9850.000000\n",
              "54.000000    14945.076923\n",
              "Name: SALARIO, dtype: float64"
            ],
            "text/html": [
              "<div>\n",
              "<style scoped>\n",
              "    .dataframe tbody tr th:only-of-type {\n",
              "        vertical-align: middle;\n",
              "    }\n",
              "\n",
              "    .dataframe tbody tr th {\n",
              "        vertical-align: top;\n",
              "    }\n",
              "\n",
              "    .dataframe thead th {\n",
              "        text-align: right;\n",
              "    }\n",
              "</style>\n",
              "<table border=\"1\" class=\"dataframe\">\n",
              "  <thead>\n",
              "    <tr style=\"text-align: right;\">\n",
              "      <th></th>\n",
              "      <th>SALARIO</th>\n",
              "    </tr>\n",
              "    <tr>\n",
              "      <th>IDADE</th>\n",
              "      <th></th>\n",
              "    </tr>\n",
              "  </thead>\n",
              "  <tbody>\n",
              "    <tr>\n",
              "      <th>18.000000</th>\n",
              "      <td>4230.307692</td>\n",
              "    </tr>\n",
              "    <tr>\n",
              "      <th>19.000000</th>\n",
              "      <td>4519.590909</td>\n",
              "    </tr>\n",
              "    <tr>\n",
              "      <th>20.000000</th>\n",
              "      <td>5004.272727</td>\n",
              "    </tr>\n",
              "    <tr>\n",
              "      <th>20.205479</th>\n",
              "      <td>3536.000000</td>\n",
              "    </tr>\n",
              "    <tr>\n",
              "      <th>21.000000</th>\n",
              "      <td>4578.737179</td>\n",
              "    </tr>\n",
              "    <tr>\n",
              "      <th>22.000000</th>\n",
              "      <td>4394.689815</td>\n",
              "    </tr>\n",
              "    <tr>\n",
              "      <th>23.000000</th>\n",
              "      <td>5602.406897</td>\n",
              "    </tr>\n",
              "    <tr>\n",
              "      <th>24.000000</th>\n",
              "      <td>6151.622449</td>\n",
              "    </tr>\n",
              "    <tr>\n",
              "      <th>25.000000</th>\n",
              "      <td>7616.392336</td>\n",
              "    </tr>\n",
              "    <tr>\n",
              "      <th>26.000000</th>\n",
              "      <td>7700.071174</td>\n",
              "    </tr>\n",
              "    <tr>\n",
              "      <th>27.000000</th>\n",
              "      <td>8237.429766</td>\n",
              "    </tr>\n",
              "    <tr>\n",
              "      <th>28.000000</th>\n",
              "      <td>9737.938144</td>\n",
              "    </tr>\n",
              "    <tr>\n",
              "      <th>29.000000</th>\n",
              "      <td>11076.339921</td>\n",
              "    </tr>\n",
              "    <tr>\n",
              "      <th>30.000000</th>\n",
              "      <td>11715.945565</td>\n",
              "    </tr>\n",
              "    <tr>\n",
              "      <th>31.000000</th>\n",
              "      <td>10094.285352</td>\n",
              "    </tr>\n",
              "    <tr>\n",
              "      <th>31.153517</th>\n",
              "      <td>9646.330882</td>\n",
              "    </tr>\n",
              "    <tr>\n",
              "      <th>32.000000</th>\n",
              "      <td>10843.197778</td>\n",
              "    </tr>\n",
              "    <tr>\n",
              "      <th>33.000000</th>\n",
              "      <td>11723.547222</td>\n",
              "    </tr>\n",
              "    <tr>\n",
              "      <th>34.000000</th>\n",
              "      <td>12294.640212</td>\n",
              "    </tr>\n",
              "    <tr>\n",
              "      <th>35.000000</th>\n",
              "      <td>12552.811683</td>\n",
              "    </tr>\n",
              "    <tr>\n",
              "      <th>36.000000</th>\n",
              "      <td>15073.571429</td>\n",
              "    </tr>\n",
              "    <tr>\n",
              "      <th>37.000000</th>\n",
              "      <td>12813.631356</td>\n",
              "    </tr>\n",
              "    <tr>\n",
              "      <th>38.000000</th>\n",
              "      <td>14089.649923</td>\n",
              "    </tr>\n",
              "    <tr>\n",
              "      <th>39.000000</th>\n",
              "      <td>13774.019417</td>\n",
              "    </tr>\n",
              "    <tr>\n",
              "      <th>40.000000</th>\n",
              "      <td>15666.156716</td>\n",
              "    </tr>\n",
              "    <tr>\n",
              "      <th>41.000000</th>\n",
              "      <td>13578.880952</td>\n",
              "    </tr>\n",
              "    <tr>\n",
              "      <th>42.000000</th>\n",
              "      <td>11801.037037</td>\n",
              "    </tr>\n",
              "    <tr>\n",
              "      <th>43.000000</th>\n",
              "      <td>14783.931373</td>\n",
              "    </tr>\n",
              "    <tr>\n",
              "      <th>44.000000</th>\n",
              "      <td>15119.011905</td>\n",
              "    </tr>\n",
              "    <tr>\n",
              "      <th>45.000000</th>\n",
              "      <td>16883.560976</td>\n",
              "    </tr>\n",
              "    <tr>\n",
              "      <th>46.000000</th>\n",
              "      <td>11913.709677</td>\n",
              "    </tr>\n",
              "    <tr>\n",
              "      <th>47.000000</th>\n",
              "      <td>11156.031250</td>\n",
              "    </tr>\n",
              "    <tr>\n",
              "      <th>48.000000</th>\n",
              "      <td>12249.714286</td>\n",
              "    </tr>\n",
              "    <tr>\n",
              "      <th>49.000000</th>\n",
              "      <td>18150.882353</td>\n",
              "    </tr>\n",
              "    <tr>\n",
              "      <th>50.000000</th>\n",
              "      <td>16193.014706</td>\n",
              "    </tr>\n",
              "    <tr>\n",
              "      <th>51.000000</th>\n",
              "      <td>8977.900000</td>\n",
              "    </tr>\n",
              "    <tr>\n",
              "      <th>52.000000</th>\n",
              "      <td>11779.475000</td>\n",
              "    </tr>\n",
              "    <tr>\n",
              "      <th>53.000000</th>\n",
              "      <td>9850.000000</td>\n",
              "    </tr>\n",
              "    <tr>\n",
              "      <th>54.000000</th>\n",
              "      <td>14945.076923</td>\n",
              "    </tr>\n",
              "  </tbody>\n",
              "</table>\n",
              "</div><br><label><b>dtype:</b> float64</label>"
            ]
          },
          "metadata": {},
          "execution_count": 46
        }
      ]
    },
    {
      "cell_type": "code",
      "source": [
        "plt.figure()\n",
        "plt.plot(salario_por_idade.index, salario_por_idade.values,marker='o',linestyle='--')\n",
        "plt.xlabel('Idade')\n",
        "plt.ylabel('Média de Salário')\n",
        "plt.title('Media de salário por idade')\n",
        "plt.grid(True)\n",
        "plt.show()\n"
      ],
      "metadata": {
        "colab": {
          "base_uri": "https://localhost:8080/",
          "height": 472
        },
        "id": "ae2u9iHHqZ3c",
        "outputId": "1efb99a2-8f96-4581-f4d5-391b62e1f84f"
      },
      "execution_count": null,
      "outputs": [
        {
          "output_type": "display_data",
          "data": {
            "text/plain": [
              "<Figure size 640x480 with 1 Axes>"
            ],
            "image/png": "[encoded data removed]"
          },
          "metadata": {}
        }
      ]
    },
    {
      "cell_type": "code",
      "source": [
        "import plotly.express as px"
      ],
      "metadata": {
        "id": "U29o5D7brpSk"
      },
      "execution_count": null,
      "outputs": []
    },
    {
      "cell_type": "code",
      "source": [
        "fig = px.line(salario_por_idade.reset_index(), x='IDADE', y='SALARIO', title='Média de salário por idade',markers= True)\n",
        "fig.show()"
      ],
      "metadata": {
        "colab": {
          "base_uri": "https://localhost:8080/",
          "height": 542
        },
        "id": "26D8So8trvVG",
        "outputId": "0391649d-d1af-4a1f-ef0b-7f612af71cb4"
      },
      "execution_count": null,
      "outputs": [
        {
          "output_type": "display_data",
          "data": {
            "text/html": [
              "<html>\n",
              "<head><meta charset=\"utf-8\" /></head>\n",
              "<body>\n",
              "    <div>            <script src=\"https://cdnjs.cloudflare.com/ajax/libs/mathjax/2.7.5/MathJax.js?config=TeX-AMS-MML_SVG\"></script><script type=\"text/javascript\">if (window.MathJax && window.MathJax.Hub && window.MathJax.Hub.Config) {window.MathJax.Hub.Config({SVG: {font: \"STIX-Web\"}});}</script>                <script type=\"text/javascript\">window.PlotlyConfig = {MathJaxConfig: 'local'};</script>\n",
              "        <script charset=\"utf-8\" src=\"https://cdn.plot.ly/plotly-2.24.1.min.js\"></script>                <div id=\"147caaaf-7494-4ddb-9cc9-9dadd3eb67dc\" class=\"plotly-graph-div\" style=\"height:525px; width:100%;\"></div>            <script type=\"text/javascript\">                                    window.PLOTLYENV=window.PLOTLYENV || {};                                    if (document.getElementById(\"147caaaf-7494-4ddb-9cc9-9dadd3eb67dc\")) {                    Plotly.newPlot(                        \"147caaaf-7494-4ddb-9cc9-9dadd3eb67dc\",                        [{\"hovertemplate\":\"IDADE=%{x}\\u003cbr\\u003eSALARIO=%{y}\\u003cextra\\u003e\\u003c\\u002fextra\\u003e\",\"legendgroup\":\"\",\"line\":{\"color\":\"#636efa\",\"dash\":\"solid\"},\"marker\":{\"symbol\":\"circle\"},\"mode\":\"markers+lines\",\"name\":\"\",\"orientation\":\"v\",\"showlegend\":false,\"x\":[18.0,19.0,20.0,20.2054794520548,21.0,22.0,23.0,24.0,25.0,26.0,27.0,28.0,29.0,30.0,31.0,31.15351722025037,32.0,33.0,34.0,35.0,36.0,37.0,38.0,39.0,40.0,41.0,42.0,43.0,44.0,45.0,46.0,47.0,48.0,49.0,50.0,51.0,52.0,53.0,54.0],\"xaxis\":\"x\",\"y\":[4230.307692307692,4519.590909090909,5004.272727272727,3536.0,4578.73717948718,4394.689814814815,5602.4068965517245,6151.622448979592,7616.3923357664235,7700.071174377224,8237.429765886287,9737.938144329897,11076.339920948616,11715.945564516129,10094.285351896644,9646.33088235294,10843.197777777777,11723.547222222222,12294.640211640211,12552.811682964488,15073.57142857143,12813.631355932202,14089.649923459623,13774.019417475729,15666.15671641791,13578.880952380952,11801.037037037036,14783.93137254902,15119.011904761905,16883.560975609755,11913.709677419354,11156.03125,12249.714285714286,18150.882352941175,16193.014705882353,8977.9,11779.475,9850.0,14945.076923076924],\"yaxis\":\"y\",\"type\":\"scatter\"}],                        {\"template\":{\"data\":{\"histogram2dcontour\":[{\"type\":\"histogram2dcontour\",\"colorbar\":{\"outlinewidth\":0,\"ticks\":\"\"},\"colorscale\":[[0.0,\"#0d0887\"],[0.1111111111111111,\"#46039f\"],[0.2222222222222222,\"#7201a8\"],[0.3333333333333333,\"#9c179e\"],[0.4444444444444444,\"#bd3786\"],[0.5555555555555556,\"#d8576b\"],[0.6666666666666666,\"#ed7953\"],[0.7777777777777778,\"#fb9f3a\"],[0.8888888888888888,\"#fdca26\"],[1.0,\"#f0f921\"]]}],\"choropleth\":[{\"type\":\"choropleth\",\"colorbar\":{\"outlinewidth\":0,\"ticks\":\"\"}}],\"histogram2d\":[{\"type\":\"histogram2d\",\"colorbar\":{\"outlinewidth\":0,\"ticks\":\"\"},\"colorscale\":[[0.0,\"#0d0887\"],[0.1111111111111111,\"#46039f\"],[0.2222222222222222,\"#7201a8\"],[0.3333333333333333,\"#9c179e\"],[0.4444444444444444,\"#bd3786\"],[0.5555555555555556,\"#d8576b\"],[0.6666666666666666,\"#ed7953\"],[0.7777777777777778,\"#fb9f3a\"],[0.8888888888888888,\"#fdca26\"],[1.0,\"#f0f921\"]]}],\"heatmap\":[{\"type\":\"heatmap\",\"colorbar\":{\"outlinewidth\":0,\"ticks\":\"\"},\"colorscale\":[[0.0,\"#0d0887\"],[0.1111111111111111,\"#46039f\"],[0.2222222222222222,\"#7201a8\"],[0.3333333333333333,\"#9c179e\"],[0.4444444444444444,\"#bd3786\"],[0.5555555555555556,\"#d8576b\"],[0.6666666666666666,\"#ed7953\"],[0.7777777777777778,\"#fb9f3a\"],[0.8888888888888888,\"#fdca26\"],[1.0,\"#f0f921\"]]}],\"heatmapgl\":[{\"type\":\"heatmapgl\",\"colorbar\":{\"outlinewidth\":0,\"ticks\":\"\"},\"colorscale\":[[0.0,\"#0d0887\"],[0.1111111111111111,\"#46039f\"],[0.2222222222222222,\"#7201a8\"],[0.3333333333333333,\"#9c179e\"],[0.4444444444444444,\"#bd3786\"],[0.5555555555555556,\"#d8576b\"],[0.6666666666666666,\"#ed7953\"],[0.7777777777777778,\"#fb9f3a\"],[0.8888888888888888,\"#fdca26\"],[1.0,\"#f0f921\"]]}],\"contourcarpet\":[{\"type\":\"contourcarpet\",\"colorbar\":{\"outlinewidth\":0,\"ticks\":\"\"}}],\"contour\":[{\"type\":\"contour\",\"colorbar\":{\"outlinewidth\":0,\"ticks\":\"\"},\"colorscale\":[[0.0,\"#0d0887\"],[0.1111111111111111,\"#46039f\"],[0.2222222222222222,\"#7201a8\"],[0.3333333333333333,\"#9c179e\"],[0.4444444444444444,\"#bd3786\"],[0.5555555555555556,\"#d8576b\"],[0.6666666666666666,\"#ed7953\"],[0.7777777777777778,\"#fb9f3a\"],[0.8888888888888888,\"#fdca26\"],[1.0,\"#f0f921\"]]}],\"surface\":[{\"type\":\"surface\",\"colorbar\":{\"outlinewidth\":0,\"ticks\":\"\"},\"colorscale\":[[0.0,\"#0d0887\"],[0.1111111111111111,\"#46039f\"],[0.2222222222222222,\"#7201a8\"],[0.3333333333333333,\"#9c179e\"],[0.4444444444444444,\"#bd3786\"],[0.5555555555555556,\"#d8576b\"],[0.6666666666666666,\"#ed7953\"],[0.7777777777777778,\"#fb9f3a\"],[0.8888888888888888,\"#fdca26\"],[1.0,\"#f0f921\"]]}],\"mesh3d\":[{\"type\":\"mesh3d\",\"colorbar\":{\"outlinewidth\":0,\"ticks\":\"\"}}],\"scatter\":[{\"fillpattern\":{\"fillmode\":\"overlay\",\"size\":10,\"solidity\":0.2},\"type\":\"scatter\"}],\"parcoords\":[{\"type\":\"parcoords\",\"line\":{\"colorbar\":{\"outlinewidth\":0,\"ticks\":\"\"}}}],\"scatterpolargl\":[{\"type\":\"scatterpolargl\",\"marker\":{\"colorbar\":{\"outlinewidth\":0,\"ticks\":\"\"}}}],\"bar\":[{\"error_x\":{\"color\":\"#2a3f5f\"},\"error_y\":{\"color\":\"#2a3f5f\"},\"marker\":{\"line\":{\"color\":\"#E5ECF6\",\"width\":0.5},\"pattern\":{\"fillmode\":\"overlay\",\"size\":10,\"solidity\":0.2}},\"type\":\"bar\"}],\"scattergeo\":[{\"type\":\"scattergeo\",\"marker\":{\"colorbar\":{\"outlinewidth\":0,\"ticks\":\"\"}}}],\"scatterpolar\":[{\"type\":\"scatterpolar\",\"marker\":{\"colorbar\":{\"outlinewidth\":0,\"ticks\":\"\"}}}],\"histogram\":[{\"marker\":{\"pattern\":{\"fillmode\":\"overlay\",\"size\":10,\"solidity\":0.2}},\"type\":\"histogram\"}],\"scattergl\":[{\"type\":\"scattergl\",\"marker\":{\"colorbar\":{\"outlinewidth\":0,\"ticks\":\"\"}}}],\"scatter3d\":[{\"type\":\"scatter3d\",\"line\":{\"colorbar\":{\"outlinewidth\":0,\"ticks\":\"\"}},\"marker\":{\"colorbar\":{\"outlinewidth\":0,\"ticks\":\"\"}}}],\"scattermapbox\":[{\"type\":\"scattermapbox\",\"marker\":{\"colorbar\":{\"outlinewidth\":0,\"ticks\":\"\"}}}],\"scatterternary\":[{\"type\":\"scatterternary\",\"marker\":{\"colorbar\":{\"outlinewidth\":0,\"ticks\":\"\"}}}],\"scattercarpet\":[{\"type\":\"scattercarpet\",\"marker\":{\"colorbar\":{\"outlinewidth\":0,\"ticks\":\"\"}}}],\"carpet\":[{\"aaxis\":{\"endlinecolor\":\"#2a3f5f\",\"gridcolor\":\"white\",\"linecolor\":\"white\",\"minorgridcolor\":\"white\",\"startlinecolor\":\"#2a3f5f\"},\"baxis\":{\"endlinecolor\":\"#2a3f5f\",\"gridcolor\":\"white\",\"linecolor\":\"white\",\"minorgridcolor\":\"white\",\"startlinecolor\":\"#2a3f5f\"},\"type\":\"carpet\"}],\"table\":[{\"cells\":{\"fill\":{\"color\":\"#EBF0F8\"},\"line\":{\"color\":\"white\"}},\"header\":{\"fill\":{\"color\":\"#C8D4E3\"},\"line\":{\"color\":\"white\"}},\"type\":\"table\"}],\"barpolar\":[{\"marker\":{\"line\":{\"color\":\"#E5ECF6\",\"width\":0.5},\"pattern\":{\"fillmode\":\"overlay\",\"size\":10,\"solidity\":0.2}},\"type\":\"barpolar\"}],\"pie\":[{\"automargin\":true,\"type\":\"pie\"}]},\"layout\":{\"autotypenumbers\":\"strict\",\"colorway\":[\"#636efa\",\"#EF553B\",\"#00cc96\",\"#ab63fa\",\"#FFA15A\",\"#19d3f3\",\"#FF6692\",\"#B6E880\",\"#FF97FF\",\"#FECB52\"],\"font\":{\"color\":\"#2a3f5f\"},\"hovermode\":\"closest\",\"hoverlabel\":{\"align\":\"left\"},\"paper_bgcolor\":\"white\",\"plot_bgcolor\":\"#E5ECF6\",\"polar\":{\"bgcolor\":\"#E5ECF6\",\"angularaxis\":{\"gridcolor\":\"white\",\"linecolor\":\"white\",\"ticks\":\"\"},\"radialaxis\":{\"gridcolor\":\"white\",\"linecolor\":\"white\",\"ticks\":\"\"}},\"ternary\":{\"bgcolor\":\"#E5ECF6\",\"aaxis\":{\"gridcolor\":\"white\",\"linecolor\":\"white\",\"ticks\":\"\"},\"baxis\":{\"gridcolor\":\"white\",\"linecolor\":\"white\",\"ticks\":\"\"},\"caxis\":{\"gridcolor\":\"white\",\"linecolor\":\"white\",\"ticks\":\"\"}},\"coloraxis\":{\"colorbar\":{\"outlinewidth\":0,\"ticks\":\"\"}},\"colorscale\":{\"sequential\":[[0.0,\"#0d0887\"],[0.1111111111111111,\"#46039f\"],[0.2222222222222222,\"#7201a8\"],[0.3333333333333333,\"#9c179e\"],[0.4444444444444444,\"#bd3786\"],[0.5555555555555556,\"#d8576b\"],[0.6666666666666666,\"#ed7953\"],[0.7777777777777778,\"#fb9f3a\"],[0.8888888888888888,\"#fdca26\"],[1.0,\"#f0f921\"]],\"sequentialminus\":[[0.0,\"#0d0887\"],[0.1111111111111111,\"#46039f\"],[0.2222222222222222,\"#7201a8\"],[0.3333333333333333,\"#9c179e\"],[0.4444444444444444,\"#bd3786\"],[0.5555555555555556,\"#d8576b\"],[0.6666666666666666,\"#ed7953\"],[0.7777777777777778,\"#fb9f3a\"],[0.8888888888888888,\"#fdca26\"],[1.0,\"#f0f921\"]],\"diverging\":[[0,\"#8e0152\"],[0.1,\"#c51b7d\"],[0.2,\"#de77ae\"],[0.3,\"#f1b6da\"],[0.4,\"#fde0ef\"],[0.5,\"#f7f7f7\"],[0.6,\"#e6f5d0\"],[0.7,\"#b8e186\"],[0.8,\"#7fbc41\"],[0.9,\"#4d9221\"],[1,\"#276419\"]]},\"xaxis\":{\"gridcolor\":\"white\",\"linecolor\":\"white\",\"ticks\":\"\",\"title\":{\"standoff\":15},\"zerolinecolor\":\"white\",\"automargin\":true,\"zerolinewidth\":2},\"yaxis\":{\"gridcolor\":\"white\",\"linecolor\":\"white\",\"ticks\":\"\",\"title\":{\"standoff\":15},\"zerolinecolor\":\"white\",\"automargin\":true,\"zerolinewidth\":2},\"scene\":{\"xaxis\":{\"backgroundcolor\":\"#E5ECF6\",\"gridcolor\":\"white\",\"linecolor\":\"white\",\"showbackground\":true,\"ticks\":\"\",\"zerolinecolor\":\"white\",\"gridwidth\":2},\"yaxis\":{\"backgroundcolor\":\"#E5ECF6\",\"gridcolor\":\"white\",\"linecolor\":\"white\",\"showbackground\":true,\"ticks\":\"\",\"zerolinecolor\":\"white\",\"gridwidth\":2},\"zaxis\":{\"backgroundcolor\":\"#E5ECF6\",\"gridcolor\":\"white\",\"linecolor\":\"white\",\"showbackground\":true,\"ticks\":\"\",\"zerolinecolor\":\"white\",\"gridwidth\":2}},\"shapedefaults\":{\"line\":{\"color\":\"#2a3f5f\"}},\"annotationdefaults\":{\"arrowcolor\":\"#2a3f5f\",\"arrowhead\":0,\"arrowwidth\":1},\"geo\":{\"bgcolor\":\"white\",\"landcolor\":\"#E5ECF6\",\"subunitcolor\":\"white\",\"showland\":true,\"showlakes\":true,\"lakecolor\":\"white\"},\"title\":{\"x\":0.05},\"mapbox\":{\"style\":\"light\"}}},\"xaxis\":{\"anchor\":\"y\",\"domain\":[0.0,1.0],\"title\":{\"text\":\"IDADE\"}},\"yaxis\":{\"anchor\":\"x\",\"domain\":[0.0,1.0],\"title\":{\"text\":\"SALARIO\"}},\"legend\":{\"tracegroupgap\":0},\"title\":{\"text\":\"M\\u00e9dia de sal\\u00e1rio por idade\"}},                        {\"responsive\": true}                    ).then(function(){\n",
              "                            \n",
              "var gd = document.getElementById('147caaaf-7494-4ddb-9cc9-9dadd3eb67dc');\n",
              "var x = new MutationObserver(function (mutations, observer) {{\n",
              "        var display = window.getComputedStyle(gd).display;\n",
              "        if (!display || display === 'none') {{\n",
              "            console.log([gd, 'removed!']);\n",
              "            Plotly.purge(gd);\n",
              "            observer.disconnect();\n",
              "        }}\n",
              "}});\n",
              "\n",
              "// Listen for the removal of the full notebook cells\n",
              "var notebookContainer = gd.closest('#notebook-container');\n",
              "if (notebookContainer) {{\n",
              "    x.observe(notebookContainer, {childList: true});\n",
              "}}\n",
              "\n",
              "// Listen for the clearing of the current output cell\n",
              "var outputEl = gd.closest('.output');\n",
              "if (outputEl) {{\n",
              "    x.observe(outputEl, {childList: true});\n",
              "}}\n",
              "\n",
              "                        })                };                            </script>        </div>\n",
              "</body>\n",
              "</html>"
            ]
          },
          "metadata": {}
        }
      ]
    },
    {
      "cell_type": "code",
      "source": [
        "plt.figure(figsize=(15,5))\n",
        "plt.scatter(dados['IDADE'], dados['SALARIO'], alpha=0.5)\n",
        "plt.xlabel('Idade')\n",
        "plt.ylabel('Salário')\n",
        "plt.title('Despersão de salário por idade')\n",
        "plt.grid(True)\n",
        "plt.show()"
      ],
      "metadata": {
        "colab": {
          "base_uri": "https://localhost:8080/",
          "height": 479
        },
        "id": "JwRSoJwcsswU",
        "outputId": "2d7f6f4f-3d4f-44f5-b6d4-a8432e3abb9a"
      },
      "execution_count": null,
      "outputs": [
        {
          "output_type": "display_data",
          "data": {
            "text/plain": [
              "<Figure size 1500x500 with 1 Axes>"
            ],
            "image/png": "[encoded data removed]"
          },
          "metadata": {}
        }
      ]
    },
    {
      "cell_type": "code",
      "source": [
        "fig = px.scatter(dados, x='IDADE', y='SALARIO', title='Despersão de salário por idade')\n",
        "fig.show()"
      ],
      "metadata": {
        "colab": {
          "base_uri": "https://localhost:8080/",
          "height": 542
        },
        "id": "6jsu2AryttRM",
        "outputId": "b5924390-b864-42c8-f4fc-5ec14ce90b96"
      },
      "execution_count": null,
      "outputs": [
        {
          "output_type": "display_data",
          "data": {
            "text/html": [
              "<html>\n",
              "<head><meta charset=\"utf-8\" /></head>\n",
              "<body>\n",
              "    <div>            <script src=\"https://cdnjs.cloudflare.com/ajax/libs/mathjax/2.7.5/MathJax.js?config=TeX-AMS-MML_SVG\"></script><script type=\"text/javascript\">if (window.MathJax && window.MathJax.Hub && window.MathJax.Hub.Config) {window.MathJax.Hub.Config({SVG: {font: \"STIX-Web\"}});}</script>                <script type=\"text/javascript\">window.PlotlyConfig = {MathJaxConfig: 'local'};</script>\n",
              "        <script charset=\"utf-8\" src=\"https://cdn.plot.ly/plotly-2.24.1.min.js\"></script>                <div id=\"1a8e0877-9e9b-4a1b-bab7-2b2bcf364f31\" class=\"plotly-graph-div\" style=\"height:525px; width:100%;\"></div>            <script type=\"text/javascript\">                                    window.PLOTLYENV=window.PLOTLYENV || {};                                    if (document.getElementById(\"1a8e0877-9e9b-4a1b-bab7-2b2bcf364f31\")) {                    Plotly.newPlot(                        \"1a8e0877-9e9b-4a1b-bab7-2b2bcf364f31\",                        [{\"hovertemplate\":\"IDADE=%{x}\\u003cbr\\u003eSALARIO=%{y}\\u003cextra\\u003e\\u003c\\u002fextra\\u003e\",\"legendgroup\":\"\",\"marker\":{\"color\":\"#636efa\",\"symbol\":\"circle\"},\"mode\":\"markers\",\"name\":\"\",\"showlegend\":false,\"x\":[39.0,32.0,53.0,27.0,46.0,32.0,21.0,31.0,33.0,31.15351722025037,25.0,33.0,31.0,24.0,35.0,28.0,31.0,29.0,28.0,26.0,37.0,33.0,26.0,46.0,34.0,27.0,25.0,27.0,24.0,25.0,26.0,27.0,29.0,33.0,24.0,25.0,27.0,26.0,31.0,32.0,40.0,29.0,35.0,32.0,18.0,29.0,24.0,24.0,46.0,29.0,30.0,37.0,28.0,40.0,28.0,30.0,34.0,33.0,28.0,34.0,31.0,30.0,39.0,26.0,39.0,31.0,31.15351722025037,38.0,48.0,28.0,27.0,26.0,33.0,28.0,39.0,31.0,25.0,43.0,35.0,44.0,31.0,43.0,34.0,32.0,48.0,29.0,33.0,33.0,26.0,50.0,28.0,22.0,31.0,37.0,30.0,36.0,31.15351722025037,40.0,51.0,27.0,29.0,32.0,29.0,24.0,31.0,26.0,31.0,44.0,28.0,33.0,39.0,25.0,28.0,31.0,20.0,25.0,24.0,30.0,27.0,26.0,22.0,31.15351722025037,32.0,37.0,31.0,27.0,31.0,27.0,33.0,23.0,22.0,42.0,25.0,26.0,34.0,36.0,21.0,29.0,29.0,27.0,25.0,30.0,25.0,29.0,24.0,24.0,31.0,36.0,31.0,33.0,47.0,22.0,26.0,26.0,39.0,30.0,31.15351722025037,31.0,41.0,37.0,26.0,32.0,31.15351722025037,28.0,24.0,32.0,34.0,44.0,26.0,31.0,34.0,41.0,31.0,39.0,29.0,36.0,22.0,28.0,29.0,31.0,26.0,32.0,25.0,33.0,33.0,29.0,25.0,33.0,24.0,34.0,32.0,46.0,34.0,42.0,21.0,32.0,36.0,39.0,41.0,31.0,35.0,29.0,26.0,24.0,29.0,21.0,33.0,29.0,30.0,32.0,26.0,34.0,34.0,20.0,22.0,45.0,24.0,26.0,26.0,27.0,34.0,31.0,50.0,27.0,34.0,23.0,45.0,33.0,21.0,30.0,26.0,35.0,27.0,31.0,30.0,40.0,24.0,32.0,31.0,34.0,22.0,29.0,36.0,44.0,22.0,29.0,18.0,30.0,28.0,26.0,27.0,24.0,31.0,24.0,31.0,33.0,21.0,30.0,30.0,33.0,34.0,27.0,26.0,28.0,31.0,33.0,37.0,28.0,50.0,31.0,25.0,30.0,33.0,36.0,31.15351722025037,22.0,25.0,42.0,27.0,26.0,30.0,24.0,29.0,26.0,29.0,37.0,31.0,29.0,25.0,27.0,29.0,42.0,32.0,45.0,38.0,41.0,26.0,31.15351722025037,28.0,23.0,25.0,38.0,32.0,35.0,24.0,25.0,32.0,33.0,24.0,28.0,24.0,31.0,34.0,38.0,43.0,50.0,22.0,33.0,26.0,28.0,38.0,45.0,32.0,22.0,30.0,31.0,31.0,34.0,25.0,32.0,35.0,36.0,34.0,36.0,35.0,54.0,37.0,44.0,40.0,25.0,23.0,38.0,31.0,29.0,38.0,41.0,32.0,30.0,22.0,26.0,25.0,32.0,29.0,32.0,41.0,25.0,28.0,25.0,37.0,35.0,29.0,22.0,25.0,32.0,35.0,29.0,34.0,31.0,45.0,34.0,27.0,25.0,26.0,23.0,26.0,49.0,49.0,49.0,49.0,49.0,49.0,49.0,49.0,49.0,49.0,49.0,49.0,49.0,49.0,49.0,49.0,37.0,35.0,37.0,39.0,21.0,32.0,46.0,31.15351722025037,26.0,41.0,45.0,32.0,36.0,26.0,22.0,28.0,29.0,35.0,25.0,32.0,48.0,33.0,35.0,27.0,37.0,32.0,38.0,54.0,39.0,43.0,35.0,31.0,23.0,41.0,23.0,37.0,54.0,31.0,29.0,27.0,35.0,22.0,20.0,45.0,33.0,39.0,27.0,28.0,31.15351722025037,26.0,31.15351722025037,26.0,27.0,27.0,49.0,52.0,34.0,40.0,32.0,28.0,39.0,33.0,47.0,46.0,25.0,26.0,45.0,22.0,31.0,44.0,27.0,30.0,37.0,29.0,20.0,26.0,37.0,18.0,30.0,29.0,37.0,32.0,27.0,37.0,27.0,42.0,32.0,28.0,28.0,29.0,29.0,39.0,22.0,30.0,30.0,32.0,30.0,29.0,28.0,42.0,31.15351722025037,29.0,35.0,35.0,28.0,27.0,26.0,22.0,32.0,31.0,26.0,32.0,38.0,31.0,34.0,43.0,24.0,22.0,29.0,32.0,39.0,34.0,26.0,28.0,34.0,29.0,23.0,31.0,26.0,29.0,52.0,22.0,29.0,30.0,24.0,21.0,44.0,39.0,25.0,26.0,23.0,30.0,40.0,21.0,34.0,31.0,25.0,30.0,44.0,30.0,30.0,36.0,39.0,28.0,34.0,39.0,27.0,33.0,34.0,37.0,23.0,29.0,32.0,24.0,35.0,23.0,25.0,36.0,36.0,28.0,29.0,31.0,26.0,36.0,27.0,32.0,31.0,31.0,41.0,31.0,27.0,32.0,27.0,23.0,31.0,29.0,32.0,25.0,31.0,25.0,37.0,32.0,23.0,25.0,52.0,30.0,29.0,23.0,29.0,31.15351722025037,27.0,51.0,46.0,31.0,35.0,25.0,36.0,33.0,25.0,19.0,43.0,24.0,23.0,43.0,36.0,30.0,38.0,36.0,25.0,24.0,22.0,44.0,48.0,37.0,48.0,33.0,40.0,34.0,28.0,25.0,26.0,32.0,54.0,43.0,32.0,29.0,36.0,35.0,34.0,34.0,21.0,25.0,23.0,20.0,49.0,30.0,27.0,36.0,28.0,26.0,24.0,36.0,32.0,28.0,34.0,44.0,43.0,36.0,30.0,42.0,31.0,27.0,39.0,37.0,39.0,21.0,42.0,30.0,46.0,28.0,27.0,42.0,25.0,32.0,30.0,25.0,48.0,28.0,35.0,43.0,26.0,25.0,27.0,39.0,26.0,32.0,34.0,25.0,34.0,30.0,31.0,25.0,28.0,25.0,36.0,35.0,29.0,40.0,38.0,46.0,26.0,35.0,31.15351722025037,28.0,40.0,26.0,28.0,32.0,30.0,34.0,26.0,36.0,24.0,36.0,34.0,43.0,28.0,31.0,26.0,37.0,43.0,32.0,31.15351722025037,25.0,24.0,36.0,24.0,45.0,25.0,28.0,26.0,47.0,29.0,19.0,39.0,30.0,23.0,47.0,32.0,38.0,31.0,24.0,24.0,33.0,21.0,31.0,29.0,42.0,32.0,21.0,29.0,31.0,32.0,22.0,30.0,26.0,32.0,32.0,50.0,24.0,36.0,26.0,26.0,24.0,26.0,32.0,25.0,24.0,27.0,35.0,23.0,28.0,30.0,27.0,47.0,34.0,27.0,27.0,31.0,44.0,29.0,30.0,32.0,24.0,50.0,28.0,24.0,25.0,32.0,25.0,27.0,29.0,27.0,28.0,30.0,25.0,44.0,30.0,29.0,28.0,41.0,29.0,47.0,48.0,30.0,54.0,36.0,33.0,26.0,35.0,22.0,23.0,24.0,29.0,30.0,26.0,29.0,36.0,33.0,29.0,35.0,30.0,40.0,27.0,35.0,50.0,36.0,31.0,33.0,29.0,26.0,36.0,37.0,24.0,42.0,24.0,26.0,39.0,31.0,25.0,34.0,31.0,28.0,29.0,52.0,24.0,36.0,38.0,34.0,23.0,31.15351722025037,30.0,31.0,26.0,30.0,24.0,35.0,25.0,28.0,26.0,25.0,32.0,33.0,27.0,23.0,27.0,19.0,31.0,29.0,43.0,40.0,28.0,27.0,34.0,32.0,27.0,30.0,32.0,20.0,32.0,28.0,24.0,34.0,34.0,31.15351722025037,27.0,32.0,45.0,26.0,33.0,19.0,43.0,37.0,32.0,39.0,31.0,23.0,32.0,33.0,23.0,23.0,25.0,52.0,42.0,23.0,28.0,28.0,33.0,24.0,31.0,23.0,28.0,31.15351722025037,22.0,41.0,28.0,24.0,24.0,30.0,45.0,42.0,24.0,29.0,25.0,24.0,30.0,35.0,30.0,30.0,26.0,36.0,36.0,33.0,27.0,30.0,23.0,35.0,43.0,27.0,31.0,46.0,34.0,24.0,35.0,34.0,21.0,27.0,22.0,42.0,28.0,25.0,33.0,26.0,23.0,31.15351722025037,30.0,26.0,29.0,31.0,26.0,29.0,38.0,29.0,39.0,34.0,32.0,21.0,31.0,37.0,32.0,26.0,37.0,42.0,36.0,25.0,28.0,37.0,31.0,37.0,26.0,33.0,29.0,41.0,28.0,29.0,21.0,30.0,24.0,32.0,32.0,29.0,43.0,21.0,31.0,26.0,21.0,31.0,33.0,30.0,38.0,34.0,32.0,31.0,42.0,28.0,26.0,28.0,27.0,26.0,24.0,26.0,31.0,24.0,42.0,31.0,27.0,25.0,50.0,37.0,36.0,33.0,31.0,49.0,28.0,31.0,32.0,29.0,27.0,32.0,35.0,25.0,25.0,28.0,29.0,36.0,25.0,34.0,25.0,30.0,30.0,32.0,23.0,37.0,32.0,29.0,26.0,38.0,27.0,28.0,29.0,30.0,32.0,28.0,23.0,27.0,41.0,30.0,35.0,29.0,45.0,23.0,52.0,45.0,42.0,45.0,37.0,36.0,23.0,24.0,31.0,33.0,35.0,28.0,23.0,39.0,24.0,36.0,34.0,19.0,40.0,24.0,29.0,35.0,26.0,25.0,33.0,37.0,32.0,28.0,42.0,22.0,46.0,41.0,28.0,27.0,24.0,30.0,34.0,31.0,26.0,37.0,27.0,49.0,27.0,32.0,20.0,20.0,35.0,26.0,22.0,53.0,24.0,45.0,32.0,24.0,27.0,36.0,32.0,38.0,39.0,27.0,26.0,35.0,28.0,30.0,37.0,44.0,29.0,30.0,36.0,27.0,20.0,29.0,24.0,25.0,41.0,29.0,28.0,25.0,24.0,28.0,26.0,32.0,41.0,33.0,22.0,29.0,29.0,29.0,23.0,30.0,25.0,30.0,28.0,30.0,28.0,31.0,25.0,26.0,29.0,21.0,26.0,34.0,43.0,29.0,26.0,32.0,29.0,26.0,31.0,24.0,47.0,34.0,28.0,33.0,29.0,54.0,38.0,30.0,27.0,30.0,27.0,41.0,31.0,40.0,38.0,31.15351722025037,21.0,22.0,31.0,26.0,34.0,40.0,30.0,28.0,30.0,30.0,25.0,23.0,27.0,33.0,25.0,22.0,28.0,28.0,40.0,24.0,26.0,43.0,24.0,29.0,30.0,26.0,54.0,25.0,42.0,23.0,21.0,33.0,30.0,33.0,41.0,28.0,25.0,25.0,22.0,36.0,26.0,34.0,31.0,33.0,44.0,25.0,24.0,32.0,32.0,34.0,29.0,36.0,24.0,26.0,27.0,31.0,39.0,27.0,32.0,24.0,42.0,29.0,31.15351722025037,39.0,28.0,51.0,27.0,27.0,22.0,28.0,27.0,25.0,28.0,22.0,29.0,29.0,32.0,31.0,24.0,23.0,28.0,37.0,28.0,20.0,24.0,34.0,36.0,38.0,47.0,26.0,43.0,34.0,27.0,25.0,25.0,21.0,28.0,37.0,31.0,27.0,48.0,37.0,27.0,27.0,29.0,34.0,22.0,28.0,27.0,28.0,38.0,27.0,50.0,28.0,26.0,45.0,37.0,32.0,28.0,27.0,26.0,26.0,33.0,27.0,27.0,24.0,29.0,29.0,32.0,27.0,38.0,24.0,22.0,27.0,37.0,25.0,29.0,23.0,34.0,39.0,29.0,33.0,36.0,38.0,30.0,35.0,25.0,37.0,50.0,26.0,27.0,29.0,36.0,25.0,25.0,31.0,32.0,49.0,26.0,23.0,32.0,37.0,24.0,26.0,26.0,30.0,39.0,25.0,26.0,47.0,29.0,24.0,45.0,37.0,28.0,32.0,26.0,25.0,25.0,29.0,27.0,30.0,23.0,28.0,22.0,37.0,37.0,39.0,39.0,27.0,19.0,31.15351722025037,37.0,47.0,23.0,37.0,33.0,25.0,34.0,42.0,20.0,34.0,38.0,24.0,28.0,39.0,21.0,26.0,40.0,30.0,28.0,26.0,24.0,23.0,32.0,27.0,27.0,28.0,25.0,28.0,24.0,21.0,28.0,31.0,39.0,37.0,23.0,29.0,27.0,39.0,18.0,39.0,44.0,26.0,38.0,24.0,20.0,28.0,33.0,24.0,39.0,24.0,44.0,28.0,31.0,24.0,27.0,32.0,24.0,30.0,40.0,28.0,32.0,29.0,39.0,28.0,34.0,33.0,28.0,26.0,35.0,28.0,28.0,27.0,24.0,33.0,31.0,46.0,27.0,31.0,36.0,39.0,30.0,50.0,20.0,27.0,32.0,34.0,41.0,34.0,39.0,30.0,29.0,28.0,22.0,39.0,35.0,27.0,26.0,31.0,48.0,38.0,28.0,29.0,28.0,47.0,31.0,24.0,37.0,26.0,37.0,26.0,30.0,24.0,26.0,35.0,32.0,25.0,29.0,27.0,24.0,25.0,26.0,31.0,39.0,35.0,24.0,32.0,32.0,27.0,26.0,32.0,26.0,31.0,32.0,29.0,34.0,29.0,39.0,40.0,34.0,32.0,24.0,30.0,26.0,40.0,29.0,34.0,31.15351722025037,42.0,28.0,22.0,21.0,25.0,26.0,36.0,27.0,32.0,26.0,47.0,42.0,32.0,32.0,27.0,25.0,35.0,28.0,35.0,25.0,28.0,31.0,46.0,35.0,27.0,31.15351722025037,29.0,34.0,33.0,27.0,25.0,35.0,37.0,25.0,26.0,28.0,51.0,33.0,28.0,30.0,26.0,48.0,36.0,25.0,30.0,25.0,30.0,45.0,29.0,38.0,27.0,24.0,39.0,37.0,26.0,31.0,32.0,29.0,48.0,34.0,25.0,35.0,31.0,27.0,28.0,26.0,28.0,34.0,52.0,38.0,30.0,41.0,24.0,32.0,25.0,23.0,34.0,32.0,42.0,24.0,39.0,25.0,25.0,33.0,34.0,36.0,40.0,27.0,27.0,29.0,30.0,42.0,23.0,27.0,31.15351722025037,28.0,30.0,20.0,29.0,29.0,33.0,33.0,23.0,26.0,28.0,25.0,42.0,30.0,39.0,37.0,44.0,26.0,26.0,43.0,36.0,36.0,29.0,33.0,44.0,30.0,26.0,18.0,32.0,28.0,24.0,34.0,29.0,44.0,42.0,33.0,33.0,31.0,27.0,29.0,24.0,37.0,47.0,19.0,22.0,31.0,35.0,31.0,22.0,35.0,27.0,47.0,43.0,25.0,30.0,34.0,22.0,29.0,31.0,28.0,27.0,43.0,23.0,39.0,39.0,31.0,31.0,40.0,25.0,29.0,45.0,35.0,25.0,34.0,21.0,43.0,46.0,32.0,26.0,31.0,50.0,18.0,38.0,28.0,28.0,46.0,24.0,31.0,31.0,32.0,34.0,38.0,50.0,38.0,36.0,27.0,50.0,27.0,25.0,37.0,29.0,31.0,28.0,35.0,27.0,28.0,23.0,24.0,27.0,28.0,38.0,36.0,30.0,26.0,34.0,23.0,39.0,40.0,32.0,25.0,39.0,34.0,26.0,33.0,24.0,36.0,26.0,42.0,27.0,25.0,26.0,25.0,25.0,28.0,34.0,26.0,41.0,22.0,36.0,25.0,36.0,27.0,37.0,29.0,24.0,40.0,28.0,34.0,24.0,35.0,34.0,30.0,22.0,41.0,38.0,19.0,24.0,43.0,28.0,29.0,23.0,25.0,22.0,27.0,25.0,25.0,26.0,29.0,41.0,33.0,31.0,28.0,31.15351722025037,25.0,35.0,21.0,25.0,33.0,48.0,25.0,35.0,53.0,26.0,26.0,33.0,32.0,31.0,23.0,24.0,45.0,34.0,39.0,31.0,26.0,49.0,25.0,36.0,31.0,31.0,25.0,35.0,27.0,30.0,28.0,31.15351722025037,22.0,38.0,29.0,47.0,36.0,42.0,28.0,29.0,29.0,35.0,38.0,33.0,32.0,32.0,24.0,28.0,27.0,27.0,35.0,31.0,37.0,25.0,35.0,24.0,23.0,31.15351722025037,28.0,40.0,23.0,27.0,24.0,23.0,31.0,35.0,30.0,43.0,26.0,33.0,22.0,39.0,23.0,23.0,24.0,25.0,42.0,27.0,40.0,23.0,24.0,25.0,27.0,29.0,42.0,30.0,26.0,38.0,31.0,29.0,29.0,27.0,37.0,28.0,39.0,30.0,25.0,30.0,27.0,32.0,33.0,28.0,25.0,39.0,30.0,35.0,23.0,36.0,24.0,27.0,22.0,40.0,23.0,30.0,40.0,50.0,23.0,21.0,26.0,22.0,33.0,34.0,37.0,28.0,31.0,24.0,28.0,32.0,27.0,41.0,29.0,20.0,32.0,39.0,26.0,34.0,51.0,27.0,29.0,24.0,33.0,22.0,32.0,30.0,30.0,32.0,32.0,36.0,35.0,34.0,26.0,22.0,32.0,25.0,25.0,20.2054794520548,40.0,40.0,28.0,30.0,37.0,29.0,25.0,30.0,22.0,30.0,26.0,27.0,30.0,29.0,28.0,25.0,35.0,25.0,30.0,50.0,27.0,41.0,22.0,25.0,34.0,53.0,41.0,27.0,28.0,27.0,28.0,25.0,28.0,27.0,39.0,30.0,31.0,34.0,27.0,31.0,26.0,23.0,36.0,24.0,31.15351722025037,31.0,22.0,36.0,33.0,26.0,25.0,29.0,34.0,54.0,24.0,35.0,26.0,23.0,33.0,25.0,32.0,36.0,32.0,26.0,30.0,34.0,20.0,26.0,26.0,21.0,31.0,29.0,27.0,22.0,23.0,42.0,31.0,25.0,33.0,31.15351722025037,39.0,49.0,25.0,53.0,31.0,34.0,28.0,26.0,31.0,32.0,33.0,29.0,28.0,45.0,32.0,38.0,26.0,40.0,26.0,27.0,35.0,26.0,33.0,25.0,33.0,32.0,30.0,28.0,33.0,38.0,31.0,27.0,29.0,33.0,28.0,29.0,41.0,32.0,27.0,30.0,46.0,31.15351722025037,34.0,28.0,39.0,47.0,29.0,31.0,43.0,29.0,27.0,43.0,27.0,20.0,28.0,42.0,39.0,27.0,34.0,34.0,25.0,24.0,36.0,24.0,28.0,27.0,25.0,44.0,25.0,33.0,36.0,29.0,32.0,29.0,18.0,27.0,23.0,33.0,34.0,48.0,30.0,38.0,35.0,21.0,35.0,34.0,35.0,32.0,29.0,36.0,30.0,33.0,41.0,50.0,34.0,41.0,27.0,30.0,23.0,36.0,33.0,38.0,22.0,29.0,31.15351722025037,40.0,40.0,25.0,39.0,29.0,44.0,26.0,30.0,29.0,36.0,31.0,27.0,29.0,25.0,27.0,30.0,18.0,29.0,31.0,38.0,45.0,32.0,34.0,30.0,25.0,26.0,33.0,32.0,30.0,24.0,36.0,33.0,32.0,36.0,32.0,21.0,28.0,36.0,33.0,19.0,31.0,29.0,33.0,23.0,33.0,25.0,45.0,28.0,25.0,25.0,22.0,27.0,30.0,24.0,27.0,32.0,22.0,26.0,29.0,32.0,46.0,25.0,36.0,25.0,27.0,41.0,35.0,27.0,43.0,32.0,28.0,26.0,27.0,31.0,27.0,44.0,27.0,27.0,32.0,28.0,28.0,28.0,37.0,25.0,26.0,31.0,26.0,21.0,27.0,32.0,25.0,27.0,26.0,28.0,26.0,27.0,33.0,32.0,26.0,53.0,54.0,35.0,45.0,52.0,23.0,37.0,37.0,34.0,22.0,31.0,31.15351722025037,34.0,23.0,29.0,31.15351722025037,20.0,27.0,30.0,34.0,21.0,50.0,19.0,25.0,24.0,34.0,30.0,34.0,29.0,32.0,32.0,32.0,31.0,31.0,37.0,25.0,30.0,26.0,21.0,37.0,39.0,35.0,30.0,30.0,23.0,32.0,30.0,35.0,21.0,28.0,27.0,31.15351722025037,46.0,32.0,25.0,23.0,40.0,31.15351722025037,31.15351722025037,36.0,21.0,25.0,27.0,54.0,32.0,27.0,32.0,31.0,29.0,34.0,24.0,26.0,30.0,38.0,24.0,29.0,31.0,22.0,28.0,33.0,28.0,28.0,36.0,27.0,36.0,31.0,30.0,30.0,28.0,31.0,32.0,31.15351722025037,38.0,31.0,28.0,22.0,36.0,36.0,45.0,27.0,30.0,33.0,33.0,32.0,28.0,29.0,27.0,22.0,34.0,28.0,21.0,25.0,32.0,25.0,26.0,22.0,42.0,31.0,27.0,31.0,28.0,26.0,21.0,24.0,26.0,32.0,34.0,27.0,31.0,34.0,26.0,25.0,28.0,28.0,22.0,27.0,26.0,28.0,30.0,31.0,39.0,25.0,27.0,33.0,27.0,29.0,36.0,24.0,34.0,47.0,30.0,37.0,24.0,52.0,27.0,37.0,35.0,46.0,26.0,30.0,26.0,29.0,33.0,30.0,31.0,23.0,25.0,29.0,36.0,33.0,39.0,31.0,29.0,34.0,28.0,24.0,30.0,35.0,46.0,27.0,28.0,27.0,25.0,20.2054794520548,28.0,30.0,26.0,37.0,21.0,28.0,23.0,29.0,30.0,33.0,32.0,31.0,27.0,30.0,39.0,30.0,39.0,26.0,30.0,29.0,34.0,31.0,26.0,48.0,19.0,24.0,27.0,31.0,32.0,25.0,28.0,31.0,33.0,20.0,33.0,43.0,31.0,29.0,25.0,22.0,34.0,28.0,31.15351722025037,26.0,31.0,28.0,41.0,25.0,31.0,28.0,30.0,24.0,23.0,49.0,34.0,27.0,23.0,31.0,34.0,28.0,35.0,41.0,28.0,50.0,25.0,38.0,36.0,27.0,36.0,25.0,22.0,28.0,44.0,30.0,36.0,35.0,22.0,26.0,32.0,31.0,22.0,25.0,27.0,40.0,36.0,30.0,33.0,36.0,39.0,26.0,27.0,22.0,34.0,30.0,31.15351722025037,32.0,26.0,25.0,39.0,29.0,31.0,47.0,27.0,23.0,40.0,22.0,29.0,34.0,31.0,26.0,31.0,25.0,23.0,42.0,31.15351722025037,41.0,24.0,33.0,29.0,30.0,28.0,41.0,39.0,45.0,31.0,27.0,34.0,29.0,35.0,30.0,45.0,23.0,28.0,29.0,33.0,33.0,35.0,25.0,31.0,34.0,19.0,37.0,23.0,23.0,26.0,29.0,43.0,24.0,49.0,30.0,26.0,31.0,33.0,24.0,41.0,26.0,43.0,22.0,29.0,35.0,20.0,50.0,25.0,36.0,27.0,35.0,42.0,27.0,36.0,47.0,30.0,25.0,23.0,46.0,30.0,25.0,33.0,31.0,23.0,26.0,26.0,35.0,26.0,33.0,30.0,32.0,33.0,25.0,34.0,27.0,47.0,29.0,28.0,31.0,27.0,24.0,31.0,21.0,36.0,34.0,22.0,21.0,24.0,22.0,40.0,28.0,26.0,36.0,30.0,31.0,29.0,34.0,27.0,21.0,46.0,35.0,50.0,31.0,29.0,31.0,33.0,47.0,31.0,34.0,30.0,24.0,30.0,36.0,46.0,30.0,38.0,19.0,31.0,33.0,27.0,48.0,26.0,19.0,41.0,23.0,40.0,30.0,26.0,26.0,28.0,28.0,26.0,44.0,38.0,41.0,30.0,33.0,32.0,25.0,37.0,36.0,28.0,25.0,36.0,32.0,40.0,27.0,33.0,40.0,25.0,40.0,42.0,34.0,35.0,36.0,23.0,25.0,36.0,26.0,31.0,29.0,33.0,29.0,37.0,37.0,29.0,28.0,18.0,43.0,23.0,42.0,35.0,28.0,27.0,24.0,42.0,32.0,30.0,31.0,36.0,29.0,45.0,27.0,32.0,33.0,46.0,37.0,32.0,39.0,26.0,24.0,30.0,31.0,30.0,32.0,28.0,22.0,30.0,27.0,34.0,37.0,24.0,41.0,24.0,28.0,25.0,27.0,18.0,29.0,25.0,22.0,41.0,53.0,36.0,33.0,22.0,30.0,27.0,26.0,39.0,33.0,24.0,23.0,32.0,26.0,24.0,28.0,42.0,41.0,53.0,39.0,36.0,26.0,24.0,32.0,28.0,21.0,25.0,29.0,30.0,33.0,44.0,36.0,31.15351722025037,35.0,25.0,40.0,31.0,26.0,32.0,25.0,25.0,26.0,30.0,25.0,24.0,30.0,26.0,50.0,25.0,36.0,22.0,27.0,22.0,29.0,33.0,30.0,31.0,40.0,27.0,30.0,51.0,37.0,44.0,42.0,26.0,51.0,32.0,39.0,35.0,23.0,20.0,30.0,31.0,29.0,18.0,28.0,39.0,26.0,31.15351722025037,26.0,23.0,30.0,30.0,32.0,42.0,28.0,37.0,23.0,25.0,41.0,52.0,23.0,39.0,25.0,32.0,23.0,26.0,39.0,27.0,31.0,36.0,32.0,29.0,21.0,33.0,30.0,40.0,33.0,21.0,33.0,37.0,23.0,44.0,45.0,34.0,29.0,28.0,31.0,29.0,29.0,37.0,37.0,24.0,32.0,21.0,31.0,25.0,29.0,43.0,52.0,28.0,37.0,37.0,32.0,25.0,34.0,31.15351722025037,30.0,31.0,31.0,32.0,36.0,32.0,30.0,34.0,27.0,24.0,45.0,32.0,21.0,27.0,30.0,38.0,28.0,31.0,29.0,34.0,26.0,26.0,35.0,24.0,39.0,33.0,25.0,31.15351722025037,32.0,19.0,35.0,28.0,21.0,34.0,25.0,29.0,35.0,31.15351722025037,39.0,33.0,22.0,52.0,33.0,25.0,34.0,27.0,27.0,30.0,20.0,34.0,27.0,54.0,28.0,26.0,27.0,47.0,23.0,24.0,19.0,27.0,34.0,26.0,35.0,47.0,34.0,32.0,40.0,32.0,24.0,29.0,50.0,27.0,35.0,25.0,24.0,36.0,37.0,30.0,30.0,28.0,36.0,28.0,26.0,41.0,46.0,43.0,24.0,24.0,44.0,27.0,32.0,28.0,32.0,25.0,38.0,42.0,33.0,24.0,28.0,26.0,32.0,33.0,26.0,26.0,24.0,25.0,26.0,26.0,31.0,32.0,44.0,33.0,30.0,42.0,40.0,36.0,48.0,32.0,28.0,36.0,23.0,34.0,40.0,27.0,30.0,50.0,34.0,28.0,35.0,19.0,20.0,36.0,31.15351722025037,39.0,31.0,27.0,37.0,30.0,31.15351722025037,21.0,50.0,22.0,24.0,32.0,39.0,27.0,28.0,35.0,18.0,44.0,35.0,27.0,33.0,28.0,30.0,31.0,31.15351722025037,35.0,36.0,36.0,27.0,25.0,36.0,24.0,25.0,34.0,23.0,36.0,28.0,35.0,32.0,38.0,29.0,24.0,34.0,24.0,41.0,38.0,36.0,26.0,36.0,28.0,19.0,23.0,34.0,26.0,22.0,47.0,23.0,25.0,37.0,24.0,28.0,38.0,27.0,34.0,41.0,29.0,31.0,33.0,36.0,27.0,37.0,25.0,32.0,41.0,29.0,31.0,23.0,29.0,32.0,40.0,28.0,23.0,37.0,35.0,33.0,36.0,28.0,35.0,25.0,38.0,35.0,38.0,52.0,31.15351722025037,33.0,38.0,27.0,27.0,23.0,26.0,28.0,26.0,27.0,30.0,31.0,25.0,29.0,21.0,26.0,21.0,31.0,34.0,27.0,36.0,33.0,27.0,43.0,50.0,31.0,34.0,30.0,26.0,30.0,28.0,21.0,31.0,28.0,26.0,25.0,39.0,24.0,30.0,27.0,31.0,40.0,21.0,26.0,26.0,27.0,32.0,25.0,50.0,31.0,34.0,24.0,23.0,24.0,31.0,28.0,28.0,40.0,30.0,50.0,40.0,23.0,26.0,34.0,38.0,41.0,43.0,22.0,30.0,26.0,21.0,26.0,37.0,31.15351722025037,30.0,35.0,38.0,26.0,25.0,49.0,34.0,38.0,37.0,48.0,27.0,31.0,28.0,22.0,32.0,25.0,27.0,36.0,24.0,26.0,18.0,33.0,32.0,26.0,41.0,42.0,30.0,29.0,23.0,54.0,27.0,33.0,28.0,33.0,40.0,22.0,42.0,31.15351722025037,24.0,24.0,29.0,31.0,32.0,36.0,34.0,38.0,33.0,33.0,27.0,22.0,31.0,31.0,49.0,30.0,44.0,25.0,29.0,34.0,27.0,33.0,32.0,30.0,21.0,34.0,31.0,36.0,28.0,28.0,34.0,29.0,22.0,34.0,20.0,42.0,27.0,35.0,51.0,28.0,45.0,44.0,35.0,39.0,28.0,20.0,53.0,39.0,21.0,29.0,26.0,27.0,28.0,21.0,39.0,29.0,31.0,37.0,36.0,35.0,30.0,32.0,29.0,29.0,23.0,21.0,32.0,20.0,24.0,25.0,44.0,26.0,34.0,35.0,35.0,30.0,28.0,26.0,28.0,28.0,22.0,38.0,37.0,25.0,27.0,29.0,26.0,27.0,29.0,38.0,28.0,30.0,21.0,29.0,47.0,33.0,22.0,19.0,37.0,36.0,25.0,39.0,29.0,25.0,34.0,28.0,27.0,34.0,29.0,31.0,29.0,29.0,36.0,26.0,27.0,37.0,23.0,25.0,23.0,26.0,22.0,33.0,30.0,22.0,26.0,24.0,39.0,29.0,33.0,30.0,31.0,27.0,32.0,38.0,26.0,23.0,34.0,29.0,31.0,36.0,34.0,28.0,37.0,42.0,27.0,43.0,39.0,32.0,30.0,41.0,27.0,41.0,24.0,25.0,26.0,35.0,25.0,31.15351722025037,24.0,25.0,31.0,27.0,29.0,29.0,30.0,30.0,26.0,24.0,33.0,32.0,29.0,37.0,28.0,20.2054794520548,26.0,32.0,25.0,38.0,43.0,28.0,36.0,27.0,38.0,31.0,28.0,26.0,44.0,29.0,28.0,26.0,31.15351722025037,27.0,26.0,32.0,37.0,32.0,50.0,34.0,43.0,36.0,52.0,35.0,23.0,30.0,26.0,36.0,23.0,32.0,40.0,34.0,24.0,25.0,31.0,31.0,23.0,31.0,45.0,22.0,31.15351722025037,28.0,30.0,27.0,29.0,31.0,35.0,34.0,42.0,22.0,32.0,40.0,25.0,24.0,29.0,48.0,27.0,32.0,53.0,36.0,26.0,29.0,37.0,23.0,27.0,38.0,35.0,40.0,24.0,35.0,28.0,31.15351722025037,30.0,33.0,34.0,36.0,22.0,25.0,37.0,28.0,33.0,31.0,19.0,35.0,32.0,33.0,53.0,27.0,34.0,25.0,25.0,25.0,35.0,35.0,23.0,31.0,35.0,34.0,23.0,27.0,35.0,25.0,53.0,28.0,31.0,34.0,24.0,27.0,24.0,35.0,22.0,32.0,28.0,28.0,35.0,25.0,40.0,25.0,31.0,39.0,35.0,25.0,37.0,25.0,23.0,30.0,30.0,36.0,31.15351722025037,25.0,30.0,39.0,21.0,43.0,24.0,28.0,31.15351722025037,29.0,31.15351722025037,31.0,31.0,31.0,26.0,29.0,30.0,27.0,38.0,30.0,37.0,30.0,31.0,33.0,24.0,24.0,27.0,24.0,30.0,46.0,28.0,29.0,28.0,39.0,38.0,27.0,33.0,33.0,22.0,50.0,29.0,49.0,43.0,22.0,31.0,36.0,24.0,28.0,31.0,25.0,35.0,52.0,26.0,26.0,31.0,26.0,30.0,28.0,25.0,27.0,44.0,27.0,36.0,32.0,29.0,33.0,34.0,30.0,21.0,21.0,23.0,27.0,33.0,29.0,25.0,33.0,35.0,42.0,25.0,28.0,33.0,27.0,37.0,31.15351722025037,34.0,21.0,33.0,40.0,25.0,24.0,28.0,28.0,31.15351722025037,27.0,32.0,24.0,35.0,27.0,27.0,41.0,35.0,33.0,36.0,28.0,34.0,31.0,29.0,30.0,23.0,25.0,30.0,31.0,51.0,27.0,37.0,34.0,25.0,28.0,36.0,37.0,28.0,36.0,26.0,39.0,36.0,25.0,28.0,32.0,52.0,26.0,36.0,31.0,23.0,23.0,28.0,35.0,27.0,41.0,21.0,25.0,31.0,33.0,43.0,35.0,37.0,35.0,37.0,26.0,51.0,27.0,28.0,25.0,28.0,34.0,31.0,29.0,29.0,31.0,27.0,34.0,42.0,36.0,26.0,29.0,31.15351722025037,27.0,23.0,29.0,24.0,23.0,21.0,26.0,25.0,24.0,21.0,38.0,29.0,30.0,52.0,28.0,37.0,36.0,41.0,28.0,33.0,44.0,24.0,33.0,38.0,36.0,26.0,52.0,28.0,35.0,30.0,47.0,26.0,26.0,34.0,28.0,26.0,33.0,25.0,25.0,24.0,27.0,26.0,36.0,49.0,39.0,37.0,23.0,23.0,31.0,39.0,30.0,30.0,39.0,42.0,23.0,50.0,30.0,23.0,34.0,31.0,20.0,25.0,31.0,34.0,21.0,29.0,23.0,32.0,22.0,30.0,25.0,26.0,34.0,22.0,31.0,38.0,23.0,28.0,25.0,26.0,24.0,25.0,30.0,46.0,49.0,40.0,25.0,35.0,28.0,26.0,35.0,23.0,34.0,31.0,24.0,30.0,25.0,46.0,34.0,31.0,38.0,23.0,24.0,34.0,29.0,24.0,39.0,27.0,40.0,28.0,28.0,28.0,44.0,35.0,36.0,28.0,19.0,31.15351722025037,40.0,28.0,44.0,28.0,23.0,22.0,27.0,28.0,33.0,36.0,39.0,20.0,30.0,27.0,28.0,36.0,34.0,30.0,31.0,43.0,25.0,23.0,27.0,32.0,33.0,26.0,25.0,25.0,25.0,27.0,30.0,25.0,25.0,33.0,29.0,33.0,24.0,34.0,46.0,35.0,25.0,38.0,32.0,30.0,23.0,36.0,23.0,32.0,38.0,28.0,28.0,31.0,30.0,34.0,33.0,21.0,26.0,27.0,28.0,25.0,22.0,47.0,21.0,35.0,26.0,23.0,22.0,39.0,28.0,31.0,28.0,24.0,26.0,32.0,26.0,33.0,47.0,35.0,33.0,24.0,27.0,27.0,45.0,31.0,27.0,38.0,21.0,28.0,22.0,31.0,34.0,29.0,21.0,27.0,26.0,32.0,27.0,47.0,35.0,25.0,27.0,32.0,23.0,28.0,38.0,41.0,33.0,34.0,34.0,25.0,27.0,36.0,27.0,31.0,34.0,35.0,32.0,49.0,30.0,34.0,32.0,25.0,39.0,46.0,39.0,23.0,37.0,35.0,45.0,24.0,41.0,29.0,31.0,33.0,39.0,45.0,45.0,26.0,37.0,40.0,30.0,37.0,28.0,27.0,37.0,35.0,29.0,22.0,27.0,24.0,35.0,27.0,36.0,47.0,21.0,23.0,43.0,43.0,29.0,30.0,23.0,29.0,28.0,28.0,31.0,27.0,29.0,24.0,30.0,25.0,48.0,30.0,24.0,33.0,45.0,27.0,34.0,20.0,40.0,31.0,27.0,30.0,30.0,23.0,32.0,27.0,43.0,28.0,30.0,21.0,23.0,32.0,36.0,26.0,50.0,36.0,21.0,47.0,42.0,20.0,27.0,29.0,37.0,36.0,39.0,43.0,28.0,25.0,26.0,41.0,32.0,27.0,32.0,27.0,27.0,36.0,34.0,41.0,31.15351722025037,32.0,21.0,35.0,41.0,24.0,33.0,36.0,24.0,45.0,36.0,25.0,27.0,41.0,35.0,26.0,25.0,31.0,21.0,27.0,41.0,44.0,32.0,32.0,31.0,33.0,34.0,54.0,22.0,40.0,28.0,27.0,26.0,40.0,43.0,20.0,28.0,28.0,40.0,26.0,26.0,31.0,31.15351722025037,37.0,44.0,32.0,48.0,31.15351722025037,22.0,31.0,50.0,26.0,28.0,26.0,35.0,44.0,25.0,27.0,29.0,35.0,31.15351722025037,25.0,25.0,27.0,31.0,33.0,31.0,23.0,22.0,45.0,32.0,24.0,45.0,25.0,28.0,49.0,29.0,38.0,28.0,31.0,28.0,25.0,28.0,20.0,21.0,20.2054794520548,30.0,28.0,33.0,29.0,27.0,33.0,27.0,31.0,50.0,36.0,23.0,29.0,25.0,25.0,26.0,30.0,25.0,24.0,52.0,33.0,48.0,29.0,25.0,25.0,29.0,27.0,29.0,28.0,31.0,23.0,29.0,29.0,32.0,27.0,37.0,35.0,37.0,27.0,26.0,32.0,34.0,30.0,30.0,27.0,26.0,44.0,30.0,24.0,22.0,41.0,35.0,30.0,24.0,25.0,52.0,31.0,29.0,35.0,49.0,30.0,38.0,25.0,29.0,31.0,27.0,33.0,37.0,34.0,32.0,38.0,34.0,23.0,37.0,25.0,29.0,43.0,27.0,24.0,31.0,39.0,27.0,23.0,24.0,26.0,26.0,32.0,26.0,30.0,29.0,27.0,20.2054794520548,21.0,33.0,30.0,40.0,29.0,37.0,25.0,26.0,35.0,26.0,31.0,19.0,20.0,30.0,32.0,25.0,33.0,41.0,27.0,33.0,28.0,29.0,28.0,30.0,31.0,34.0,39.0,36.0,22.0,30.0,31.0,31.0,43.0,38.0,26.0,35.0,41.0,31.15351722025037,29.0,43.0,30.0,25.0,28.0,34.0,32.0,47.0,28.0,22.0,45.0,28.0,40.0,30.0,49.0,27.0,27.0,26.0,33.0,25.0,34.0,26.0,23.0,30.0,37.0,23.0,26.0,41.0,36.0,27.0,33.0,34.0,27.0,29.0,26.0,34.0,39.0,29.0,28.0,30.0,28.0,46.0,25.0,28.0,36.0,33.0,31.0,26.0,37.0,28.0,26.0,30.0,29.0,20.2054794520548,24.0],\"xaxis\":\"x\",\"y\":[11194.0,4695.0,14202.0,15463.0,7733.0,2336.0,4491.0,2704.0,7112.0,10822.0,3450.0,11625.0,7625.5,5296.0,7416.0,5774.0,13531.0,14922.0,7797.0,11905.0,24025.0,10098.0,7104.0,13418.0,17124.0,11543.0,1930.0,3801.0,7625.5,11821.0,3357.0,2846.0,3243.0,10260.0,7625.5,1434.0,3140.0,2523.0,7945.0,7625.5,3166.0,4679.0,5234.0,24828.0,435.0,7306.0,1894.0,6971.0,14796.0,10168.0,3889.0,7779.0,10680.0,11439.0,6433.0,11996.0,18022.0,4470.0,11311.0,11190.0,7028.0,12754.0,12406.0,7625.5,10149.0,6060.0,4041.0,6632.0,29734.0,11565.0,2583.0,6476.0,2312.0,6352.0,58832.0,12186.0,10968.0,39593.0,28667.0,11939.0,16331.0,24527.0,10553.0,11147.0,10506.0,7625.5,24224.0,14546.0,7732.0,5332.0,19920.0,5436.0,10019.0,1922.0,4195.0,3298.0,5007.0,11388.0,2150.0,4858.0,5406.0,17625.0,3667.0,16974.0,7625.5,1282.0,7625.5,14500.0,13877.0,38832.0,5304.0,4207.0,18446.0,7909.0,5585.0,6682.0,4225.0,7625.5,2409.0,7454.0,7625.5,14088.0,1436.0,3380.0,17263.0,12258.0,10487.0,10879.0,7625.5,5950.0,1025.0,10132.0,11861.0,3793.0,11064.0,11739.0,3242.0,11177.0,10199.0,14454.0,4047.0,15351.0,1260.0,7625.5,5499.0,7625.5,15758.0,24508.0,3945.0,10872.0,4010.0,4002.0,7625.5,2311.0,7625.5,3770.0,5258.0,2302.0,7625.5,10628.0,10343.0,11894.0,13042.0,4291.0,4647.0,5249.0,7883.0,3020.0,58174.0,2786.0,16650.0,17962.0,24626.0,11047.0,14394.0,11330.0,1143.0,4460.0,13434.0,10377.0,4790.0,4608.0,11902.0,3852.0,4490.0,6701.0,5179.0,4375.0,7625.5,6711.0,29872.0,11575.0,11751.0,15846.0,2112.0,7625.5,24723.0,15461.0,24259.0,5317.0,7625.5,5048.0,10420.0,1639.0,11725.0,3909.0,24317.0,3743.0,10711.0,10236.0,7040.0,14566.0,10460.0,1925.0,3512.0,17246.0,10660.0,6536.0,11776.0,10754.0,38318.0,6231.0,39192.0,2556.0,7073.0,10450.0,10430.0,14471.0,7625.5,6248.0,1805.0,16720.0,2434.0,1649.0,5670.0,7625.5,2834.0,10044.0,3301.0,4246.0,4845.0,2618.0,29740.0,1857.0,1676.0,11145.0,7625.5,7625.5,2252.0,6995.0,3706.0,24281.0,3752.0,13642.0,17334.0,3984.0,1169.0,15124.0,24723.0,7704.0,3890.0,4334.0,3045.0,7625.5,5783.0,55130.0,17759.0,11159.0,11779.0,10824.0,7000.0,12390.0,18586.0,24300.0,7625.5,2227.0,4764.0,16632.0,14133.0,29616.0,1211.0,7625.5,10192.0,15741.0,7625.5,28674.0,5750.0,7625.5,2047.0,28801.0,12260.0,11910.0,7625.5,11722.0,15947.0,7625.5,2490.0,7625.5,4569.0,2254.0,1856.0,6888.0,1797.0,7625.5,7741.0,10226.0,6773.0,3068.0,6203.0,11896.0,7625.5,11915.0,3574.0,3415.0,7625.5,24070.0,7625.5,11719.0,4446.0,4526.0,10154.0,19057.0,12857.0,2153.0,13383.0,7684.0,2418.0,11920.0,12196.0,2106.0,7626.0,10169.0,39066.0,3083.0,3687.0,6692.0,3774.0,6856.0,18670.0,28256.0,3941.0,7625.5,3372.0,11466.0,1540.0,7625.5,14320.0,7181.0,3501.0,14773.0,3214.0,6716.0,1560.0,10787.0,6417.0,14544.0,7112.0,1329.0,5561.0,7932.0,7625.5,10994.0,13980.0,12860.0,11108.0,2191.0,6866.0,5754.0,13903.0,7625.5,15307.0,4660.0,2760.0,1784.0,5159.0,24545.0,24545.0,24545.0,24545.0,24545.0,24545.0,24545.0,24545.0,24938.0,24938.0,24938.0,24938.0,24938.0,24938.0,24938.0,24938.0,15234.0,10191.0,4302.0,11663.0,7625.5,4387.0,5253.0,175.0,3234.0,17277.0,38454.0,7595.0,1029.0,5459.0,2479.0,7464.0,10963.0,5915.0,7625.5,5638.0,14323.0,7628.0,24837.0,6958.0,11840.0,7899.0,2800.0,15039.0,66592.0,763.0,2539.0,11923.0,4622.0,18736.0,7609.0,47590.0,7625.5,3801.0,24191.0,2976.0,12666.0,3045.0,367.0,3159.0,7625.5,7625.5,10883.0,10517.0,5881.0,2025.0,10072.0,5603.0,7625.5,5402.0,24820.0,3871.0,7263.0,11532.0,10887.0,24125.0,7396.0,2342.0,5005.0,6364.0,12496.0,7625.5,71148.0,1591.0,10005.0,4917.0,10692.0,7409.0,7625.5,1038.0,7625.5,6610.0,15076.0,7625.5,6710.0,6345.0,3629.0,14790.0,6471.0,10198.0,2495.0,7625.5,11626.0,11246.0,2952.0,11797.0,17841.0,19549.0,4337.0,16887.0,5910.0,3768.0,15564.0,12957.0,7625.5,7625.5,6279.0,5426.0,7625.5,10135.0,11971.0,3530.0,2206.0,7625.5,39372.0,7625.5,1927.0,386.0,6882.0,24140.0,7625.5,4012.0,1157.0,2681.0,10612.0,14816.0,39592.0,7625.5,7623.0,7625.5,5107.0,7013.0,7625.5,15662.0,5254.0,7272.0,12869.0,11360.0,11230.0,15120.0,2311.0,4371.0,4786.0,12598.0,11055.0,2800.0,17980.0,3672.0,18265.0,7625.5,5878.0,12958.0,4804.0,7625.5,14651.0,7625.5,7625.5,38066.0,4201.0,2392.0,10358.0,7625.5,1164.0,4724.0,7151.0,11070.0,6449.0,5516.0,7625.5,10826.0,5972.0,10201.0,3151.0,11679.0,4818.0,3305.0,7625.5,11264.0,7625.5,24193.0,7625.5,17172.0,11944.0,14177.0,55546.0,7281.0,3419.0,10655.0,4844.0,7625.5,3066.0,7625.5,7625.5,2719.0,7639.0,2491.0,7625.5,4214.0,3976.0,11509.0,3640.0,7625.5,7625.5,2575.0,10255.0,16627.0,12807.0,7625.5,7625.5,28862.0,19870.0,12286.0,4159.0,29781.0,5832.0,2730.0,11233.0,3292.0,6127.0,2019.0,7625.5,4492.0,5290.0,13996.0,2210.0,1102.0,4729.0,6486.0,14871.0,24427.0,11976.0,7625.5,19969.0,41916.0,24082.0,7625.5,18327.0,11611.0,2268.0,7625.5,10538.0,10039.0,3145.0,7625.5,5262.0,39937.0,931.0,7234.0,4108.0,1223.0,7077.0,3137.0,2571.0,11844.0,3266.0,13516.0,3464.0,15747.0,5054.0,7625.5,38823.0,12924.0,24412.0,6166.0,44291.0,7625.5,10697.0,7809.0,11254.0,14103.0,15153.0,2046.0,7625.5,7625.5,11763.0,14997.0,4509.0,747.0,10944.0,2966.0,28070.0,10820.0,6114.0,1564.0,7204.0,24343.0,2357.0,24879.0,3831.0,16349.0,1650.0,2655.0,15452.0,7911.0,7625.5,10604.0,4808.0,5796.0,11618.0,7625.5,19375.0,16874.0,1078.0,5569.0,10292.0,12570.0,6966.0,3924.0,15967.0,7625.5,2884.0,3184.0,1361.0,6471.0,43692.0,11539.0,2263.0,10392.0,3143.0,6544.0,39004.0,14326.0,13438.0,4117.0,7812.0,7625.5,10521.0,7013.0,43061.0,11768.0,7625.5,4702.0,7625.5,7625.5,5727.0,2911.0,2608.0,13403.0,4129.0,2014.0,3397.0,5388.0,7625.5,7625.5,5417.0,19512.0,7625.5,7135.0,5081.0,7013.0,4497.0,24100.0,14759.0,12553.0,6409.0,6561.0,6006.0,39324.0,12564.0,6136.0,28378.0,3662.0,10883.0,19542.0,18130.0,4123.0,3480.0,13265.0,10910.0,1358.0,7625.5,7721.0,4255.0,7625.5,13222.0,3152.0,2343.0,15658.0,24988.0,11544.0,6506.0,29027.0,1238.0,3727.0,10501.0,10440.0,1329.0,2471.0,5205.0,7175.0,3620.0,28020.0,1036.0,11483.0,10624.0,19498.0,10208.0,1182.0,7625.5,1126.0,11630.0,7767.0,4823.0,400212.0,11083.0,11942.0,7535.0,1016.0,11324.0,10309.0,2666.0,1495.0,28843.0,6805.0,4867.0,10693.0,10989.0,3807.0,7612.0,7753.0,5495.0,17234.0,5505.0,7625.5,13608.0,6569.0,11340.0,11925.0,5976.0,7625.5,24758.0,29396.0,15643.0,15015.0,11330.0,4460.0,4160.0,7625.5,24936.0,3609.0,17054.0,3290.0,10124.0,11119.0,2655.0,907.0,29898.0,4496.0,2868.0,10434.0,14381.0,7837.0,2634.0,12857.0,7914.0,7625.5,7625.5,10389.0,18186.0,11287.0,15317.0,11159.0,7625.5,4263.0,3179.0,7897.0,5323.0,10667.0,15860.0,7625.5,2368.0,4158.0,7625.5,7625.5,11264.0,11988.0,24712.0,2271.0,7952.0,6163.0,7625.5,6762.0,15292.0,7647.0,7625.5,24605.0,7276.0,5670.0,29883.0,11602.0,11618.0,6556.0,11861.0,10612.0,7625.5,10751.0,7625.5,7625.5,5484.0,14940.0,15514.0,7042.0,7625.5,10024.0,6556.0,3332.0,4735.0,11392.0,14150.0,7625.5,5966.0,29949.0,7625.5,24445.0,10058.0,11374.0,7625.5,7466.0,7625.5,2810.0,28072.0,13332.0,5093.0,10051.0,19645.0,16131.0,13619.0,1969.0,7625.5,10197.0,7625.5,10964.0,7625.5,5766.0,3093.0,3817.0,7625.5,7486.0,11793.0,7625.5,17073.0,2534.0,14210.0,19675.0,7625.5,11287.0,1146.0,6138.0,7266.0,4790.0,10299.0,7625.5,4482.0,2073.0,16788.0,11112.0,7625.5,5439.0,7625.5,7625.5,16555.0,11278.0,11892.0,10471.0,17292.0,3006.0,10408.0,19291.0,7625.5,4896.0,14097.0,13016.0,1506.0,10360.0,13567.0,11451.0,11162.0,12779.0,7625.5,10811.0,7625.5,6837.0,15916.0,10602.0,3032.0,7625.5,4740.0,7194.0,38701.0,7496.0,35.0,5513.0,7156.0,7622.0,7552.0,15409.0,7422.0,2273.0,7777.0,7625.5,4620.0,11528.0,1073.0,1550.0,13809.0,2843.0,1542.0,18632.0,4703.0,28131.0,4424.0,4917.0,28638.0,6601.0,6974.0,7625.5,38623.0,4907.0,4848.0,4249.0,12811.0,3792.0,10463.0,10196.0,18164.0,15907.0,10755.0,2239.0,5371.0,4157.0,3728.0,11281.0,18659.0,6797.0,15996.0,15307.0,4317.0,19601.0,2019.0,6129.0,7625.5,10693.0,4771.0,1110.0,11406.0,10733.0,7625.5,2183.0,59982.0,10792.0,11797.0,4562.0,6270.0,3620.0,5986.0,5379.0,11522.0,5611.0,12114.0,2532.0,6975.0,24224.0,10048.0,5932.0,17162.0,24496.0,19027.0,16475.0,11865.0,664.0,7625.5,10633.0,10324.0,7625.5,1945.0,12513.0,24345.0,11234.0,14647.0,1658.0,3832.0,6228.0,11766.0,11972.0,816.0,24384.0,6685.0,7625.5,24053.0,14606.0,13499.0,11096.0,3648.0,6517.0,10625.0,11016.0,1017.0,24294.0,3043.0,12651.0,6772.0,1138.0,4484.0,4561.0,7625.5,11683.0,4620.0,13277.0,19000.0,10817.0,10972.0,7625.5,7625.5,7625.5,2851.0,1783.0,10771.0,3661.0,19918.0,4240.0,5732.0,4845.0,16390.0,6550.0,10259.0,7625.5,3067.0,10806.0,15087.0,11662.0,7932.0,11075.0,2893.0,10338.0,12868.0,7625.5,7625.5,1667.0,5273.0,5040.0,10495.0,7212.0,10775.0,10344.0,461.0,5362.0,10783.0,3065.0,7618.0,4279.0,7952.0,3988.0,7880.0,18447.0,16496.0,2151.0,6453.0,15846.0,2691.0,7578.0,4024.0,14929.0,13553.0,2711.0,1926.0,7803.0,2542.0,5181.0,6786.0,10961.0,7625.5,3905.0,6453.0,17462.0,7067.0,5871.0,6585.0,11305.0,10278.0,14520.0,7625.5,16517.0,16618.0,13231.0,12505.0,13649.0,11079.0,2513.0,3925.0,11959.0,6528.0,11159.0,15968.0,7625.5,11891.0,7625.5,7311.0,10673.0,14273.0,10944.0,6870.0,12643.0,5786.0,13048.0,1585.0,2632.0,7625.5,5858.0,962.0,11671.0,10969.0,24714.0,11028.0,10312.0,18551.0,7625.5,1154.0,12358.0,7625.5,11109.0,11969.0,10010.0,2216.0,7625.5,7625.5,10737.0,17990.0,10952.0,4393.0,7945.0,2024.0,3560.0,3005.0,6206.0,13068.0,7625.5,6720.0,15743.0,4708.0,2698.0,3493.0,17092.0,11425.0,7625.5,13195.0,5143.0,1199.0,10422.0,14826.0,3808.0,7625.5,14979.0,3292.0,10925.0,1464.0,7625.5,24018.0,10563.0,16124.0,4080.0,10441.0,1431.0,11873.0,16817.0,1575.0,24118.0,1348.0,6516.0,14641.0,11054.0,4600.0,7030.0,7625.5,7625.5,28830.0,3872.0,1501.0,4824.0,7625.5,29944.0,28725.0,4392.0,4111.0,7207.0,11441.0,5870.0,5504.0,7625.5,6406.0,1788.0,7625.5,7625.5,7772.0,13970.0,76740.0,7625.5,7247.0,19877.0,11367.0,5696.0,4314.0,3221.0,2736.0,2971.0,7835.0,13278.0,10642.0,13549.0,39908.0,2076.0,3172.0,7625.5,1146.0,10973.0,7490.0,7645.0,10906.0,4222.0,2873.0,15426.0,38521.0,28906.0,12162.0,5561.0,7843.0,5844.0,5814.0,7422.0,12513.0,6065.0,7625.5,11805.0,7625.5,3284.0,6801.0,2443.0,15016.0,11352.0,29747.0,10658.0,10479.0,10708.0,11099.0,15623.0,1944.0,24624.0,7069.0,1412.0,14394.0,13238.0,24518.0,4904.0,3266.0,11372.0,24912.0,7625.5,4118.0,11296.0,17643.0,10440.0,2793.0,7611.0,13378.0,6893.0,7386.0,18357.0,10027.0,6764.0,6100.0,10904.0,5568.0,7391.0,7625.5,10226.0,6841.0,2036.0,3638.0,7625.5,2513.0,10916.0,15297.0,11308.0,3277.0,7593.0,6056.0,10069.0,10158.0,4441.0,12051.0,2508.0,10964.0,13185.0,38643.0,2789.0,12169.0,13079.0,1495.0,2752.0,19981.0,2063.0,5243.0,17671.0,7294.0,3289.0,10563.0,14748.0,7625.5,10194.0,6341.0,4159.0,10049.0,14753.0,7625.5,7625.5,1231.0,10331.0,11848.0,2755.0,10972.0,42528.0,14091.0,6225.0,6472.0,1818.0,19959.0,7625.5,1808.0,49101.0,4448.0,1518.0,11182.0,18064.0,5879.0,10018.0,3169.0,24898.0,10791.0,4267.0,5636.0,3450.0,10579.0,7625.5,38456.0,19846.0,7625.5,15790.0,15308.0,7079.0,2273.0,7625.5,11026.0,1429.0,11953.0,7387.0,7625.5,11233.0,15008.0,13496.0,6832.0,4468.0,3168.0,4857.0,17111.0,28938.0,29360.0,3280.0,16888.0,5848.0,13283.0,13156.0,7625.5,15209.0,11952.0,7315.0,24206.0,10340.0,63813.0,1934.0,7625.5,4373.0,3300.0,7465.0,1236.0,24297.0,3959.0,12646.0,2730.0,14950.0,4106.0,10949.0,3647.0,15821.0,7625.5,5746.0,7625.5,4155.0,7593.0,3238.0,38196.0,5971.0,7195.0,6043.0,10648.0,7082.0,5360.0,7625.5,10523.0,10690.0,17322.0,3458.0,11186.0,38872.0,2735.0,1417.0,12630.0,11440.0,6934.0,11246.0,11726.0,10067.0,5998.0,3363.0,29220.0,7572.0,5343.0,7625.5,5363.0,6039.0,39552.0,11389.0,10046.0,6742.0,6427.0,6800.0,3011.0,1968.0,2549.0,38989.0,15615.0,24389.0,7625.5,11455.0,5602.0,4042.0,11416.0,6996.0,10806.0,7625.5,18243.0,7625.5,5309.0,5709.0,10623.0,12346.0,13268.0,7625.5,10664.0,826.0,10181.0,4049.0,28289.0,11565.0,12240.0,17356.0,11307.0,7938.0,5019.0,7686.0,12018.0,11692.0,11573.0,10977.0,11794.0,3011.0,10029.0,7625.5,24410.0,7625.5,15639.0,5041.0,2843.0,28162.0,2969.0,4805.0,6872.0,10555.0,5547.0,19953.0,38935.0,15980.0,15635.0,6490.0,3919.0,6812.0,5066.0,11860.0,24860.0,5236.0,16172.0,13736.0,10880.0,11946.0,7625.5,10572.0,5162.0,11081.0,5857.0,7707.0,3119.0,14358.0,10341.0,6832.0,10360.0,5673.0,1486.0,14853.0,29024.0,24679.0,24374.0,3935.0,5327.0,7625.5,7625.5,3104.0,7251.0,6354.0,12307.0,5013.0,4396.0,7625.5,4584.0,11960.0,1857.0,7625.5,7553.0,3243.0,6588.0,2587.0,28430.0,4988.0,5454.0,6565.0,1987.0,7625.5,10511.0,7625.5,24865.0,24482.0,4355.0,11757.0,3907.0,59350.0,2489.0,7625.5,13686.0,19771.0,3128.0,28721.0,28807.0,11441.0,3677.0,18722.0,13194.0,12600.0,11572.0,5595.0,3864.0,14010.0,10777.0,7625.5,4604.0,11596.0,12694.0,2754.0,4726.0,1839.0,2352.0,19258.0,18674.0,3797.0,6554.0,7344.0,2881.0,10151.0,2916.0,7625.5,7625.5,15949.0,2882.0,12254.0,7720.0,7625.5,7625.5,5321.0,7625.5,11618.0,6455.0,12277.0,10228.0,11327.0,7625.5,7423.0,10994.0,24159.0,1802.0,2922.0,14102.0,766.0,38641.0,13777.0,12133.0,4984.0,28243.0,6863.0,14391.0,15046.0,10027.0,7197.0,11042.0,6182.0,7424.0,6026.0,15578.0,2924.0,7625.5,13525.0,4511.0,2038.0,932.0,4139.0,17937.0,5346.0,3277.0,1196.0,3144.0,7283.0,5652.0,10522.0,7102.0,6595.0,2762.0,3100.0,16422.0,10918.0,4775.0,3482.0,24934.0,15542.0,11749.0,3247.0,3003.0,11169.0,7625.5,7625.5,4183.0,4883.0,24671.0,1688.0,3621.0,3789.0,2046.0,29341.0,17221.0,7625.5,3955.0,7625.5,18866.0,13542.0,15541.0,11156.0,11222.0,11817.0,29483.0,39876.0,10586.0,7625.5,6515.0,3376.0,3846.0,4319.0,3890.0,1486.0,1445.0,24881.0,10414.0,18641.0,3388.0,2328.0,7625.5,13734.0,6265.0,5123.0,5805.0,15928.0,10793.0,11324.0,10126.0,13058.0,3867.0,979.0,17738.0,1477.0,19429.0,4879.0,18434.0,4525.0,11633.0,2981.0,13053.0,5261.0,7625.5,7625.5,28998.0,3351.0,11697.0,10928.0,10800.0,1538.0,1591.0,10595.0,97.0,7625.5,5334.0,5244.0,7908.0,7682.0,14898.0,11719.0,13014.0,6992.0,12414.0,3411.0,13932.0,11291.0,7625.5,7625.5,7625.5,2466.0,3225.0,2913.0,5271.0,12834.0,2631.0,10805.0,14892.0,729.0,10877.0,13103.0,2615.0,24331.0,7072.0,11065.0,2821.0,7603.0,3798.0,7625.5,3837.0,62577.0,7625.5,2002.0,4477.0,4606.0,5285.0,19390.0,5783.0,18965.0,10234.0,1233.0,14690.0,4151.0,10454.0,2252.0,2295.0,15609.0,7342.0,5950.0,11455.0,19103.0,1144.0,7625.5,3847.0,3337.0,3962.0,11692.0,7625.5,11275.0,15918.0,1706.0,11830.0,7625.5,10669.0,7625.5,24114.0,14278.0,1645.0,6466.0,7625.5,4446.0,24327.0,11876.0,3879.0,19063.0,7625.5,15919.0,2637.0,2814.0,5995.0,7625.5,5276.0,1807.0,7625.5,62309.0,7625.5,10163.0,7625.5,3168.0,2586.0,2155.0,2714.0,10906.0,17257.0,16558.0,6304.0,5573.0,10628.0,7694.0,11984.0,1761.0,18574.0,2553.0,7625.5,10220.0,5688.0,7879.0,7625.5,11122.0,11705.0,4873.0,6371.0,17624.0,3508.0,7625.5,11476.0,7625.5,11751.0,2886.0,7625.5,24571.0,4027.0,1370.0,2828.0,7625.5,1380.0,24695.0,2294.0,18831.0,39040.0,38776.0,1853.0,5416.0,6592.0,19364.0,10981.0,3198.0,16276.0,6305.0,18070.0,17156.0,7682.0,10050.0,7625.5,10324.0,7625.5,12648.0,11756.0,10917.0,5098.0,11107.0,5200.0,10252.0,19983.0,5043.0,11702.0,10354.0,10125.0,10607.0,1163.0,4068.0,3110.0,11481.0,11260.0,7072.0,5748.0,7314.0,10524.0,12822.0,7032.0,10221.0,7774.0,15629.0,11017.0,6275.0,7653.0,15822.0,7625.5,2180.0,5145.0,29239.0,7625.5,2519.0,4378.0,5406.0,1446.0,14320.0,6860.0,7625.5,29288.0,4118.0,5876.0,14307.0,10791.0,7625.5,2987.0,10308.0,7644.0,24202.0,11905.0,4998.0,7625.5,2617.0,24278.0,7625.5,11911.0,7625.5,4393.0,16964.0,15009.0,4004.0,7625.5,6977.0,7770.0,11779.0,10782.0,7303.0,10815.0,7625.5,7625.5,24960.0,24188.0,11491.0,7625.5,6769.0,7625.5,3716.0,4162.0,7625.5,2042.0,7625.5,4759.0,11006.0,18509.0,1290.0,2862.0,14766.0,39678.0,2972.0,3092.0,4599.0,10164.0,4371.0,1174.0,11005.0,3872.0,5501.0,10982.0,11908.0,7625.5,10231.0,11812.0,3417.0,13624.0,5272.0,39002.19402985075,7625.5,11723.0,3647.0,11098.0,4777.0,1047.0,16989.0,11526.0,24986.0,4174.0,24183.0,15929.0,5505.0,1835.0,11661.0,7625.5,11727.0,14953.0,6543.0,29508.0,7625.5,2347.0,38436.0,6109.0,7625.5,10153.0,657.0,7317.0,6666.0,7625.5,6503.0,3370.0,4116.0,7375.0,39635.0,391.0,3009.0,5758.0,7625.5,7625.5,4684.0,10849.0,4710.0,13869.0,5467.0,7625.5,10842.0,10802.0,10733.0,7994.0,10719.0,3393.0,11791.0,14275.0,1832.0,2610.0,7764.0,13099.0,10703.0,1653.0,16740.0,14242.0,10242.0,7625.5,24437.0,24996.0,6511.0,4302.0,7625.5,4633.0,2362.0,13944.0,10673.0,7625.5,3391.0,10171.0,12369.0,18638.0,17108.0,14591.0,17628.0,2015.0,7591.0,7625.5,4864.0,18191.0,7625.5,7625.5,7187.0,7625.5,4740.0,60776.0,4716.0,6762.0,10965.0,39529.0,7625.5,1515.0,11786.0,11755.0,4633.0,7625.5,11169.0,7135.0,19049.0,19465.0,13375.0,5458.0,11927.0,4146.0,2038.0,28987.0,11119.0,1896.0,2734.0,2004.0,4893.0,7625.5,11066.0,11725.0,7625.5,7138.0,13763.0,7634.0,11564.0,4343.0,14560.0,6616.0,4202.0,15551.0,11966.0,5645.0,6470.0,3406.0,6110.0,2613.0,14031.0,7625.5,38336.0,7625.5,1799.0,5482.0,7625.5,13846.0,1611.0,6097.0,7912.0,11947.0,5909.0,3543.0,1220.0,11963.0,12169.0,5745.0,3599.0,10099.0,7625.5,70040.0,12783.0,17969.0,14827.0,5694.0,1560.0,11646.0,7625.5,11360.0,6737.0,7625.5,4744.0,2595.0,5634.0,190.0,1787.0,10980.0,7625.5,7625.5,2214.0,7625.5,7988.0,3260.0,10811.0,17948.0,10319.0,4405.0,11065.0,5722.0,10230.0,6494.0,7625.5,11620.0,13491.0,5498.0,13197.0,4907.0,3963.0,7625.5,1632.0,18260.0,6831.0,4466.0,7609.0,11132.0,6159.0,39002.19402985075,1701.0,6749.0,7625.5,7625.5,4789.0,14377.0,3081.0,5805.0,4766.0,28437.0,38485.0,7713.0,11208.0,6870.0,15894.0,24019.0,11561.0,10619.0,24994.0,10609.0,7993.0,7625.5,3204.0,3866.0,5305.0,10864.0,11695.0,7705.0,2124.0,2202.0,10669.0,7625.5,10892.0,11482.0,10792.0,10747.0,10302.0,11379.0,7625.5,5226.0,24280.0,11367.0,5664.0,10408.0,17012.0,3348.0,7625.5,4926.0,7625.5,12080.0,5555.0,6502.0,15953.0,19280.0,3628.0,10746.0,3401.0,38853.0,3761.0,1267.0,2444.0,6223.0,7625.5,7625.5,5756.0,5696.0,2507.0,1617.0,6632.0,5460.0,2402.0,6261.0,7625.5,1289.0,7625.5,1325.0,3022.0,5894.0,4528.0,18860.0,7907.0,28814.0,4868.0,6839.0,3813.0,7625.5,4184.0,7419.0,7578.0,12534.0,10503.0,7387.0,10665.0,4159.0,11355.0,16061.0,10670.0,4814.0,7578.0,1821.0,6695.0,24814.0,14013.0,24126.0,15528.0,7625.5,6345.0,3171.0,15513.0,7625.5,7625.5,5948.0,4773.0,4021.0,3266.0,14344.0,7625.5,4103.0,7532.0,7625.5,11437.0,3498.0,3251.0,7452.0,10127.0,7625.5,7625.5,6534.0,6805.0,18698.0,17679.0,7625.5,11089.0,7625.5,4083.0,7625.5,1317.0,4641.0,6300.0,10343.0,3239.0,2442.0,2591.0,16624.0,7625.5,7625.5,10655.0,7625.5,12232.0,11685.0,5727.0,7625.5,12995.0,2253.0,7625.5,11672.0,1078.0,7860.0,12942.0,141.0,7625.5,7401.0,7625.5,7625.5,3251.0,10932.0,5295.0,7432.0,28235.0,7625.5,5920.0,39394.0,2511.0,10167.0,3102.0,886.0,2648.0,2095.0,4532.0,5125.0,5070.0,12086.0,29769.0,4145.0,7275.0,7625.5,2205.0,5408.0,10820.0,3872.0,14857.0,2623.0,2591.0,6400.0,10012.0,2212.0,16384.0,19284.0,24131.0,4819.0,6748.0,10640.0,28724.0,24678.0,7625.5,2254.0,2673.0,2156.0,4265.0,3614.0,11126.0,4329.0,7625.5,11361.0,7625.5,7337.0,2345.0,4868.0,11595.0,7625.5,24319.0,10347.0,6247.0,7245.0,7889.0,13457.0,3427.0,7625.5,13818.0,10061.0,7625.5,6492.0,7508.0,39092.0,18693.0,10715.0,10736.0,7625.5,7715.0,2718.0,7625.5,7034.0,11114.0,7513.0,6648.0,4168.0,14222.0,5992.0,2387.0,16122.0,11250.0,1966.0,4582.0,1330.0,17303.0,2753.0,7559.0,39529.0,5738.0,11975.0,5109.0,7625.5,14241.0,11383.0,7625.5,7625.5,28005.0,11710.0,7232.0,2042.0,7344.0,12367.0,7625.5,7625.5,11868.0,7530.0,1182.0,24059.0,2916.0,10315.0,5317.0,7625.5,7843.0,1489.0,11321.0,7625.5,11362.0,10422.0,12679.0,7625.5,3180.0,7625.5,11795.0,7625.5,1700.0,24605.0,1339.0,39904.0,4102.0,10853.0,10859.0,14320.0,5716.0,6722.0,19826.0,7625.5,7625.5,2795.0,2979.0,14465.0,1778.0,38939.0,17305.0,7625.5,6852.0,10143.0,3112.0,24370.0,7625.5,24092.0,4855.0,7625.5,1674.0,7625.5,4389.0,11216.0,14975.0,7625.5,24120.0,15694.0,3863.0,7604.0,4262.0,1504.0,4480.0,3887.0,2874.0,7625.5,7625.5,2215.0,19587.0,1001.0,16481.0,2313.0,7625.5,7625.5,7276.0,18931.0,6450.0,7434.0,7390.0,10606.0,5870.0,7625.5,5758.0,13313.0,4241.0,17213.0,11967.0,7625.5,5157.0,7956.0,4271.0,11868.0,19162.0,6199.0,24952.0,1376.0,5046.0,10490.0,11908.0,24314.0,7625.5,7625.5,18514.0,2411.0,24209.0,4462.0,10504.0,5814.0,15545.0,3243.0,14190.0,7625.5,1883.0,2354.0,7967.0,14743.0,4021.0,7625.5,2499.0,5398.0,6376.0,7625.5,6020.0,7625.5,7625.5,3455.0,10553.0,10096.0,7625.5,7625.5,7212.0,13405.0,70088.0,10576.0,1808.0,4612.0,13120.0,1129.0,1790.0,10766.0,6209.0,10519.0,15743.0,2941.0,7625.5,11272.0,7625.5,28928.0,3349.0,7625.5,17476.0,7177.0,7625.0,5377.0,29601.0,11541.0,11577.0,14173.0,24554.0,7625.5,24302.0,12966.0,15905.0,14662.0,15989.0,6392.0,15476.0,7625.5,6267.0,1634.0,7575.0,1131.0,3138.0,7954.0,11675.0,11072.0,10094.0,10788.0,16301.0,10370.0,7625.5,10163.0,5482.0,7625.5,1774.0,6955.0,1112.0,7625.5,6198.0,5213.0,12032.0,3786.0,7335.0,18997.0,1783.0,7625.5,4380.0,11421.0,6701.0,6574.0,16421.0,2500.0,7648.0,5968.0,5057.0,4456.0,6359.0,13866.0,7625.5,7625.5,7506.0,7625.5,6816.0,19338.0,3732.0,1816.0,3922.0,2499.0,5803.0,39068.0,4528.0,6734.0,10373.0,16614.0,6802.0,13016.0,5249.0,537.0,16039.0,2403.0,7625.5,4769.0,10294.0,10105.0,4909.0,19885.0,6835.0,10585.0,7625.5,7625.5,3631.0,6403.0,10056.0,7625.5,11780.0,19301.0,3091.0,24600.0,11413.0,13153.0,4862.0,2344.0,60444.0,7625.5,7273.0,7625.5,12543.0,5851.0,2952.0,4526.0,10321.0,13326.0,14832.0,7625.5,1284.0,11579.0,2353.0,6736.0,7625.5,7759.0,7116.0,24134.0,4546.0,10076.0,5879.0,3623.0,12838.0,5123.0,7833.0,54360.0,3905.0,726.0,29156.0,6394.0,1091.0,3330.0,10698.0,2364.0,5288.0,14446.0,3928.0,10675.0,10225.0,7625.5,7625.5,7866.0,7630.0,7625.5,7625.5,7139.0,10339.0,2060.0,10026.0,10470.0,4807.0,7625.5,4249.0,18397.0,6959.0,7974.0,24896.0,7625.5,4250.0,17844.0,3366.0,19080.0,2214.0,15552.0,10138.0,7625.5,17824.0,15118.0,3656.0,12731.0,3046.0,5988.0,7625.5,3742.0,11848.0,14352.0,4893.0,24942.0,2070.0,7625.5,13424.0,11730.0,6845.0,331.0,2525.0,4443.0,18977.0,13464.0,5809.0,7468.0,10032.0,38398.0,4347.0,10244.0,6736.0,7370.0,7625.5,14034.0,11579.0,5675.0,24073.0,40850.0,4286.0,7625.5,14392.0,7625.5,24208.0,5184.0,5319.0,11011.0,76.0,24982.0,11152.0,2231.0,7625.5,10226.0,10222.0,10321.0,2889.0,1852.0,3121.0,2993.0,18982.0,6791.0,7625.5,2457.0,3536.0,6828.0,10023.0,3024.0,475.0,1822.0,11403.0,16606.0,5901.0,7625.5,10795.0,24424.0,11674.0,7625.5,7625.5,3064.0,14151.0,10947.0,10476.0,5591.0,38069.0,4466.0,3884.0,5678.0,4351.0,10067.0,15510.0,10328.0,11416.0,6831.0,11880.0,17829.0,7625.5,6861.0,3833.0,72164.0,2408.0,29667.0,6292.0,4269.0,4841.0,4627.0,10420.0,39376.0,6622.0,6556.0,3307.0,10947.0,3755.0,7625.5,7419.0,5722.0,3689.0,4570.0,4483.0,5527.0,29568.0,38888.0,15879.0,13788.0,11794.0,14543.0,11617.0,7625.5,10945.0,6136.0,10364.0,1820.0,3317.0,73217.0,7625.5,39942.0,6384.0,11616.0,3862.0,5161.0,3545.0,7625.5,4952.0,5458.0,38544.0,11154.0,3521.0,18092.0,16883.0,7625.5,7625.5,2632.0,7625.5,3483.0,7625.5,4667.0,29195.0,7625.5,11012.0,3169.0,10676.0,38780.0,11231.0,1229.0,3444.0,11669.0,2393.0,13096.0,10022.0,10617.0,485191.0,10600.0,6526.0,11775.0,4496.0,11638.0,12400.0,11147.0,4402.0,11521.0,15201.0,10140.0,18010.0,16692.0,3590.0,6922.0,7625.5,2299.0,15602.0,7625.5,7382.0,10712.0,6490.0,4146.0,2176.0,39502.0,1725.0,1230.0,4352.0,6998.0,12241.0,11217.0,5788.0,19351.0,11959.0,2967.0,6524.0,7625.5,4990.0,3163.0,6070.0,1618.0,10291.0,3966.0,7625.5,5658.0,1576.0,14774.0,2221.0,6564.0,11093.0,19910.0,5291.0,7241.0,1693.0,5967.0,7211.0,3801.0,12080.0,7148.0,11228.0,1374.0,38418.0,4884.0,7625.5,29088.0,2384.0,7625.5,11125.0,10866.0,7625.5,4568.0,1971.0,4580.0,11545.0,7548.0,12560.0,17740.0,7664.0,7625.5,2390.0,3461.0,1811.0,14962.0,10900.0,10313.0,5144.0,39935.0,5531.0,75272.0,15025.0,13681.0,14576.0,5219.0,24497.0,5718.0,2024.0,1218.0,7625.5,10454.0,6435.0,7625.5,5366.0,5173.0,7792.0,10955.0,14520.0,3941.0,3195.0,7484.0,4482.0,7710.0,4703.0,13070.0,7641.0,1189.0,14937.0,7283.0,6981.0,2180.0,39511.0,7625.5,10041.0,7625.5,2224.0,68530.0,39299.0,7382.0,15104.0,24016.0,75508.0,14371.0,10017.0,3480.0,4250.0,3561.0,1871.0,3476.0,24976.0,3920.0,17139.0,3414.0,7625.5,11263.0,11887.0,15735.0,7625.5,10911.0,7625.5,11077.0,1106.0,10543.0,6106.0,7625.5,4426.0,7625.5,7625.5,6392.0,2407.0,7412.0,7625.5,11680.0,18746.0,6175.0,7625.5,3795.0,2158.0,3332.0,5281.0,7625.5,16610.0,10368.0,16547.0,3416.0,7625.5,7644.0,39364.0,7625.5,5240.0,5392.0,7625.5,7625.5,11984.0,2259.0,24014.0,39002.19402985075,16708.0,15753.0,285.0,2593.0,6823.0,4320.0,11432.0,2838.0,29067.0,5106.0,15422.0,10500.0,10272.0,2315.0,13033.0,7625.5,5547.0,7440.0,17506.0,3122.0,10287.0,3128.0,6758.0,11754.0,2261.0,7625.5,3463.0,38885.0,7625.5,6651.0,3652.0,6000.0,7625.5,11272.0,12211.0,18193.0,2413.0,1444.0,24269.0,10173.0,2826.0,6143.0,13317.0,11801.0,5909.0,5979.0,39461.0,3635.0,12875.0,28342.0,28412.0,11429.0,11184.0,15186.0,5303.0,11667.0,2684.0,2234.0,4219.0,4998.0,2716.0,7625.5,38087.0,11920.0,18591.0,10114.0,15013.0,24830.0,5896.0,4136.0,7625.5,14176.0,1524.0,45045.0,10652.0,18041.0,2106.0,7625.5,6205.0,4359.0,6262.0,17180.0,7625.5,12030.0,2510.0,7565.0,10383.0,15570.0,2542.0,3925.0,7095.0,29161.0,5519.0,7625.5,6984.0,12269.0,7327.0,11596.0,3815.0,15924.0,3786.0,7625.5,6324.0,10122.0,7710.0,3282.0,7625.5,5678.0,2275.0,6990.0,6632.0,10426.0,1800.0,11076.0,10631.0,3548.0,1537.0,10181.0,7737.0,13359.0,6112.0,14023.0,4821.0,11641.0,18538.0,5119.0,7625.5,7625.5,10381.0,6285.0,14099.0,11796.0,17517.0,58362.0,15632.0,4732.0,4644.0,39899.0,18008.0,5677.0,7066.0,10389.0,4824.0,15929.0,7162.0,7625.5,4654.0,14779.0,11409.0,7625.5,2613.0,5065.0,11695.0,7625.5,6941.0,6345.0,3269.0,10848.0,16672.0,11148.0,10804.0,3739.0,5732.0,4734.0,7625.5,384.0,7982.0,1103.0,6578.0,28762.0,13080.0,12994.0,15708.0,10088.0,10837.0,7625.5,7625.5,7625.5,7625.5,1494.0,11080.0,10683.0,10142.0,11622.0,13095.0,10445.0,10697.0,7499.0,24970.0,7625.5,5044.0,19409.0,11056.0,5710.0,7625.5,4669.0,10088.0,18762.0,5905.0,10583.0,3744.0,4201.0,5536.0,4851.0,1921.0,2920.0,3835.0,14922.0,38702.0,6822.0,7625.5,5467.0,14769.0,4261.0,10019.0,3935.0,14915.0,28620.0,13045.0,7625.5,7625.5,29151.0,7319.0,3326.0,4337.0,10995.0,4432.0,14710.0,10210.0,28759.0,5077.0,24952.0,1382.0,5484.0,2281.0,7625.5,11196.0,4307.0,10991.0,14756.0,7800.0,7822.0,3789.0,5851.0,19037.0,5816.0,1494.0,6817.0,11600.0,4776.0,76677.0,11105.0,2142.0,12939.0,1921.0,11857.0,1496.0,28793.0,7625.5,11331.0,1922.0,1407.0,7625.5,15577.0,1835.0,15869.0,6366.0,13367.0,4078.0,1940.0,10563.0,1933.0,7625.5,15278.0,17558.0,3538.0,2951.0,4631.0,7553.0,4149.0,1160.0,3504.0,15353.0,6346.0,24931.0,1241.0,28599.0,1973.0,5602.0,17114.0,29392.0,3900.0,10879.0,6222.0,1601.0,2361.0,11383.0,10419.0,14725.0,4873.0,7625.5,66432.0,11776.0,38446.0,3313.0,6474.0,7957.0,10633.0,6490.0,7625.5,10443.0,7070.0,5664.0,12847.0,1422.0,6658.0,11375.0,4833.0,16912.0,7625.5,11196.0,24367.0,3080.0,4816.0,6891.0,5800.0,15726.0,14996.0,10913.0,438064.0,3913.0,15768.0,19627.0,2837.0,14187.0,2453.0,1406.0,24634.0,4865.0,13091.0,6304.0,5676.0,10638.0,4204.0,15824.0,5206.0,14751.0,11683.0,11695.0,18767.0,19240.0,10196.0,10845.0,4927.0,3555.0,38559.0,2004.0,1779.0,17771.0,13519.0,24291.0,15590.0,3737.0,7625.5,7625.5,13354.0,7625.5,6355.0,7625.5,14274.0,5529.0,7625.5,3218.0,14286.0,7660.0,7625.5,19658.0,4325.0,6464.0,2147.0,14132.0,10939.0,11678.0,1170.0,24427.0,625.0,4717.0,7625.5,7625.5,6216.0,7625.5,5114.0,13805.0,4631.0,19664.0,24712.0,7625.5,3900.0,7625.5,14919.0,4297.0,38865.0,7625.5,14351.0,3715.0,7886.0,7625.5,4744.0,10174.0,7863.0,14412.0,4890.0,7625.5,14277.0,6170.0,7625.5,3697.0,5034.0,17846.0,24845.0,1961.0,2036.0,4398.0,1472.0,2366.0,4808.0,10101.0,2939.0,7625.5,17435.0,5301.0,2834.0,4962.0,24518.0,10263.0,13267.0,1244.0,7795.0,10726.0,43212.0,5338.0,10765.0,17120.0,11009.0,24364.0,4186.0,10188.0,3562.0,5214.0,24340.0,11803.0,11300.0,11273.0,2459.0,29424.0,10011.0,1798.0,11699.0,7749.0,17620.0,4695.0,3397.0,5250.0,4869.0,2377.0,13624.0,4234.0,1185.0,5583.0,7625.5,626.0,7625.5,2789.0,4610.0,10691.0,15935.0,28385.0,5278.0,4318.0,2440.0,3509.0,6153.0,2880.0,55370.0,5952.0,6418.0,7625.5,15255.0,4260.0,7625.5,13922.0,10334.0,14913.0,10640.0,10900.0,14299.0,7625.5,7625.5,10748.0,10068.0,1385.0,5721.0,2315.0,11761.0,4074.0,5682.0,16534.0,7625.5,13398.0,12670.0,1487.0,7735.0,28470.0,11516.0,3982.0,10154.0,10059.0,6602.0,16841.0,5540.0,2104.0,7565.0,7625.5,1733.0,4842.0,11047.0,24611.0,4283.0,4955.0,2093.0,13288.0,4517.0,10171.0,10240.0,11662.0,4401.0,2385.0,2408.0,14176.0,3965.0,6457.0,3119.0,10471.0,3260.0,6140.0,3026.0,7625.5,17569.0,7080.0,24899.0,7625.5,3467.0,5649.0,7625.5,2089.0,15326.0,7625.5,1571.0,2958.0,10188.0,4360.0,3664.0,10032.0,7625.5,5108.0,1917.0,14608.0,14608.0,11676.0,74248.0,2659.0,75793.0,7846.0,7934.0,5291.0,11015.0,11952.0,10431.0,7625.5,1793.0,7625.5,18133.0,7718.0,11149.0,6659.0,3155.0,3818.0,10838.0,5578.0,4346.0,7625.5,7625.5,7625.5,11933.0,13155.0,2654.0,11055.0,24245.0,12963.0,2683.0,3939.0,5860.0,7625.5,13237.0,2078.0,11602.0,3576.0,7625.5,10919.0,11131.0,5501.0,1500.0,2492.0,14372.0,11322.0,12092.0,19848.0,4106.0,5616.0,5394.0,24645.0,5621.0,7662.0,7865.0,10865.0,1266.0,19322.0,2049.0,24686.0,7625.5,7805.0,6285.0,24379.0,6879.0,7625.5,3543.0,1143.0,7625.5,4287.0,12399.0,10841.0,7625.5,15313.0,3593.0,24275.0,7625.5,7625.5,7625.5,17735.0,3127.0,7625.5,4950.0,7625.5,11843.0,7625.5,10709.0,13523.0,7625.5,7625.5,3181.0,4194.0,10812.0,28802.0,6787.0,2027.0,2631.0,11395.0,2594.0,11915.0,1652.0,6529.0,29013.0,19589.0,7625.5,11476.0,13889.0,4404.0,15564.0,11298.0,2405.0,6961.0,10675.0,1209.0,7625.5,2224.0,28694.0,6713.0,7129.0,5407.0,38944.0,3986.0,7629.0,7625.5,4833.0,38723.0,6709.0,24311.0,11964.0,7625.5,6815.0,7625.5,19494.0,7625.5,2470.0,1535.0,3458.0,2809.0,10591.0,7365.0,6144.0,4672.0,3434.0,13206.0,12777.0,24104.0,12577.0,16002.0,67093.0,5247.0,13858.0,10754.0,12776.0,5423.0,5211.0,11729.0,11159.0,15553.0,3534.0,1758.0,19332.0,7625.5,11128.0,24666.0,7625.5,24249.0,5070.0,3977.0,24424.0,3790.0,11548.0,24245.0,3079.0,5545.0,6808.0,6810.0,29408.0,11096.0,10683.0,3649.0,10251.0,11009.0,7625.5,5936.0,16642.0,6021.0,6693.0,7625.5,4723.0,7625.5,13730.0,71552.0,7712.0,7205.0,7609.0,5044.0,16027.0,10068.0,7625.5,7625.5,10061.0,7324.0,7479.0,6315.0,11289.0,7625.5,10134.0,53012.0,2632.0,7625.5,7625.5,6836.0,7569.0,7602.0,7625.5,2260.0,7625.5,15344.0,7625.5,6635.0,7625.5,7625.5,4197.0,3632.0,13203.0,7625.5,11851.0,6752.0,14604.0,38592.0,7625.5,15168.0,2302.0,7625.5,19184.0,4231.0,11344.0,15363.0,2573.0,10892.0,7397.0,6384.0,7625.5,11949.0,10702.0,10165.0,3166.0,11799.0,7625.5,14787.0,15720.0,2541.0,11994.0,7625.5,4230.0,6382.0,19796.0,16504.0,5564.0,17507.0,2571.0,7625.5,7625.5,6433.0,3487.0,7625.5,1367.0,16534.0,13450.0,17516.0,3028.0,7470.0,7625.5,19992.0,17011.0,7357.0,6415.0,7625.5,1344.0,10863.0,14968.0,1552.0,7785.0,4300.0,3555.0,5622.0,1320.0,14175.0,15296.0,15907.0,7625.5,10685.0,3461.0,5311.0,14005.0,3327.0,11731.0,10028.0,7625.5,6905.0,4443.0,1077.0,5108.0,7625.5,4272.0,10441.0,13541.0,7087.0,10052.0,24630.0,6845.0,6159.0,1053.0,7625.5,6842.0,2298.0,4827.0,5045.0,18550.0,5896.0,4147.0,4898.0,11663.0,12900.0,28735.0,7625.5,2861.0,7287.0,7625.5,4796.0,5175.0,7625.5,6468.0,7625.5,7625.5,10836.0,12501.0,10853.0,7778.0,11312.0,7625.5,2915.0,18750.0,6035.0,5131.0,7625.5,24081.0,6250.0,11714.0,6037.0,7625.5,3440.0,11911.0,7625.5,7405.0,15457.0,19023.0,4053.0,4403.0,3810.0,13271.0,7938.0,7625.5,5458.0,1466.0,6103.0,11487.0,13471.0,4225.0,7625.5,5067.0,19118.0,13776.0,14941.0,7625.5,14356.0,7625.5,7962.0,14734.0,4251.0,11446.0,2564.0,29968.0,16757.0,13454.0,6092.0,2233.0,1186.0,7625.5,7625.5,1681.0,19014.0,7846.0,4295.0,6078.0,17012.0,6881.0,3571.0,5935.0,5302.0,10517.0,18809.0,2157.0,11760.0,7625.5,7625.5,7625.5,51.0,3985.0,7625.5,10557.0,11263.0,38930.0,12330.0,5148.0,14677.0,2814.0,12450.0,6834.0,7625.5,7646.0,6872.0,6050.0,15765.0,7625.5,4497.0,11021.0,11159.0,7426.0,18282.0,10719.0,15257.0,4190.0,11390.0,7625.5,7625.5,16298.0,3583.0,11962.0,7131.0,14655.0,7625.5,6246.0,11452.0,11512.0,6292.0,12969.0,12012.0,14553.0,1578.0,5687.0,11313.0,24337.0,3747.0,2289.0,7625.5,7942.0,12567.0,2545.0,10128.0,7625.5,11587.0,4935.0,10165.0,12425.0,12215.0,2185.0,2423.0,7625.5,1182.0,6875.0,7625.5,10801.0,11477.0,4384.0,10878.0,5925.0,4781.0,11239.0,2688.0,5673.0,7625.5,38848.0,14670.0,11403.0,4137.0,62001.0,7625.5,24963.0,7625.5,7625.5,18402.0,6641.0,24543.0,2348.0,4329.0,3758.0,19607.0,989.0,3079.0],\"yaxis\":\"y\",\"type\":\"scattergl\"}],                        {\"template\":{\"data\":{\"histogram2dcontour\":[{\"type\":\"histogram2dcontour\",\"colorbar\":{\"outlinewidth\":0,\"ticks\":\"\"},\"colorscale\":[[0.0,\"#0d0887\"],[0.1111111111111111,\"#46039f\"],[0.2222222222222222,\"#7201a8\"],[0.3333333333333333,\"#9c179e\"],[0.4444444444444444,\"#bd3786\"],[0.5555555555555556,\"#d8576b\"],[0.6666666666666666,\"#ed7953\"],[0.7777777777777778,\"#fb9f3a\"],[0.8888888888888888,\"#fdca26\"],[1.0,\"#f0f921\"]]}],\"choropleth\":[{\"type\":\"choropleth\",\"colorbar\":{\"outlinewidth\":0,\"ticks\":\"\"}}],\"histogram2d\":[{\"type\":\"histogram2d\",\"colorbar\":{\"outlinewidth\":0,\"ticks\":\"\"},\"colorscale\":[[0.0,\"#0d0887\"],[0.1111111111111111,\"#46039f\"],[0.2222222222222222,\"#7201a8\"],[0.3333333333333333,\"#9c179e\"],[0.4444444444444444,\"#bd3786\"],[0.5555555555555556,\"#d8576b\"],[0.6666666666666666,\"#ed7953\"],[0.7777777777777778,\"#fb9f3a\"],[0.8888888888888888,\"#fdca26\"],[1.0,\"#f0f921\"]]}],\"heatmap\":[{\"type\":\"heatmap\",\"colorbar\":{\"outlinewidth\":0,\"ticks\":\"\"},\"colorscale\":[[0.0,\"#0d0887\"],[0.1111111111111111,\"#46039f\"],[0.2222222222222222,\"#7201a8\"],[0.3333333333333333,\"#9c179e\"],[0.4444444444444444,\"#bd3786\"],[0.5555555555555556,\"#d8576b\"],[0.6666666666666666,\"#ed7953\"],[0.7777777777777778,\"#fb9f3a\"],[0.8888888888888888,\"#fdca26\"],[1.0,\"#f0f921\"]]}],\"heatmapgl\":[{\"type\":\"heatmapgl\",\"colorbar\":{\"outlinewidth\":0,\"ticks\":\"\"},\"colorscale\":[[0.0,\"#0d0887\"],[0.1111111111111111,\"#46039f\"],[0.2222222222222222,\"#7201a8\"],[0.3333333333333333,\"#9c179e\"],[0.4444444444444444,\"#bd3786\"],[0.5555555555555556,\"#d8576b\"],[0.6666666666666666,\"#ed7953\"],[0.7777777777777778,\"#fb9f3a\"],[0.8888888888888888,\"#fdca26\"],[1.0,\"#f0f921\"]]}],\"contourcarpet\":[{\"type\":\"contourcarpet\",\"colorbar\":{\"outlinewidth\":0,\"ticks\":\"\"}}],\"contour\":[{\"type\":\"contour\",\"colorbar\":{\"outlinewidth\":0,\"ticks\":\"\"},\"colorscale\":[[0.0,\"#0d0887\"],[0.1111111111111111,\"#46039f\"],[0.2222222222222222,\"#7201a8\"],[0.3333333333333333,\"#9c179e\"],[0.4444444444444444,\"#bd3786\"],[0.5555555555555556,\"#d8576b\"],[0.6666666666666666,\"#ed7953\"],[0.7777777777777778,\"#fb9f3a\"],[0.8888888888888888,\"#fdca26\"],[1.0,\"#f0f921\"]]}],\"surface\":[{\"type\":\"surface\",\"colorbar\":{\"outlinewidth\":0,\"ticks\":\"\"},\"colorscale\":[[0.0,\"#0d0887\"],[0.1111111111111111,\"#46039f\"],[0.2222222222222222,\"#7201a8\"],[0.3333333333333333,\"#9c179e\"],[0.4444444444444444,\"#bd3786\"],[0.5555555555555556,\"#d8576b\"],[0.6666666666666666,\"#ed7953\"],[0.7777777777777778,\"#fb9f3a\"],[0.8888888888888888,\"#fdca26\"],[1.0,\"#f0f921\"]]}],\"mesh3d\":[{\"type\":\"mesh3d\",\"colorbar\":{\"outlinewidth\":0,\"ticks\":\"\"}}],\"scatter\":[{\"fillpattern\":{\"fillmode\":\"overlay\",\"size\":10,\"solidity\":0.2},\"type\":\"scatter\"}],\"parcoords\":[{\"type\":\"parcoords\",\"line\":{\"colorbar\":{\"outlinewidth\":0,\"ticks\":\"\"}}}],\"scatterpolargl\":[{\"type\":\"scatterpolargl\",\"marker\":{\"colorbar\":{\"outlinewidth\":0,\"ticks\":\"\"}}}],\"bar\":[{\"error_x\":{\"color\":\"#2a3f5f\"},\"error_y\":{\"color\":\"#2a3f5f\"},\"marker\":{\"line\":{\"color\":\"#E5ECF6\",\"width\":0.5},\"pattern\":{\"fillmode\":\"overlay\",\"size\":10,\"solidity\":0.2}},\"type\":\"bar\"}],\"scattergeo\":[{\"type\":\"scattergeo\",\"marker\":{\"colorbar\":{\"outlinewidth\":0,\"ticks\":\"\"}}}],\"scatterpolar\":[{\"type\":\"scatterpolar\",\"marker\":{\"colorbar\":{\"outlinewidth\":0,\"ticks\":\"\"}}}],\"histogram\":[{\"marker\":{\"pattern\":{\"fillmode\":\"overlay\",\"size\":10,\"solidity\":0.2}},\"type\":\"histogram\"}],\"scattergl\":[{\"type\":\"scattergl\",\"marker\":{\"colorbar\":{\"outlinewidth\":0,\"ticks\":\"\"}}}],\"scatter3d\":[{\"type\":\"scatter3d\",\"line\":{\"colorbar\":{\"outlinewidth\":0,\"ticks\":\"\"}},\"marker\":{\"colorbar\":{\"outlinewidth\":0,\"ticks\":\"\"}}}],\"scattermapbox\":[{\"type\":\"scattermapbox\",\"marker\":{\"colorbar\":{\"outlinewidth\":0,\"ticks\":\"\"}}}],\"scatterternary\":[{\"type\":\"scatterternary\",\"marker\":{\"colorbar\":{\"outlinewidth\":0,\"ticks\":\"\"}}}],\"scattercarpet\":[{\"type\":\"scattercarpet\",\"marker\":{\"colorbar\":{\"outlinewidth\":0,\"ticks\":\"\"}}}],\"carpet\":[{\"aaxis\":{\"endlinecolor\":\"#2a3f5f\",\"gridcolor\":\"white\",\"linecolor\":\"white\",\"minorgridcolor\":\"white\",\"startlinecolor\":\"#2a3f5f\"},\"baxis\":{\"endlinecolor\":\"#2a3f5f\",\"gridcolor\":\"white\",\"linecolor\":\"white\",\"minorgridcolor\":\"white\",\"startlinecolor\":\"#2a3f5f\"},\"type\":\"carpet\"}],\"table\":[{\"cells\":{\"fill\":{\"color\":\"#EBF0F8\"},\"line\":{\"color\":\"white\"}},\"header\":{\"fill\":{\"color\":\"#C8D4E3\"},\"line\":{\"color\":\"white\"}},\"type\":\"table\"}],\"barpolar\":[{\"marker\":{\"line\":{\"color\":\"#E5ECF6\",\"width\":0.5},\"pattern\":{\"fillmode\":\"overlay\",\"size\":10,\"solidity\":0.2}},\"type\":\"barpolar\"}],\"pie\":[{\"automargin\":true,\"type\":\"pie\"}]},\"layout\":{\"autotypenumbers\":\"strict\",\"colorway\":[\"#636efa\",\"#EF553B\",\"#00cc96\",\"#ab63fa\",\"#FFA15A\",\"#19d3f3\",\"#FF6692\",\"#B6E880\",\"#FF97FF\",\"#FECB52\"],\"font\":{\"color\":\"#2a3f5f\"},\"hovermode\":\"closest\",\"hoverlabel\":{\"align\":\"left\"},\"paper_bgcolor\":\"white\",\"plot_bgcolor\":\"#E5ECF6\",\"polar\":{\"bgcolor\":\"#E5ECF6\",\"angularaxis\":{\"gridcolor\":\"white\",\"linecolor\":\"white\",\"ticks\":\"\"},\"radialaxis\":{\"gridcolor\":\"white\",\"linecolor\":\"white\",\"ticks\":\"\"}},\"ternary\":{\"bgcolor\":\"#E5ECF6\",\"aaxis\":{\"gridcolor\":\"white\",\"linecolor\":\"white\",\"ticks\":\"\"},\"baxis\":{\"gridcolor\":\"white\",\"linecolor\":\"white\",\"ticks\":\"\"},\"caxis\":{\"gridcolor\":\"white\",\"linecolor\":\"white\",\"ticks\":\"\"}},\"coloraxis\":{\"colorbar\":{\"outlinewidth\":0,\"ticks\":\"\"}},\"colorscale\":{\"sequential\":[[0.0,\"#0d0887\"],[0.1111111111111111,\"#46039f\"],[0.2222222222222222,\"#7201a8\"],[0.3333333333333333,\"#9c179e\"],[0.4444444444444444,\"#bd3786\"],[0.5555555555555556,\"#d8576b\"],[0.6666666666666666,\"#ed7953\"],[0.7777777777777778,\"#fb9f3a\"],[0.8888888888888888,\"#fdca26\"],[1.0,\"#f0f921\"]],\"sequentialminus\":[[0.0,\"#0d0887\"],[0.1111111111111111,\"#46039f\"],[0.2222222222222222,\"#7201a8\"],[0.3333333333333333,\"#9c179e\"],[0.4444444444444444,\"#bd3786\"],[0.5555555555555556,\"#d8576b\"],[0.6666666666666666,\"#ed7953\"],[0.7777777777777778,\"#fb9f3a\"],[0.8888888888888888,\"#fdca26\"],[1.0,\"#f0f921\"]],\"diverging\":[[0,\"#8e0152\"],[0.1,\"#c51b7d\"],[0.2,\"#de77ae\"],[0.3,\"#f1b6da\"],[0.4,\"#fde0ef\"],[0.5,\"#f7f7f7\"],[0.6,\"#e6f5d0\"],[0.7,\"#b8e186\"],[0.8,\"#7fbc41\"],[0.9,\"#4d9221\"],[1,\"#276419\"]]},\"xaxis\":{\"gridcolor\":\"white\",\"linecolor\":\"white\",\"ticks\":\"\",\"title\":{\"standoff\":15},\"zerolinecolor\":\"white\",\"automargin\":true,\"zerolinewidth\":2},\"yaxis\":{\"gridcolor\":\"white\",\"linecolor\":\"white\",\"ticks\":\"\",\"title\":{\"standoff\":15},\"zerolinecolor\":\"white\",\"automargin\":true,\"zerolinewidth\":2},\"scene\":{\"xaxis\":{\"backgroundcolor\":\"#E5ECF6\",\"gridcolor\":\"white\",\"linecolor\":\"white\",\"showbackground\":true,\"ticks\":\"\",\"zerolinecolor\":\"white\",\"gridwidth\":2},\"yaxis\":{\"backgroundcolor\":\"#E5ECF6\",\"gridcolor\":\"white\",\"linecolor\":\"white\",\"showbackground\":true,\"ticks\":\"\",\"zerolinecolor\":\"white\",\"gridwidth\":2},\"zaxis\":{\"backgroundcolor\":\"#E5ECF6\",\"gridcolor\":\"white\",\"linecolor\":\"white\",\"showbackground\":true,\"ticks\":\"\",\"zerolinecolor\":\"white\",\"gridwidth\":2}},\"shapedefaults\":{\"line\":{\"color\":\"#2a3f5f\"}},\"annotationdefaults\":{\"arrowcolor\":\"#2a3f5f\",\"arrowhead\":0,\"arrowwidth\":1},\"geo\":{\"bgcolor\":\"white\",\"landcolor\":\"#E5ECF6\",\"subunitcolor\":\"white\",\"showland\":true,\"showlakes\":true,\"lakecolor\":\"white\"},\"title\":{\"x\":0.05},\"mapbox\":{\"style\":\"light\"}}},\"xaxis\":{\"anchor\":\"y\",\"domain\":[0.0,1.0],\"title\":{\"text\":\"IDADE\"}},\"yaxis\":{\"anchor\":\"x\",\"domain\":[0.0,1.0],\"title\":{\"text\":\"SALARIO\"}},\"legend\":{\"tracegroupgap\":0},\"title\":{\"text\":\"Despers\\u00e3o de sal\\u00e1rio por idade\"}},                        {\"responsive\": true}                    ).then(function(){\n",
              "                            \n",
              "var gd = document.getElementById('1a8e0877-9e9b-4a1b-bab7-2b2bcf364f31');\n",
              "var x = new MutationObserver(function (mutations, observer) {{\n",
              "        var display = window.getComputedStyle(gd).display;\n",
              "        if (!display || display === 'none') {{\n",
              "            console.log([gd, 'removed!']);\n",
              "            Plotly.purge(gd);\n",
              "            observer.disconnect();\n",
              "        }}\n",
              "}});\n",
              "\n",
              "// Listen for the removal of the full notebook cells\n",
              "var notebookContainer = gd.closest('#notebook-container');\n",
              "if (notebookContainer) {{\n",
              "    x.observe(notebookContainer, {childList: true});\n",
              "}}\n",
              "\n",
              "// Listen for the clearing of the current output cell\n",
              "var outputEl = gd.closest('.output');\n",
              "if (outputEl) {{\n",
              "    x.observe(outputEl, {childList: true});\n",
              "}}\n",
              "\n",
              "                        })                };                            </script>        </div>\n",
              "</body>\n",
              "</html>"
            ]
          },
          "metadata": {}
        }
      ]
    }
  ]
}